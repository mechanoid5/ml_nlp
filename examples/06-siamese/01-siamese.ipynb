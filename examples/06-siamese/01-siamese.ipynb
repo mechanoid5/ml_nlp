{
 "cells": [
  {
   "cell_type": "markdown",
   "metadata": {},
   "source": [
    "**классификатор текстов LSTM на Keras+TensorFlow**\n",
    "\n",
    "Евгений Борисов <borisov.e@solarl.ru>"
   ]
  },
  {
   "cell_type": "markdown",
   "metadata": {},
   "source": [
    "https://habr.com/ru/company/dca/blog/274027/    \n",
    "http://help.sentiment140.com/for-students/   \n",
    "http://study.mokoron.com  "
   ]
  },
  {
   "cell_type": "markdown",
   "metadata": {},
   "source": [
    "## Библиотеки"
   ]
  },
  {
   "cell_type": "code",
   "execution_count": 1,
   "metadata": {},
   "outputs": [],
   "source": [
    "import numpy as np\n",
    "import pandas as pd\n",
    "pd.options.display.max_colwidth = 200  \n",
    "import re\n",
    "# import gzip\n",
    "from tqdm import tqdm"
   ]
  },
  {
   "cell_type": "code",
   "execution_count": 2,
   "metadata": {},
   "outputs": [],
   "source": [
    "tqdm.pandas()"
   ]
  },
  {
   "cell_type": "code",
   "execution_count": 3,
   "metadata": {},
   "outputs": [],
   "source": [
    "def pp(d): return \"{:,.0f}\".format(d).replace(\",\", \" \")\n",
    "def ppr(d): print('записей:', pp(len(d)) )  "
   ]
  },
  {
   "cell_type": "markdown",
   "metadata": {},
   "source": [
    "## Данные"
   ]
  },
  {
   "cell_type": "raw",
   "metadata": {},
   "source": [
    "Ю. В. Рубцова. Построение корпуса текстов для настройки тонового классификатора // Программные продукты и системы, 2015, №1(109), –С.72-78\n",
    "\n",
    "http://study.mokoron.com\n",
    "\n",
    "– id: уникальный номер сообщения в системе twitter;\n",
    "– tdate: дата публикации сообщения (твита);\n",
    "– tmane: имя пользователя, опубликовавшего сообщение;\n",
    "– ttext:  текст сообщения (твита);\n",
    "– ttype: поле в котором в дальнейшем будет указано к кому классу относится твит (положительный, отрицательный, нейтральный);\n",
    "– trep: количество реплаев к данному сообщению. В настоящий момент API твиттера не отдает эту информацию;\n",
    "– tfav: число сколько раз данное сообщение было добавлено в избранное другими пользователями;\n",
    "– tstcount: число всех сообщений пользователя в сети twitter;\n",
    "– tfol: количество фоловеров пользователя (тех людей, которые читают пользователя);\n",
    "– tfrien: количество друзей пользователя (те люди, которых читает пользователь);\n",
    "– listcount: количество листов-подписок в которые добавлен твиттер-пользователь."
   ]
  },
  {
   "cell_type": "code",
   "execution_count": 4,
   "metadata": {},
   "outputs": [],
   "source": [
    "ff = ['id', 'tdate', 'tmane', 'ttext', 'ttype', 'trep', 'tfav', 'tstcount', 'tfol', 'tfrien', 'listcount','unk']"
   ]
  },
  {
   "cell_type": "code",
   "execution_count": 5,
   "metadata": {},
   "outputs": [
    {
     "name": "stdout",
     "output_type": "stream",
     "text": [
      "записей: 114 911\n"
     ]
    },
    {
     "data": {
      "text/html": [
       "<div>\n",
       "<style scoped>\n",
       "    .dataframe tbody tr th:only-of-type {\n",
       "        vertical-align: middle;\n",
       "    }\n",
       "\n",
       "    .dataframe tbody tr th {\n",
       "        vertical-align: top;\n",
       "    }\n",
       "\n",
       "    .dataframe thead th {\n",
       "        text-align: right;\n",
       "    }\n",
       "</style>\n",
       "<table border=\"1\" class=\"dataframe\">\n",
       "  <thead>\n",
       "    <tr style=\"text-align: right;\">\n",
       "      <th></th>\n",
       "      <th>id</th>\n",
       "      <th>tdate</th>\n",
       "      <th>tmane</th>\n",
       "      <th>ttext</th>\n",
       "      <th>ttype</th>\n",
       "      <th>trep</th>\n",
       "      <th>tfav</th>\n",
       "      <th>tstcount</th>\n",
       "      <th>tfol</th>\n",
       "      <th>tfrien</th>\n",
       "      <th>listcount</th>\n",
       "      <th>unk</th>\n",
       "    </tr>\n",
       "  </thead>\n",
       "  <tbody>\n",
       "    <tr>\n",
       "      <th>55597</th>\n",
       "      <td>410083806779932672</td>\n",
       "      <td>1386606573</td>\n",
       "      <td>alargo3</td>\n",
       "      <td>@Lubalubochka2 Ты говори о чем нибудь,а дальше о веселом я,если будет получатся:))</td>\n",
       "      <td>1</td>\n",
       "      <td>0</td>\n",
       "      <td>0</td>\n",
       "      <td>0</td>\n",
       "      <td>579</td>\n",
       "      <td>32</td>\n",
       "      <td>107</td>\n",
       "      <td>1</td>\n",
       "    </tr>\n",
       "    <tr>\n",
       "      <th>63558</th>\n",
       "      <td>410350229960261632</td>\n",
       "      <td>1386670093</td>\n",
       "      <td>AKPuchkov</td>\n",
       "      <td>RT @fc_textil: Сегодня - всемирный день футбола. С праздником! :)</td>\n",
       "      <td>1</td>\n",
       "      <td>0</td>\n",
       "      <td>4</td>\n",
       "      <td>0</td>\n",
       "      <td>713</td>\n",
       "      <td>43</td>\n",
       "      <td>91</td>\n",
       "      <td>0</td>\n",
       "    </tr>\n",
       "    <tr>\n",
       "      <th>26319</th>\n",
       "      <td>409575006478536704</td>\n",
       "      <td>1386485265</td>\n",
       "      <td>_alquimica</td>\n",
       "      <td>RT @daringjay_rina: #HappyBirthdayIanFromRussia хэйхэйхэй\\nсегодня же день обаяшки Йена,\\nС Днём Рождения,милый ;) http://t.co/n7XEvqbEhR</td>\n",
       "      <td>1</td>\n",
       "      <td>0</td>\n",
       "      <td>9</td>\n",
       "      <td>0</td>\n",
       "      <td>8257</td>\n",
       "      <td>248</td>\n",
       "      <td>113</td>\n",
       "      <td>0</td>\n",
       "    </tr>\n",
       "  </tbody>\n",
       "</table>\n",
       "</div>"
      ],
      "text/plain": [
       "                       id       tdate       tmane  \\\n",
       "55597  410083806779932672  1386606573     alargo3   \n",
       "63558  410350229960261632  1386670093   AKPuchkov   \n",
       "26319  409575006478536704  1386485265  _alquimica   \n",
       "\n",
       "                                                                                                                                           ttext  \\\n",
       "55597                                                         @Lubalubochka2 Ты говори о чем нибудь,а дальше о веселом я,если будет получатся:))   \n",
       "63558                                                                          RT @fc_textil: Сегодня - всемирный день футбола. С праздником! :)   \n",
       "26319  RT @daringjay_rina: #HappyBirthdayIanFromRussia хэйхэйхэй\\nсегодня же день обаяшки Йена,\\nС Днём Рождения,милый ;) http://t.co/n7XEvqbEhR   \n",
       "\n",
       "       ttype  trep  tfav  tstcount  tfol  tfrien  listcount  unk  \n",
       "55597      1     0     0         0   579      32        107    1  \n",
       "63558      1     0     4         0   713      43         91    0  \n",
       "26319      1     0     9         0  8257     248        113    0  "
      ]
     },
     "execution_count": 5,
     "metadata": {},
     "output_type": "execute_result"
    }
   ],
   "source": [
    "data = pd.read_csv('../data/twit/positive.csv.gz',sep=';',header=None)\n",
    "data.columns = ff\n",
    "ppr(data)\n",
    "data.sample(3)"
   ]
  },
  {
   "cell_type": "code",
   "execution_count": 6,
   "metadata": {},
   "outputs": [
    {
     "data": {
      "text/html": [
       "<div>\n",
       "<style scoped>\n",
       "    .dataframe tbody tr th:only-of-type {\n",
       "        vertical-align: middle;\n",
       "    }\n",
       "\n",
       "    .dataframe tbody tr th {\n",
       "        vertical-align: top;\n",
       "    }\n",
       "\n",
       "    .dataframe thead th {\n",
       "        text-align: right;\n",
       "    }\n",
       "</style>\n",
       "<table border=\"1\" class=\"dataframe\">\n",
       "  <thead>\n",
       "    <tr style=\"text-align: right;\">\n",
       "      <th></th>\n",
       "      <th>id</th>\n",
       "      <th>ttext</th>\n",
       "    </tr>\n",
       "  </thead>\n",
       "  <tbody>\n",
       "    <tr>\n",
       "      <th>69303</th>\n",
       "      <td>410410117965037568</td>\n",
       "      <td>RT @TANIAS_26: @Maerovskaya белый, черный, белый, черный)</td>\n",
       "    </tr>\n",
       "    <tr>\n",
       "      <th>26061</th>\n",
       "      <td>409571288391241728</td>\n",
       "      <td>Вот та самая фотография) я обязательно снова полюблю и обязательно снова буду в этом ангельском… http://t.co/NnOap7vUYX</td>\n",
       "    </tr>\n",
       "    <tr>\n",
       "      <th>69900</th>\n",
       "      <td>410464704990285826</td>\n",
       "      <td>Я просто схожу с ума. Когда я рядом с тобой, я самая счастливая!) крышу сносит просто конкретно!!!) мне это нравится...)</td>\n",
       "    </tr>\n",
       "  </tbody>\n",
       "</table>\n",
       "</div>"
      ],
      "text/plain": [
       "                       id  \\\n",
       "69303  410410117965037568   \n",
       "26061  409571288391241728   \n",
       "69900  410464704990285826   \n",
       "\n",
       "                                                                                                                          ttext  \n",
       "69303                                                                 RT @TANIAS_26: @Maerovskaya белый, черный, белый, черный)  \n",
       "26061   Вот та самая фотография) я обязательно снова полюблю и обязательно снова буду в этом ангельском… http://t.co/NnOap7vUYX  \n",
       "69900  Я просто схожу с ума. Когда я рядом с тобой, я самая счастливая!) крышу сносит просто конкретно!!!) мне это нравится...)  "
      ]
     },
     "execution_count": 6,
     "metadata": {},
     "output_type": "execute_result"
    }
   ],
   "source": [
    "data = data[['id','ttext']]\n",
    "data.sample(3)"
   ]
  },
  {
   "cell_type": "code",
   "execution_count": 7,
   "metadata": {},
   "outputs": [],
   "source": [
    "assert len(data['id']) == len(set(data['id']))"
   ]
  },
  {
   "cell_type": "code",
   "execution_count": 8,
   "metadata": {},
   "outputs": [],
   "source": [
    "# data.dtypes"
   ]
  },
  {
   "cell_type": "markdown",
   "metadata": {},
   "source": [
    "## очистка данных"
   ]
  },
  {
   "cell_type": "code",
   "execution_count": 9,
   "metadata": {},
   "outputs": [
    {
     "name": "stderr",
     "output_type": "stream",
     "text": [
      "100%|██████████| 114911/114911 [00:00<00:00, 260310.08it/s]\n",
      "100%|██████████| 114911/114911 [00:01<00:00, 110107.55it/s]\n",
      "100%|██████████| 114911/114911 [00:00<00:00, 115859.13it/s]\n",
      "100%|██████████| 114911/114911 [00:00<00:00, 120424.43it/s]\n",
      "100%|██████████| 114911/114911 [00:01<00:00, 105975.87it/s]\n",
      "100%|██████████| 114911/114911 [00:00<00:00, 120811.44it/s]\n",
      "100%|██████████| 114911/114911 [00:00<00:00, 118640.23it/s]\n"
     ]
    }
   ],
   "source": [
    "data['ttext_clean'] = data['ttext']\\\n",
    "    .progress_apply(lambda t:[ w.strip() for w in t.split() if w.strip() ] )\\\n",
    "    .progress_apply(lambda t:[ re.sub(r'^http.*',' url ', w.strip() ) for w in t ] )\\\n",
    "    .progress_apply(lambda t:[ re.sub(r'[:;]-*[)D]',' happysmile ', w.strip() )for w in t ])\\\n",
    "    .progress_apply(lambda t:[ re.sub(r'\\)\\)\\)*',' happysmile ', w.strip() ) for w in t ])\\\n",
    "    .progress_apply(lambda t:[ re.sub(r'[:;]\\*',' kisssmile ', w.strip() ) for w in t ])\\\n",
    "    .progress_apply(lambda t:[ re.sub(r':\\(',' sadsmile ', w.strip() ) for w in t ])\\\n",
    "    .progress_apply(lambda t:[ re.sub(r'\\(\\(\\(*',' sadsmile ', w.strip() ) for w in t ])"
   ]
  },
  {
   "cell_type": "code",
   "execution_count": 10,
   "metadata": {},
   "outputs": [],
   "source": [
    "data['ttext_clean'] = [ ' '.join(s) for s in data['ttext_clean'] ]"
   ]
  },
  {
   "cell_type": "code",
   "execution_count": 11,
   "metadata": {},
   "outputs": [
    {
     "name": "stderr",
     "output_type": "stream",
     "text": [
      "100%|██████████| 114911/114911 [00:00<00:00, 191881.22it/s]\n",
      "100%|██████████| 114911/114911 [00:00<00:00, 750622.44it/s]\n",
      "100%|██████████| 114911/114911 [00:00<00:00, 323185.91it/s]\n",
      "100%|██████████| 114911/114911 [00:00<00:00, 282331.93it/s]\n",
      "100%|██████████| 114911/114911 [00:01<00:00, 94586.71it/s] \n"
     ]
    }
   ],
   "source": [
    "data['ttext_clean'] = data['ttext_clean'].str.lower()\\\n",
    "    .progress_apply(lambda s: re.sub( r'\\W', ' ', s))\\\n",
    "    .progress_apply(lambda s: re.sub( r'_', ' ', s))\\\n",
    "    .progress_apply(lambda s: re.sub( r'\\b\\d+\\b', ' digit ', s))\\\n",
    "    .progress_apply(lambda t:[ w.strip() for w in t.split() if w.strip() ] )\\\n",
    "    .progress_apply(lambda t: [w for w in t if not re.match( r'\\b.*\\d+.*\\b', w) ])"
   ]
  },
  {
   "cell_type": "code",
   "execution_count": 12,
   "metadata": {},
   "outputs": [
    {
     "data": {
      "text/html": [
       "<div>\n",
       "<style scoped>\n",
       "    .dataframe tbody tr th:only-of-type {\n",
       "        vertical-align: middle;\n",
       "    }\n",
       "\n",
       "    .dataframe tbody tr th {\n",
       "        vertical-align: top;\n",
       "    }\n",
       "\n",
       "    .dataframe thead th {\n",
       "        text-align: right;\n",
       "    }\n",
       "</style>\n",
       "<table border=\"1\" class=\"dataframe\">\n",
       "  <thead>\n",
       "    <tr style=\"text-align: right;\">\n",
       "      <th></th>\n",
       "      <th>id</th>\n",
       "      <th>ttext</th>\n",
       "      <th>ttext_clean</th>\n",
       "    </tr>\n",
       "  </thead>\n",
       "  <tbody>\n",
       "    <tr>\n",
       "      <th>83460</th>\n",
       "      <td>410775590078136322</td>\n",
       "      <td>@Just__Fantasy блиа, точно.\\nмне и от тебя синяков хватит :D\\nоставим Эммета этой сучке Розали\\nа лучше я забиру ее :D\\nя не хочу Элис</td>\n",
       "      <td>[just, fantasy, блиа, точно, мне, и, от, тебя, синяков, хватит, happysmile, оставим, эммета, этой, сучке, розали, а, лучше, я, забиру, ее, happysmile, я, не, хочу, элис]</td>\n",
       "    </tr>\n",
       "    <tr>\n",
       "      <th>57311</th>\n",
       "      <td>410122552506585088</td>\n",
       "      <td>@MishaKrushnic а ну ка обняли меня дружно! своими ментальными ручонками :D</td>\n",
       "      <td>[mishakrushnic, а, ну, ка, обняли, меня, дружно, своими, ментальными, ручонками, happysmile]</td>\n",
       "    </tr>\n",
       "    <tr>\n",
       "      <th>74223</th>\n",
       "      <td>410631637638983682</td>\n",
       "      <td>G-League 2013 Day 3. написал небольшой аннонс-прогноз: http://t.co/R2P78Sb39e , всех жду в 16 по МСК :) #dotasltv #g1league #sltv</td>\n",
       "      <td>[g, league, digit, day, digit, написал, небольшой, аннонс, прогноз, url, всех, жду, в, digit, по, мск, happysmile, dotasltv, sltv]</td>\n",
       "    </tr>\n",
       "  </tbody>\n",
       "</table>\n",
       "</div>"
      ],
      "text/plain": [
       "                       id  \\\n",
       "83460  410775590078136322   \n",
       "57311  410122552506585088   \n",
       "74223  410631637638983682   \n",
       "\n",
       "                                                                                                                                        ttext  \\\n",
       "83460  @Just__Fantasy блиа, точно.\\nмне и от тебя синяков хватит :D\\nоставим Эммета этой сучке Розали\\nа лучше я забиру ее :D\\nя не хочу Элис   \n",
       "57311                                                              @MishaKrushnic а ну ка обняли меня дружно! своими ментальными ручонками :D   \n",
       "74223       G-League 2013 Day 3. написал небольшой аннонс-прогноз: http://t.co/R2P78Sb39e , всех жду в 16 по МСК :) #dotasltv #g1league #sltv   \n",
       "\n",
       "                                                                                                                                                                     ttext_clean  \n",
       "83460  [just, fantasy, блиа, точно, мне, и, от, тебя, синяков, хватит, happysmile, оставим, эммета, этой, сучке, розали, а, лучше, я, забиру, ее, happysmile, я, не, хочу, элис]  \n",
       "57311                                                                               [mishakrushnic, а, ну, ка, обняли, меня, дружно, своими, ментальными, ручонками, happysmile]  \n",
       "74223                                         [g, league, digit, day, digit, написал, небольшой, аннонс, прогноз, url, всех, жду, в, digit, по, мск, happysmile, dotasltv, sltv]  "
      ]
     },
     "execution_count": 12,
     "metadata": {},
     "output_type": "execute_result"
    }
   ],
   "source": [
    "data.sample(3)"
   ]
  },
  {
   "cell_type": "code",
   "execution_count": 13,
   "metadata": {},
   "outputs": [],
   "source": [
    "# удаление коротких слов\n",
    "# data['ttext_clean'] = data['ttext_clean'].progress_apply(lambda t:[w for w in t if len(w)>2])"
   ]
  },
  {
   "cell_type": "code",
   "execution_count": 14,
   "metadata": {},
   "outputs": [
    {
     "name": "stdout",
     "output_type": "stream",
     "text": [
      "записей: 114 911\n",
      "записей: 114 911\n"
     ]
    }
   ],
   "source": [
    "ppr(data)\n",
    "data = data[ data['ttext_clean'].str.len()>0 ].reset_index(drop=True) \n",
    "ppr(data)"
   ]
  },
  {
   "cell_type": "code",
   "execution_count": 15,
   "metadata": {},
   "outputs": [
    {
     "data": {
      "text/html": [
       "<div>\n",
       "<style scoped>\n",
       "    .dataframe tbody tr th:only-of-type {\n",
       "        vertical-align: middle;\n",
       "    }\n",
       "\n",
       "    .dataframe tbody tr th {\n",
       "        vertical-align: top;\n",
       "    }\n",
       "\n",
       "    .dataframe thead th {\n",
       "        text-align: right;\n",
       "    }\n",
       "</style>\n",
       "<table border=\"1\" class=\"dataframe\">\n",
       "  <thead>\n",
       "    <tr style=\"text-align: right;\">\n",
       "      <th></th>\n",
       "      <th>id</th>\n",
       "      <th>ttext</th>\n",
       "      <th>ttext_clean</th>\n",
       "    </tr>\n",
       "  </thead>\n",
       "  <tbody>\n",
       "    <tr>\n",
       "      <th>96135</th>\n",
       "      <td>411022464592801792</td>\n",
       "      <td>ФГОСТ второго поколения тоже не выдерживает критики, но мне по барабану, не буду ворчать ;)</td>\n",
       "      <td>[фгост, второго, поколения, тоже, не, выдерживает, критики, но, мне, по, барабану, не, буду, ворчать, happysmile]</td>\n",
       "    </tr>\n",
       "    <tr>\n",
       "      <th>101535</th>\n",
       "      <td>411093561870790656</td>\n",
       "      <td>@MurzovaBortch не знаю его. И вообще причем тут он,если я пишу про ОмЮА?) понимаешь,что тут СибГУФК никаким боком))</td>\n",
       "      <td>[murzovabortch, не, знаю, его, и, вообще, причем, тут, он, если, я, пишу, про, омюа, понимаешь, что, тут, сибгуфк, никаким, боком, happysmile]</td>\n",
       "    </tr>\n",
       "    <tr>\n",
       "      <th>94962</th>\n",
       "      <td>411007830016425984</td>\n",
       "      <td>В \"This is us\" нам покажут тяжелые репетиции парней.\\nАГА. О ТОМ КАК ОНИ НОСЯТСЯ, ДУРАЧАТСЯ, ОРУТ. ХАХАА :DD Я БЫ ПОСМОТРЕЛА НА ЭТО :D #пиар</td>\n",
       "      <td>[в, this, is, us, нам, покажут, тяжелые, репетиции, парней, ага, о, том, как, они, носятся, дурачатся, орут, хахаа, happysmile, d, я, бы, посмотрела, на, это, happysmile, пиар]</td>\n",
       "    </tr>\n",
       "  </tbody>\n",
       "</table>\n",
       "</div>"
      ],
      "text/plain": [
       "                        id  \\\n",
       "96135   411022464592801792   \n",
       "101535  411093561870790656   \n",
       "94962   411007830016425984   \n",
       "\n",
       "                                                                                                                                               ttext  \\\n",
       "96135                                                    ФГОСТ второго поколения тоже не выдерживает критики, но мне по барабану, не буду ворчать ;)   \n",
       "101535                           @MurzovaBortch не знаю его. И вообще причем тут он,если я пишу про ОмЮА?) понимаешь,что тут СибГУФК никаким боком))   \n",
       "94962   В \"This is us\" нам покажут тяжелые репетиции парней.\\nАГА. О ТОМ КАК ОНИ НОСЯТСЯ, ДУРАЧАТСЯ, ОРУТ. ХАХАА :DD Я БЫ ПОСМОТРЕЛА НА ЭТО :D #пиар   \n",
       "\n",
       "                                                                                                                                                                             ttext_clean  \n",
       "96135                                                                  [фгост, второго, поколения, тоже, не, выдерживает, критики, но, мне, по, барабану, не, буду, ворчать, happysmile]  \n",
       "101535                                    [murzovabortch, не, знаю, его, и, вообще, причем, тут, он, если, я, пишу, про, омюа, понимаешь, что, тут, сибгуфк, никаким, боком, happysmile]  \n",
       "94962   [в, this, is, us, нам, покажут, тяжелые, репетиции, парней, ага, о, том, как, они, носятся, дурачатся, орут, хахаа, happysmile, d, я, бы, посмотрела, на, это, happysmile, пиар]  "
      ]
     },
     "execution_count": 15,
     "metadata": {},
     "output_type": "execute_result"
    }
   ],
   "source": [
    "data.sample(3)"
   ]
  },
  {
   "cell_type": "code",
   "execution_count": 16,
   "metadata": {},
   "outputs": [
    {
     "name": "stdout",
     "output_type": "stream",
     "text": [
      "записей: 166 099\n"
     ]
    }
   ],
   "source": [
    "words = sorted(set.union( *data['ttext_clean'].apply(set) ))\n",
    "voc = { w:i+1 for i,w in enumerate(words) }\n",
    "voc['<pad>']= 0\n",
    "ppr(voc)"
   ]
  },
  {
   "cell_type": "code",
   "execution_count": 17,
   "metadata": {},
   "outputs": [],
   "source": [
    "# voc = sorted(set.union(*[ set(s) for s in data['ttext_clean'].values.tolist() ]))\n",
    "# voc = { w:i+1 for i,w in enumerate(voc) }\n",
    "# voc['<pad>']= 0\n",
    "# ppr(voc)"
   ]
  },
  {
   "cell_type": "code",
   "execution_count": 18,
   "metadata": {},
   "outputs": [],
   "source": [
    "# voc"
   ]
  },
  {
   "cell_type": "markdown",
   "metadata": {},
   "source": [
    "## кодируем слова"
   ]
  },
  {
   "cell_type": "code",
   "execution_count": 19,
   "metadata": {},
   "outputs": [
    {
     "name": "stderr",
     "output_type": "stream",
     "text": [
      "100%|██████████| 114911/114911 [00:00<00:00, 253424.14it/s]\n"
     ]
    }
   ],
   "source": [
    "data['code'] = data['ttext_clean'].progress_apply(lambda t: [ voc[w] for w in t] )"
   ]
  },
  {
   "cell_type": "code",
   "execution_count": 20,
   "metadata": {},
   "outputs": [
    {
     "data": {
      "text/html": [
       "<div>\n",
       "<style scoped>\n",
       "    .dataframe tbody tr th:only-of-type {\n",
       "        vertical-align: middle;\n",
       "    }\n",
       "\n",
       "    .dataframe tbody tr th {\n",
       "        vertical-align: top;\n",
       "    }\n",
       "\n",
       "    .dataframe thead th {\n",
       "        text-align: right;\n",
       "    }\n",
       "</style>\n",
       "<table border=\"1\" class=\"dataframe\">\n",
       "  <thead>\n",
       "    <tr style=\"text-align: right;\">\n",
       "      <th></th>\n",
       "      <th>ttext</th>\n",
       "      <th>ttext_clean</th>\n",
       "      <th>code</th>\n",
       "    </tr>\n",
       "  </thead>\n",
       "  <tbody>\n",
       "    <tr>\n",
       "      <th>37260</th>\n",
       "      <td>RT @lenismob: http://t.co/2sCNfs9rlU одна сигарета отнимает 15 минут жизни, а один урок 45 минут.=)</td>\n",
       "      <td>[rt, lenismob, url, одна, сигарета, отнимает, digit, минут, жизни, а, один, урок, digit, минут]</td>\n",
       "      <td>[34076, 21953, 41034, 107265, 137505, 110580, 9280, 96245, 73796, 45621, 107203, 153423, 9280, 96245]</td>\n",
       "    </tr>\n",
       "    <tr>\n",
       "      <th>12083</th>\n",
       "      <td>RT @LovaStuka: Люблю, когда люди такие же ненормальные, как и я ;)</td>\n",
       "      <td>[rt, lovastuka, люблю, когда, люди, такие, же, ненормальные, как, и, я, happysmile]</td>\n",
       "      <td>[34076, 23281, 92708, 85633, 92843, 146299, 73318, 102799, 82759, 79635, 164868, 14801]</td>\n",
       "    </tr>\n",
       "    <tr>\n",
       "      <th>3184</th>\n",
       "      <td>привет @Roxa_ami ! медитируешь?))) да ещё и в темноте!) не страшно ли?</td>\n",
       "      <td>[привет, roxa, ami, медитируешь, happysmile, да, ещё, и, в, темноте, не, страшно, ли]</td>\n",
       "      <td>[124491, 34011, 1759, 95022, 14801, 66531, 72973, 79635, 55739, 147559, 101792, 144239, 91218]</td>\n",
       "    </tr>\n",
       "  </tbody>\n",
       "</table>\n",
       "</div>"
      ],
      "text/plain": [
       "                                                                                                     ttext  \\\n",
       "37260  RT @lenismob: http://t.co/2sCNfs9rlU одна сигарета отнимает 15 минут жизни, а один урок 45 минут.=)   \n",
       "12083                                   RT @LovaStuka: Люблю, когда люди такие же ненормальные, как и я ;)   \n",
       "3184                                привет @Roxa_ami ! медитируешь?))) да ещё и в темноте!) не страшно ли?   \n",
       "\n",
       "                                                                                           ttext_clean  \\\n",
       "37260  [rt, lenismob, url, одна, сигарета, отнимает, digit, минут, жизни, а, один, урок, digit, минут]   \n",
       "12083              [rt, lovastuka, люблю, когда, люди, такие, же, ненормальные, как, и, я, happysmile]   \n",
       "3184             [привет, roxa, ami, медитируешь, happysmile, да, ещё, и, в, темноте, не, страшно, ли]   \n",
       "\n",
       "                                                                                                        code  \n",
       "37260  [34076, 21953, 41034, 107265, 137505, 110580, 9280, 96245, 73796, 45621, 107203, 153423, 9280, 96245]  \n",
       "12083                [34076, 23281, 92708, 85633, 92843, 146299, 73318, 102799, 82759, 79635, 164868, 14801]  \n",
       "3184          [124491, 34011, 1759, 95022, 14801, 66531, 72973, 79635, 55739, 147559, 101792, 144239, 91218]  "
      ]
     },
     "execution_count": 20,
     "metadata": {},
     "output_type": "execute_result"
    }
   ],
   "source": [
    "data[['ttext','ttext_clean','code']].sample(3)"
   ]
  },
  {
   "cell_type": "code",
   "execution_count": 21,
   "metadata": {},
   "outputs": [
    {
     "data": {
      "text/plain": [
       "count    114911\n",
       "mean         13\n",
       "std           4\n",
       "min           1\n",
       "25%          10\n",
       "50%          13\n",
       "75%          17\n",
       "max          42\n",
       "Name: code, dtype: int64"
      ]
     },
     "execution_count": 21,
     "metadata": {},
     "output_type": "execute_result"
    }
   ],
   "source": [
    "# оценка размеров последовательнистей\n",
    "data['code'].str.len().describe().astype(int)"
   ]
  },
  {
   "cell_type": "code",
   "execution_count": 22,
   "metadata": {},
   "outputs": [
    {
     "data": {
      "text/plain": [
       "<AxesSubplot:ylabel='Frequency'>"
      ]
     },
     "execution_count": 22,
     "metadata": {},
     "output_type": "execute_result"
    },
    {
     "data": {
      "image/png": "[encoded data removed]",
      "text/plain": [
       "<Figure size 432x288 with 1 Axes>"
      ]
     },
     "metadata": {
      "needs_background": "light"
     },
     "output_type": "display_data"
    }
   ],
   "source": [
    "data['code'].str.len().plot.hist()"
   ]
  },
  {
   "cell_type": "code",
   "execution_count": 23,
   "metadata": {},
   "outputs": [
    {
     "data": {
      "text/plain": [
       "42"
      ]
     },
     "execution_count": 23,
     "metadata": {},
     "output_type": "execute_result"
    }
   ],
   "source": [
    "# максимальная длина\n",
    "code_max_len = data['code'].str.len().max()\n",
    "code_max_len"
   ]
  },
  {
   "cell_type": "code",
   "execution_count": 24,
   "metadata": {},
   "outputs": [
    {
     "name": "stderr",
     "output_type": "stream",
     "text": [
      "100%|██████████| 114911/114911 [00:00<00:00, 342430.78it/s]\n"
     ]
    }
   ],
   "source": [
    "# дополняем короткие до максимальной длины\n",
    "z = [0]*code_max_len\n",
    "data['code'] = data['code'].progress_apply(lambda c: c+z[:(code_max_len-len(c))]  )"
   ]
  },
  {
   "cell_type": "code",
   "execution_count": 25,
   "metadata": {},
   "outputs": [
    {
     "data": {
      "text/plain": [
       "count    114911\n",
       "mean         42\n",
       "std           0\n",
       "min          42\n",
       "25%          42\n",
       "50%          42\n",
       "75%          42\n",
       "max          42\n",
       "Name: code, dtype: int64"
      ]
     },
     "execution_count": 25,
     "metadata": {},
     "output_type": "execute_result"
    }
   ],
   "source": [
    "data['code'].str.len().describe().astype(int)"
   ]
  },
  {
   "cell_type": "markdown",
   "metadata": {},
   "source": [
    "## строим датасет"
   ]
  },
  {
   "cell_type": "code",
   "execution_count": 26,
   "metadata": {},
   "outputs": [],
   "source": [
    "# pair = data[['id','id']]\n",
    "# pair.columns = ['id_l','id_r']\n",
    "# pair"
   ]
  },
  {
   "cell_type": "code",
   "execution_count": 27,
   "metadata": {},
   "outputs": [],
   "source": [
    "pair_neg = pd.DataFrame({\n",
    "'id_L':data['id'].iloc[:-1].tolist(),\n",
    "'id_R':data['id'].iloc[1:].tolist()\n",
    "})"
   ]
  },
  {
   "cell_type": "code",
   "execution_count": 28,
   "metadata": {},
   "outputs": [
    {
     "name": "stdout",
     "output_type": "stream",
     "text": [
      "записей: 114 910\n"
     ]
    }
   ],
   "source": [
    "# НЕпохожие пары\n",
    "pair_neg = pair_neg\\\n",
    "  .merge(data[['id','code']].rename(columns={'id':'id_L','code':'code_L'}), on=['id_L'] )\\\n",
    "  .merge(data[['id','code']].rename(columns={'id':'id_R','code':'code_R'}), on=['id_R'] )\n",
    "\n",
    "pair_neg['target'] = 0\n",
    "ppr(pair_neg)"
   ]
  },
  {
   "cell_type": "code",
   "execution_count": 29,
   "metadata": {},
   "outputs": [],
   "source": [
    "pair_pos = pd.DataFrame({\n",
    "'id_L':data['id'].tolist(),\n",
    "'id_R':data['id'].tolist()\n",
    "})"
   ]
  },
  {
   "cell_type": "code",
   "execution_count": 30,
   "metadata": {},
   "outputs": [
    {
     "name": "stdout",
     "output_type": "stream",
     "text": [
      "записей: 114 911\n"
     ]
    }
   ],
   "source": [
    "# похожие пары\n",
    "pair_pos = pair_pos\\\n",
    "  .merge(data[['id','code']].rename(columns={'id':'id_L','code':'code_L'}), on=['id_L'] )\\\n",
    "  .merge(data[['id','code']].rename(columns={'id':'id_R','code':'code_R'}), on=['id_R'] )\n",
    "\n",
    "pair_pos['target'] = 1\n",
    "ppr(pair_pos)"
   ]
  },
  {
   "cell_type": "code",
   "execution_count": 31,
   "metadata": {},
   "outputs": [
    {
     "name": "stdout",
     "output_type": "stream",
     "text": [
      "записей: 229 821\n"
     ]
    }
   ],
   "source": [
    "cols = ['id_L','code_L','id_R','code_R','target']\n",
    "dataset = pd.concat([\n",
    "        pair_pos[cols],\n",
    "        pair_neg[cols],\n",
    "    ],axis=0).reset_index(drop=True)\n",
    "ppr(dataset)"
   ]
  },
  {
   "cell_type": "code",
   "execution_count": 32,
   "metadata": {},
   "outputs": [
    {
     "data": {
      "text/plain": [
       "((229821, 42), (229821, 42), (229821, 1))"
      ]
     },
     "execution_count": 32,
     "metadata": {},
     "output_type": "execute_result"
    }
   ],
   "source": [
    "x_left  = np.vstack(dataset['code_L'].values)\n",
    "x_right = np.vstack(dataset['code_R'].values)\n",
    "target  = np.vstack(dataset['target'].values)\n",
    "\n",
    "x_left.shape,x_right.shape,target.shape"
   ]
  },
  {
   "cell_type": "code",
   "execution_count": null,
   "metadata": {},
   "outputs": [],
   "source": []
  },
  {
   "cell_type": "code",
   "execution_count": 33,
   "metadata": {},
   "outputs": [],
   "source": [
    "# размер вектора OHE для embeding слоя\n",
    "embed_input_dim = max([x_left.max(),x_right.max()]) + 1"
   ]
  },
  {
   "cell_type": "code",
   "execution_count": 34,
   "metadata": {},
   "outputs": [
    {
     "data": {
      "text/plain": [
       "((229821, 42), (229821, 42), (229821, 1), 166099)"
      ]
     },
     "execution_count": 34,
     "metadata": {},
     "output_type": "execute_result"
    }
   ],
   "source": [
    "x_left.shape, x_right.shape, target.shape, embed_input_dim"
   ]
  },
  {
   "cell_type": "code",
   "execution_count": 35,
   "metadata": {},
   "outputs": [],
   "source": [
    "# переворачиваем последовательности (нули дополнения вначале, первое слово в конце)\n",
    "x_left  = np.flip( x_left,  axis=1 )\n",
    "x_right = np.flip( x_right, axis=1 )"
   ]
  },
  {
   "cell_type": "code",
   "execution_count": 36,
   "metadata": {},
   "outputs": [
    {
     "data": {
      "text/plain": [
       "42"
      ]
     },
     "execution_count": 36,
     "metadata": {},
     "output_type": "execute_result"
    }
   ],
   "source": [
    "# длина последовательности слов \n",
    "seq_len = x_left.shape[1]\n",
    "seq_len"
   ]
  },
  {
   "cell_type": "code",
   "execution_count": 37,
   "metadata": {},
   "outputs": [],
   "source": [
    "from sklearn.model_selection import train_test_split\n",
    "from matplotlib import pyplot as plt"
   ]
  },
  {
   "cell_type": "code",
   "execution_count": 38,
   "metadata": {},
   "outputs": [
    {
     "data": {
      "text/plain": [
       "((114910, 84), (114910, 1), (114911, 84), (114911, 1))"
      ]
     },
     "execution_count": 38,
     "metadata": {},
     "output_type": "execute_result"
    }
   ],
   "source": [
    "# отделяем тестовый набор\n",
    "x_train, x_test, y_train, y_test = train_test_split( np.hstack([x_left,x_right]), target, test_size=.5)\n",
    "x_train.shape, y_train.shape, x_test.shape, y_test.shape"
   ]
  },
  {
   "cell_type": "code",
   "execution_count": 39,
   "metadata": {},
   "outputs": [
    {
     "data": {
      "text/plain": [
       "((114910, 42), (114910, 42), (114910,))"
      ]
     },
     "execution_count": 39,
     "metadata": {},
     "output_type": "execute_result"
    }
   ],
   "source": [
    "x_left_train, x_right_train = x_train[:,:seq_len],x_train[:,seq_len:]\n",
    "y_train = y_train.flatten()\n",
    "x_left_train.shape, x_right_train.shape, y_train.shape"
   ]
  },
  {
   "cell_type": "code",
   "execution_count": 40,
   "metadata": {},
   "outputs": [
    {
     "data": {
      "text/plain": [
       "((114911, 42), (114911, 42), (114911,))"
      ]
     },
     "execution_count": 40,
     "metadata": {},
     "output_type": "execute_result"
    }
   ],
   "source": [
    "x_left_test, x_right_test = x_test[:,:seq_len],x_test[:,seq_len:]\n",
    "y_test = y_test.flatten()\n",
    "x_left_test.shape, x_right_test.shape, y_test.shape"
   ]
  },
  {
   "cell_type": "code",
   "execution_count": 41,
   "metadata": {},
   "outputs": [],
   "source": [
    "# %xdel x_left\n",
    "# %xdel x_right\n",
    "# %xdel target"
   ]
  },
  {
   "cell_type": "code",
   "execution_count": 42,
   "metadata": {},
   "outputs": [],
   "source": [
    "# gc.collect()"
   ]
  },
  {
   "cell_type": "code",
   "execution_count": 43,
   "metadata": {},
   "outputs": [],
   "source": [
    "# y_train.sum()/len(y_train), y_test.sum()/len(y_test)"
   ]
  },
  {
   "cell_type": "markdown",
   "metadata": {},
   "source": [
    "## модель"
   ]
  },
  {
   "cell_type": "code",
   "execution_count": 44,
   "metadata": {},
   "outputs": [
    {
     "data": {
      "text/plain": [
       "(166099, 32, 42)"
      ]
     },
     "execution_count": 44,
     "metadata": {},
     "output_type": "execute_result"
    }
   ],
   "source": [
    "embed_len = 32\n",
    "embed_input_dim, embed_len, seq_len"
   ]
  },
  {
   "cell_type": "code",
   "execution_count": 45,
   "metadata": {},
   "outputs": [
    {
     "data": {
      "text/plain": [
       "('2.4.0', '2.4.0')"
      ]
     },
     "execution_count": 45,
     "metadata": {},
     "output_type": "execute_result"
    }
   ],
   "source": [
    "from tensorflow import __version__ as tf_version\n",
    "from tensorflow.keras import __version__ as keras_version\n",
    "tf_version,keras_version"
   ]
  },
  {
   "cell_type": "code",
   "execution_count": 46,
   "metadata": {},
   "outputs": [],
   "source": [
    "from tensorflow.keras.models import Model\n",
    "from tensorflow.keras.layers import Input\n",
    "from tensorflow.keras.layers import Embedding\n",
    "from tensorflow.keras.layers import LSTM\n",
    "from tensorflow.keras.layers import Dense\n",
    "from tensorflow.keras.layers import Lambda\n",
    "from tensorflow.keras.optimizers import Adam\n",
    "from tensorflow.keras import backend as K\n",
    "from tensorflow.keras.utils import plot_model\n",
    "# from tensorflow_addons.losses import contrastive_loss"
   ]
  },
  {
   "cell_type": "code",
   "execution_count": 47,
   "metadata": {},
   "outputs": [],
   "source": [
    "from tensorflow import cast\n",
    "\n",
    "def contrastive_loss(y, preds, margin=1):\n",
    "    y = cast(y, preds.dtype)\n",
    "    squaredMargin = K.square(K.maximum(margin - preds, 0))\n",
    "    return K.mean(y * K.square(preds) + (1 - y) * squaredMargin)"
   ]
  },
  {
   "cell_type": "markdown",
   "metadata": {},
   "source": [
    "$$\n",
    "y \\cdot p^2 + (1 - y) \\cdot ( 1-p ) ^2\n",
    "$$"
   ]
  },
  {
   "cell_type": "code",
   "execution_count": 48,
   "metadata": {},
   "outputs": [
    {
     "data": {
      "text/plain": [
       "[<matplotlib.lines.Line2D at 0x7fb8e9ef7940>]"
      ]
     },
     "execution_count": 48,
     "metadata": {},
     "output_type": "execute_result"
    },
    {
     "data": {
      "image/png": "[encoded data removed]",
      "text/plain": [
       "<Figure size 432x288 with 1 Axes>"
      ]
     },
     "metadata": {
      "needs_background": "light"
     },
     "output_type": "display_data"
    }
   ],
   "source": [
    "from matplotlib import pyplot as plt\n",
    "\n",
    "y = np.ones(10)\n",
    "p = np.linspace(0,1,10)\n",
    "\n",
    "# y = np.zeros(10)\n",
    "# p = np.linspace(1,0,10)\n",
    "\n",
    "# y = np.hstack([np.zeros(10),np.ones(10),])\n",
    "# p = np.hstack([ np.linspace(1,0,10), np.linspace(0,1,10) ])\n",
    "\n",
    "plt.plot( y*(p**2) + (1-y)*((1-p)**2) )"
   ]
  },
  {
   "cell_type": "code",
   "execution_count": 49,
   "metadata": {},
   "outputs": [
    {
     "data": {
      "text/plain": [
       "(166099, 42, 32)"
      ]
     },
     "execution_count": 49,
     "metadata": {},
     "output_type": "execute_result"
    }
   ],
   "source": [
    "embed_input_dim,seq_len,embed_len"
   ]
  },
  {
   "cell_type": "code",
   "execution_count": 50,
   "metadata": {},
   "outputs": [
    {
     "name": "stdout",
     "output_type": "stream",
     "text": [
      "WARNING:tensorflow:Layer lstm will not use cuDNN kernel since it doesn't meet the cuDNN kernel criteria. It will use generic GPU kernel as fallback when running on GPU\n"
     ]
    }
   ],
   "source": [
    "embedding = Embedding(input_dim=embed_input_dim, input_length=seq_len, output_dim=embed_len, )\n",
    "lstm = LSTM(embed_len,activation='relu') "
   ]
  },
  {
   "cell_type": "code",
   "execution_count": 51,
   "metadata": {},
   "outputs": [],
   "source": [
    "# Конструирование левой ветви модели: \n",
    "input_l = Input( shape=(seq_len,), dtype='int32')\n",
    "embedding_l = embedding(input_l)\n",
    "lstm_l = lstm(embedding_l)"
   ]
  },
  {
   "cell_type": "code",
   "execution_count": 52,
   "metadata": {},
   "outputs": [],
   "source": [
    "# Конструирование правой ветви модели: \n",
    "input_r = Input(shape=(seq_len,), dtype='int32')\n",
    "embedding_r = embedding(input_r)\n",
    "lstm_r = lstm(embedding_r)"
   ]
  },
  {
   "cell_type": "code",
   "execution_count": 53,
   "metadata": {},
   "outputs": [],
   "source": [
    "# # Getting the L1 Distance between the 2 encodings\n",
    "merged = Lambda(lambda t:K.abs(t[0]-t[1]),name='L1_distance')([lstm_l,lstm_r])"
   ]
  },
  {
   "cell_type": "code",
   "execution_count": 54,
   "metadata": {},
   "outputs": [],
   "source": [
    "# классификатор\n",
    "predictions = Dense(1, activation='sigmoid')(merged)"
   ]
  },
  {
   "cell_type": "code",
   "execution_count": 55,
   "metadata": {},
   "outputs": [],
   "source": [
    "# создаём модель\n",
    "model = Model([input_l,input_r], predictions )"
   ]
  },
  {
   "cell_type": "code",
   "execution_count": 56,
   "metadata": {
    "scrolled": true
   },
   "outputs": [
    {
     "data": {
      "image/png": "[encoded data removed]",
      "text/plain": [
       "<IPython.core.display.Image object>"
      ]
     },
     "execution_count": 56,
     "metadata": {},
     "output_type": "execute_result"
    }
   ],
   "source": [
    "plot_model(model,\n",
    "           #to_file=pjoin(FOLDER_RESULT,'model-embed-lstm.png'), \n",
    "           show_layer_names=True, show_shapes=True )\n",
    "# model.summary()"
   ]
  },
  {
   "cell_type": "code",
   "execution_count": 57,
   "metadata": {},
   "outputs": [],
   "source": [
    "learning_rate = 9e-5\n",
    "model.compile(loss=contrastive_loss, metrics=['acc',], optimizer=Adam(learning_rate))"
   ]
  },
  {
   "cell_type": "code",
   "execution_count": 71,
   "metadata": {},
   "outputs": [
    {
     "name": "stdout",
     "output_type": "stream",
     "text": [
      "23/23 [==============================] - 3s 129ms/step - loss: 0.2497 - acc: 0.1834 - val_loss: 0.2494 - val_acc: 0.1077\n",
      "CPU times: user 5.13 s, sys: 271 ms, total: 5.4 s\n",
      "Wall time: 3.06 s\n"
     ]
    }
   ],
   "source": [
    "%%time\n",
    "\n",
    "n_epochs = 1\n",
    "\n",
    "history = model.fit( [x_left_train, x_right_train], y_train,\n",
    "           epochs = n_epochs,\n",
    "           batch_size = 4096,\n",
    "           validation_split=.2,\n",
    "         )"
   ]
  },
  {
   "cell_type": "markdown",
   "metadata": {},
   "source": [
    "----"
   ]
  },
  {
   "cell_type": "code",
   "execution_count": 69,
   "metadata": {},
   "outputs": [],
   "source": [
    "# plt.plot(history.history['loss'],label='train loss')\n",
    "# plt.plot(history.history['val_loss'],label='val loss')\n",
    "# plt.legend()\n",
    "# plt.grid()"
   ]
  },
  {
   "cell_type": "code",
   "execution_count": 70,
   "metadata": {},
   "outputs": [],
   "source": [
    "# plt.plot( np.array(history.history['acc']), label='train acc')\n",
    "# plt.plot( np.array(history.history['val_acc']), label='val acc')\n",
    "# plt.legend()\n",
    "# plt.grid()"
   ]
  },
  {
   "cell_type": "code",
   "execution_count": 63,
   "metadata": {},
   "outputs": [],
   "source": [
    "# gc.collect()"
   ]
  },
  {
   "cell_type": "markdown",
   "metadata": {},
   "source": [
    "## тест"
   ]
  },
  {
   "cell_type": "code",
   "execution_count": 72,
   "metadata": {},
   "outputs": [],
   "source": [
    "# dataset.sample(2)"
   ]
  },
  {
   "cell_type": "code",
   "execution_count": 73,
   "metadata": {},
   "outputs": [],
   "source": [
    "dataset['dist'] = model.predict([x_left,x_right,])"
   ]
  },
  {
   "cell_type": "code",
   "execution_count": 74,
   "metadata": {},
   "outputs": [
    {
     "data": {
      "text/html": [
       "<div>\n",
       "<style scoped>\n",
       "    .dataframe tbody tr th:only-of-type {\n",
       "        vertical-align: middle;\n",
       "    }\n",
       "\n",
       "    .dataframe tbody tr th {\n",
       "        vertical-align: top;\n",
       "    }\n",
       "\n",
       "    .dataframe thead th {\n",
       "        text-align: right;\n",
       "    }\n",
       "</style>\n",
       "<table border=\"1\" class=\"dataframe\">\n",
       "  <thead>\n",
       "    <tr style=\"text-align: right;\">\n",
       "      <th></th>\n",
       "      <th>ttext_L</th>\n",
       "      <th>ttext_R</th>\n",
       "      <th>dist</th>\n",
       "    </tr>\n",
       "  </thead>\n",
       "  <tbody>\n",
       "    <tr>\n",
       "      <th>206816</th>\n",
       "      <td>Три раза подряд встретить гринвуда именно тогда когда я так не красиво выгляжу)</td>\n",
       "      <td>Три раза подряд встретить гринвуда именно тогда когда я так не красиво выгляжу)</td>\n",
       "      <td>0.49978</td>\n",
       "    </tr>\n",
       "    <tr>\n",
       "      <th>68447</th>\n",
       "      <td>@Sofya__Styles Да,да)) \\nДиржиии О/ http://t.co/HL5kkITamW</td>\n",
       "      <td>@kjulava и в этом нет ничего плохого кстати\\nЗато научишься жить одна\\nПитаться подножным кормом:D</td>\n",
       "      <td>0.50009</td>\n",
       "    </tr>\n",
       "    <tr>\n",
       "      <th>6144</th>\n",
       "      <td>@lerysik1399 @_dashynka_ кто то уже неделю ничего не пишет)</td>\n",
       "      <td>@lerysik1399 @_dashynka_ кто то уже неделю ничего не пишет)</td>\n",
       "      <td>0.49978</td>\n",
       "    </tr>\n",
       "  </tbody>\n",
       "</table>\n",
       "</div>"
      ],
      "text/plain": [
       "                                                                                ttext_L  \\\n",
       "206816  Три раза подряд встретить гринвуда именно тогда когда я так не красиво выгляжу)   \n",
       "68447                        @Sofya__Styles Да,да)) \\nДиржиии О/ http://t.co/HL5kkITamW   \n",
       "6144                        @lerysik1399 @_dashynka_ кто то уже неделю ничего не пишет)   \n",
       "\n",
       "                                                                                                   ttext_R  \\\n",
       "206816                     Три раза подряд встретить гринвуда именно тогда когда я так не красиво выгляжу)   \n",
       "68447   @kjulava и в этом нет ничего плохого кстати\\nЗато научишься жить одна\\nПитаться подножным кормом:D   \n",
       "6144                                           @lerysik1399 @_dashynka_ кто то уже неделю ничего не пишет)   \n",
       "\n",
       "           dist  \n",
       "206816  0.49978  \n",
       "68447   0.50009  \n",
       "6144    0.49978  "
      ]
     },
     "execution_count": 74,
     "metadata": {},
     "output_type": "execute_result"
    }
   ],
   "source": [
    "data_dist = dataset[['id_L','id_R','target','dist']]\\\n",
    "    .merge(data[['id','ttext']].rename(columns={'id':'id_R','ttext':'ttext_R'}),on='id_R')\\\n",
    "    .merge(data[['id','ttext']].rename(columns={'id':'id_L','ttext':'ttext_L'}),on='id_L')\\\n",
    "    [['ttext_L','ttext_R','dist']]\n",
    "data_dist.sample(3)"
   ]
  },
  {
   "cell_type": "code",
   "execution_count": 75,
   "metadata": {},
   "outputs": [
    {
     "data": {
      "text/html": [
       "<div>\n",
       "<style scoped>\n",
       "    .dataframe tbody tr th:only-of-type {\n",
       "        vertical-align: middle;\n",
       "    }\n",
       "\n",
       "    .dataframe tbody tr th {\n",
       "        vertical-align: top;\n",
       "    }\n",
       "\n",
       "    .dataframe thead th {\n",
       "        text-align: right;\n",
       "    }\n",
       "</style>\n",
       "<table border=\"1\" class=\"dataframe\">\n",
       "  <thead>\n",
       "    <tr style=\"text-align: right;\">\n",
       "      <th></th>\n",
       "      <th>count</th>\n",
       "      <th>mean</th>\n",
       "      <th>std</th>\n",
       "      <th>min</th>\n",
       "      <th>25%</th>\n",
       "      <th>50%</th>\n",
       "      <th>75%</th>\n",
       "      <th>max</th>\n",
       "    </tr>\n",
       "  </thead>\n",
       "  <tbody>\n",
       "    <tr>\n",
       "      <th>dist</th>\n",
       "      <td>229821.0</td>\n",
       "      <td>0.500384</td>\n",
       "      <td>0.001053</td>\n",
       "      <td>0.495793</td>\n",
       "      <td>0.49978</td>\n",
       "      <td>0.49978</td>\n",
       "      <td>0.500945</td>\n",
       "      <td>0.507331</td>\n",
       "    </tr>\n",
       "  </tbody>\n",
       "</table>\n",
       "</div>"
      ],
      "text/plain": [
       "         count      mean       std       min      25%      50%       75%  \\\n",
       "dist  229821.0  0.500384  0.001053  0.495793  0.49978  0.49978  0.500945   \n",
       "\n",
       "           max  \n",
       "dist  0.507331  "
      ]
     },
     "execution_count": 75,
     "metadata": {},
     "output_type": "execute_result"
    }
   ],
   "source": [
    "data_dist[['dist']].describe().T"
   ]
  },
  {
   "cell_type": "code",
   "execution_count": 77,
   "metadata": {},
   "outputs": [
    {
     "data": {
      "text/html": [
       "<div>\n",
       "<style scoped>\n",
       "    .dataframe tbody tr th:only-of-type {\n",
       "        vertical-align: middle;\n",
       "    }\n",
       "\n",
       "    .dataframe tbody tr th {\n",
       "        vertical-align: top;\n",
       "    }\n",
       "\n",
       "    .dataframe thead th {\n",
       "        text-align: right;\n",
       "    }\n",
       "</style>\n",
       "<table border=\"1\" class=\"dataframe\">\n",
       "  <thead>\n",
       "    <tr style=\"text-align: right;\">\n",
       "      <th></th>\n",
       "      <th>ttext_L</th>\n",
       "      <th>ttext_R</th>\n",
       "      <th>dist</th>\n",
       "    </tr>\n",
       "  </thead>\n",
       "  <tbody>\n",
       "    <tr>\n",
       "      <th>1</th>\n",
       "      <td>@first_timee хоть я и школота, но поверь, у нас то же самое :D общество профилирующий предмет типа)</td>\n",
       "      <td>Да, все-таки он немного похож на него. Но мой мальчик все равно лучше:D</td>\n",
       "      <td>0.499397</td>\n",
       "    </tr>\n",
       "    <tr>\n",
       "      <th>3</th>\n",
       "      <td>Да, все-таки он немного похож на него. Но мой мальчик все равно лучше:D</td>\n",
       "      <td>RT @KatiaCheh: Ну ты идиотка) я испугалась за тебя!!!</td>\n",
       "      <td>0.499904</td>\n",
       "    </tr>\n",
       "    <tr>\n",
       "      <th>5</th>\n",
       "      <td>RT @KatiaCheh: Ну ты идиотка) я испугалась за тебя!!!</td>\n",
       "      <td>RT @digger2912: \"Кто то в углу сидит и погибает от голода, а мы ещё 2 порции взяли, хотя уже и так жрать не хотим\" :DD http://t.co/GqG6iuE2…</td>\n",
       "      <td>0.501577</td>\n",
       "    </tr>\n",
       "    <tr>\n",
       "      <th>7</th>\n",
       "      <td>RT @digger2912: \"Кто то в углу сидит и погибает от голода, а мы ещё 2 порции взяли, хотя уже и так жрать не хотим\" :DD http://t.co/GqG6iuE2…</td>\n",
       "      <td>@irina_dyshkant Вот что значит страшилка :D\\nНо блин,посмотрев все части,у тебя создастся ощущение,что авторы курили что-то :D</td>\n",
       "      <td>0.499993</td>\n",
       "    </tr>\n",
       "    <tr>\n",
       "      <th>9</th>\n",
       "      <td>@irina_dyshkant Вот что значит страшилка :D\\nНо блин,посмотрев все части,у тебя создастся ощущение,что авторы курили что-то :D</td>\n",
       "      <td>ну любишь или нет? — Я не знаю кто ты бля:D http://t.co/brf9eNg1U6</td>\n",
       "      <td>0.501012</td>\n",
       "    </tr>\n",
       "    <tr>\n",
       "      <th>...</th>\n",
       "      <td>...</td>\n",
       "      <td>...</td>\n",
       "      <td>...</td>\n",
       "    </tr>\n",
       "    <tr>\n",
       "      <th>229811</th>\n",
       "      <td>Торт с черносливом :) купленный на кропотке в том магазине, ведь тот же? http://t.co/EB8Z8bOBRZ</td>\n",
       "      <td>Спала в родительском доме, на своей кровати... Проснулась с кошкой на голове))</td>\n",
       "      <td>0.499936</td>\n",
       "    </tr>\n",
       "    <tr>\n",
       "      <th>229813</th>\n",
       "      <td>Спала в родительском доме, на своей кровати... Проснулась с кошкой на голове))</td>\n",
       "      <td>RT @jebesilofyt: Эх... Мы немного решили сократить путь, сейчас уже лежу в мягкой кровати :) а с отсутствием сети помогла справится какая-</td>\n",
       "      <td>0.501228</td>\n",
       "    </tr>\n",
       "    <tr>\n",
       "      <th>229815</th>\n",
       "      <td>RT @jebesilofyt: Эх... Мы немного решили сократить путь, сейчас уже лежу в мягкой кровати :) а с отсутствием сети помогла справится какая-</td>\n",
       "      <td>Что происходит со мной, когда в эфире #proactivefm звучит моя любимая песня)) #dctalk #music @… http://t.co/65KGFFd5oO</td>\n",
       "      <td>0.503524</td>\n",
       "    </tr>\n",
       "    <tr>\n",
       "      <th>229817</th>\n",
       "      <td>Что происходит со мной, когда в эфире #proactivefm звучит моя любимая песня)) #dctalk #music @… http://t.co/65KGFFd5oO</td>\n",
       "      <td>\"Любимая,я подарю тебе эту звезду...\" Имя какой звезды переводится \"подмышка\"? ;-)</td>\n",
       "      <td>0.501630</td>\n",
       "    </tr>\n",
       "    <tr>\n",
       "      <th>229819</th>\n",
       "      <td>\"Любимая,я подарю тебе эту звезду...\" Имя какой звезды переводится \"подмышка\"? ;-)</td>\n",
       "      <td>@Ma_che_rie посмотри #непытайтесьпокинутьомск сегодня в Вавилоне в 18.20. Я там тоже есть :)</td>\n",
       "      <td>0.499382</td>\n",
       "    </tr>\n",
       "  </tbody>\n",
       "</table>\n",
       "<p>114843 rows × 3 columns</p>\n",
       "</div>"
      ],
      "text/plain": [
       "                                                                                                                                             ttext_L  \\\n",
       "1                                                @first_timee хоть я и школота, но поверь, у нас то же самое :D общество профилирующий предмет типа)   \n",
       "3                                                                            Да, все-таки он немного похож на него. Но мой мальчик все равно лучше:D   \n",
       "5                                                                                              RT @KatiaCheh: Ну ты идиотка) я испугалась за тебя!!!   \n",
       "7       RT @digger2912: \"Кто то в углу сидит и погибает от голода, а мы ещё 2 порции взяли, хотя уже и так жрать не хотим\" :DD http://t.co/GqG6iuE2…   \n",
       "9                     @irina_dyshkant Вот что значит страшилка :D\\nНо блин,посмотрев все части,у тебя создастся ощущение,что авторы курили что-то :D   \n",
       "...                                                                                                                                              ...   \n",
       "229811                                               Торт с черносливом :) купленный на кропотке в том магазине, ведь тот же? http://t.co/EB8Z8bOBRZ   \n",
       "229813                                                                Спала в родительском доме, на своей кровати... Проснулась с кошкой на голове))   \n",
       "229815    RT @jebesilofyt: Эх... Мы немного решили сократить путь, сейчас уже лежу в мягкой кровати :) а с отсутствием сети помогла справится какая-   \n",
       "229817                        Что происходит со мной, когда в эфире #proactivefm звучит моя любимая песня)) #dctalk #music @… http://t.co/65KGFFd5oO   \n",
       "229819                                                            \"Любимая,я подарю тебе эту звезду...\" Имя какой звезды переводится \"подмышка\"? ;-)   \n",
       "\n",
       "                                                                                                                                             ttext_R  \\\n",
       "1                                                                            Да, все-таки он немного похож на него. Но мой мальчик все равно лучше:D   \n",
       "3                                                                                              RT @KatiaCheh: Ну ты идиотка) я испугалась за тебя!!!   \n",
       "5       RT @digger2912: \"Кто то в углу сидит и погибает от голода, а мы ещё 2 порции взяли, хотя уже и так жрать не хотим\" :DD http://t.co/GqG6iuE2…   \n",
       "7                     @irina_dyshkant Вот что значит страшилка :D\\nНо блин,посмотрев все части,у тебя создастся ощущение,что авторы курили что-то :D   \n",
       "9                                                                                 ну любишь или нет? — Я не знаю кто ты бля:D http://t.co/brf9eNg1U6   \n",
       "...                                                                                                                                              ...   \n",
       "229811                                                                Спала в родительском доме, на своей кровати... Проснулась с кошкой на голове))   \n",
       "229813    RT @jebesilofyt: Эх... Мы немного решили сократить путь, сейчас уже лежу в мягкой кровати :) а с отсутствием сети помогла справится какая-   \n",
       "229815                        Что происходит со мной, когда в эфире #proactivefm звучит моя любимая песня)) #dctalk #music @… http://t.co/65KGFFd5oO   \n",
       "229817                                                            \"Любимая,я подарю тебе эту звезду...\" Имя какой звезды переводится \"подмышка\"? ;-)   \n",
       "229819                                                  @Ma_che_rie посмотри #непытайтесьпокинутьомск сегодня в Вавилоне в 18.20. Я там тоже есть :)   \n",
       "\n",
       "            dist  \n",
       "1       0.499397  \n",
       "3       0.499904  \n",
       "5       0.501577  \n",
       "7       0.499993  \n",
       "9       0.501012  \n",
       "...          ...  \n",
       "229811  0.499936  \n",
       "229813  0.501228  \n",
       "229815  0.503524  \n",
       "229817  0.501630  \n",
       "229819  0.499382  \n",
       "\n",
       "[114843 rows x 3 columns]"
      ]
     },
     "execution_count": 77,
     "metadata": {},
     "output_type": "execute_result"
    }
   ],
   "source": [
    "data_dist[ data_dist['dist'].between(.49,.60) & (data_dist['ttext_L']!=data_dist['ttext_R']) ]"
   ]
  },
  {
   "cell_type": "code",
   "execution_count": null,
   "metadata": {},
   "outputs": [],
   "source": []
  }
 ],
 "metadata": {
  "kernelspec": {
   "display_name": "Python 3",
   "language": "python",
   "name": "python3"
  },
  "language_info": {
   "codemirror_mode": {
    "name": "ipython",
    "version": 3
   },
   "file_extension": ".py",
   "mimetype": "text/x-python",
   "name": "python",
   "nbconvert_exporter": "python",
   "pygments_lexer": "ipython3",
   "version": "3.9.1"
  },
  "toc": {
   "base_numbering": 1,
   "nav_menu": {},
   "number_sections": true,
   "sideBar": true,
   "skip_h1_title": false,
   "title_cell": "Table of Contents",
   "title_sidebar": "Contents",
   "toc_cell": false,
   "toc_position": {},
   "toc_section_display": "block",
   "toc_window_display": false
  }
 },
 "nbformat": 4,
 "nbformat_minor": 4
}
