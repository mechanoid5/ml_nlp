{
 "cells": [
  {
   "cell_type": "markdown",
   "metadata": {},
   "source": [
    "**классификатор текстов LSTM на Keras+TensorFlow**\n",
    "\n",
    "Евгений Борисов <borisov.e@solarl.ru>"
   ]
  },
  {
   "cell_type": "markdown",
   "metadata": {},
   "source": [
    "https://habr.com/ru/company/dca/blog/274027/    \n",
    "http://help.sentiment140.com/for-students/   \n",
    "http://study.mokoron.com  "
   ]
  },
  {
   "cell_type": "markdown",
   "metadata": {},
   "source": [
    "## Библиотеки"
   ]
  },
  {
   "cell_type": "code",
   "execution_count": 1,
   "metadata": {},
   "outputs": [],
   "source": [
    "import numpy as np\n",
    "import pandas as pd\n",
    "pd.options.display.max_colwidth = 200  \n",
    "import re\n",
    "# import gzip\n",
    "from tqdm import tqdm"
   ]
  },
  {
   "cell_type": "code",
   "execution_count": 2,
   "metadata": {},
   "outputs": [],
   "source": [
    "tqdm.pandas()"
   ]
  },
  {
   "cell_type": "code",
   "execution_count": 3,
   "metadata": {},
   "outputs": [],
   "source": [
    "def pp(d): return \"{:,.0f}\".format(d).replace(\",\", \" \")\n",
    "def ppr(d): print('записей:', pp(len(d)) )  "
   ]
  },
  {
   "cell_type": "markdown",
   "metadata": {},
   "source": [
    "## Данные"
   ]
  },
  {
   "cell_type": "raw",
   "metadata": {},
   "source": [
    "Ю. В. Рубцова. Построение корпуса текстов для настройки тонового классификатора // Программные продукты и системы, 2015, №1(109), –С.72-78\n",
    "\n",
    "http://study.mokoron.com\n",
    "\n",
    "– id: уникальный номер сообщения в системе twitter;\n",
    "– tdate: дата публикации сообщения (твита);\n",
    "– tmane: имя пользователя, опубликовавшего сообщение;\n",
    "– ttext:  текст сообщения (твита);\n",
    "– ttype: поле в котором в дальнейшем будет указано к кому классу относится твит (положительный, отрицательный, нейтральный);\n",
    "– trep: количество реплаев к данному сообщению. В настоящий момент API твиттера не отдает эту информацию;\n",
    "– tfav: число сколько раз данное сообщение было добавлено в избранное другими пользователями;\n",
    "– tstcount: число всех сообщений пользователя в сети twitter;\n",
    "– tfol: количество фоловеров пользователя (тех людей, которые читают пользователя);\n",
    "– tfrien: количество друзей пользователя (те люди, которых читает пользователь);\n",
    "– listcount: количество листов-подписок в которые добавлен твиттер-пользователь."
   ]
  },
  {
   "cell_type": "code",
   "execution_count": 4,
   "metadata": {},
   "outputs": [],
   "source": [
    "ff = ['id', 'tdate', 'tmane', 'ttext', 'ttype', 'trep', 'tfav', 'tstcount', 'tfol', 'tfrien', 'listcount','unk']"
   ]
  },
  {
   "cell_type": "code",
   "execution_count": 5,
   "metadata": {},
   "outputs": [
    {
     "name": "stdout",
     "output_type": "stream",
     "text": [
      "записей: 114 911\n"
     ]
    },
    {
     "data": {
      "text/html": [
       "<div>\n",
       "<style scoped>\n",
       "    .dataframe tbody tr th:only-of-type {\n",
       "        vertical-align: middle;\n",
       "    }\n",
       "\n",
       "    .dataframe tbody tr th {\n",
       "        vertical-align: top;\n",
       "    }\n",
       "\n",
       "    .dataframe thead th {\n",
       "        text-align: right;\n",
       "    }\n",
       "</style>\n",
       "<table border=\"1\" class=\"dataframe\">\n",
       "  <thead>\n",
       "    <tr style=\"text-align: right;\">\n",
       "      <th></th>\n",
       "      <th>id</th>\n",
       "      <th>tdate</th>\n",
       "      <th>tmane</th>\n",
       "      <th>ttext</th>\n",
       "      <th>ttype</th>\n",
       "      <th>trep</th>\n",
       "      <th>tfav</th>\n",
       "      <th>tstcount</th>\n",
       "      <th>tfol</th>\n",
       "      <th>tfrien</th>\n",
       "      <th>listcount</th>\n",
       "      <th>unk</th>\n",
       "    </tr>\n",
       "  </thead>\n",
       "  <tbody>\n",
       "    <tr>\n",
       "      <th>111417</th>\n",
       "      <td>411201915981402112</td>\n",
       "      <td>1386873151</td>\n",
       "      <td>katia_saccc</td>\n",
       "      <td>RT @super__telka: И как на истории угорали, и альфия нам дафига двоек ставила:D</td>\n",
       "      <td>1</td>\n",
       "      <td>0</td>\n",
       "      <td>1</td>\n",
       "      <td>0</td>\n",
       "      <td>5118</td>\n",
       "      <td>46</td>\n",
       "      <td>39</td>\n",
       "      <td>0</td>\n",
       "    </tr>\n",
       "    <tr>\n",
       "      <th>51550</th>\n",
       "      <td>410046757339693056</td>\n",
       "      <td>1386597739</td>\n",
       "      <td>dvk_a</td>\n",
       "      <td>RT @_Nastya_Foster: Приезжала домой,вернули с Дашкой традицию готовить вместе:*</td>\n",
       "      <td>1</td>\n",
       "      <td>0</td>\n",
       "      <td>1</td>\n",
       "      <td>0</td>\n",
       "      <td>8328</td>\n",
       "      <td>855</td>\n",
       "      <td>536</td>\n",
       "      <td>4</td>\n",
       "    </tr>\n",
       "    <tr>\n",
       "      <th>59458</th>\n",
       "      <td>410139462178725889</td>\n",
       "      <td>1386619842</td>\n",
       "      <td>White_Cat_23</td>\n",
       "      <td>RT @NKazanceva: ураааа сегодня ужеее год как я с Кирюшей:******* http://t.co/Q2tNtzxgrw</td>\n",
       "      <td>1</td>\n",
       "      <td>0</td>\n",
       "      <td>1</td>\n",
       "      <td>0</td>\n",
       "      <td>1</td>\n",
       "      <td>0</td>\n",
       "      <td>16</td>\n",
       "      <td>0</td>\n",
       "    </tr>\n",
       "  </tbody>\n",
       "</table>\n",
       "</div>"
      ],
      "text/plain": [
       "                        id       tdate         tmane  \\\n",
       "111417  411201915981402112  1386873151   katia_saccc   \n",
       "51550   410046757339693056  1386597739         dvk_a   \n",
       "59458   410139462178725889  1386619842  White_Cat_23   \n",
       "\n",
       "                                                                                          ttext  \\\n",
       "111417          RT @super__telka: И как на истории угорали, и альфия нам дафига двоек ставила:D   \n",
       "51550           RT @_Nastya_Foster: Приезжала домой,вернули с Дашкой традицию готовить вместе:*   \n",
       "59458   RT @NKazanceva: ураааа сегодня ужеее год как я с Кирюшей:******* http://t.co/Q2tNtzxgrw   \n",
       "\n",
       "        ttype  trep  tfav  tstcount  tfol  tfrien  listcount  unk  \n",
       "111417      1     0     1         0  5118      46         39    0  \n",
       "51550       1     0     1         0  8328     855        536    4  \n",
       "59458       1     0     1         0     1       0         16    0  "
      ]
     },
     "execution_count": 5,
     "metadata": {},
     "output_type": "execute_result"
    }
   ],
   "source": [
    "data = pd.read_csv('../data/twit/positive.csv.gz',sep=';',header=None)\n",
    "data.columns = ff\n",
    "ppr(data)\n",
    "data.sample(3)"
   ]
  },
  {
   "cell_type": "code",
   "execution_count": 6,
   "metadata": {},
   "outputs": [
    {
     "data": {
      "text/html": [
       "<div>\n",
       "<style scoped>\n",
       "    .dataframe tbody tr th:only-of-type {\n",
       "        vertical-align: middle;\n",
       "    }\n",
       "\n",
       "    .dataframe tbody tr th {\n",
       "        vertical-align: top;\n",
       "    }\n",
       "\n",
       "    .dataframe thead th {\n",
       "        text-align: right;\n",
       "    }\n",
       "</style>\n",
       "<table border=\"1\" class=\"dataframe\">\n",
       "  <thead>\n",
       "    <tr style=\"text-align: right;\">\n",
       "      <th></th>\n",
       "      <th>id</th>\n",
       "      <th>ttext</th>\n",
       "    </tr>\n",
       "  </thead>\n",
       "  <tbody>\n",
       "    <tr>\n",
       "      <th>58502</th>\n",
       "      <td>410131885554409472</td>\n",
       "      <td>@Satirka я просто разлюбила этот праздник. И все остальные. Так проще:)</td>\n",
       "    </tr>\n",
       "    <tr>\n",
       "      <th>73873</th>\n",
       "      <td>410626980556468224</td>\n",
       "      <td>Наконец-то вспомнила пароль от твиттера!!!Ну привеееет)</td>\n",
       "    </tr>\n",
       "    <tr>\n",
       "      <th>44032</th>\n",
       "      <td>409972189996134401</td>\n",
       "      <td>Пришло время фоток с Елками+огоньки)))ну давайте, я жду!)</td>\n",
       "    </tr>\n",
       "  </tbody>\n",
       "</table>\n",
       "</div>"
      ],
      "text/plain": [
       "                       id  \\\n",
       "58502  410131885554409472   \n",
       "73873  410626980556468224   \n",
       "44032  409972189996134401   \n",
       "\n",
       "                                                                         ttext  \n",
       "58502  @Satirka я просто разлюбила этот праздник. И все остальные. Так проще:)  \n",
       "73873                  Наконец-то вспомнила пароль от твиттера!!!Ну привеееет)  \n",
       "44032                Пришло время фоток с Елками+огоньки)))ну давайте, я жду!)  "
      ]
     },
     "execution_count": 6,
     "metadata": {},
     "output_type": "execute_result"
    }
   ],
   "source": [
    "data = data[['id','ttext']]\n",
    "data.sample(3)"
   ]
  },
  {
   "cell_type": "code",
   "execution_count": 7,
   "metadata": {},
   "outputs": [],
   "source": [
    "assert len(data['id']) == len(set(data['id']))"
   ]
  },
  {
   "cell_type": "code",
   "execution_count": 8,
   "metadata": {},
   "outputs": [],
   "source": [
    "# data.dtypes"
   ]
  },
  {
   "cell_type": "markdown",
   "metadata": {},
   "source": [
    "## очистка данных"
   ]
  },
  {
   "cell_type": "code",
   "execution_count": 9,
   "metadata": {},
   "outputs": [
    {
     "name": "stderr",
     "output_type": "stream",
     "text": [
      "100%|██████████| 114911/114911 [00:00<00:00, 178455.68it/s]\n",
      "100%|██████████| 114911/114911 [00:01<00:00, 68799.92it/s]\n",
      "100%|██████████| 114911/114911 [00:01<00:00, 71276.44it/s]\n",
      "100%|██████████| 114911/114911 [00:01<00:00, 74890.45it/s]\n",
      "100%|██████████| 114911/114911 [00:01<00:00, 68822.99it/s]\n",
      "100%|██████████| 114911/114911 [00:01<00:00, 79237.69it/s]\n",
      "100%|██████████| 114911/114911 [00:01<00:00, 78422.08it/s]\n"
     ]
    }
   ],
   "source": [
    "data['ttext_clean'] = data['ttext']\\\n",
    "    .progress_apply(lambda t:[ w.strip() for w in t.split() if w.strip() ] )\\\n",
    "    .progress_apply(lambda t:[ re.sub(r'^http.*',' url ', w.strip() ) for w in t ] )\\\n",
    "    .progress_apply(lambda t:[ re.sub(r'[:;]-*[)D]',' happysmile ', w.strip() )for w in t ])\\\n",
    "    .progress_apply(lambda t:[ re.sub(r'\\)\\)\\)*',' happysmile ', w.strip() ) for w in t ])\\\n",
    "    .progress_apply(lambda t:[ re.sub(r'[:;]\\*',' kisssmile ', w.strip() ) for w in t ])\\\n",
    "    .progress_apply(lambda t:[ re.sub(r':\\(',' sadsmile ', w.strip() ) for w in t ])\\\n",
    "    .progress_apply(lambda t:[ re.sub(r'\\(\\(\\(*',' sadsmile ', w.strip() ) for w in t ])"
   ]
  },
  {
   "cell_type": "code",
   "execution_count": 10,
   "metadata": {},
   "outputs": [],
   "source": [
    "data['ttext_clean'] = [ ' '.join(s) for s in data['ttext_clean'] ]"
   ]
  },
  {
   "cell_type": "code",
   "execution_count": 11,
   "metadata": {},
   "outputs": [
    {
     "name": "stderr",
     "output_type": "stream",
     "text": [
      "100%|██████████| 114911/114911 [00:00<00:00, 133553.18it/s]\n",
      "100%|██████████| 114911/114911 [00:00<00:00, 430388.33it/s]\n",
      "100%|██████████| 114911/114911 [00:00<00:00, 208076.28it/s]\n",
      "100%|██████████| 114911/114911 [00:00<00:00, 187518.93it/s]\n",
      "100%|██████████| 114911/114911 [00:01<00:00, 62227.08it/s]\n"
     ]
    }
   ],
   "source": [
    "data['ttext_clean'] = data['ttext_clean'].str.lower()\\\n",
    "    .progress_apply(lambda s: re.sub( r'\\W', ' ', s))\\\n",
    "    .progress_apply(lambda s: re.sub( r'_', ' ', s))\\\n",
    "    .progress_apply(lambda s: re.sub( r'\\b\\d+\\b', ' digit ', s))\\\n",
    "    .progress_apply(lambda t:[ w.strip() for w in t.split() if w.strip() ] )\\\n",
    "    .progress_apply(lambda t: [w for w in t if not re.match( r'\\b.*\\d+.*\\b', w) ])"
   ]
  },
  {
   "cell_type": "code",
   "execution_count": 12,
   "metadata": {},
   "outputs": [
    {
     "data": {
      "text/html": [
       "<div>\n",
       "<style scoped>\n",
       "    .dataframe tbody tr th:only-of-type {\n",
       "        vertical-align: middle;\n",
       "    }\n",
       "\n",
       "    .dataframe tbody tr th {\n",
       "        vertical-align: top;\n",
       "    }\n",
       "\n",
       "    .dataframe thead th {\n",
       "        text-align: right;\n",
       "    }\n",
       "</style>\n",
       "<table border=\"1\" class=\"dataframe\">\n",
       "  <thead>\n",
       "    <tr style=\"text-align: right;\">\n",
       "      <th></th>\n",
       "      <th>id</th>\n",
       "      <th>ttext</th>\n",
       "      <th>ttext_clean</th>\n",
       "    </tr>\n",
       "  </thead>\n",
       "  <tbody>\n",
       "    <tr>\n",
       "      <th>31054</th>\n",
       "      <td>409650117168611328</td>\n",
       "      <td>RT @YanochkaTsar: Хахахах) Резюлька зашла на пять сек забрать чехол, протрындели час:D #типичные_бабы</td>\n",
       "      <td>[rt, yanochkatsar, хахахах, резюлька, зашла, на, пять, сек, забрать, чехол, протрындели, час, happysmile, типичные, бабы]</td>\n",
       "    </tr>\n",
       "    <tr>\n",
       "      <th>30634</th>\n",
       "      <td>409644580767019008</td>\n",
       "      <td>офигенно выспалась#пол дня проспала,@Kirill_Korn ты проснулся?)</td>\n",
       "      <td>[офигенно, выспалась, пол, дня, проспала, kirill, korn, ты, проснулся]</td>\n",
       "    </tr>\n",
       "    <tr>\n",
       "      <th>38657</th>\n",
       "      <td>409887691279728640</td>\n",
       "      <td>@sugarsugar_mmm с возрастом всё чаще понимаешь, при наличии альтернатив, всё равно всегда лучшим выбором была бы водка. Умеренно конечно же)</td>\n",
       "      <td>[sugarsugar, mmm, с, возрастом, всё, чаще, понимаешь, при, наличии, альтернатив, всё, равно, всегда, лучшим, выбором, была, бы, водка, умеренно, конечно, же]</td>\n",
       "    </tr>\n",
       "  </tbody>\n",
       "</table>\n",
       "</div>"
      ],
      "text/plain": [
       "                       id  \\\n",
       "31054  409650117168611328   \n",
       "30634  409644580767019008   \n",
       "38657  409887691279728640   \n",
       "\n",
       "                                                                                                                                              ttext  \\\n",
       "31054                                         RT @YanochkaTsar: Хахахах) Резюлька зашла на пять сек забрать чехол, протрындели час:D #типичные_бабы   \n",
       "30634                                                                               офигенно выспалась#пол дня проспала,@Kirill_Korn ты проснулся?)   \n",
       "38657  @sugarsugar_mmm с возрастом всё чаще понимаешь, при наличии альтернатив, всё равно всегда лучшим выбором была бы водка. Умеренно конечно же)   \n",
       "\n",
       "                                                                                                                                                         ttext_clean  \n",
       "31054                                      [rt, yanochkatsar, хахахах, резюлька, зашла, на, пять, сек, забрать, чехол, протрындели, час, happysmile, типичные, бабы]  \n",
       "30634                                                                                         [офигенно, выспалась, пол, дня, проспала, kirill, korn, ты, проснулся]  \n",
       "38657  [sugarsugar, mmm, с, возрастом, всё, чаще, понимаешь, при, наличии, альтернатив, всё, равно, всегда, лучшим, выбором, была, бы, водка, умеренно, конечно, же]  "
      ]
     },
     "execution_count": 12,
     "metadata": {},
     "output_type": "execute_result"
    }
   ],
   "source": [
    "data.sample(3)"
   ]
  },
  {
   "cell_type": "code",
   "execution_count": 13,
   "metadata": {},
   "outputs": [],
   "source": [
    "# удаление коротких слов\n",
    "# data['ttext_clean'] = data['ttext_clean'].progress_apply(lambda t:[w for w in t if len(w)>2])"
   ]
  },
  {
   "cell_type": "code",
   "execution_count": 14,
   "metadata": {},
   "outputs": [
    {
     "name": "stdout",
     "output_type": "stream",
     "text": [
      "записей: 114 911\n",
      "записей: 114 911\n"
     ]
    }
   ],
   "source": [
    "ppr(data)\n",
    "data = data[ data['ttext_clean'].str.len()>0 ].reset_index(drop=True) \n",
    "ppr(data)"
   ]
  },
  {
   "cell_type": "code",
   "execution_count": 15,
   "metadata": {},
   "outputs": [
    {
     "data": {
      "text/html": [
       "<div>\n",
       "<style scoped>\n",
       "    .dataframe tbody tr th:only-of-type {\n",
       "        vertical-align: middle;\n",
       "    }\n",
       "\n",
       "    .dataframe tbody tr th {\n",
       "        vertical-align: top;\n",
       "    }\n",
       "\n",
       "    .dataframe thead th {\n",
       "        text-align: right;\n",
       "    }\n",
       "</style>\n",
       "<table border=\"1\" class=\"dataframe\">\n",
       "  <thead>\n",
       "    <tr style=\"text-align: right;\">\n",
       "      <th></th>\n",
       "      <th>id</th>\n",
       "      <th>ttext</th>\n",
       "      <th>ttext_clean</th>\n",
       "    </tr>\n",
       "  </thead>\n",
       "  <tbody>\n",
       "    <tr>\n",
       "      <th>29706</th>\n",
       "      <td>409630116617011200</td>\n",
       "      <td>@KseniaKozchenko #последнийкруг\\nя бы ей отдала последний круг! предательство не прощается!хотя к черту её))) пусть потом не удивляется;)</td>\n",
       "      <td>[kseniakozchenko, последнийкруг, я, бы, ей, отдала, последний, круг, предательство, не, прощается, хотя, к, черту, её, happysmile, пусть, потом, не, удивляется, happysmile]</td>\n",
       "    </tr>\n",
       "    <tr>\n",
       "      <th>64241</th>\n",
       "      <td>410357065459458048</td>\n",
       "      <td>RT @mekazopyjaf: для тех кто в теме: не забудьте поздравить тимура)</td>\n",
       "      <td>[rt, mekazopyjaf, для, тех, кто, в, теме, не, забудьте, поздравить, тимура]</td>\n",
       "    </tr>\n",
       "    <tr>\n",
       "      <th>68388</th>\n",
       "      <td>410401416008982528</td>\n",
       "      <td>RT @Shelepova19: @despair_dd эта женщина решила свести меня с Кан Гэри :DD</td>\n",
       "      <td>[rt, despair, dd, эта, женщина, решила, свести, меня, с, кан, гэри, happysmile, d]</td>\n",
       "    </tr>\n",
       "  </tbody>\n",
       "</table>\n",
       "</div>"
      ],
      "text/plain": [
       "                       id  \\\n",
       "29706  409630116617011200   \n",
       "64241  410357065459458048   \n",
       "68388  410401416008982528   \n",
       "\n",
       "                                                                                                                                           ttext  \\\n",
       "29706  @KseniaKozchenko #последнийкруг\\nя бы ей отдала последний круг! предательство не прощается!хотя к черту её))) пусть потом не удивляется;)   \n",
       "64241                                                                        RT @mekazopyjaf: для тех кто в теме: не забудьте поздравить тимура)   \n",
       "68388                                                                 RT @Shelepova19: @despair_dd эта женщина решила свести меня с Кан Гэри :DD   \n",
       "\n",
       "                                                                                                                                                                        ttext_clean  \n",
       "29706  [kseniakozchenko, последнийкруг, я, бы, ей, отдала, последний, круг, предательство, не, прощается, хотя, к, черту, её, happysmile, пусть, потом, не, удивляется, happysmile]  \n",
       "64241                                                                                                   [rt, mekazopyjaf, для, тех, кто, в, теме, не, забудьте, поздравить, тимура]  \n",
       "68388                                                                                            [rt, despair, dd, эта, женщина, решила, свести, меня, с, кан, гэри, happysmile, d]  "
      ]
     },
     "execution_count": 15,
     "metadata": {},
     "output_type": "execute_result"
    }
   ],
   "source": [
    "data.sample(3)"
   ]
  },
  {
   "cell_type": "code",
   "execution_count": 16,
   "metadata": {},
   "outputs": [
    {
     "name": "stdout",
     "output_type": "stream",
     "text": [
      "записей: 166 099\n"
     ]
    }
   ],
   "source": [
    "words = sorted(set.union( *data['ttext_clean'].apply(set) ))\n",
    "voc = { w:i+1 for i,w in enumerate(words) }\n",
    "voc['<pad>']= 0\n",
    "ppr(voc)"
   ]
  },
  {
   "cell_type": "code",
   "execution_count": 17,
   "metadata": {},
   "outputs": [],
   "source": [
    "# voc = sorted(set.union(*[ set(s) for s in data['ttext_clean'].values.tolist() ]))\n",
    "# voc = { w:i+1 for i,w in enumerate(voc) }\n",
    "# voc['<pad>']= 0\n",
    "# ppr(voc)"
   ]
  },
  {
   "cell_type": "code",
   "execution_count": 18,
   "metadata": {},
   "outputs": [],
   "source": [
    "# voc"
   ]
  },
  {
   "cell_type": "markdown",
   "metadata": {},
   "source": [
    "## кодируем слова"
   ]
  },
  {
   "cell_type": "code",
   "execution_count": 19,
   "metadata": {},
   "outputs": [
    {
     "name": "stderr",
     "output_type": "stream",
     "text": [
      "100%|██████████| 114911/114911 [00:00<00:00, 166425.99it/s]\n"
     ]
    }
   ],
   "source": [
    "data['code'] = data['ttext_clean'].progress_apply(lambda t: [ voc[w] for w in t] )"
   ]
  },
  {
   "cell_type": "code",
   "execution_count": 20,
   "metadata": {},
   "outputs": [
    {
     "data": {
      "text/html": [
       "<div>\n",
       "<style scoped>\n",
       "    .dataframe tbody tr th:only-of-type {\n",
       "        vertical-align: middle;\n",
       "    }\n",
       "\n",
       "    .dataframe tbody tr th {\n",
       "        vertical-align: top;\n",
       "    }\n",
       "\n",
       "    .dataframe thead th {\n",
       "        text-align: right;\n",
       "    }\n",
       "</style>\n",
       "<table border=\"1\" class=\"dataframe\">\n",
       "  <thead>\n",
       "    <tr style=\"text-align: right;\">\n",
       "      <th></th>\n",
       "      <th>ttext</th>\n",
       "      <th>ttext_clean</th>\n",
       "      <th>code</th>\n",
       "    </tr>\n",
       "  </thead>\n",
       "  <tbody>\n",
       "    <tr>\n",
       "      <th>90991</th>\n",
       "      <td>И кстати мне нужен pr-щик. Есть кто? Также с радостью услышу рекомендации, кого советуете схантить :)</td>\n",
       "      <td>[и, кстати, мне, нужен, pr, щик, есть, кто, также, с, радостью, услышу, рекомендации, кого, советуете, схантить, happysmile]</td>\n",
       "      <td>[79635, 89090, 96611, 104886, 32158, 163176, 72882, 89131, 146295, 134675, 129850, 153603, 132594, 85638, 140592, 145328, 14801]</td>\n",
       "    </tr>\n",
       "    <tr>\n",
       "      <th>39279</th>\n",
       "      <td>@EmilyHolden_  ихих, теперь кажется все пучком и будет)\\nспасибо</td>\n",
       "      <td>[emilyholden, ихих, теперь, кажется, все, пучком, и, будет, спасибо]</td>\n",
       "      <td>[11165, 82175, 147655, 82609, 60484, 129101, 79635, 54799, 142093]</td>\n",
       "    </tr>\n",
       "    <tr>\n",
       "      <th>67421</th>\n",
       "      <td>@marself526645 ахах спасибо\\nОпять же, каких шедевров не вытворишь со скуки :D</td>\n",
       "      <td>[ахах, спасибо, опять, же, каких, шедевров, не, вытворишь, со, скуки, happysmile]</td>\n",
       "      <td>[49482, 142093, 108770, 73318, 82814, 161878, 101792, 62720, 140293, 138686, 14801]</td>\n",
       "    </tr>\n",
       "  </tbody>\n",
       "</table>\n",
       "</div>"
      ],
      "text/plain": [
       "                                                                                                       ttext  \\\n",
       "90991  И кстати мне нужен pr-щик. Есть кто? Также с радостью услышу рекомендации, кого советуете схантить :)   \n",
       "39279                                       @EmilyHolden_  ихих, теперь кажется все пучком и будет)\\nспасибо   \n",
       "67421                         @marself526645 ахах спасибо\\nОпять же, каких шедевров не вытворишь со скуки :D   \n",
       "\n",
       "                                                                                                                        ttext_clean  \\\n",
       "90991  [и, кстати, мне, нужен, pr, щик, есть, кто, также, с, радостью, услышу, рекомендации, кого, советуете, схантить, happysmile]   \n",
       "39279                                                          [emilyholden, ихих, теперь, кажется, все, пучком, и, будет, спасибо]   \n",
       "67421                                             [ахах, спасибо, опять, же, каких, шедевров, не, вытворишь, со, скуки, happysmile]   \n",
       "\n",
       "                                                                                                                                   code  \n",
       "90991  [79635, 89090, 96611, 104886, 32158, 163176, 72882, 89131, 146295, 134675, 129850, 153603, 132594, 85638, 140592, 145328, 14801]  \n",
       "39279                                                                [11165, 82175, 147655, 82609, 60484, 129101, 79635, 54799, 142093]  \n",
       "67421                                               [49482, 142093, 108770, 73318, 82814, 161878, 101792, 62720, 140293, 138686, 14801]  "
      ]
     },
     "execution_count": 20,
     "metadata": {},
     "output_type": "execute_result"
    }
   ],
   "source": [
    "data[['ttext','ttext_clean','code']].sample(3)"
   ]
  },
  {
   "cell_type": "code",
   "execution_count": 21,
   "metadata": {},
   "outputs": [
    {
     "data": {
      "text/plain": [
       "count    114911\n",
       "mean         13\n",
       "std           4\n",
       "min           1\n",
       "25%          10\n",
       "50%          13\n",
       "75%          17\n",
       "max          42\n",
       "Name: code, dtype: int64"
      ]
     },
     "execution_count": 21,
     "metadata": {},
     "output_type": "execute_result"
    }
   ],
   "source": [
    "# оценка размеров последовательнистей\n",
    "data['code'].str.len().describe().astype(int)"
   ]
  },
  {
   "cell_type": "code",
   "execution_count": 22,
   "metadata": {},
   "outputs": [
    {
     "data": {
      "text/plain": [
       "<AxesSubplot:ylabel='Frequency'>"
      ]
     },
     "execution_count": 22,
     "metadata": {},
     "output_type": "execute_result"
    },
    {
     "data": {
      "image/png": "[encoded data removed]",
      "text/plain": [
       "<Figure size 432x288 with 1 Axes>"
      ]
     },
     "metadata": {
      "needs_background": "light"
     },
     "output_type": "display_data"
    }
   ],
   "source": [
    "data['code'].str.len().plot.hist()"
   ]
  },
  {
   "cell_type": "code",
   "execution_count": 23,
   "metadata": {},
   "outputs": [
    {
     "data": {
      "text/plain": [
       "42"
      ]
     },
     "execution_count": 23,
     "metadata": {},
     "output_type": "execute_result"
    }
   ],
   "source": [
    "# максимальная длина\n",
    "code_max_len = data['code'].str.len().max()\n",
    "code_max_len"
   ]
  },
  {
   "cell_type": "code",
   "execution_count": 24,
   "metadata": {},
   "outputs": [
    {
     "name": "stderr",
     "output_type": "stream",
     "text": [
      "100%|██████████| 114911/114911 [00:00<00:00, 246142.52it/s]\n"
     ]
    }
   ],
   "source": [
    "# дополняем короткие до максимальной длины\n",
    "z = [0]*code_max_len\n",
    "data['code'] = data['code'].progress_apply(lambda c: c+z[:(code_max_len-len(c))]  )"
   ]
  },
  {
   "cell_type": "code",
   "execution_count": 25,
   "metadata": {},
   "outputs": [
    {
     "data": {
      "text/plain": [
       "count    114911\n",
       "mean         42\n",
       "std           0\n",
       "min          42\n",
       "25%          42\n",
       "50%          42\n",
       "75%          42\n",
       "max          42\n",
       "Name: code, dtype: int64"
      ]
     },
     "execution_count": 25,
     "metadata": {},
     "output_type": "execute_result"
    }
   ],
   "source": [
    "data['code'].str.len().describe().astype(int)"
   ]
  },
  {
   "cell_type": "markdown",
   "metadata": {},
   "source": [
    "## строим датасет"
   ]
  },
  {
   "cell_type": "code",
   "execution_count": 26,
   "metadata": {},
   "outputs": [],
   "source": [
    "# pair = data[['id','id']]\n",
    "# pair.columns = ['id_l','id_r']\n",
    "# pair"
   ]
  },
  {
   "cell_type": "code",
   "execution_count": 27,
   "metadata": {},
   "outputs": [],
   "source": [
    "pair_neg = pd.DataFrame({\n",
    "'id_L':data['id'].iloc[:-1].tolist(),\n",
    "'id_R':data['id'].iloc[1:].tolist()\n",
    "})"
   ]
  },
  {
   "cell_type": "code",
   "execution_count": 28,
   "metadata": {},
   "outputs": [
    {
     "name": "stdout",
     "output_type": "stream",
     "text": [
      "записей: 114 910\n"
     ]
    }
   ],
   "source": [
    "# НЕпохожие пары\n",
    "pair_neg = pair_neg\\\n",
    "  .merge(data[['id','code']].rename(columns={'id':'id_L','code':'code_L'}), on=['id_L'] )\\\n",
    "  .merge(data[['id','code']].rename(columns={'id':'id_R','code':'code_R'}), on=['id_R'] )\n",
    "\n",
    "pair_neg['target'] = 0\n",
    "ppr(pair_neg)"
   ]
  },
  {
   "cell_type": "code",
   "execution_count": 29,
   "metadata": {},
   "outputs": [],
   "source": [
    "pair_pos = pd.DataFrame({\n",
    "'id_L':data['id'].tolist(),\n",
    "'id_R':data['id'].tolist()\n",
    "})"
   ]
  },
  {
   "cell_type": "code",
   "execution_count": 30,
   "metadata": {},
   "outputs": [
    {
     "name": "stdout",
     "output_type": "stream",
     "text": [
      "записей: 114 911\n"
     ]
    }
   ],
   "source": [
    "# похожие пары\n",
    "pair_pos = pair_pos\\\n",
    "  .merge(data[['id','code']].rename(columns={'id':'id_L','code':'code_L'}), on=['id_L'] )\\\n",
    "  .merge(data[['id','code']].rename(columns={'id':'id_R','code':'code_R'}), on=['id_R'] )\n",
    "\n",
    "pair_pos['target'] = 1\n",
    "ppr(pair_pos)"
   ]
  },
  {
   "cell_type": "code",
   "execution_count": 31,
   "metadata": {},
   "outputs": [
    {
     "name": "stdout",
     "output_type": "stream",
     "text": [
      "записей: 229 821\n"
     ]
    }
   ],
   "source": [
    "cols = ['code_L','code_R','target']\n",
    "dataset = pd.concat([\n",
    "        pair_pos[cols],\n",
    "        pair_neg[cols],\n",
    "    ],axis=0).reset_index(drop=True)\n",
    "ppr(dataset)"
   ]
  },
  {
   "cell_type": "code",
   "execution_count": 32,
   "metadata": {},
   "outputs": [
    {
     "data": {
      "text/plain": [
       "((229821, 42), (229821, 42), (229821, 1))"
      ]
     },
     "execution_count": 32,
     "metadata": {},
     "output_type": "execute_result"
    }
   ],
   "source": [
    "x_left  = np.vstack(dataset['code_L'].values)\n",
    "x_right = np.vstack(dataset['code_R'].values)\n",
    "target  = np.vstack(dataset['target'].values)\n",
    "\n",
    "x_left.shape,x_right.shape,target.shape"
   ]
  },
  {
   "cell_type": "code",
   "execution_count": null,
   "metadata": {},
   "outputs": [],
   "source": []
  },
  {
   "cell_type": "code",
   "execution_count": 33,
   "metadata": {},
   "outputs": [],
   "source": [
    "# размер вектора OHE для embeding слоя\n",
    "embed_input_dim = max([x_left.max(),x_right.max()]) + 1"
   ]
  },
  {
   "cell_type": "code",
   "execution_count": 34,
   "metadata": {},
   "outputs": [
    {
     "data": {
      "text/plain": [
       "((229821, 42), (229821, 42), (229821, 1), 166099)"
      ]
     },
     "execution_count": 34,
     "metadata": {},
     "output_type": "execute_result"
    }
   ],
   "source": [
    "x_left.shape, x_right.shape, target.shape, embed_input_dim"
   ]
  },
  {
   "cell_type": "code",
   "execution_count": 35,
   "metadata": {},
   "outputs": [],
   "source": [
    "# переворачиваем последовательности (нули дополнения вначале, первое слово в конце)\n",
    "x_left  = np.flip( x_left,  axis=1 )\n",
    "x_right = np.flip( x_right, axis=1 )"
   ]
  },
  {
   "cell_type": "code",
   "execution_count": 36,
   "metadata": {},
   "outputs": [
    {
     "data": {
      "text/plain": [
       "42"
      ]
     },
     "execution_count": 36,
     "metadata": {},
     "output_type": "execute_result"
    }
   ],
   "source": [
    "# длина последовательности слов \n",
    "seq_len = x_left.shape[1]\n",
    "seq_len"
   ]
  },
  {
   "cell_type": "code",
   "execution_count": 37,
   "metadata": {},
   "outputs": [],
   "source": [
    "from sklearn.model_selection import train_test_split\n",
    "from matplotlib import pyplot as plt"
   ]
  },
  {
   "cell_type": "code",
   "execution_count": 38,
   "metadata": {},
   "outputs": [
    {
     "data": {
      "text/plain": [
       "((114910, 84), (114910, 1), (114911, 84), (114911, 1))"
      ]
     },
     "execution_count": 38,
     "metadata": {},
     "output_type": "execute_result"
    }
   ],
   "source": [
    "# отделяем тестовый набор\n",
    "x_train, x_test, y_train, y_test = train_test_split( np.hstack([x_left,x_right]), target, test_size=.5)\n",
    "x_train.shape, y_train.shape, x_test.shape, y_test.shape"
   ]
  },
  {
   "cell_type": "code",
   "execution_count": 39,
   "metadata": {},
   "outputs": [
    {
     "data": {
      "text/plain": [
       "((114910, 42), (114910, 42), (114910,))"
      ]
     },
     "execution_count": 39,
     "metadata": {},
     "output_type": "execute_result"
    }
   ],
   "source": [
    "x_left_train, x_right_train = x_train[:,:seq_len],x_train[:,seq_len:]\n",
    "y_train = y_train.flatten()\n",
    "x_left_train.shape, x_right_train.shape, y_train.shape"
   ]
  },
  {
   "cell_type": "code",
   "execution_count": 40,
   "metadata": {},
   "outputs": [
    {
     "data": {
      "text/plain": [
       "((114911, 42), (114911, 42), (114911,))"
      ]
     },
     "execution_count": 40,
     "metadata": {},
     "output_type": "execute_result"
    }
   ],
   "source": [
    "x_left_test, x_right_test = x_test[:,:seq_len],x_test[:,seq_len:]\n",
    "y_test = y_test.flatten()\n",
    "x_left_test.shape, x_right_test.shape, y_test.shape"
   ]
  },
  {
   "cell_type": "code",
   "execution_count": 41,
   "metadata": {},
   "outputs": [],
   "source": [
    "%xdel x_left\n",
    "%xdel x_right\n",
    "%xdel target"
   ]
  },
  {
   "cell_type": "code",
   "execution_count": 42,
   "metadata": {},
   "outputs": [],
   "source": [
    "# gc.collect()"
   ]
  },
  {
   "cell_type": "code",
   "execution_count": 43,
   "metadata": {},
   "outputs": [],
   "source": [
    "# y_train.sum()/len(y_train), y_test.sum()/len(y_test)"
   ]
  },
  {
   "cell_type": "markdown",
   "metadata": {},
   "source": [
    "## модель"
   ]
  },
  {
   "cell_type": "code",
   "execution_count": 53,
   "metadata": {},
   "outputs": [
    {
     "data": {
      "text/plain": [
       "(166099, 32, 42)"
      ]
     },
     "execution_count": 53,
     "metadata": {},
     "output_type": "execute_result"
    }
   ],
   "source": [
    "embed_len = 32\n",
    "embed_input_dim, embed_len, seq_len"
   ]
  },
  {
   "cell_type": "code",
   "execution_count": 54,
   "metadata": {},
   "outputs": [
    {
     "data": {
      "text/plain": [
       "('2.4.1', '2.4.0')"
      ]
     },
     "execution_count": 54,
     "metadata": {},
     "output_type": "execute_result"
    }
   ],
   "source": [
    "from tensorflow import __version__ as tf_version\n",
    "from tensorflow.keras import __version__ as keras_version\n",
    "tf_version,keras_version"
   ]
  },
  {
   "cell_type": "code",
   "execution_count": 55,
   "metadata": {},
   "outputs": [],
   "source": [
    "from tensorflow.keras.models import Model\n",
    "from tensorflow.keras.layers import Input\n",
    "from tensorflow.keras.layers import Embedding\n",
    "from tensorflow.keras.layers import LSTM\n",
    "from tensorflow.keras.layers import Dense\n",
    "from tensorflow.keras.layers import Lambda\n",
    "from tensorflow.keras.optimizers import Adam\n",
    "from tensorflow.keras import backend as K\n",
    "from tensorflow.keras.utils import plot_model"
   ]
  },
  {
   "cell_type": "code",
   "execution_count": 56,
   "metadata": {},
   "outputs": [],
   "source": [
    "# import tensorflow.keras.backend as K\n",
    "# import tensorflow as tf\n",
    "def contrastive_loss(y, preds, margin=1):\n",
    "    # explicitly cast the true class label data type to the predicted\n",
    "    # class label data type (otherwise we run the risk of having two\n",
    "    # separate data types, causing TensorFlow to error out)\n",
    "    y = tf.cast(y, preds.dtype)\n",
    "    # calculate the contrastive loss between the true labels and\n",
    "    # the predicted labels\n",
    "    squaredPreds = K.square(preds)\n",
    "    squaredMargin = K.square(K.maximum(margin - preds, 0))\n",
    "    loss = K.mean(y * squaredPreds + (1 - y) * squaredMargin)\n",
    "    # return the computed contrastive loss to the calling function\n",
    "    return loss"
   ]
  },
  {
   "cell_type": "code",
   "execution_count": 57,
   "metadata": {},
   "outputs": [],
   "source": [
    "# from tensorflow_addons.losses import contrastive_loss"
   ]
  },
  {
   "cell_type": "code",
   "execution_count": 58,
   "metadata": {},
   "outputs": [],
   "source": [
    "# from tensorflow.keras.losses import contrastive_loss "
   ]
  },
  {
   "cell_type": "code",
   "execution_count": 59,
   "metadata": {},
   "outputs": [],
   "source": [
    "# from tensorflow.losses import contrastive_loss"
   ]
  },
  {
   "cell_type": "code",
   "execution_count": 60,
   "metadata": {},
   "outputs": [
    {
     "data": {
      "text/plain": [
       "(166099, 42, 32)"
      ]
     },
     "execution_count": 60,
     "metadata": {},
     "output_type": "execute_result"
    }
   ],
   "source": [
    "embed_input_dim,seq_len,embed_len"
   ]
  },
  {
   "cell_type": "code",
   "execution_count": 61,
   "metadata": {},
   "outputs": [],
   "source": [
    "embedding = Embedding(input_dim=embed_input_dim, input_length=seq_len, output_dim=embed_len, )"
   ]
  },
  {
   "cell_type": "code",
   "execution_count": 62,
   "metadata": {},
   "outputs": [
    {
     "name": "stdout",
     "output_type": "stream",
     "text": [
      "WARNING:tensorflow:Layer lstm will not use cuDNN kernel since it doesn't meet the cuDNN kernel criteria. It will use generic GPU kernel as fallback when running on GPU\n"
     ]
    }
   ],
   "source": [
    "lstm = LSTM(embed_len,activation='relu') "
   ]
  },
  {
   "cell_type": "code",
   "execution_count": null,
   "metadata": {},
   "outputs": [],
   "source": [
    "# Конструирование левой ветви модели: \n",
    "input_l = Input( shape=(seq_len,), dtype='int32')\n",
    "embedding_l = embedding(input_l)\n",
    "lstm_l = lstm(embedding_l)"
   ]
  },
  {
   "cell_type": "code",
   "execution_count": null,
   "metadata": {},
   "outputs": [],
   "source": [
    "# Конструирование правой ветви модели: \n",
    "input_r = Input(shape=(seq_len,), dtype='int32')\n",
    "embedding_r = embedding(input_r)\n",
    "lstm_r = lstm(embedding_r)"
   ]
  },
  {
   "cell_type": "code",
   "execution_count": null,
   "metadata": {},
   "outputs": [],
   "source": [
    "# # Getting the L1 Distance between the 2 encodings\n",
    "merged = Lambda(lambda t:K.abs(t[0]-t[1]),name='L1_distance')([lstm_l,lstm_r])"
   ]
  },
  {
   "cell_type": "code",
   "execution_count": null,
   "metadata": {},
   "outputs": [],
   "source": [
    "# Добавление классификатора\n",
    "predictions = Dense(1, activation='sigmoid')(merged)"
   ]
  },
  {
   "cell_type": "code",
   "execution_count": null,
   "metadata": {},
   "outputs": [],
   "source": [
    "# Создание и обучение модели:\n",
    "model = Model([input_l,input_r], predictions )"
   ]
  },
  {
   "cell_type": "code",
   "execution_count": null,
   "metadata": {
    "scrolled": true
   },
   "outputs": [],
   "source": [
    "plot_model(model,\n",
    "           #to_file=pjoin(FOLDER_RESULT,'model-embed-lstm.png'), \n",
    "           show_layer_names=True, show_shapes=True )\n",
    "# model.summary()"
   ]
  },
  {
   "cell_type": "code",
   "execution_count": null,
   "metadata": {},
   "outputs": [],
   "source": [
    "learning_rate = 9e-5\n",
    "model.compile(loss=contrastive_loss, metrics=['acc',], optimizer=Adam(learning_rate))"
   ]
  },
  {
   "cell_type": "code",
   "execution_count": null,
   "metadata": {},
   "outputs": [],
   "source": [
    "%%time\n",
    "\n",
    "n_epochs = 2\n",
    "\n",
    "history = model.fit( [x_left_train, x_right_train], y_train,\n",
    "           epochs = n_epochs,\n",
    "           batch_size = 4096,\n",
    "           validation_split=.2,\n",
    "         )"
   ]
  },
  {
   "cell_type": "code",
   "execution_count": null,
   "metadata": {},
   "outputs": [],
   "source": [
    "with open( pjoin(FOLDER_RESULT,'model-embed-lstm.json'), 'wt') as f: f.write( model.to_json() )\n",
    "model.save_weights( pjoin(FOLDER_RESULT,'model-embed-lstm-weights-%02d.h5'%(n_epochs) )) "
   ]
  },
  {
   "cell_type": "code",
   "execution_count": null,
   "metadata": {},
   "outputs": [],
   "source": [
    "# from tensorflow.keras.callbacks import EarlyStopping\n",
    "# from tensorflow.keras.callbacks import TensorBoard\n",
    "\n",
    "#            callbacks=[\n",
    "# #                        EarlyStopping(monitor='acc',baseline=.98, patience=2,), # restore_best_weights=True),\n",
    "#                        TensorBoard(log_dir='./logs'),\n",
    "#                      ],"
   ]
  },
  {
   "cell_type": "markdown",
   "metadata": {},
   "source": [
    "----"
   ]
  },
  {
   "cell_type": "code",
   "execution_count": null,
   "metadata": {},
   "outputs": [],
   "source": [
    "plt.plot(history.history['loss'],label='train loss')\n",
    "plt.plot(history.history['val_loss'],label='val loss')\n",
    "plt.legend()\n",
    "plt.grid()"
   ]
  },
  {
   "cell_type": "code",
   "execution_count": null,
   "metadata": {},
   "outputs": [],
   "source": [
    "plt.plot( np.array(history.history['acc']), label='train acc')\n",
    "plt.plot( np.array(history.history['val_acc']), label='val acc')\n",
    "plt.legend()\n",
    "plt.grid()"
   ]
  },
  {
   "cell_type": "code",
   "execution_count": null,
   "metadata": {},
   "outputs": [],
   "source": [
    "gc.collect()"
   ]
  },
  {
   "cell_type": "markdown",
   "metadata": {},
   "source": [
    "## тест"
   ]
  },
  {
   "cell_type": "code",
   "execution_count": null,
   "metadata": {},
   "outputs": [],
   "source": [
    "from sklearn.metrics import roc_curve\n",
    "from sklearn.metrics import auc\n",
    "from sklearn.metrics import accuracy_score\n",
    "# from sklearn.metrics import confusion_matrix\n",
    "# from sklearn.metrics import classification_report"
   ]
  },
  {
   "cell_type": "code",
   "execution_count": null,
   "metadata": {},
   "outputs": [],
   "source": [
    "def roc_auc_plot(y,p):\n",
    "    fpr, tpr, thresholds = roc_curve( y, p )\n",
    "    roc_auc = auc(fpr,tpr)\n",
    "\n",
    "    plt.figure()\n",
    "    plt.grid(True)\n",
    "    plt.plot(fpr, tpr, color='darkorange', lw=2, label='ROC curve (area = %0.2f)' % roc_auc)\n",
    "    plt.plot([0, 1], [0, 1], color='navy', lw=1, linestyle='--')\n",
    "    plt.xlabel('False Positive Rate')\n",
    "    plt.ylabel('True Positive Rate')\n",
    "    plt.title('Receiver operating characteristic example')\n",
    "    plt.legend(loc=\"lower right\")\n",
    "    plt.show()"
   ]
  },
  {
   "cell_type": "markdown",
   "metadata": {},
   "source": [
    "---"
   ]
  },
  {
   "cell_type": "code",
   "execution_count": null,
   "metadata": {},
   "outputs": [],
   "source": [
    "%%time \n",
    "\n",
    "p_train = model.predict([x_left_train, x_right_train])\n",
    "accuracy_score( y_train, (p_train<.6) )"
   ]
  },
  {
   "cell_type": "code",
   "execution_count": null,
   "metadata": {},
   "outputs": [],
   "source": [
    "pd.DataFrame(p_train).describe().T"
   ]
  },
  {
   "cell_type": "code",
   "execution_count": null,
   "metadata": {},
   "outputs": [],
   "source": [
    "roc_auc_plot(y_train, 1.-p_train)"
   ]
  },
  {
   "cell_type": "markdown",
   "metadata": {},
   "source": [
    "---"
   ]
  },
  {
   "cell_type": "code",
   "execution_count": null,
   "metadata": {},
   "outputs": [],
   "source": [
    "%%time \n",
    "\n",
    "p_test = model.predict([x_left_test, x_right_test])\n",
    "accuracy_score( y_test, (p_test<.6) )"
   ]
  },
  {
   "cell_type": "code",
   "execution_count": null,
   "metadata": {},
   "outputs": [],
   "source": [
    "pd.DataFrame(p_test).describe().T"
   ]
  },
  {
   "cell_type": "code",
   "execution_count": null,
   "metadata": {},
   "outputs": [],
   "source": [
    "roc_auc_plot(y_test, 1.-p_test)"
   ]
  },
  {
   "cell_type": "code",
   "execution_count": null,
   "metadata": {},
   "outputs": [],
   "source": []
  },
  {
   "cell_type": "code",
   "execution_count": null,
   "metadata": {},
   "outputs": [],
   "source": []
  }
 ],
 "metadata": {
  "kernelspec": {
   "display_name": "Python 3",
   "language": "python",
   "name": "python3"
  },
  "language_info": {
   "codemirror_mode": {
    "name": "ipython",
    "version": 3
   },
   "file_extension": ".py",
   "mimetype": "text/x-python",
   "name": "python",
   "nbconvert_exporter": "python",
   "pygments_lexer": "ipython3",
   "version": "3.9.2"
  },
  "toc": {
   "base_numbering": 1,
   "nav_menu": {},
   "number_sections": true,
   "sideBar": true,
   "skip_h1_title": false,
   "title_cell": "Table of Contents",
   "title_sidebar": "Contents",
   "toc_cell": false,
   "toc_position": {},
   "toc_section_display": "block",
   "toc_window_display": false
  }
 },
 "nbformat": 4,
 "nbformat_minor": 4
}
