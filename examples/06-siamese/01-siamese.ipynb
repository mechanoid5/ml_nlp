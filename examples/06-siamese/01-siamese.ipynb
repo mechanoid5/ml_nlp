{
 "cells": [
  {
   "cell_type": "markdown",
   "metadata": {},
   "source": [
    "**классификатор текстов LSTM на Keras+TensorFlow**\n",
    "\n",
    "Евгений Борисов <borisov.e@solarl.ru>"
   ]
  },
  {
   "cell_type": "markdown",
   "metadata": {},
   "source": [
    "https://habr.com/ru/company/dca/blog/274027/    \n",
    "http://help.sentiment140.com/for-students/   \n",
    "http://study.mokoron.com  "
   ]
  },
  {
   "cell_type": "markdown",
   "metadata": {},
   "source": [
    "## Библиотеки"
   ]
  },
  {
   "cell_type": "code",
   "execution_count": 1,
   "metadata": {},
   "outputs": [],
   "source": [
    "import numpy as np\n",
    "import pandas as pd\n",
    "pd.options.display.max_colwidth = 200  \n",
    "import re\n",
    "# import gzip\n",
    "from tqdm import tqdm"
   ]
  },
  {
   "cell_type": "code",
   "execution_count": 2,
   "metadata": {},
   "outputs": [],
   "source": [
    "tqdm.pandas()"
   ]
  },
  {
   "cell_type": "code",
   "execution_count": 3,
   "metadata": {},
   "outputs": [],
   "source": [
    "def pp(d): return \"{:,.0f}\".format(d).replace(\",\", \" \")\n",
    "def ppr(d): print('записей:', pp(len(d)) )  "
   ]
  },
  {
   "cell_type": "markdown",
   "metadata": {},
   "source": [
    "## Данные"
   ]
  },
  {
   "cell_type": "raw",
   "metadata": {},
   "source": [
    "Ю. В. Рубцова. Построение корпуса текстов для настройки тонового классификатора // Программные продукты и системы, 2015, №1(109), –С.72-78\n",
    "\n",
    "http://study.mokoron.com\n",
    "\n",
    "– id: уникальный номер сообщения в системе twitter;\n",
    "– tdate: дата публикации сообщения (твита);\n",
    "– tmane: имя пользователя, опубликовавшего сообщение;\n",
    "– ttext:  текст сообщения (твита);\n",
    "– ttype: поле в котором в дальнейшем будет указано к кому классу относится твит (положительный, отрицательный, нейтральный);\n",
    "– trep: количество реплаев к данному сообщению. В настоящий момент API твиттера не отдает эту информацию;\n",
    "– tfav: число сколько раз данное сообщение было добавлено в избранное другими пользователями;\n",
    "– tstcount: число всех сообщений пользователя в сети twitter;\n",
    "– tfol: количество фоловеров пользователя (тех людей, которые читают пользователя);\n",
    "– tfrien: количество друзей пользователя (те люди, которых читает пользователь);\n",
    "– listcount: количество листов-подписок в которые добавлен твиттер-пользователь."
   ]
  },
  {
   "cell_type": "code",
   "execution_count": 4,
   "metadata": {},
   "outputs": [],
   "source": [
    "ff = ['id', 'tdate', 'tmane', 'ttext', 'ttype', 'trep', 'tfav', 'tstcount', 'tfol', 'tfrien', 'listcount','unk']"
   ]
  },
  {
   "cell_type": "code",
   "execution_count": 5,
   "metadata": {},
   "outputs": [
    {
     "name": "stdout",
     "output_type": "stream",
     "text": [
      "записей: 114 911\n"
     ]
    },
    {
     "data": {
      "text/html": [
       "<div>\n",
       "<style scoped>\n",
       "    .dataframe tbody tr th:only-of-type {\n",
       "        vertical-align: middle;\n",
       "    }\n",
       "\n",
       "    .dataframe tbody tr th {\n",
       "        vertical-align: top;\n",
       "    }\n",
       "\n",
       "    .dataframe thead th {\n",
       "        text-align: right;\n",
       "    }\n",
       "</style>\n",
       "<table border=\"1\" class=\"dataframe\">\n",
       "  <thead>\n",
       "    <tr style=\"text-align: right;\">\n",
       "      <th></th>\n",
       "      <th>id</th>\n",
       "      <th>tdate</th>\n",
       "      <th>tmane</th>\n",
       "      <th>ttext</th>\n",
       "      <th>ttype</th>\n",
       "      <th>trep</th>\n",
       "      <th>tfav</th>\n",
       "      <th>tstcount</th>\n",
       "      <th>tfol</th>\n",
       "      <th>tfrien</th>\n",
       "      <th>listcount</th>\n",
       "      <th>unk</th>\n",
       "    </tr>\n",
       "  </thead>\n",
       "  <tbody>\n",
       "    <tr>\n",
       "      <th>23568</th>\n",
       "      <td>409497106542764032</td>\n",
       "      <td>1386466692</td>\n",
       "      <td>tujipunikuf</td>\n",
       "      <td>ща пошли тупые ники \"Рискни меня трахнуть\" я бы не рискнул=) или \"дрАчи в рАзетку\" с  http://t.co/WJz2IAAoo5</td>\n",
       "      <td>1</td>\n",
       "      <td>0</td>\n",
       "      <td>0</td>\n",
       "      <td>0</td>\n",
       "      <td>475</td>\n",
       "      <td>147</td>\n",
       "      <td>144</td>\n",
       "      <td>0</td>\n",
       "    </tr>\n",
       "    <tr>\n",
       "      <th>70055</th>\n",
       "      <td>410465808532267008</td>\n",
       "      <td>1386697649</td>\n",
       "      <td>anutka_yats</td>\n",
       "      <td>@botsmaaan видимо, сегодня все со стульев падают :)) особенно в каб. 130)</td>\n",
       "      <td>1</td>\n",
       "      <td>0</td>\n",
       "      <td>0</td>\n",
       "      <td>0</td>\n",
       "      <td>1077</td>\n",
       "      <td>36</td>\n",
       "      <td>36</td>\n",
       "      <td>0</td>\n",
       "    </tr>\n",
       "    <tr>\n",
       "      <th>58965</th>\n",
       "      <td>410135369385263104</td>\n",
       "      <td>1386618866</td>\n",
       "      <td>Sheva2506</td>\n",
       "      <td>Идём значит в кино , порт сити )) Натахуй, я,Танюша, Санечка)))* http://t.co/PnppFJ2GMW</td>\n",
       "      <td>1</td>\n",
       "      <td>0</td>\n",
       "      <td>0</td>\n",
       "      <td>0</td>\n",
       "      <td>192</td>\n",
       "      <td>16</td>\n",
       "      <td>16</td>\n",
       "      <td>0</td>\n",
       "    </tr>\n",
       "  </tbody>\n",
       "</table>\n",
       "</div>"
      ],
      "text/plain": [
       "                       id       tdate        tmane  \\\n",
       "23568  409497106542764032  1386466692  tujipunikuf   \n",
       "70055  410465808532267008  1386697649  anutka_yats   \n",
       "58965  410135369385263104  1386618866    Sheva2506   \n",
       "\n",
       "                                                                                                              ttext  \\\n",
       "23568  ща пошли тупые ники \"Рискни меня трахнуть\" я бы не рискнул=) или \"дрАчи в рАзетку\" с  http://t.co/WJz2IAAoo5   \n",
       "70055                                     @botsmaaan видимо, сегодня все со стульев падают :)) особенно в каб. 130)   \n",
       "58965                       Идём значит в кино , порт сити )) Натахуй, я,Танюша, Санечка)))* http://t.co/PnppFJ2GMW   \n",
       "\n",
       "       ttype  trep  tfav  tstcount  tfol  tfrien  listcount  unk  \n",
       "23568      1     0     0         0   475     147        144    0  \n",
       "70055      1     0     0         0  1077      36         36    0  \n",
       "58965      1     0     0         0   192      16         16    0  "
      ]
     },
     "execution_count": 5,
     "metadata": {},
     "output_type": "execute_result"
    }
   ],
   "source": [
    "data = pd.read_csv('../data/twit/positive.csv.gz',sep=';',header=None)\n",
    "data.columns = ff\n",
    "ppr(data)\n",
    "data.sample(3)"
   ]
  },
  {
   "cell_type": "code",
   "execution_count": 6,
   "metadata": {},
   "outputs": [
    {
     "data": {
      "text/html": [
       "<div>\n",
       "<style scoped>\n",
       "    .dataframe tbody tr th:only-of-type {\n",
       "        vertical-align: middle;\n",
       "    }\n",
       "\n",
       "    .dataframe tbody tr th {\n",
       "        vertical-align: top;\n",
       "    }\n",
       "\n",
       "    .dataframe thead th {\n",
       "        text-align: right;\n",
       "    }\n",
       "</style>\n",
       "<table border=\"1\" class=\"dataframe\">\n",
       "  <thead>\n",
       "    <tr style=\"text-align: right;\">\n",
       "      <th></th>\n",
       "      <th>id</th>\n",
       "      <th>ttext</th>\n",
       "    </tr>\n",
       "  </thead>\n",
       "  <tbody>\n",
       "    <tr>\n",
       "      <th>43048</th>\n",
       "      <td>409948048039477248</td>\n",
       "      <td>@kaspibank поменяйте поставщика вот на этого, тогда будет всем хорошо) http://t.co/AN1xYNwcHQ Как раз названия схожие)</td>\n",
       "    </tr>\n",
       "    <tr>\n",
       "      <th>17097</th>\n",
       "      <td>409367540201426946</td>\n",
       "      <td>@ashvetsov Купил? :) Интересно, где в таких шляпках таксисты щеголяют?</td>\n",
       "    </tr>\n",
       "    <tr>\n",
       "      <th>43964</th>\n",
       "      <td>409971564105707520</td>\n",
       "      <td>Фильм \"Мой парень-псих\" лишний раз доказывает,что музыка-лучшее лекарство..))</td>\n",
       "    </tr>\n",
       "  </tbody>\n",
       "</table>\n",
       "</div>"
      ],
      "text/plain": [
       "                       id  \\\n",
       "43048  409948048039477248   \n",
       "17097  409367540201426946   \n",
       "43964  409971564105707520   \n",
       "\n",
       "                                                                                                                        ttext  \n",
       "43048  @kaspibank поменяйте поставщика вот на этого, тогда будет всем хорошо) http://t.co/AN1xYNwcHQ Как раз названия схожие)  \n",
       "17097                                                  @ashvetsov Купил? :) Интересно, где в таких шляпках таксисты щеголяют?  \n",
       "43964                                           Фильм \"Мой парень-псих\" лишний раз доказывает,что музыка-лучшее лекарство..))  "
      ]
     },
     "execution_count": 6,
     "metadata": {},
     "output_type": "execute_result"
    }
   ],
   "source": [
    "data = data[['id','ttext']]\n",
    "data.sample(3)"
   ]
  },
  {
   "cell_type": "code",
   "execution_count": 7,
   "metadata": {},
   "outputs": [],
   "source": [
    "assert len(data['id']) == len(set(data['id']))"
   ]
  },
  {
   "cell_type": "code",
   "execution_count": 8,
   "metadata": {},
   "outputs": [],
   "source": [
    "# data.dtypes"
   ]
  },
  {
   "cell_type": "markdown",
   "metadata": {},
   "source": [
    "## очистка данных"
   ]
  },
  {
   "cell_type": "code",
   "execution_count": 9,
   "metadata": {},
   "outputs": [
    {
     "name": "stderr",
     "output_type": "stream",
     "text": [
      "100%|██████████| 114911/114911 [00:00<00:00, 188680.86it/s]\n",
      "100%|██████████| 114911/114911 [00:01<00:00, 70682.49it/s]\n",
      "100%|██████████| 114911/114911 [00:01<00:00, 77661.68it/s]\n",
      "100%|██████████| 114911/114911 [00:01<00:00, 79369.69it/s]\n",
      "100%|██████████| 114911/114911 [00:01<00:00, 73202.05it/s]\n",
      "100%|██████████| 114911/114911 [00:01<00:00, 82545.82it/s]\n",
      "100%|██████████| 114911/114911 [00:01<00:00, 81966.51it/s]\n"
     ]
    }
   ],
   "source": [
    "data['ttext_clean'] = data['ttext']\\\n",
    "    .progress_apply(lambda t:[ w.strip() for w in t.split() if w.strip() ] )\\\n",
    "    .progress_apply(lambda t:[ re.sub(r'^http.*',' url ', w.strip() ) for w in t ] )\\\n",
    "    .progress_apply(lambda t:[ re.sub(r'[:;]-*[)D]',' happysmile ', w.strip() )for w in t ])\\\n",
    "    .progress_apply(lambda t:[ re.sub(r'\\)\\)\\)*',' happysmile ', w.strip() ) for w in t ])\\\n",
    "    .progress_apply(lambda t:[ re.sub(r'[:;]\\*',' kisssmile ', w.strip() ) for w in t ])\\\n",
    "    .progress_apply(lambda t:[ re.sub(r':\\(',' sadsmile ', w.strip() ) for w in t ])\\\n",
    "    .progress_apply(lambda t:[ re.sub(r'\\(\\(\\(*',' sadsmile ', w.strip() ) for w in t ])"
   ]
  },
  {
   "cell_type": "code",
   "execution_count": 10,
   "metadata": {},
   "outputs": [],
   "source": [
    "data['ttext_clean'] = [ ' '.join(s) for s in data['ttext_clean'] ]"
   ]
  },
  {
   "cell_type": "code",
   "execution_count": 11,
   "metadata": {},
   "outputs": [
    {
     "name": "stderr",
     "output_type": "stream",
     "text": [
      "100%|██████████| 114911/114911 [00:00<00:00, 136252.84it/s]\n",
      "100%|██████████| 114911/114911 [00:00<00:00, 445679.95it/s]\n",
      "100%|██████████| 114911/114911 [00:00<00:00, 214628.58it/s]\n",
      "100%|██████████| 114911/114911 [00:00<00:00, 198357.76it/s]\n",
      "100%|██████████| 114911/114911 [00:01<00:00, 63968.43it/s]\n"
     ]
    }
   ],
   "source": [
    "data['ttext_clean'] = data['ttext_clean'].str.lower()\\\n",
    "    .progress_apply(lambda s: re.sub( r'\\W', ' ', s))\\\n",
    "    .progress_apply(lambda s: re.sub( r'_', ' ', s))\\\n",
    "    .progress_apply(lambda s: re.sub( r'\\b\\d+\\b', ' digit ', s))\\\n",
    "    .progress_apply(lambda t:[ w.strip() for w in t.split() if w.strip() ] )\\\n",
    "    .progress_apply(lambda t: [w for w in t if not re.match( r'\\b.*\\d+.*\\b', w) ])"
   ]
  },
  {
   "cell_type": "code",
   "execution_count": 12,
   "metadata": {},
   "outputs": [
    {
     "data": {
      "text/html": [
       "<div>\n",
       "<style scoped>\n",
       "    .dataframe tbody tr th:only-of-type {\n",
       "        vertical-align: middle;\n",
       "    }\n",
       "\n",
       "    .dataframe tbody tr th {\n",
       "        vertical-align: top;\n",
       "    }\n",
       "\n",
       "    .dataframe thead th {\n",
       "        text-align: right;\n",
       "    }\n",
       "</style>\n",
       "<table border=\"1\" class=\"dataframe\">\n",
       "  <thead>\n",
       "    <tr style=\"text-align: right;\">\n",
       "      <th></th>\n",
       "      <th>id</th>\n",
       "      <th>ttext</th>\n",
       "      <th>ttext_clean</th>\n",
       "    </tr>\n",
       "  </thead>\n",
       "  <tbody>\n",
       "    <tr>\n",
       "      <th>44872</th>\n",
       "      <td>409980131705643008</td>\n",
       "      <td>@cyrus_aka_queen ахахах тут тож щас скандал был)\\nну эт воще :D\\nв пол двери такое написать..)</td>\n",
       "      <td>[cyrus, aka, queen, ахахах, тут, тож, щас, скандал, был, ну, эт, воще, happysmile, в, пол, двери, такое, написать]</td>\n",
       "    </tr>\n",
       "    <tr>\n",
       "      <th>105092</th>\n",
       "      <td>411126935394471937</td>\n",
       "      <td>@stooneem ♥ты моя хорошая!!! Как же быстро летит время:)</td>\n",
       "      <td>[stooneem, ты, моя, хорошая, как, же, быстро, летит, время, happysmile]</td>\n",
       "    </tr>\n",
       "    <tr>\n",
       "      <th>64946</th>\n",
       "      <td>410363889373945856</td>\n",
       "      <td>Ну а пока как обычно сижу очередь в банке передо мной человек 30 эт нормально)</td>\n",
       "      <td>[ну, а, пока, как, обычно, сижу, очередь, в, банке, передо, мной, человек, digit, эт, нормально]</td>\n",
       "    </tr>\n",
       "  </tbody>\n",
       "</table>\n",
       "</div>"
      ],
      "text/plain": [
       "                        id  \\\n",
       "44872   409980131705643008   \n",
       "105092  411126935394471937   \n",
       "64946   410363889373945856   \n",
       "\n",
       "                                                                                                 ttext  \\\n",
       "44872   @cyrus_aka_queen ахахах тут тож щас скандал был)\\nну эт воще :D\\nв пол двери такое написать..)   \n",
       "105092                                        @stooneem ♥ты моя хорошая!!! Как же быстро летит время:)   \n",
       "64946                   Ну а пока как обычно сижу очередь в банке передо мной человек 30 эт нормально)   \n",
       "\n",
       "                                                                                                               ttext_clean  \n",
       "44872   [cyrus, aka, queen, ахахах, тут, тож, щас, скандал, был, ну, эт, воще, happysmile, в, пол, двери, такое, написать]  \n",
       "105092                                             [stooneem, ты, моя, хорошая, как, же, быстро, летит, время, happysmile]  \n",
       "64946                     [ну, а, пока, как, обычно, сижу, очередь, в, банке, передо, мной, человек, digit, эт, нормально]  "
      ]
     },
     "execution_count": 12,
     "metadata": {},
     "output_type": "execute_result"
    }
   ],
   "source": [
    "data.sample(3)"
   ]
  },
  {
   "cell_type": "code",
   "execution_count": 13,
   "metadata": {},
   "outputs": [],
   "source": [
    "# удаление коротких слов\n",
    "# data['ttext_clean'] = data['ttext_clean'].progress_apply(lambda t:[w for w in t if len(w)>2])"
   ]
  },
  {
   "cell_type": "code",
   "execution_count": 14,
   "metadata": {},
   "outputs": [
    {
     "name": "stdout",
     "output_type": "stream",
     "text": [
      "записей: 114 911\n",
      "записей: 114 911\n"
     ]
    }
   ],
   "source": [
    "ppr(data)\n",
    "data = data[ data['ttext_clean'].str.len()>0 ].reset_index(drop=True) \n",
    "ppr(data)"
   ]
  },
  {
   "cell_type": "code",
   "execution_count": 15,
   "metadata": {},
   "outputs": [
    {
     "data": {
      "text/html": [
       "<div>\n",
       "<style scoped>\n",
       "    .dataframe tbody tr th:only-of-type {\n",
       "        vertical-align: middle;\n",
       "    }\n",
       "\n",
       "    .dataframe tbody tr th {\n",
       "        vertical-align: top;\n",
       "    }\n",
       "\n",
       "    .dataframe thead th {\n",
       "        text-align: right;\n",
       "    }\n",
       "</style>\n",
       "<table border=\"1\" class=\"dataframe\">\n",
       "  <thead>\n",
       "    <tr style=\"text-align: right;\">\n",
       "      <th></th>\n",
       "      <th>id</th>\n",
       "      <th>ttext</th>\n",
       "      <th>ttext_clean</th>\n",
       "    </tr>\n",
       "  </thead>\n",
       "  <tbody>\n",
       "    <tr>\n",
       "      <th>97198</th>\n",
       "      <td>411039230287429632</td>\n",
       "      <td>Лошадкаааааа :) с минус девяти в плюс шесть... #жесть как она есть http://t.co/ieGEIXXDZ8</td>\n",
       "      <td>[лошадкаааааа, happysmile, с, минус, девяти, в, плюс, шесть, жесть, как, она, есть, url]</td>\n",
       "    </tr>\n",
       "    <tr>\n",
       "      <th>60518</th>\n",
       "      <td>410280800773763072</td>\n",
       "      <td>так приятно когда идешь грызеш семечки и вдруг тебе попадается одна очищенная=)</td>\n",
       "      <td>[так, приятно, когда, идешь, грызеш, семечки, и, вдруг, тебе, попадается, одна, очищенная]</td>\n",
       "    </tr>\n",
       "    <tr>\n",
       "      <th>39979</th>\n",
       "      <td>409903895629266944</td>\n",
       "      <td>RT @bahhtee: Первый батл 2x2 на @slovoproject удачнее, чем на @versusbattleru - посмеялся от души))) После нашего с @a_borovik батла обнима…</td>\n",
       "      <td>[rt, bahhtee, первый, батл, на, slovoproject, удачнее, чем, на, versusbattleru, посмеялся, от, души, happysmile, после, нашего, с, a, borovik, батла, обнима]</td>\n",
       "    </tr>\n",
       "  </tbody>\n",
       "</table>\n",
       "</div>"
      ],
      "text/plain": [
       "                       id  \\\n",
       "97198  411039230287429632   \n",
       "60518  410280800773763072   \n",
       "39979  409903895629266944   \n",
       "\n",
       "                                                                                                                                              ttext  \\\n",
       "97198                                                     Лошадкаааааа :) с минус девяти в плюс шесть... #жесть как она есть http://t.co/ieGEIXXDZ8   \n",
       "60518                                                               так приятно когда идешь грызеш семечки и вдруг тебе попадается одна очищенная=)   \n",
       "39979  RT @bahhtee: Первый батл 2x2 на @slovoproject удачнее, чем на @versusbattleru - посмеялся от души))) После нашего с @a_borovik батла обнима…   \n",
       "\n",
       "                                                                                                                                                         ttext_clean  \n",
       "97198                                                                       [лошадкаааааа, happysmile, с, минус, девяти, в, плюс, шесть, жесть, как, она, есть, url]  \n",
       "60518                                                                     [так, приятно, когда, идешь, грызеш, семечки, и, вдруг, тебе, попадается, одна, очищенная]  \n",
       "39979  [rt, bahhtee, первый, батл, на, slovoproject, удачнее, чем, на, versusbattleru, посмеялся, от, души, happysmile, после, нашего, с, a, borovik, батла, обнима]  "
      ]
     },
     "execution_count": 15,
     "metadata": {},
     "output_type": "execute_result"
    }
   ],
   "source": [
    "data.sample(3)"
   ]
  },
  {
   "cell_type": "code",
   "execution_count": 16,
   "metadata": {},
   "outputs": [
    {
     "name": "stdout",
     "output_type": "stream",
     "text": [
      "записей: 166 099\n"
     ]
    }
   ],
   "source": [
    "words = sorted(set.union( *data['ttext_clean'].apply(set) ))\n",
    "voc = { w:i+1 for i,w in enumerate(words) }\n",
    "voc['<pad>']= 0\n",
    "ppr(voc)"
   ]
  },
  {
   "cell_type": "code",
   "execution_count": 17,
   "metadata": {},
   "outputs": [],
   "source": [
    "# voc = sorted(set.union(*[ set(s) for s in data['ttext_clean'].values.tolist() ]))\n",
    "# voc = { w:i+1 for i,w in enumerate(voc) }\n",
    "# voc['<pad>']= 0\n",
    "# ppr(voc)"
   ]
  },
  {
   "cell_type": "code",
   "execution_count": 18,
   "metadata": {},
   "outputs": [],
   "source": [
    "# voc"
   ]
  },
  {
   "cell_type": "markdown",
   "metadata": {},
   "source": [
    "## кодируем слова"
   ]
  },
  {
   "cell_type": "code",
   "execution_count": 19,
   "metadata": {},
   "outputs": [
    {
     "name": "stderr",
     "output_type": "stream",
     "text": [
      "100%|██████████| 114911/114911 [00:00<00:00, 180191.28it/s]\n"
     ]
    }
   ],
   "source": [
    "data['code'] = data['ttext_clean'].progress_apply(lambda t: [ voc[w] for w in t] )"
   ]
  },
  {
   "cell_type": "code",
   "execution_count": 20,
   "metadata": {},
   "outputs": [
    {
     "data": {
      "text/html": [
       "<div>\n",
       "<style scoped>\n",
       "    .dataframe tbody tr th:only-of-type {\n",
       "        vertical-align: middle;\n",
       "    }\n",
       "\n",
       "    .dataframe tbody tr th {\n",
       "        vertical-align: top;\n",
       "    }\n",
       "\n",
       "    .dataframe thead th {\n",
       "        text-align: right;\n",
       "    }\n",
       "</style>\n",
       "<table border=\"1\" class=\"dataframe\">\n",
       "  <thead>\n",
       "    <tr style=\"text-align: right;\">\n",
       "      <th></th>\n",
       "      <th>ttext</th>\n",
       "      <th>ttext_clean</th>\n",
       "      <th>code</th>\n",
       "    </tr>\n",
       "  </thead>\n",
       "  <tbody>\n",
       "    <tr>\n",
       "      <th>3135</th>\n",
       "      <td>@rin_nayeon омг почти 8 лет уже прошло Оо даже не верится)</td>\n",
       "      <td>[rin, nayeon, омг, почти, digit, лет, уже, прошло, оо, даже, не, верится]</td>\n",
       "      <td>[33559, 28172, 108106, 123027, 9280, 91065, 151949, 128339, 108236, 66727, 101792, 56955]</td>\n",
       "    </tr>\n",
       "    <tr>\n",
       "      <th>60464</th>\n",
       "      <td>Проснулась одна. Захожу на кухню, а там... Вот так подарочек) ну и как его не любить? http://t.co/Ch63W6zKpD</td>\n",
       "      <td>[проснулась, одна, захожу, на, кухню, а, там, вот, так, подарочек, ну, и, как, его, не, любить, url]</td>\n",
       "      <td>[127756, 107265, 78156, 98796, 89742, 45621, 146464, 60097, 146276, 117177, 104852, 79635, 82759, 72363, 101792, 92697, 41034]</td>\n",
       "    </tr>\n",
       "    <tr>\n",
       "      <th>112337</th>\n",
       "      <td>Когда Даша сегодня начала петь Лещенко на уроке,я точно поняла ,что я правильно определилась с подругами)</td>\n",
       "      <td>[когда, даша, сегодня, начала, петь, лещенко, на, уроке, я, точно, поняла, что, я, правильно, определилась, с, подругами]</td>\n",
       "      <td>[85633, 67080, 136624, 101572, 114876, 91206, 98796, 153429, 164868, 148988, 120748, 161033, 164868, 123329, 108618, 134675, 118068]</td>\n",
       "    </tr>\n",
       "  </tbody>\n",
       "</table>\n",
       "</div>"
      ],
      "text/plain": [
       "                                                                                                               ttext  \\\n",
       "3135                                                      @rin_nayeon омг почти 8 лет уже прошло Оо даже не верится)   \n",
       "60464   Проснулась одна. Захожу на кухню, а там... Вот так подарочек) ну и как его не любить? http://t.co/Ch63W6zKpD   \n",
       "112337     Когда Даша сегодня начала петь Лещенко на уроке,я точно поняла ,что я правильно определилась с подругами)   \n",
       "\n",
       "                                                                                                                      ttext_clean  \\\n",
       "3135                                                    [rin, nayeon, омг, почти, digit, лет, уже, прошло, оо, даже, не, верится]   \n",
       "60464                        [проснулась, одна, захожу, на, кухню, а, там, вот, так, подарочек, ну, и, как, его, не, любить, url]   \n",
       "112337  [когда, даша, сегодня, начала, петь, лещенко, на, уроке, я, точно, поняла, что, я, правильно, определилась, с, подругами]   \n",
       "\n",
       "                                                                                                                                        code  \n",
       "3135                                               [33559, 28172, 108106, 123027, 9280, 91065, 151949, 128339, 108236, 66727, 101792, 56955]  \n",
       "60464         [127756, 107265, 78156, 98796, 89742, 45621, 146464, 60097, 146276, 117177, 104852, 79635, 82759, 72363, 101792, 92697, 41034]  \n",
       "112337  [85633, 67080, 136624, 101572, 114876, 91206, 98796, 153429, 164868, 148988, 120748, 161033, 164868, 123329, 108618, 134675, 118068]  "
      ]
     },
     "execution_count": 20,
     "metadata": {},
     "output_type": "execute_result"
    }
   ],
   "source": [
    "data[['ttext','ttext_clean','code']].sample(3)"
   ]
  },
  {
   "cell_type": "code",
   "execution_count": 21,
   "metadata": {},
   "outputs": [
    {
     "data": {
      "text/plain": [
       "count    114911\n",
       "mean         13\n",
       "std           4\n",
       "min           1\n",
       "25%          10\n",
       "50%          13\n",
       "75%          17\n",
       "max          42\n",
       "Name: code, dtype: int64"
      ]
     },
     "execution_count": 21,
     "metadata": {},
     "output_type": "execute_result"
    }
   ],
   "source": [
    "# оценка размеров последовательнистей\n",
    "data['code'].str.len().describe().astype(int)"
   ]
  },
  {
   "cell_type": "code",
   "execution_count": 22,
   "metadata": {},
   "outputs": [
    {
     "data": {
      "text/plain": [
       "<AxesSubplot:ylabel='Frequency'>"
      ]
     },
     "execution_count": 22,
     "metadata": {},
     "output_type": "execute_result"
    },
    {
     "data": {
      "image/png": "[encoded data removed]",
      "text/plain": [
       "<Figure size 432x288 with 1 Axes>"
      ]
     },
     "metadata": {
      "needs_background": "light"
     },
     "output_type": "display_data"
    }
   ],
   "source": [
    "data['code'].str.len().plot.hist()"
   ]
  },
  {
   "cell_type": "code",
   "execution_count": 23,
   "metadata": {},
   "outputs": [
    {
     "data": {
      "text/plain": [
       "42"
      ]
     },
     "execution_count": 23,
     "metadata": {},
     "output_type": "execute_result"
    }
   ],
   "source": [
    "# максимальная длина\n",
    "code_max_len = data['code'].str.len().max()\n",
    "code_max_len"
   ]
  },
  {
   "cell_type": "code",
   "execution_count": 24,
   "metadata": {},
   "outputs": [
    {
     "name": "stderr",
     "output_type": "stream",
     "text": [
      "100%|██████████| 114911/114911 [00:00<00:00, 251717.43it/s]\n"
     ]
    }
   ],
   "source": [
    "# дополняем короткие до максимальной длины\n",
    "z = [0]*code_max_len\n",
    "data['code'] = data['code'].progress_apply(lambda c: c+z[:(code_max_len-len(c))]  )"
   ]
  },
  {
   "cell_type": "code",
   "execution_count": 25,
   "metadata": {},
   "outputs": [
    {
     "data": {
      "text/plain": [
       "count    114911\n",
       "mean         42\n",
       "std           0\n",
       "min          42\n",
       "25%          42\n",
       "50%          42\n",
       "75%          42\n",
       "max          42\n",
       "Name: code, dtype: int64"
      ]
     },
     "execution_count": 25,
     "metadata": {},
     "output_type": "execute_result"
    }
   ],
   "source": [
    "data['code'].str.len().describe().astype(int)"
   ]
  },
  {
   "cell_type": "markdown",
   "metadata": {},
   "source": [
    "## строим датасет"
   ]
  },
  {
   "cell_type": "code",
   "execution_count": 26,
   "metadata": {},
   "outputs": [],
   "source": [
    "# pair = data[['id','id']]\n",
    "# pair.columns = ['id_l','id_r']\n",
    "# pair"
   ]
  },
  {
   "cell_type": "code",
   "execution_count": 27,
   "metadata": {},
   "outputs": [],
   "source": [
    "pair_neg = pd.DataFrame({\n",
    "'id_L':data['id'].iloc[:-1].tolist(),\n",
    "'id_R':data['id'].iloc[1:].tolist()\n",
    "})"
   ]
  },
  {
   "cell_type": "code",
   "execution_count": 28,
   "metadata": {},
   "outputs": [
    {
     "name": "stdout",
     "output_type": "stream",
     "text": [
      "записей: 114 910\n"
     ]
    }
   ],
   "source": [
    "# НЕпохожие пары\n",
    "pair_neg = pair_neg\\\n",
    "  .merge(data[['id','code']].rename(columns={'id':'id_L','code':'code_L'}), on=['id_L'] )\\\n",
    "  .merge(data[['id','code']].rename(columns={'id':'id_R','code':'code_R'}), on=['id_R'] )\n",
    "\n",
    "pair_neg['target'] = 0\n",
    "ppr(pair_neg)"
   ]
  },
  {
   "cell_type": "code",
   "execution_count": 29,
   "metadata": {},
   "outputs": [],
   "source": [
    "pair_pos = pd.DataFrame({\n",
    "'id_L':data['id'].tolist(),\n",
    "'id_R':data['id'].tolist()\n",
    "})"
   ]
  },
  {
   "cell_type": "code",
   "execution_count": 30,
   "metadata": {},
   "outputs": [
    {
     "name": "stdout",
     "output_type": "stream",
     "text": [
      "записей: 114 911\n"
     ]
    }
   ],
   "source": [
    "# похожие пары\n",
    "pair_pos = pair_pos\\\n",
    "  .merge(data[['id','code']].rename(columns={'id':'id_L','code':'code_L'}), on=['id_L'] )\\\n",
    "  .merge(data[['id','code']].rename(columns={'id':'id_R','code':'code_R'}), on=['id_R'] )\n",
    "\n",
    "pair_pos['target'] = 1\n",
    "ppr(pair_pos)"
   ]
  },
  {
   "cell_type": "code",
   "execution_count": 31,
   "metadata": {},
   "outputs": [
    {
     "name": "stdout",
     "output_type": "stream",
     "text": [
      "записей: 229 821\n"
     ]
    }
   ],
   "source": [
    "cols = ['code_L','code_R','target']\n",
    "dataset = pd.concat([\n",
    "        pair_pos[cols],\n",
    "        pair_neg[cols],\n",
    "    ],axis=0).reset_index(drop=True)\n",
    "ppr(dataset)"
   ]
  },
  {
   "cell_type": "code",
   "execution_count": 32,
   "metadata": {},
   "outputs": [
    {
     "data": {
      "text/plain": [
       "((229821, 42), (229821, 42), (229821, 1))"
      ]
     },
     "execution_count": 32,
     "metadata": {},
     "output_type": "execute_result"
    }
   ],
   "source": [
    "x_left  = np.vstack(dataset['code_L'].values)\n",
    "x_right = np.vstack(dataset['code_R'].values)\n",
    "target  = np.vstack(dataset['target'].values)\n",
    "\n",
    "x_left.shape,x_right.shape,target.shape"
   ]
  },
  {
   "cell_type": "code",
   "execution_count": null,
   "metadata": {},
   "outputs": [],
   "source": []
  },
  {
   "cell_type": "code",
   "execution_count": 33,
   "metadata": {},
   "outputs": [],
   "source": [
    "# размер вектора OHE для embeding слоя\n",
    "embed_input_dim = max([x_left.max(),x_right.max()]) + 1"
   ]
  },
  {
   "cell_type": "code",
   "execution_count": 34,
   "metadata": {},
   "outputs": [
    {
     "data": {
      "text/plain": [
       "((229821, 42), (229821, 42), (229821, 1), 166099)"
      ]
     },
     "execution_count": 34,
     "metadata": {},
     "output_type": "execute_result"
    }
   ],
   "source": [
    "x_left.shape, x_right.shape, target.shape, embed_input_dim"
   ]
  },
  {
   "cell_type": "code",
   "execution_count": 35,
   "metadata": {},
   "outputs": [],
   "source": [
    "# переворачиваем последовательности (нули дополнения вначале, первое слово в конце)\n",
    "x_left  = np.flip( x_left,  axis=1 )\n",
    "x_right = np.flip( x_right, axis=1 )"
   ]
  },
  {
   "cell_type": "code",
   "execution_count": 36,
   "metadata": {},
   "outputs": [
    {
     "data": {
      "text/plain": [
       "42"
      ]
     },
     "execution_count": 36,
     "metadata": {},
     "output_type": "execute_result"
    }
   ],
   "source": [
    "# длина последовательности слов \n",
    "seq_len = x_left.shape[1]\n",
    "seq_len"
   ]
  },
  {
   "cell_type": "code",
   "execution_count": 37,
   "metadata": {},
   "outputs": [],
   "source": [
    "from sklearn.model_selection import train_test_split\n",
    "from matplotlib import pyplot as plt"
   ]
  },
  {
   "cell_type": "code",
   "execution_count": 38,
   "metadata": {},
   "outputs": [
    {
     "data": {
      "text/plain": [
       "((114910, 84), (114910, 1), (114911, 84), (114911, 1))"
      ]
     },
     "execution_count": 38,
     "metadata": {},
     "output_type": "execute_result"
    }
   ],
   "source": [
    "# отделяем тестовый набор\n",
    "x_train, x_test, y_train, y_test = train_test_split( np.hstack([x_left,x_right]), target, test_size=.5)\n",
    "x_train.shape, y_train.shape, x_test.shape, y_test.shape"
   ]
  },
  {
   "cell_type": "code",
   "execution_count": 39,
   "metadata": {},
   "outputs": [
    {
     "data": {
      "text/plain": [
       "((114910, 42), (114910, 42), (114910,))"
      ]
     },
     "execution_count": 39,
     "metadata": {},
     "output_type": "execute_result"
    }
   ],
   "source": [
    "x_left_train, x_right_train = x_train[:,:seq_len],x_train[:,seq_len:]\n",
    "y_train = y_train.flatten()\n",
    "x_left_train.shape, x_right_train.shape, y_train.shape"
   ]
  },
  {
   "cell_type": "code",
   "execution_count": 40,
   "metadata": {},
   "outputs": [
    {
     "data": {
      "text/plain": [
       "((114911, 42), (114911, 42), (114911,))"
      ]
     },
     "execution_count": 40,
     "metadata": {},
     "output_type": "execute_result"
    }
   ],
   "source": [
    "x_left_test, x_right_test = x_test[:,:seq_len],x_test[:,seq_len:]\n",
    "y_test = y_test.flatten()\n",
    "x_left_test.shape, x_right_test.shape, y_test.shape"
   ]
  },
  {
   "cell_type": "code",
   "execution_count": 41,
   "metadata": {},
   "outputs": [],
   "source": [
    "%xdel x_left\n",
    "%xdel x_right\n",
    "%xdel target"
   ]
  },
  {
   "cell_type": "code",
   "execution_count": 42,
   "metadata": {},
   "outputs": [],
   "source": [
    "# gc.collect()"
   ]
  },
  {
   "cell_type": "code",
   "execution_count": 43,
   "metadata": {},
   "outputs": [],
   "source": [
    "# y_train.sum()/len(y_train), y_test.sum()/len(y_test)"
   ]
  },
  {
   "cell_type": "markdown",
   "metadata": {},
   "source": [
    "## модель"
   ]
  },
  {
   "cell_type": "code",
   "execution_count": 44,
   "metadata": {},
   "outputs": [
    {
     "data": {
      "text/plain": [
       "(166099, 256, 42)"
      ]
     },
     "execution_count": 44,
     "metadata": {},
     "output_type": "execute_result"
    }
   ],
   "source": [
    "embed_len = 256\n",
    "embed_input_dim, embed_len, seq_len"
   ]
  },
  {
   "cell_type": "code",
   "execution_count": 46,
   "metadata": {},
   "outputs": [
    {
     "data": {
      "text/plain": [
       "('2.4.1', '2.4.0')"
      ]
     },
     "execution_count": 46,
     "metadata": {},
     "output_type": "execute_result"
    }
   ],
   "source": [
    "from tensorflow import __version__ as tf_version\n",
    "from tensorflow.keras import __version__ as keras_version\n",
    "tf_version,keras_version"
   ]
  },
  {
   "cell_type": "code",
   "execution_count": 47,
   "metadata": {},
   "outputs": [],
   "source": [
    "from tensorflow.keras.models import Model\n",
    "from tensorflow.keras.layers import Input\n",
    "from tensorflow.keras.layers import Embedding\n",
    "from tensorflow.keras.layers import LSTM\n",
    "from tensorflow.keras.layers import Dense\n",
    "from tensorflow.keras.layers import Lambda\n",
    "from tensorflow.keras.optimizers import Adam\n",
    "from tensorflow.keras import backend as K\n",
    "from tensorflow.keras.utils import plot_model"
   ]
  },
  {
   "cell_type": "code",
   "execution_count": 48,
   "metadata": {},
   "outputs": [
    {
     "ename": "ModuleNotFoundError",
     "evalue": "No module named 'tensorflow_addons'",
     "output_type": "error",
     "traceback": [
      "\u001b[0;31m---------------------------------------------------------------------------\u001b[0m",
      "\u001b[0;31mModuleNotFoundError\u001b[0m                       Traceback (most recent call last)",
      "\u001b[0;32m<ipython-input-48-9513cb60d670>\u001b[0m in \u001b[0;36m<module>\u001b[0;34m\u001b[0m\n\u001b[0;32m----> 1\u001b[0;31m \u001b[0;32mfrom\u001b[0m \u001b[0mtensorflow_addons\u001b[0m\u001b[0;34m.\u001b[0m\u001b[0mlosses\u001b[0m \u001b[0;32mimport\u001b[0m \u001b[0mcontrastive_loss\u001b[0m\u001b[0;34m\u001b[0m\u001b[0;34m\u001b[0m\u001b[0m\n\u001b[0m",
      "\u001b[0;31mModuleNotFoundError\u001b[0m: No module named 'tensorflow_addons'"
     ]
    }
   ],
   "source": [
    "from tensorflow_addons.losses import contrastive_loss"
   ]
  },
  {
   "cell_type": "code",
   "execution_count": null,
   "metadata": {},
   "outputs": [],
   "source": []
  },
  {
   "cell_type": "code",
   "execution_count": null,
   "metadata": {},
   "outputs": [],
   "source": [
    "embedding = Embedding(input_dim=embed_input_dim, input_length=seq_len, output_dim=embed_len, )\n",
    "lstm = LSTM(embed_len,activation='relu') "
   ]
  },
  {
   "cell_type": "code",
   "execution_count": null,
   "metadata": {},
   "outputs": [],
   "source": [
    "# Конструирование левой ветви модели: \n",
    "input_l = Input( shape=(seq_len,), dtype='int32')\n",
    "embedding_l = embedding(input_l)\n",
    "lstm_l = lstm(embedding_l)\n",
    "\n",
    "# Конструирование правой ветви модели: \n",
    "input_r = Input(shape=(seq_len,), dtype='int32')\n",
    "embedding_r = embedding(input_r)\n",
    "lstm_r = lstm(embedding_r)\n",
    "\n",
    "# # Getting the L1 Distance between the 2 encodings\n",
    "merged = Lambda(lambda t:K.abs(t[0]-t[1]),name='L1_distance')([lstm_l,lstm_r])\n",
    "\n",
    "# Добавление классификатора\n",
    "predictions = Dense(1, activation='sigmoid')(merged)\n",
    "\n",
    "# Создание и обучение модели:\n",
    "model = Model([input_l,input_r], predictions )"
   ]
  },
  {
   "cell_type": "code",
   "execution_count": null,
   "metadata": {
    "scrolled": true
   },
   "outputs": [],
   "source": [
    "plot_model(model,to_file=pjoin(FOLDER_RESULT,'model-embed-lstm.png'), \n",
    "           show_layer_names=True, show_shapes=True )\n",
    "# model.summary()"
   ]
  },
  {
   "cell_type": "code",
   "execution_count": null,
   "metadata": {},
   "outputs": [],
   "source": [
    "learning_rate = 9e-5\n",
    "model.compile(loss=contrastive_loss, metrics=['acc',], optimizer=Adam(learning_rate))"
   ]
  },
  {
   "cell_type": "code",
   "execution_count": null,
   "metadata": {},
   "outputs": [],
   "source": [
    "%%time\n",
    "\n",
    "n_epochs = 2\n",
    "\n",
    "history = model.fit( [x_left_train, x_right_train], y_train,\n",
    "           epochs = n_epochs,\n",
    "           batch_size = 4096,\n",
    "           validation_split=.2,\n",
    "         )"
   ]
  },
  {
   "cell_type": "code",
   "execution_count": null,
   "metadata": {},
   "outputs": [],
   "source": [
    "with open( pjoin(FOLDER_RESULT,'model-embed-lstm.json'), 'wt') as f: f.write( model.to_json() )\n",
    "model.save_weights( pjoin(FOLDER_RESULT,'model-embed-lstm-weights-%02d.h5'%(n_epochs) )) "
   ]
  },
  {
   "cell_type": "code",
   "execution_count": null,
   "metadata": {},
   "outputs": [],
   "source": [
    "# from tensorflow.keras.callbacks import EarlyStopping\n",
    "# from tensorflow.keras.callbacks import TensorBoard\n",
    "\n",
    "#            callbacks=[\n",
    "# #                        EarlyStopping(monitor='acc',baseline=.98, patience=2,), # restore_best_weights=True),\n",
    "#                        TensorBoard(log_dir='./logs'),\n",
    "#                      ],"
   ]
  },
  {
   "cell_type": "markdown",
   "metadata": {},
   "source": [
    "----"
   ]
  },
  {
   "cell_type": "code",
   "execution_count": null,
   "metadata": {},
   "outputs": [],
   "source": [
    "plt.plot(history.history['loss'],label='train loss')\n",
    "plt.plot(history.history['val_loss'],label='val loss')\n",
    "plt.legend()\n",
    "plt.grid()"
   ]
  },
  {
   "cell_type": "code",
   "execution_count": null,
   "metadata": {},
   "outputs": [],
   "source": [
    "plt.plot( np.array(history.history['acc']), label='train acc')\n",
    "plt.plot( np.array(history.history['val_acc']), label='val acc')\n",
    "plt.legend()\n",
    "plt.grid()"
   ]
  },
  {
   "cell_type": "code",
   "execution_count": null,
   "metadata": {},
   "outputs": [],
   "source": [
    "gc.collect()"
   ]
  },
  {
   "cell_type": "markdown",
   "metadata": {},
   "source": [
    "## тест"
   ]
  },
  {
   "cell_type": "code",
   "execution_count": null,
   "metadata": {},
   "outputs": [],
   "source": [
    "from sklearn.metrics import roc_curve\n",
    "from sklearn.metrics import auc\n",
    "from sklearn.metrics import accuracy_score\n",
    "# from sklearn.metrics import confusion_matrix\n",
    "# from sklearn.metrics import classification_report"
   ]
  },
  {
   "cell_type": "code",
   "execution_count": null,
   "metadata": {},
   "outputs": [],
   "source": [
    "def roc_auc_plot(y,p):\n",
    "    fpr, tpr, thresholds = roc_curve( y, p )\n",
    "    roc_auc = auc(fpr,tpr)\n",
    "\n",
    "    plt.figure()\n",
    "    plt.grid(True)\n",
    "    plt.plot(fpr, tpr, color='darkorange', lw=2, label='ROC curve (area = %0.2f)' % roc_auc)\n",
    "    plt.plot([0, 1], [0, 1], color='navy', lw=1, linestyle='--')\n",
    "    plt.xlabel('False Positive Rate')\n",
    "    plt.ylabel('True Positive Rate')\n",
    "    plt.title('Receiver operating characteristic example')\n",
    "    plt.legend(loc=\"lower right\")\n",
    "    plt.show()"
   ]
  },
  {
   "cell_type": "markdown",
   "metadata": {},
   "source": [
    "---"
   ]
  },
  {
   "cell_type": "code",
   "execution_count": null,
   "metadata": {},
   "outputs": [],
   "source": [
    "%%time \n",
    "\n",
    "p_train = model.predict([x_left_train, x_right_train])\n",
    "accuracy_score( y_train, (p_train<.6) )"
   ]
  },
  {
   "cell_type": "code",
   "execution_count": null,
   "metadata": {},
   "outputs": [],
   "source": [
    "pd.DataFrame(p_train).describe().T"
   ]
  },
  {
   "cell_type": "code",
   "execution_count": null,
   "metadata": {},
   "outputs": [],
   "source": [
    "roc_auc_plot(y_train, 1.-p_train)"
   ]
  },
  {
   "cell_type": "markdown",
   "metadata": {},
   "source": [
    "---"
   ]
  },
  {
   "cell_type": "code",
   "execution_count": null,
   "metadata": {},
   "outputs": [],
   "source": [
    "%%time \n",
    "\n",
    "p_test = model.predict([x_left_test, x_right_test])\n",
    "accuracy_score( y_test, (p_test<.6) )"
   ]
  },
  {
   "cell_type": "code",
   "execution_count": null,
   "metadata": {},
   "outputs": [],
   "source": [
    "pd.DataFrame(p_test).describe().T"
   ]
  },
  {
   "cell_type": "code",
   "execution_count": null,
   "metadata": {},
   "outputs": [],
   "source": [
    "roc_auc_plot(y_test, 1.-p_test)"
   ]
  },
  {
   "cell_type": "code",
   "execution_count": null,
   "metadata": {},
   "outputs": [],
   "source": []
  },
  {
   "cell_type": "code",
   "execution_count": null,
   "metadata": {},
   "outputs": [],
   "source": []
  }
 ],
 "metadata": {
  "kernelspec": {
   "display_name": "Python 3",
   "language": "python",
   "name": "python3"
  },
  "language_info": {
   "codemirror_mode": {
    "name": "ipython",
    "version": 3
   },
   "file_extension": ".py",
   "mimetype": "text/x-python",
   "name": "python",
   "nbconvert_exporter": "python",
   "pygments_lexer": "ipython3",
   "version": "3.9.2"
  },
  "toc": {
   "base_numbering": 1,
   "nav_menu": {},
   "number_sections": true,
   "sideBar": true,
   "skip_h1_title": false,
   "title_cell": "Table of Contents",
   "title_sidebar": "Contents",
   "toc_cell": false,
   "toc_position": {},
   "toc_section_display": "block",
   "toc_window_display": false
  }
 },
 "nbformat": 4,
 "nbformat_minor": 4
}
