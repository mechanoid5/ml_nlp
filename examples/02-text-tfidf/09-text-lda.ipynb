{
 "cells": [
  {
   "cell_type": "markdown",
   "metadata": {},
   "source": [
    "**тематическое моделирование**\n",
    "\n",
    "Евгений Борисов borisov.e@solarl.ru"
   ]
  },
  {
   "cell_type": "code",
   "execution_count": 1,
   "metadata": {},
   "outputs": [],
   "source": [
    "# http://scikit-learn.org/stable/auto_examples/applications/plot_topics_extraction_with_nmf_lda.html\n",
    "\n",
    "# разложение частотной матрицы [ слова x документы ]  \n",
    "#\n",
    "# получаем матрицу с описанием тем [ слова х темы ]   \n",
    "# и матрицу вероятностей событий \"тема описывает документ\"  [ темы х документы ]\n",
    "# \n",
    "# [ слова x документы ] = [ слова х темы ] * [ темы х документы ]\n",
    "# \n",
    "# p(w|d) = p(w|t) * p(t|d)"
   ]
  },
  {
   "cell_type": "markdown",
   "metadata": {},
   "source": [
    "## библиотеки"
   ]
  },
  {
   "cell_type": "code",
   "execution_count": 2,
   "metadata": {},
   "outputs": [
    {
     "name": "stderr",
     "output_type": "stream",
     "text": [
      "/usr/lib/python3.8/site-packages/tqdm/std.py:703: FutureWarning: The Panel class is removed from pandas. Accessing it from the top-level namespace will also be removed in the next version\n",
      "  from pandas import Panel\n"
     ]
    }
   ],
   "source": [
    "import re\n",
    "# import gzip\n",
    "import numpy as np\n",
    "import numpy.random as rng\n",
    "import pandas as pd\n",
    "from tqdm import tqdm\n",
    "from matplotlib import pyplot as plt\n",
    "\n",
    "np.set_printoptions(precision=2) # вывод на печать чисел до 2 знака\n",
    "pd.options.display.max_colwidth = 200 \n",
    "\n",
    "tqdm.pandas()"
   ]
  },
  {
   "cell_type": "code",
   "execution_count": 3,
   "metadata": {},
   "outputs": [
    {
     "data": {
      "text/plain": [
       "'0.23.2'"
      ]
     },
     "execution_count": 3,
     "metadata": {},
     "output_type": "execute_result"
    }
   ],
   "source": [
    "from sklearn import __version__ as SKLEARN_VERSION\n",
    "\n",
    "from sklearn.feature_extraction.text import CountVectorizer\n",
    "from sklearn.feature_extraction.text import TfidfVectorizer\n",
    "\n",
    "from sklearn.decomposition import LatentDirichletAllocation\n",
    "from sklearn.decomposition import NMF\n",
    "\n",
    "from pymorphy2 import MorphAnalyzer\n",
    "\n",
    "SKLEARN_VERSION"
   ]
  },
  {
   "cell_type": "markdown",
   "metadata": {},
   "source": [
    "## тексты"
   ]
  },
  {
   "cell_type": "code",
   "execution_count": 4,
   "metadata": {},
   "outputs": [
    {
     "name": "stdout",
     "output_type": "stream",
     "text": [
      "текстов: 3196\n"
     ]
    },
    {
     "data": {
      "text/html": [
       "<div>\n",
       "<style scoped>\n",
       "    .dataframe tbody tr th:only-of-type {\n",
       "        vertical-align: middle;\n",
       "    }\n",
       "\n",
       "    .dataframe tbody tr th {\n",
       "        vertical-align: top;\n",
       "    }\n",
       "\n",
       "    .dataframe thead th {\n",
       "        text-align: right;\n",
       "    }\n",
       "</style>\n",
       "<table border=\"1\" class=\"dataframe\">\n",
       "  <thead>\n",
       "    <tr style=\"text-align: right;\">\n",
       "      <th></th>\n",
       "      <th>text</th>\n",
       "      <th>tag</th>\n",
       "    </tr>\n",
       "  </thead>\n",
       "  <tbody>\n",
       "    <tr>\n",
       "      <th>1746</th>\n",
       "      <td>Американская компания Boeing приняла решение сократить производство широкофюзеляжных лайнеров 777 на 40% с августа 2017 года, сообщает RNS. Сейчас Boeing производит в среднем 8,3 лайнера в месяц. ...</td>\n",
       "      <td>economics</td>\n",
       "    </tr>\n",
       "    <tr>\n",
       "      <th>1686</th>\n",
       "      <td>НЬЮ-ЙОРК, 13 декабря. /Корр. ТАСС Кирилл Волков/. Самолет германской авиакомпании Lufthansa совершил экстренную посадку в международном аэропорту имени Джона Кеннеди в Нью-Йорке после сообщения о ...</td>\n",
       "      <td>incident</td>\n",
       "    </tr>\n",
       "    <tr>\n",
       "      <th>2334</th>\n",
       "      <td>В Ростовской области сотрудники полиции устанавливают обстоятельства лобового столкновения двух грузовиков Volvo. В результате аварии травмы различной степени тяжести получили водители грузовых ма...</td>\n",
       "      <td>incident</td>\n",
       "    </tr>\n",
       "    <tr>\n",
       "      <th>1894</th>\n",
       "      <td>Самолет авиакомпании Lufthansa экстренно сел в аэропорту Кеннеди в Нью-Йорке из-за угрозы взрыва. Об этом сообщает РИА Новости.\\n\\nчитайте также Поезд Москва - Киев проверят после звонка о бомбе\\n...</td>\n",
       "      <td>incident</td>\n",
       "    </tr>\n",
       "  </tbody>\n",
       "</table>\n",
       "</div>"
      ],
      "text/plain": [
       "                                                                                                                                                                                                         text  \\\n",
       "1746  Американская компания Boeing приняла решение сократить производство широкофюзеляжных лайнеров 777 на 40% с августа 2017 года, сообщает RNS. Сейчас Boeing производит в среднем 8,3 лайнера в месяц. ...   \n",
       "1686  НЬЮ-ЙОРК, 13 декабря. /Корр. ТАСС Кирилл Волков/. Самолет германской авиакомпании Lufthansa совершил экстренную посадку в международном аэропорту имени Джона Кеннеди в Нью-Йорке после сообщения о ...   \n",
       "2334  В Ростовской области сотрудники полиции устанавливают обстоятельства лобового столкновения двух грузовиков Volvo. В результате аварии травмы различной степени тяжести получили водители грузовых ма...   \n",
       "1894  Самолет авиакомпании Lufthansa экстренно сел в аэропорту Кеннеди в Нью-Йорке из-за угрозы взрыва. Об этом сообщает РИА Новости.\\n\\nчитайте также Поезд Москва - Киев проверят после звонка о бомбе\\n...   \n",
       "\n",
       "            tag  \n",
       "1746  economics  \n",
       "1686   incident  \n",
       "2334   incident  \n",
       "1894   incident  "
      ]
     },
     "execution_count": 4,
     "metadata": {},
     "output_type": "execute_result"
    }
   ],
   "source": [
    "data = pd.read_pickle('../data/news.pkl.gz')\n",
    "print('текстов:',len(data))\n",
    "data.sample(4)"
   ]
  },
  {
   "cell_type": "markdown",
   "metadata": {},
   "source": [
    "## токенизация и очистка"
   ]
  },
  {
   "cell_type": "code",
   "execution_count": 5,
   "metadata": {},
   "outputs": [],
   "source": [
    "# лемматизация и очистка с помощью пакета морфологического анализа\n",
    "\n",
    "morph = MorphAnalyzer()\n",
    "\n",
    "# NOUN\tсуществительное\n",
    "# VERB\tглагол\n",
    "# ADJF\tприлагательное\n",
    "def word_normalizer(w, pos_types=('NOUN','VERB','ADJF')):\n",
    "    if not morph.word_is_known(w): return ''\n",
    "    p = morph.parse(w)[0] \n",
    "    return p.normal_form if (p.tag.POS in pos_types) else ''\n",
    "\n",
    "def string_normalizer(s):\n",
    "    return re.sub(r'[\\W]+',' ',s.lower().replace('ё','е'))\n",
    "\n",
    "def text_normalizer(s):\n",
    "    return [ word_normalizer(w) for w in string_normalizer(s).split() ]"
   ]
  },
  {
   "cell_type": "code",
   "execution_count": 6,
   "metadata": {},
   "outputs": [
    {
     "name": "stderr",
     "output_type": "stream",
     "text": [
      "100%|██████████| 3196/3196 [01:41<00:00, 31.58it/s]\n"
     ]
    }
   ],
   "source": [
    "data['ctext'] = data['text'].progress_apply(text_normalizer).apply(' '.join)"
   ]
  },
  {
   "cell_type": "markdown",
   "metadata": {},
   "source": [
    "## модели"
   ]
  },
  {
   "cell_type": "code",
   "execution_count": 7,
   "metadata": {},
   "outputs": [],
   "source": [
    "def print_top_words(model, feature_names, n_top_words=7):\n",
    "    for topic_idx, topic in enumerate(model.components_):\n",
    "        message = \"Тема %d: \" % topic_idx\n",
    "        message += \" \".join([feature_names[i] for i in topic.argsort()[:-n_top_words - 1:-1]])\n",
    "        print(message)"
   ]
  },
  {
   "cell_type": "code",
   "execution_count": 8,
   "metadata": {},
   "outputs": [],
   "source": [
    "n_features = 1000\n",
    "n_components = 10"
   ]
  },
  {
   "cell_type": "markdown",
   "metadata": {},
   "source": [
    "### CountVectorizer + LatentDirichletAllocation"
   ]
  },
  {
   "cell_type": "code",
   "execution_count": 9,
   "metadata": {},
   "outputs": [
    {
     "name": "stdout",
     "output_type": "stream",
     "text": [
      "\n",
      "LDA:\n",
      "\n",
      "Тема 0: президент быть трамп сша свой россия который\n",
      "Тема 1: быть год который человек работа декабрь тот\n",
      "Тема 2: весь быть тот мочь который такой человек\n",
      "Тема 3: год быть который один самый хороший фильм\n",
      "Тема 4: матч команда быть который хороший чемпионат мяч\n",
      "Тема 5: автомобиль быть водитель машина декабрь место произойти\n",
      "Тема 6: компания пользователь сеть сайт интернет реклама сервис\n",
      "Тема 7: народ дело район коренной рф житель малочисленный\n",
      "Тема 8: год рубль миллион компания тысяча доллар рынок\n",
      "Тема 9: группа минск декабрь старый внимание ваш поддерживать\n"
     ]
    }
   ],
   "source": [
    "# tf features \n",
    "tf_vectorizer = CountVectorizer( max_df=0.95, min_df=2, max_features=n_features )\n",
    "tf = tf_vectorizer.fit_transform(data['ctext'])\n",
    "tf_feature_names = tf_vectorizer.get_feature_names()\n",
    "\n",
    "# LDA - латентное размещение Дирихле\n",
    "lda = LatentDirichletAllocation( n_components=n_components, max_iter=5, \n",
    "                                learning_method='online', learning_offset=50.,\n",
    "                                random_state=0 ).fit(tf)\n",
    "print('\\nLDA:\\n')\n",
    "print_top_words(lda, tf_feature_names)"
   ]
  },
  {
   "cell_type": "code",
   "execution_count": 12,
   "metadata": {},
   "outputs": [
    {
     "data": {
      "image/png": "[encoded data removed]",
      "text/plain": [
       "<Figure size 432x288 with 1 Axes>"
      ]
     },
     "metadata": {
      "needs_background": "light"
     },
     "output_type": "display_data"
    }
   ],
   "source": [
    "t = np.argmax(lda.transform(tf),axis=1) \n",
    "plt.hist(t)\n",
    "plt.grid()"
   ]
  },
  {
   "cell_type": "markdown",
   "metadata": {},
   "source": [
    "### TfidfVectorizer + NMF (Frobenius norm)"
   ]
  },
  {
   "cell_type": "code",
   "execution_count": 13,
   "metadata": {},
   "outputs": [
    {
     "name": "stdout",
     "output_type": "stream",
     "text": [
      "\n",
      "NMF:\n",
      "\n",
      "Тема 0: быть год который весь тот россия один\n",
      "Тема 1: трамп сша президент дональд избранный бизнес пост\n",
      "Тема 2: матч чемпионат динамо команда шахтёр лига клуб\n",
      "Тема 3: водитель дтп авария произойти летний автобус автомобиль\n",
      "Тема 4: автомобиль модель компания год рынок новый версия\n",
      "Тема 5: учёный человек исследование университет мозг который организм\n",
      "Тема 6: рубль миллион миллиард доллар тысяча год цена\n",
      "Тема 7: фильм хороший премия награда номинация актёр картина\n",
      "Тема 8: савченко депутат надежда украина партия лидер народный\n",
      "Тема 9: народ коренной малочисленный север край фестиваль традиционный\n"
     ]
    }
   ],
   "source": [
    "# tf-idf features \n",
    "tfidf_vectorizer = TfidfVectorizer( max_df=0.95, min_df=2, max_features=n_features)\n",
    "\n",
    "tfidf = tfidf_vectorizer.fit_transform(data['ctext'])\n",
    "tfidf_feature_names = tfidf_vectorizer.get_feature_names()\n",
    "\n",
    "# NMF (Frobenius norm) - неотрицательное матричное разложение\n",
    "nmf = NMF( n_components=n_components, random_state=1,alpha=.1, l1_ratio=.5 ).fit(tfidf)\n",
    "\n",
    "print('\\nNMF:\\n')\n",
    "print_top_words( nmf, tfidf_feature_names )"
   ]
  },
  {
   "cell_type": "code",
   "execution_count": 14,
   "metadata": {},
   "outputs": [
    {
     "data": {
      "image/png": "[encoded data removed]",
      "text/plain": [
       "<Figure size 432x288 with 1 Axes>"
      ]
     },
     "metadata": {
      "needs_background": "light"
     },
     "output_type": "display_data"
    }
   ],
   "source": [
    "t = np.argmax(nmf.transform(tfidf),axis=1) \n",
    "plt.hist(t)\n",
    "plt.grid()"
   ]
  },
  {
   "cell_type": "markdown",
   "metadata": {},
   "source": [
    "### TfidfVectorizer + NMF (generalized Kullback-Leibler divergence)"
   ]
  },
  {
   "cell_type": "code",
   "execution_count": 15,
   "metadata": {},
   "outputs": [
    {
     "name": "stdout",
     "output_type": "stream",
     "text": [
      "\n",
      "NMF:\n",
      "\n",
      "Тема 0: быть который год тот россия этот мочь\n",
      "Тема 1: президент трамп сша министр глава заявить путин\n",
      "Тема 2: матч чемпионат команда клуб чемпион мир динамо\n",
      "Тема 3: водитель летний дтп произойти улица место человек\n",
      "Тема 4: автомобиль компания модель машина версия год новый\n",
      "Тема 5: учёный человек который самый весь женщина мочь\n",
      "Тема 6: рубль миллион доллар миллиард год тысяча цена\n",
      "Тема 7: фильм хороший премия актёр год концерт картина\n",
      "Тема 8: савченко украина депутат надежда государственный партия вопрос\n",
      "Тема 9: пользователь народ коренной север малочисленный центр самолёт\n"
     ]
    }
   ],
   "source": [
    "# tf-idf features \n",
    "tfidf_vectorizer = TfidfVectorizer( max_df=0.95, min_df=2, max_features=n_features)\n",
    "\n",
    "tfidf = tfidf_vectorizer.fit_transform(data['ctext'])\n",
    "tfidf_feature_names = tfidf_vectorizer.get_feature_names()\n",
    "\n",
    "# NMF (generalized Kullback-Leibler divergence) \n",
    "nmf = NMF( n_components=n_components, random_state=1, beta_loss='kullback-leibler', \n",
    "          solver='mu', max_iter=1000, alpha=.1, l1_ratio=.5 ).fit(tfidf)\n",
    "\n",
    "print('\\nNMF:\\n')\n",
    "print_top_words( nmf, tfidf_feature_names )"
   ]
  },
  {
   "cell_type": "code",
   "execution_count": 16,
   "metadata": {},
   "outputs": [
    {
     "data": {
      "image/png": "[encoded data removed]",
      "text/plain": [
       "<Figure size 432x288 with 1 Axes>"
      ]
     },
     "metadata": {
      "needs_background": "light"
     },
     "output_type": "display_data"
    }
   ],
   "source": [
    "t = np.argmax(nmf.transform(tfidf),axis=1) \n",
    "plt.hist(t)\n",
    "plt.grid()"
   ]
  },
  {
   "cell_type": "code",
   "execution_count": null,
   "metadata": {},
   "outputs": [],
   "source": []
  }
 ],
 "metadata": {
  "kernelspec": {
   "display_name": "Python 3",
   "language": "python",
   "name": "python3"
  },
  "language_info": {
   "codemirror_mode": {
    "name": "ipython",
    "version": 3
   },
   "file_extension": ".py",
   "mimetype": "text/x-python",
   "name": "python",
   "nbconvert_exporter": "python",
   "pygments_lexer": "ipython3",
   "version": "3.9.0"
  },
  "toc": {
   "base_numbering": 1,
   "nav_menu": {},
   "number_sections": true,
   "sideBar": true,
   "skip_h1_title": false,
   "title_cell": "Table of Contents",
   "title_sidebar": "Contents",
   "toc_cell": false,
   "toc_position": {},
   "toc_section_display": true,
   "toc_window_display": false
  }
 },
 "nbformat": 4,
 "nbformat_minor": 2
}
