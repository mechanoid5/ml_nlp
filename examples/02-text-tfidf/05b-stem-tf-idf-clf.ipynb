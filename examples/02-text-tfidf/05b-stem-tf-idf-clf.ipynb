{
 "cells": [
  {
   "cell_type": "markdown",
   "metadata": {},
   "source": [
    "**извлечение признаков из текста на естественном языке**\n",
    "\n",
    "классификатор текстов TfidfVectorizer, вместо удаления стоп-слов используем обратную частоту IDF\n",
    "\n",
    "Евгений Борисов borisov.e@solarl.ru"
   ]
  },
  {
   "cell_type": "markdown",
   "metadata": {},
   "source": [
    "## библиотеки"
   ]
  },
  {
   "cell_type": "code",
   "execution_count": 1,
   "metadata": {},
   "outputs": [
    {
     "name": "stderr",
     "output_type": "stream",
     "text": [
      "/usr/lib/python3.8/site-packages/tqdm/std.py:703: FutureWarning: The Panel class is removed from pandas. Accessing it from the top-level namespace will also be removed in the next version\n",
      "  from pandas import Panel\n"
     ]
    }
   ],
   "source": [
    "import re\n",
    "# import gzip\n",
    "import numpy as np\n",
    "import numpy.random as rng\n",
    "import pandas as pd\n",
    "from tqdm import tqdm\n",
    "\n",
    "np.set_printoptions(precision=2) # вывод на печать чисел до 2 знака\n",
    "pd.options.display.max_colwidth = 200 \n",
    "\n",
    "tqdm.pandas()"
   ]
  },
  {
   "cell_type": "code",
   "execution_count": 2,
   "metadata": {},
   "outputs": [],
   "source": [
    "# import numpy as np\n",
    "# import pandas as pd\n",
    "# import re"
   ]
  },
  {
   "cell_type": "code",
   "execution_count": 3,
   "metadata": {},
   "outputs": [
    {
     "data": {
      "text/plain": [
       "'0.23.2'"
      ]
     },
     "execution_count": 3,
     "metadata": {},
     "output_type": "execute_result"
    }
   ],
   "source": [
    "from sklearn import __version__ as SKLEARN_VERSION\n",
    "\n",
    "from sklearn.feature_extraction.text import TfidfVectorizer\n",
    "\n",
    "from sklearn.model_selection import train_test_split\n",
    "from sklearn.metrics import confusion_matrix\n",
    "from sklearn.metrics import classification_report\n",
    "from sklearn.metrics import accuracy_score\n",
    "\n",
    "SKLEARN_VERSION"
   ]
  },
  {
   "cell_type": "code",
   "execution_count": 4,
   "metadata": {},
   "outputs": [],
   "source": [
    "from nltk.stem.snowball import SnowballStemmer\n",
    "# from nltk.corpus import stopwords as nltk_stopwords\n",
    "# from nltk import download as nltk_download\n",
    "# nltk_download('stopwords')"
   ]
  },
  {
   "cell_type": "markdown",
   "metadata": {},
   "source": [
    "## тексты"
   ]
  },
  {
   "cell_type": "code",
   "execution_count": 5,
   "metadata": {},
   "outputs": [
    {
     "name": "stdout",
     "output_type": "stream",
     "text": [
      "записей: 3196\n"
     ]
    },
    {
     "data": {
      "text/html": [
       "<div>\n",
       "<style scoped>\n",
       "    .dataframe tbody tr th:only-of-type {\n",
       "        vertical-align: middle;\n",
       "    }\n",
       "\n",
       "    .dataframe tbody tr th {\n",
       "        vertical-align: top;\n",
       "    }\n",
       "\n",
       "    .dataframe thead th {\n",
       "        text-align: right;\n",
       "    }\n",
       "</style>\n",
       "<table border=\"1\" class=\"dataframe\">\n",
       "  <thead>\n",
       "    <tr style=\"text-align: right;\">\n",
       "      <th></th>\n",
       "      <th>text</th>\n",
       "      <th>tag</th>\n",
       "    </tr>\n",
       "  </thead>\n",
       "  <tbody>\n",
       "    <tr>\n",
       "      <th>2284</th>\n",
       "      <td>На месте работает 11 пожарных машин.\\n\\nСегодня вечером на берегу Верх-Исетского пруда загорелся большой банный комплекс.\\n\\nПо словам завхоза бани, отлучившегося из здания буквально на 15 минут, ...</td>\n",
       "      <td>incident</td>\n",
       "    </tr>\n",
       "    <tr>\n",
       "      <th>1671</th>\n",
       "      <td>ЛОНДОН, 13 декабря. /Корр. ТАСС Максим Рыжков/. Избранный президент США Дональд Трамп признан \"человеком года\" по версии британской деловой газеты Financial Times. Об этом говорится в вышедшем во ...</td>\n",
       "      <td>politics</td>\n",
       "    </tr>\n",
       "  </tbody>\n",
       "</table>\n",
       "</div>"
      ],
      "text/plain": [
       "                                                                                                                                                                                                         text  \\\n",
       "2284  На месте работает 11 пожарных машин.\\n\\nСегодня вечером на берегу Верх-Исетского пруда загорелся большой банный комплекс.\\n\\nПо словам завхоза бани, отлучившегося из здания буквально на 15 минут, ...   \n",
       "1671  ЛОНДОН, 13 декабря. /Корр. ТАСС Максим Рыжков/. Избранный президент США Дональд Трамп признан \"человеком года\" по версии британской деловой газеты Financial Times. Об этом говорится в вышедшем во ...   \n",
       "\n",
       "           tag  \n",
       "2284  incident  \n",
       "1671  politics  "
      ]
     },
     "execution_count": 5,
     "metadata": {},
     "output_type": "execute_result"
    }
   ],
   "source": [
    "# загружаем тексты\n",
    "data = pd.read_pickle('../data/news.pkl.gz')\n",
    "print('записей:',len(data))\n",
    "data.sample(2)"
   ]
  },
  {
   "cell_type": "markdown",
   "metadata": {},
   "source": [
    "## токенизация и очистка"
   ]
  },
  {
   "cell_type": "code",
   "execution_count": 6,
   "metadata": {},
   "outputs": [],
   "source": [
    "# собираем словарь из текстов\n",
    "def get_vocabulary(ds):\n",
    "    vcb = [ set(s) for s in ds.tolist() ]\n",
    "    return sorted(set.union(*vcb))"
   ]
  },
  {
   "cell_type": "code",
   "execution_count": 7,
   "metadata": {},
   "outputs": [],
   "source": [
    "# применяет список замен pat к строке s\n",
    "def replace_patterns(s,pat):\n",
    "    if len(pat)<1: return s\n",
    "    return  replace_patterns( re.sub(pat[0][0],pat[0][1],s), pat[1:] )\n",
    "\n",
    "# нормализация текста\n",
    "def string_normalizer(s):\n",
    "    pat = [\n",
    "       [r'ё','е'] # замена ё для унификации\n",
    "       ,[r'</?[a-z]+>',' '] # удаляем xml\n",
    "       ,[r'[^a-zа-я\\- ]+',' '] # оставляем только буквы, пробел и -\n",
    "       ,[r' -\\w+',' '] # удаляем '-й','-тый' и т.п.\n",
    "       ,[r'\\w+- ',' ']\n",
    "       ,[r' +',' '] # удаляем повторы пробелов\n",
    "    ]\n",
    "    return replace_patterns(s.lower(),pat).strip()\n",
    "\n",
    "\n",
    "stemmer = SnowballStemmer('russian')\n",
    "\n",
    "# разрезаем стоки на слова, НЕ выкидываем stopwords, выполняем стеминг\n",
    "def tokenize_stemmer(s): \n",
    "    p = [ stemmer.stem(w).replace('^','') for w in s.split(' ') ]\n",
    "    return [ w for w in p if (len(w)>1) ]\n",
    "\n",
    "# stopwords = set(nltk_stopwords.words('russian'))\n",
    "# p = [ stemmer.stem(w).replace('^','') for w in s.split(' ') if ( w not in stopwords ) ]"
   ]
  },
  {
   "cell_type": "code",
   "execution_count": 8,
   "metadata": {},
   "outputs": [
    {
     "name": "stderr",
     "output_type": "stream",
     "text": [
      "100%|██████████| 3196/3196 [00:00<00:00, 5152.33it/s]\n"
     ]
    }
   ],
   "source": [
    "data['ctext'] = data['text'].progress_apply(string_normalizer)"
   ]
  },
  {
   "cell_type": "code",
   "execution_count": 9,
   "metadata": {},
   "outputs": [
    {
     "name": "stderr",
     "output_type": "stream",
     "text": [
      "100%|██████████| 3196/3196 [00:21<00:00, 149.88it/s]\n"
     ]
    }
   ],
   "source": [
    "data['ctext'] = data['ctext'].progress_apply( tokenize_stemmer ) "
   ]
  },
  {
   "cell_type": "code",
   "execution_count": 10,
   "metadata": {},
   "outputs": [
    {
     "name": "stdout",
     "output_type": "stream",
     "text": [
      "словарь 36424 слов\n"
     ]
    }
   ],
   "source": [
    "vcb0 =  get_vocabulary( data['ctext'] )\n",
    "print('словарь %i слов'%(len(vcb0)))\n",
    "# pd.DataFrame( vcb ).to_csv('voc.txt',index=False,header=False)"
   ]
  },
  {
   "cell_type": "markdown",
   "metadata": {},
   "source": [
    "##  Vectorizer"
   ]
  },
  {
   "cell_type": "code",
   "execution_count": 11,
   "metadata": {},
   "outputs": [],
   "source": [
    "data['ctext'] = data['ctext'].apply(' '.join) "
   ]
  },
  {
   "cell_type": "code",
   "execution_count": 12,
   "metadata": {},
   "outputs": [
    {
     "name": "stdout",
     "output_type": "stream",
     "text": [
      "36424\n"
     ]
    }
   ],
   "source": [
    "def tokenizer(s): \n",
    "    for w in s.split(' '):\n",
    "        if (len(w)>1): \n",
    "            yield w\n",
    "\n",
    "tf = TfidfVectorizer(use_idf=True, norm='l2', tokenizer=tokenizer, token_pattern=None).fit( data['ctext'] )\n",
    "vcb1 = sorted(tf.vocabulary_)\n",
    "print(len(vcb1))\n",
    "# pd.DataFrame( vcb1 ).to_csv('voc1.txt',index=False,header=False)"
   ]
  },
  {
   "cell_type": "code",
   "execution_count": 13,
   "metadata": {},
   "outputs": [
    {
     "data": {
      "text/plain": [
       "set()"
      ]
     },
     "execution_count": 13,
     "metadata": {},
     "output_type": "execute_result"
    }
   ],
   "source": [
    "# разница между исходным словарём и словарём векторайзера\n",
    "set(vcb0)^set(vcb1)"
   ]
  },
  {
   "cell_type": "markdown",
   "metadata": {},
   "source": [
    "## формируем датасеты"
   ]
  },
  {
   "cell_type": "code",
   "execution_count": 14,
   "metadata": {},
   "outputs": [
    {
     "data": {
      "text/plain": [
       "(3196, 36424)"
      ]
     },
     "execution_count": 14,
     "metadata": {},
     "output_type": "execute_result"
    }
   ],
   "source": [
    "X = tf.transform( data['ctext'])\n",
    "X.shape"
   ]
  },
  {
   "cell_type": "code",
   "execution_count": 15,
   "metadata": {},
   "outputs": [
    {
     "data": {
      "text/plain": [
       "{'auto': 0,\n",
       " 'culture': 1,\n",
       " 'economics': 2,\n",
       " 'health': 3,\n",
       " 'incident': 4,\n",
       " 'politics': 5,\n",
       " 'realty': 6,\n",
       " 'reclama': 7,\n",
       " 'science': 8,\n",
       " 'social': 9,\n",
       " 'sport': 10,\n",
       " 'tech': 11,\n",
       " 'woman': 12}"
      ]
     },
     "execution_count": 15,
     "metadata": {},
     "output_type": "execute_result"
    }
   ],
   "source": [
    "labels = { t:i for i,t in enumerate(sorted(set(data['tag']))) }\n",
    "labels"
   ]
  },
  {
   "cell_type": "code",
   "execution_count": 16,
   "metadata": {},
   "outputs": [
    {
     "data": {
      "text/plain": [
       "array([5, 1, 1, ..., 8, 5, 9])"
      ]
     },
     "execution_count": 16,
     "metadata": {},
     "output_type": "execute_result"
    }
   ],
   "source": [
    "y = data['tag'].map(labels).values\n",
    "y"
   ]
  },
  {
   "cell_type": "code",
   "execution_count": 17,
   "metadata": {},
   "outputs": [
    {
     "data": {
      "text/plain": [
       "((2237, 36424), (2237,), (959, 36424), (959,))"
      ]
     },
     "execution_count": 17,
     "metadata": {},
     "output_type": "execute_result"
    }
   ],
   "source": [
    "X_train, X_test, y_train, y_test = train_test_split( X, y, test_size=0.3, random_state=326 )\n",
    "X_train.shape, y_train.shape, X_test.shape, y_test.shape"
   ]
  },
  {
   "cell_type": "markdown",
   "metadata": {},
   "source": [
    "## обучаем классификатор"
   ]
  },
  {
   "cell_type": "code",
   "execution_count": 18,
   "metadata": {},
   "outputs": [
    {
     "data": {
      "text/plain": [
       "SGDClassifier(tol=0.19)"
      ]
     },
     "execution_count": 18,
     "metadata": {},
     "output_type": "execute_result"
    }
   ],
   "source": [
    "from sklearn.linear_model import SGDClassifier\n",
    "\n",
    "clf = SGDClassifier(loss='hinge',max_iter=1000, tol=0.19)\n",
    "clf.fit(X_train,y_train)"
   ]
  },
  {
   "cell_type": "markdown",
   "metadata": {},
   "source": [
    "## тестируем"
   ]
  },
  {
   "cell_type": "code",
   "execution_count": 19,
   "metadata": {},
   "outputs": [
    {
     "data": {
      "text/plain": [
       "0.9995529727313366"
      ]
     },
     "execution_count": 19,
     "metadata": {},
     "output_type": "execute_result"
    }
   ],
   "source": [
    "# доля правильных ответов на учебном наборе\n",
    "o = clf.predict(X_train)\n",
    "accuracy_score(y_train,o)"
   ]
  },
  {
   "cell_type": "code",
   "execution_count": 20,
   "metadata": {},
   "outputs": [
    {
     "data": {
      "text/plain": [
       "0.881126173096976"
      ]
     },
     "execution_count": 20,
     "metadata": {},
     "output_type": "execute_result"
    }
   ],
   "source": [
    "# доля правильных ответов на тестовом наборе\n",
    "o = clf.predict(X_test)\n",
    "accuracy_score(y_test,o)"
   ]
  },
  {
   "cell_type": "code",
   "execution_count": 21,
   "metadata": {},
   "outputs": [
    {
     "name": "stdout",
     "output_type": "stream",
     "text": [
      "              precision    recall  f1-score   support\n",
      "\n",
      "           0       0.93      0.89      0.91        87\n",
      "           1       0.81      0.95      0.87       101\n",
      "           2       0.87      0.82      0.84        76\n",
      "           3       0.86      0.77      0.81        31\n",
      "           4       0.88      0.93      0.91       123\n",
      "           5       0.89      0.95      0.92       177\n",
      "           6       0.81      0.81      0.81        21\n",
      "           7       1.00      0.71      0.83        17\n",
      "           8       0.85      1.00      0.92        68\n",
      "           9       0.64      0.32      0.42        44\n",
      "          10       0.99      1.00      1.00       118\n",
      "          11       0.87      0.76      0.81        89\n",
      "          12       0.86      0.86      0.86         7\n",
      "\n",
      "    accuracy                           0.88       959\n",
      "   macro avg       0.87      0.83      0.84       959\n",
      "weighted avg       0.88      0.88      0.87       959\n",
      "\n"
     ]
    }
   ],
   "source": [
    "print( classification_report(y_test,o) )"
   ]
  },
  {
   "cell_type": "markdown",
   "metadata": {},
   "source": [
    "---"
   ]
  },
  {
   "cell_type": "code",
   "execution_count": 22,
   "metadata": {},
   "outputs": [
    {
     "data": {
      "image/png": "[encoded data removed]",
      "text/plain": [
       "<Figure size 720x648 with 2 Axes>"
      ]
     },
     "metadata": {
      "needs_background": "light"
     },
     "output_type": "display_data"
    }
   ],
   "source": [
    "from matplotlib import pyplot as plt\n",
    "import itertools\n",
    "\n",
    "classes = sorted(labels.keys())\n",
    "cm = confusion_matrix(y_test,o)\n",
    "tick_marks = np.arange(len(classes))\n",
    "\n",
    "plt.figure(figsize=(10,9))\n",
    "\n",
    "plt.xticks(tick_marks, classes, rotation=45)\n",
    "plt.yticks(tick_marks, classes)\n",
    "\n",
    "thresh = cm.max() / 2.\n",
    "for i, j in itertools.product(range(cm.shape[0]), range(cm.shape[1])):\n",
    "    plt.text(j, i, format(cm[i, j], 'd'),\n",
    "             horizontalalignment=\"center\",\n",
    "             color=\"white\" if cm[i, j] > thresh else \"black\")\n",
    "\n",
    "plt.title('Confusion matrix')\n",
    "plt.tight_layout()\n",
    "plt.ylabel('True label')\n",
    "plt.xlabel('Predicted label')\n",
    "plt.imshow(cm, interpolation='nearest', cmap=plt.cm.Blues)\n",
    "plt.colorbar()\n",
    "\n",
    "plt.show()"
   ]
  },
  {
   "cell_type": "markdown",
   "metadata": {},
   "source": [
    "---"
   ]
  },
  {
   "cell_type": "code",
   "execution_count": 23,
   "metadata": {},
   "outputs": [],
   "source": [
    "o = clf.predict(X)"
   ]
  },
  {
   "cell_type": "code",
   "execution_count": 24,
   "metadata": {},
   "outputs": [],
   "source": [
    "labels_inv = { labels[k]:k for k in labels }\n",
    "# labels_inv"
   ]
  },
  {
   "cell_type": "code",
   "execution_count": 25,
   "metadata": {},
   "outputs": [
    {
     "name": "stdout",
     "output_type": "stream",
     "text": [
      "tag: tech\n",
      "predict: tech\n",
      "LinkedIn может вернуться в Россию в 2017-м году Деловая социальная сеть LinkedIn может вернуть себе работоспособность на территории России. Роскомнадзор, по инициативе которого сеть была заблокирован...\n",
      "- - - - - - - - - - - - - - - - - -\n",
      "tag: politics\n",
      "predict: politics\n",
      "Заявление первого президента СССР Михаила Горбачева о том, что в границах бывшего Советского Союза может появиться новое государство, — не более чем популизм. Такое мнение в беседе с «Лентой.ру» выска...\n",
      "- - - - - - - - - - - - - - - - - -\n",
      "tag: incident\n",
      "predict: incident\n",
      "Неизвестные застрелили двоих посетителей кафе в Стокгольме 3 декабря 2016 в 18:51 Lenta.ru Департамент полиции шведской столицы Стокгольма начал расследование двойного убийства на севере города. Об...\n",
      "- - - - - - - - - - - - - - - - - -\n",
      "tag: culture\n",
      "predict: culture\n",
      "Сегодня в Соликамске откроет двери обновленный художественный музей Свой\n",
      "30-летний юбилей Художественный музей г. Соликамска (Пермская область)\n",
      "отметит открытием новой выставки. 25 ноября в рамках юби...\n",
      "- - - - - - - - - - - - - - - - - -\n",
      "tag: economics\n",
      "predict: economics\n",
      "На торгах 2 декабря евро и доллар подорожали 2 декабря 2016 в 12:40 TUT.BY Фото: Дмитрий Брушко, TUT.BY На Белорусской валютно-фондовой бирже 2 декабря прошли очередные торги валютами. Рубль снизи...\n",
      "- - - - - - - - - - - - - - - - - -\n",
      "tag: sport\n",
      "predict: sport\n",
      "МОСКВА, 12 дек — РИА Новости. Во время матча 18-го тура чемпионата Украины по футболу между киевским \"Динамо\" и донецким \"Шахтером\" произошла массовая драка футболистов, сообщает телеканал ТСН. На 59...\n",
      "- - - - - - - - - - - - - - - - - -\n",
      "tag: tech\n",
      "predict: politics\n",
      "Хокинг провозгласил наступление \"самого опасного времени на планете\" 2 декабря 2016 в 13:28 Lenta.ru Британский физик-теоретик Стивен Хокинг полагает, что наступило «самое опасное время для нашей п...\n",
      "- - - - - - - - - - - - - - - - - -\n",
      "tag: culture\n",
      "predict: culture\n",
      "коренные Малочисленные народы севера, сибири и дальнего востока рф ТИА\n",
      "<Острова> (г. Южно-Сахалинск) Аборигены Дальнего Востока просят защиты у\n",
      "духов огня В селе Гвасюги Хабаровского края прошел фольк...\n",
      "- - - - - - - - - - - - - - - - - -\n",
      "tag: sport\n",
      "predict: sport\n",
      "«Сакраменто» одержал победу над «Лейкерс» в матче регулярного чемпионата НБА. Российский центровой гостей Тимофей Мозгов провел на площадке 23 минуты, набрал восемь очков и сделал шесть подборов и од...\n",
      "- - - - - - - - - - - - - - - - - -\n",
      "tag: incident\n",
      "predict: incident\n",
      "В Индонезии разбился самолет с полицейскими: 13 человек погибли 3 декабря 2016 в 16:48 Newsru В Индонезии разбился полицейский самолет с 13 людьми на борту. На место крушения у острова Батам направ...\n",
      "- - - - - - - - - - - - - - - - - -\n"
     ]
    }
   ],
   "source": [
    "for n in range(10):\n",
    "    i = rng.randint(len(data))\n",
    "    print('tag:',data.iloc[i,1])\n",
    "    print('predict:',labels_inv[o[i]])\n",
    "    print(re.sub(r'\\n\\s*\\n',' ',data.iloc[i,0][:200])+'...')\n",
    "    print('- - - - - - - - - - - - - - - - - -')\n",
    "    "
   ]
  },
  {
   "cell_type": "code",
   "execution_count": null,
   "metadata": {},
   "outputs": [],
   "source": [
    "# https://habr.com/ru/post/205360/"
   ]
  }
 ],
 "metadata": {
  "kernelspec": {
   "display_name": "Python 3",
   "language": "python",
   "name": "python3"
  },
  "language_info": {
   "codemirror_mode": {
    "name": "ipython",
    "version": 3
   },
   "file_extension": ".py",
   "mimetype": "text/x-python",
   "name": "python",
   "nbconvert_exporter": "python",
   "pygments_lexer": "ipython3",
   "version": "3.8.6"
  },
  "toc": {
   "base_numbering": 1,
   "nav_menu": {},
   "number_sections": true,
   "sideBar": true,
   "skip_h1_title": false,
   "title_cell": "Table of Contents",
   "title_sidebar": "Contents",
   "toc_cell": false,
   "toc_position": {},
   "toc_section_display": true,
   "toc_window_display": true
  }
 },
 "nbformat": 4,
 "nbformat_minor": 2
}
