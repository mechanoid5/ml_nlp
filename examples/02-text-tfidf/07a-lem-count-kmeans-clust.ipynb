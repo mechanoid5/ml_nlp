{
 "cells": [
  {
   "cell_type": "markdown",
   "metadata": {},
   "source": [
    "**извлечение признаков из текста на естественном языке**\n",
    "\n",
    "кластеризатор текстов   \n",
    "   лемматизация + CountVectorizer + KMeans\n",
    "\n",
    "Евгений Борисов borisov.e@solarl.ru"
   ]
  },
  {
   "cell_type": "markdown",
   "metadata": {},
   "source": [
    "## библиотеки"
   ]
  },
  {
   "cell_type": "code",
   "execution_count": 1,
   "metadata": {},
   "outputs": [
    {
     "name": "stderr",
     "output_type": "stream",
     "text": [
      "/usr/lib/python3.8/site-packages/tqdm/std.py:703: FutureWarning: The Panel class is removed from pandas. Accessing it from the top-level namespace will also be removed in the next version\n",
      "  from pandas import Panel\n"
     ]
    }
   ],
   "source": [
    "import re\n",
    "# import gzip\n",
    "import numpy as np\n",
    "import numpy.random as rng\n",
    "import pandas as pd\n",
    "from tqdm import tqdm\n",
    "\n",
    "np.set_printoptions(precision=2) # вывод на печать чисел до 2 знака\n",
    "pd.options.display.max_colwidth = 200 \n",
    "\n",
    "tqdm.pandas()"
   ]
  },
  {
   "cell_type": "code",
   "execution_count": 2,
   "metadata": {},
   "outputs": [
    {
     "data": {
      "text/plain": [
       "'0.23.2'"
      ]
     },
     "execution_count": 2,
     "metadata": {},
     "output_type": "execute_result"
    }
   ],
   "source": [
    "from sklearn import __version__ as SKLEARN_VERSION\n",
    "\n",
    "from sklearn.feature_extraction.text import CountVectorizer\n",
    "from sklearn.cluster import KMeans\n",
    "from matplotlib import pyplot as plt\n",
    "\n",
    "from pymorphy2 import MorphAnalyzer\n",
    "\n",
    "SKLEARN_VERSION"
   ]
  },
  {
   "cell_type": "markdown",
   "metadata": {},
   "source": [
    "## тексты"
   ]
  },
  {
   "cell_type": "code",
   "execution_count": 3,
   "metadata": {},
   "outputs": [
    {
     "name": "stdout",
     "output_type": "stream",
     "text": [
      "записей: 3196\n"
     ]
    }
   ],
   "source": [
    "# загружаем тексты\n",
    "data = pd.read_pickle('../data/news.pkl.gz')\n",
    "print('записей:',len(data))"
   ]
  },
  {
   "cell_type": "code",
   "execution_count": 4,
   "metadata": {},
   "outputs": [
    {
     "data": {
      "text/html": [
       "<div>\n",
       "<style scoped>\n",
       "    .dataframe tbody tr th:only-of-type {\n",
       "        vertical-align: middle;\n",
       "    }\n",
       "\n",
       "    .dataframe tbody tr th {\n",
       "        vertical-align: top;\n",
       "    }\n",
       "\n",
       "    .dataframe thead th {\n",
       "        text-align: right;\n",
       "    }\n",
       "</style>\n",
       "<table border=\"1\" class=\"dataframe\">\n",
       "  <thead>\n",
       "    <tr style=\"text-align: right;\">\n",
       "      <th></th>\n",
       "      <th>text</th>\n",
       "      <th>tag</th>\n",
       "    </tr>\n",
       "  </thead>\n",
       "  <tbody>\n",
       "    <tr>\n",
       "      <th>2557</th>\n",
       "      <td>Как оказалось, почти 90% вегетарианцев отказываются от этой диеты в течение 6 месяцев после знакомства с ней. Никто не отрицает полезности натуральных продуктов, но люди не выдерживают питания без...</td>\n",
       "      <td>science</td>\n",
       "    </tr>\n",
       "    <tr>\n",
       "      <th>517</th>\n",
       "      <td>Граната рядом с трассой. Черный копатель \"заминировал\" дорогу под Витебском\\n\\n8 декабря 2016 в 8:11\\n\\nЕлена Бегунова, СБ Беларусь Сегодня\\n\\nПроезжая недалеко от городского поселка Руба, водител...</td>\n",
       "      <td>incident</td>\n",
       "    </tr>\n",
       "  </tbody>\n",
       "</table>\n",
       "</div>"
      ],
      "text/plain": [
       "                                                                                                                                                                                                         text  \\\n",
       "2557  Как оказалось, почти 90% вегетарианцев отказываются от этой диеты в течение 6 месяцев после знакомства с ней. Никто не отрицает полезности натуральных продуктов, но люди не выдерживают питания без...   \n",
       "517   Граната рядом с трассой. Черный копатель \"заминировал\" дорогу под Витебском\\n\\n8 декабря 2016 в 8:11\\n\\nЕлена Бегунова, СБ Беларусь Сегодня\\n\\nПроезжая недалеко от городского поселка Руба, водител...   \n",
       "\n",
       "           tag  \n",
       "2557   science  \n",
       "517   incident  "
      ]
     },
     "execution_count": 4,
     "metadata": {},
     "output_type": "execute_result"
    }
   ],
   "source": [
    "data.sample(2)"
   ]
  },
  {
   "cell_type": "markdown",
   "metadata": {},
   "source": [
    "## токенизация и очистка"
   ]
  },
  {
   "cell_type": "code",
   "execution_count": 5,
   "metadata": {},
   "outputs": [],
   "source": [
    "# собираем словарь из текстов\n",
    "def get_vocabulary(ds):\n",
    "    vcb = [ set(s) for s in ds.tolist() ]\n",
    "    return sorted(set.union(*vcb))"
   ]
  },
  {
   "cell_type": "code",
   "execution_count": 6,
   "metadata": {},
   "outputs": [],
   "source": [
    "# лемматизация и очистка с помощью пакета морфологического анализа\n",
    "\n",
    "morph = MorphAnalyzer()\n",
    "\n",
    "# применяет список замен pat к строке s\n",
    "def replace_patterns(s,pat):\n",
    "    if len(pat)<1: return s\n",
    "    return  replace_patterns( re.sub(pat[0][0],pat[0][1],s), pat[1:] )\n",
    "\n",
    "# нормализация текста\n",
    "def string_normalizer(s):\n",
    "    pat = [\n",
    "       [r'ё','е'] # замена ё для унификации\n",
    "       ,[r'</?[a-z]+>',' '] # удаляем xml\n",
    "       ,[r'[^a-zа-я\\- ]+',' '] # оставляем только буквы, пробел и -\n",
    "       ,[r' -\\w+',' '] # удаляем '-й','-тый' и т.п.\n",
    "       ,[r'\\w+- ',' ']\n",
    "       ,[r' +',' '] # удаляем повторы пробелов\n",
    "    ]\n",
    "    return replace_patterns(s.lower(),pat).strip()\n",
    "\n",
    "# NOUN (существительное), VERB (глагол), ADJF (прилагательное)\n",
    "def word_normalizer(w, pos_types=('NOUN','VERB','ADJF')):\n",
    "    if not morph.word_is_known(w): return ''\n",
    "    p = morph.parse(w)[0] \n",
    "    return p.normal_form if (p.tag.POS in pos_types) else ''\n",
    "\n",
    "\n",
    "def tokenize_normalize(s):\n",
    "    return [ word_normalizer(w) for w in s.split(' ') if len(w)>1 ]"
   ]
  },
  {
   "cell_type": "code",
   "execution_count": 7,
   "metadata": {},
   "outputs": [
    {
     "name": "stderr",
     "output_type": "stream",
     "text": [
      "100%|██████████| 3196/3196 [00:00<00:00, 5231.45it/s]\n",
      "100%|██████████| 3196/3196 [01:13<00:00, 43.38it/s]\n"
     ]
    }
   ],
   "source": [
    "data['ctext'] = data['text']\\\n",
    "                    .progress_apply(string_normalizer)\\\n",
    "                    .progress_apply(tokenize_normalize)"
   ]
  },
  {
   "cell_type": "code",
   "execution_count": 8,
   "metadata": {},
   "outputs": [
    {
     "name": "stdout",
     "output_type": "stream",
     "text": [
      "словарь 22123 слов\n"
     ]
    }
   ],
   "source": [
    "vcb0 =  get_vocabulary( data['ctext'] )\n",
    "print('словарь %i слов'%(len(vcb0)))\n",
    "# pd.DataFrame( vcb ).to_csv('voc0.txt',index=False,header=False)"
   ]
  },
  {
   "cell_type": "code",
   "execution_count": 9,
   "metadata": {},
   "outputs": [],
   "source": [
    "data['ctext'] = data['ctext'].apply(' '.join)"
   ]
  },
  {
   "cell_type": "code",
   "execution_count": 10,
   "metadata": {},
   "outputs": [
    {
     "data": {
      "text/html": [
       "<div>\n",
       "<style scoped>\n",
       "    .dataframe tbody tr th:only-of-type {\n",
       "        vertical-align: middle;\n",
       "    }\n",
       "\n",
       "    .dataframe tbody tr th {\n",
       "        vertical-align: top;\n",
       "    }\n",
       "\n",
       "    .dataframe thead th {\n",
       "        text-align: right;\n",
       "    }\n",
       "</style>\n",
       "<table border=\"1\" class=\"dataframe\">\n",
       "  <thead>\n",
       "    <tr style=\"text-align: right;\">\n",
       "      <th></th>\n",
       "      <th>text</th>\n",
       "      <th>tag</th>\n",
       "      <th>ctext</th>\n",
       "    </tr>\n",
       "  </thead>\n",
       "  <tbody>\n",
       "    <tr>\n",
       "      <th>402</th>\n",
       "      <td>миллионов долларов на изучение \"птичьего гриппа\" выделят в\\nВеликобритании Представители британского Совета по медицинским исследованиям\\nв среду, 30 ноября, заявили о намерении создать фонд разме...</td>\n",
       "      <td>health</td>\n",
       "      <td>миллион доллар  изучение птичий грипп выделить великобритания представитель британский совет  медицинский исследование среда ноябрь заявить намерение  фонд размер миллион фунт миллион доллар  кото...</td>\n",
       "    </tr>\n",
       "    <tr>\n",
       "      <th>3137</th>\n",
       "      <td>О традициях финно-угорских и самодийских народов расскажет новый фильм\\nНовости-online (Регион-Информ-Москва) О реализации программы \"Улучшение\\nжилищных условий населения Ханты-Мансийского автоно...</td>\n",
       "      <td>culture</td>\n",
       "      <td>традиция финно-угорский  народ рассказать новый фильм   реализация программа улучшение жилищный условие население ханты-мансийский автономный округа югра  год  июльский заседание депутат окружный ...</td>\n",
       "    </tr>\n",
       "    <tr>\n",
       "      <th>1823</th>\n",
       "      <td>Общая сумма ущерба от тайфуна «Лайонрок» в Приморском крае составляет 7 миллиардов рублей, об это сообщил губернатор региона Владимир Миклушевский.\\n\\n«Посчитана сумма ущерба, она составляет более...</td>\n",
       "      <td>incident</td>\n",
       "      <td>общий сумма ущерб  тайфун  приморский край составлять миллиард рубль   сообщить губернатор регион владимир   сумма ущерб  составлять  миллиард рубль миллиард самый большой сумма  восстановление до...</td>\n",
       "    </tr>\n",
       "    <tr>\n",
       "      <th>741</th>\n",
       "      <td>Балы и фестивали. Более 1,5 тысячи новогодних мероприятий ждет юных жителей Брестской области\\n\\n8 декабря 2016 в 11:18\\n\\nБЕЛТА\\n\\nБолее 1,5 тысячи новогодних мероприятий запланировано для юных ж...</td>\n",
       "      <td>tech</td>\n",
       "      <td>бал фестиваль  тысяча новогодний мероприятие ждать юный житель брестский область декабрь   тысяча новогодний мероприятие   юный житель брестский область сообщить  управление образование облисполко...</td>\n",
       "    </tr>\n",
       "    <tr>\n",
       "      <th>664</th>\n",
       "      <td>Грандиозная распродажа Hyundai Accent и Hyundai Creta!\\n\\n1 декабря 2016 в 9:00\\n\\n*На правах рекламы\\n\\nСегодня официально объявлена зима и открыт сезон предновогодних распродаж автомобилей Hyund...</td>\n",
       "      <td>reclama</td>\n",
       "      <td>грандиозный распродажа     декабрь  право реклама    зима  сезон предновогодний распродажа автомобиль   популярный модель     стать  свой будущий владелец сезонный распродажа   скидка  любой компл...</td>\n",
       "    </tr>\n",
       "    <tr>\n",
       "      <th>1879</th>\n",
       "      <td>09:23 13 декабря 2016 2\\n\\nЭскиз стоит целое состояние Фото: Владимир Жабриков © URA.Ru\\n\\nРисунок Леонардо да Винчи стоимостью в 15 миллионов евро был случайно обнаружен в Париже.\\n\\nПачку рисунк...</td>\n",
       "      <td>culture</td>\n",
       "      <td>декабрь эскиз стоить целое состояние фото владимир    рисунок леонардо  винчи стоимость миллион евро быть   париж пачка рисунок   отец  центральный франция март принести аукционный дом  французски...</td>\n",
       "    </tr>\n",
       "    <tr>\n",
       "      <th>2459</th>\n",
       "      <td>В Уфе пройдет большой концерт с участием известных кубызистов республики.\\n\\n\\n\\nВ Башгосфилармонии в рамках проекта «Бессмертное наследие моего народа» состоится концерт «Магический кубыз». В муз...</td>\n",
       "      <td>culture</td>\n",
       "      <td>уфа пройти большой концерт участие известный  республика  рамка проект бессмертный наследие мой народ состояться концерт магический  музыкальный представление принять участие  коллектив республика...</td>\n",
       "    </tr>\n",
       "    <tr>\n",
       "      <th>1087</th>\n",
       "      <td>Проведение ЧМ-2021 по биатлону в Тюмени зависит от WADA\\n\\n9 декабря 2016 в 9:47\\n\\nОлег Кошелев, Лозанна, ТАСС\\n\\nПроведение чемпионата мира 2021 года по биатлону в Тюмени зависит в том числе и о...</td>\n",
       "      <td>sport</td>\n",
       "      <td>проведение  биатлон тюмень зависеть   декабрь олег кошелев лозанна тасс проведение чемпионат мир год  биатлон тюмень зависеть тот число  решение всемирный антидопинговый агентство    заниматься  в...</td>\n",
       "    </tr>\n",
       "    <tr>\n",
       "      <th>909</th>\n",
       "      <td>\"Батареи плачут, коврики — золотые\". Жильцы хотят уволить председателя ТСЖ, но замену не найти\\n\\n1 декабря 2016 в 11:09\\n\\nЕлена Бычкова / Фото: Иван Яриванович / TUT.BY\\n\\nВ июле прошлого года ж...</td>\n",
       "      <td>realty</td>\n",
       "      <td>батарея плакать коврик золотой жилец хотеть  председатель   замена   декабрь елена бычков фото иван    июль прошлое год жилец дом  улица  гомель получить долгожданный ключ  свой квартира    создат...</td>\n",
       "    </tr>\n",
       "    <tr>\n",
       "      <th>320</th>\n",
       "      <td>Вячеслав Малежик сегодня споет \"Вологду\" в \"Русском Доме\" (3)Вячеслав\\nМалежик на Вологодчине не первый раз. И, по словам певца, вологодский\\nкрай произвел на него сильное впечатление</td>\n",
       "      <td>culture</td>\n",
       "      <td>вячеслав   спеть вологда русский дом вячеслав     один раз  слово певец вологодский край произвести   сильный впечатление</td>\n",
       "    </tr>\n",
       "  </tbody>\n",
       "</table>\n",
       "</div>"
      ],
      "text/plain": [
       "                                                                                                                                                                                                         text  \\\n",
       "402   миллионов долларов на изучение \"птичьего гриппа\" выделят в\\nВеликобритании Представители британского Совета по медицинским исследованиям\\nв среду, 30 ноября, заявили о намерении создать фонд разме...   \n",
       "3137  О традициях финно-угорских и самодийских народов расскажет новый фильм\\nНовости-online (Регион-Информ-Москва) О реализации программы \"Улучшение\\nжилищных условий населения Ханты-Мансийского автоно...   \n",
       "1823  Общая сумма ущерба от тайфуна «Лайонрок» в Приморском крае составляет 7 миллиардов рублей, об это сообщил губернатор региона Владимир Миклушевский.\\n\\n«Посчитана сумма ущерба, она составляет более...   \n",
       "741   Балы и фестивали. Более 1,5 тысячи новогодних мероприятий ждет юных жителей Брестской области\\n\\n8 декабря 2016 в 11:18\\n\\nБЕЛТА\\n\\nБолее 1,5 тысячи новогодних мероприятий запланировано для юных ж...   \n",
       "664   Грандиозная распродажа Hyundai Accent и Hyundai Creta!\\n\\n1 декабря 2016 в 9:00\\n\\n*На правах рекламы\\n\\nСегодня официально объявлена зима и открыт сезон предновогодних распродаж автомобилей Hyund...   \n",
       "1879  09:23 13 декабря 2016 2\\n\\nЭскиз стоит целое состояние Фото: Владимир Жабриков © URA.Ru\\n\\nРисунок Леонардо да Винчи стоимостью в 15 миллионов евро был случайно обнаружен в Париже.\\n\\nПачку рисунк...   \n",
       "2459  В Уфе пройдет большой концерт с участием известных кубызистов республики.\\n\\n\\n\\nВ Башгосфилармонии в рамках проекта «Бессмертное наследие моего народа» состоится концерт «Магический кубыз». В муз...   \n",
       "1087  Проведение ЧМ-2021 по биатлону в Тюмени зависит от WADA\\n\\n9 декабря 2016 в 9:47\\n\\nОлег Кошелев, Лозанна, ТАСС\\n\\nПроведение чемпионата мира 2021 года по биатлону в Тюмени зависит в том числе и о...   \n",
       "909   \"Батареи плачут, коврики — золотые\". Жильцы хотят уволить председателя ТСЖ, но замену не найти\\n\\n1 декабря 2016 в 11:09\\n\\nЕлена Бычкова / Фото: Иван Яриванович / TUT.BY\\n\\nВ июле прошлого года ж...   \n",
       "320                   Вячеслав Малежик сегодня споет \"Вологду\" в \"Русском Доме\" (3)Вячеслав\\nМалежик на Вологодчине не первый раз. И, по словам певца, вологодский\\nкрай произвел на него сильное впечатление   \n",
       "\n",
       "           tag  \\\n",
       "402     health   \n",
       "3137   culture   \n",
       "1823  incident   \n",
       "741       tech   \n",
       "664    reclama   \n",
       "1879   culture   \n",
       "2459   culture   \n",
       "1087     sport   \n",
       "909     realty   \n",
       "320    culture   \n",
       "\n",
       "                                                                                                                                                                                                        ctext  \n",
       "402   миллион доллар  изучение птичий грипп выделить великобритания представитель британский совет  медицинский исследование среда ноябрь заявить намерение  фонд размер миллион фунт миллион доллар  кото...  \n",
       "3137  традиция финно-угорский  народ рассказать новый фильм   реализация программа улучшение жилищный условие население ханты-мансийский автономный округа югра  год  июльский заседание депутат окружный ...  \n",
       "1823  общий сумма ущерб  тайфун  приморский край составлять миллиард рубль   сообщить губернатор регион владимир   сумма ущерб  составлять  миллиард рубль миллиард самый большой сумма  восстановление до...  \n",
       "741   бал фестиваль  тысяча новогодний мероприятие ждать юный житель брестский область декабрь   тысяча новогодний мероприятие   юный житель брестский область сообщить  управление образование облисполко...  \n",
       "664   грандиозный распродажа     декабрь  право реклама    зима  сезон предновогодний распродажа автомобиль   популярный модель     стать  свой будущий владелец сезонный распродажа   скидка  любой компл...  \n",
       "1879  декабрь эскиз стоить целое состояние фото владимир    рисунок леонардо  винчи стоимость миллион евро быть   париж пачка рисунок   отец  центральный франция март принести аукционный дом  французски...  \n",
       "2459  уфа пройти большой концерт участие известный  республика  рамка проект бессмертный наследие мой народ состояться концерт магический  музыкальный представление принять участие  коллектив республика...  \n",
       "1087  проведение  биатлон тюмень зависеть   декабрь олег кошелев лозанна тасс проведение чемпионат мир год  биатлон тюмень зависеть тот число  решение всемирный антидопинговый агентство    заниматься  в...  \n",
       "909   батарея плакать коврик золотой жилец хотеть  председатель   замена   декабрь елена бычков фото иван    июль прошлое год жилец дом  улица  гомель получить долгожданный ключ  свой квартира    создат...  \n",
       "320                                                                                 вячеслав   спеть вологда русский дом вячеслав     один раз  слово певец вологодский край произвести   сильный впечатление  "
      ]
     },
     "execution_count": 10,
     "metadata": {},
     "output_type": "execute_result"
    }
   ],
   "source": [
    "data.sample(10)"
   ]
  },
  {
   "cell_type": "markdown",
   "metadata": {},
   "source": [
    "##  Vectorizer"
   ]
  },
  {
   "cell_type": "code",
   "execution_count": 11,
   "metadata": {},
   "outputs": [],
   "source": [
    "def tokenizer(s): \n",
    "    for w in s.split(' '):\n",
    "        if (len(w)>1): \n",
    "            yield w\n",
    "\n",
    "X = CountVectorizer(tokenizer=tokenizer, token_pattern=None).fit_transform(data['ctext'])"
   ]
  },
  {
   "cell_type": "markdown",
   "metadata": {},
   "source": [
    "## кластеризируем"
   ]
  },
  {
   "cell_type": "code",
   "execution_count": 29,
   "metadata": {},
   "outputs": [
    {
     "data": {
      "text/plain": [
       "12"
      ]
     },
     "execution_count": 29,
     "metadata": {},
     "output_type": "execute_result"
    }
   ],
   "source": [
    "data['cluster'] = KMeans(n_clusters=12).fit(X).labels_\n",
    "data['cluster'].drop_duplicates().count()"
   ]
  },
  {
   "cell_type": "markdown",
   "metadata": {},
   "source": [
    "## тестируем"
   ]
  },
  {
   "cell_type": "code",
   "execution_count": 30,
   "metadata": {},
   "outputs": [
    {
     "data": {
      "text/html": [
       "<div>\n",
       "<style scoped>\n",
       "    .dataframe tbody tr th:only-of-type {\n",
       "        vertical-align: middle;\n",
       "    }\n",
       "\n",
       "    .dataframe tbody tr th {\n",
       "        vertical-align: top;\n",
       "    }\n",
       "\n",
       "    .dataframe thead th {\n",
       "        text-align: right;\n",
       "    }\n",
       "</style>\n",
       "<table border=\"1\" class=\"dataframe\">\n",
       "  <thead>\n",
       "    <tr style=\"text-align: right;\">\n",
       "      <th></th>\n",
       "      <th>cluster</th>\n",
       "      <th>count</th>\n",
       "      <th>tags</th>\n",
       "    </tr>\n",
       "  </thead>\n",
       "  <tbody>\n",
       "    <tr>\n",
       "      <th>0</th>\n",
       "      <td>0</td>\n",
       "      <td>50</td>\n",
       "      <td>culture reclama tech sport woman</td>\n",
       "    </tr>\n",
       "    <tr>\n",
       "      <th>1</th>\n",
       "      <td>1</td>\n",
       "      <td>114</td>\n",
       "      <td>politics realty economics</td>\n",
       "    </tr>\n",
       "    <tr>\n",
       "      <th>2</th>\n",
       "      <td>2</td>\n",
       "      <td>319</td>\n",
       "      <td>science culture social reclama auto realty tech sport incident politics woman economics</td>\n",
       "    </tr>\n",
       "    <tr>\n",
       "      <th>3</th>\n",
       "      <td>3</td>\n",
       "      <td>2590</td>\n",
       "      <td>science culture social auto reclama realty tech sport incident health politics woman economics</td>\n",
       "    </tr>\n",
       "    <tr>\n",
       "      <th>4</th>\n",
       "      <td>4</td>\n",
       "      <td>1</td>\n",
       "      <td>economics</td>\n",
       "    </tr>\n",
       "    <tr>\n",
       "      <th>5</th>\n",
       "      <td>5</td>\n",
       "      <td>18</td>\n",
       "      <td>social auto sport woman economics</td>\n",
       "    </tr>\n",
       "    <tr>\n",
       "      <th>6</th>\n",
       "      <td>6</td>\n",
       "      <td>1</td>\n",
       "      <td>economics</td>\n",
       "    </tr>\n",
       "    <tr>\n",
       "      <th>7</th>\n",
       "      <td>7</td>\n",
       "      <td>1</td>\n",
       "      <td>sport</td>\n",
       "    </tr>\n",
       "    <tr>\n",
       "      <th>8</th>\n",
       "      <td>8</td>\n",
       "      <td>1</td>\n",
       "      <td>economics</td>\n",
       "    </tr>\n",
       "    <tr>\n",
       "      <th>9</th>\n",
       "      <td>9</td>\n",
       "      <td>88</td>\n",
       "      <td>science culture social reclama auto realty tech sport incident politics woman economics</td>\n",
       "    </tr>\n",
       "    <tr>\n",
       "      <th>10</th>\n",
       "      <td>10</td>\n",
       "      <td>9</td>\n",
       "      <td>realty</td>\n",
       "    </tr>\n",
       "    <tr>\n",
       "      <th>11</th>\n",
       "      <td>11</td>\n",
       "      <td>4</td>\n",
       "      <td>sport</td>\n",
       "    </tr>\n",
       "  </tbody>\n",
       "</table>\n",
       "</div>"
      ],
      "text/plain": [
       "    cluster  count  \\\n",
       "0         0     50   \n",
       "1         1    114   \n",
       "2         2    319   \n",
       "3         3   2590   \n",
       "4         4      1   \n",
       "5         5     18   \n",
       "6         6      1   \n",
       "7         7      1   \n",
       "8         8      1   \n",
       "9         9     88   \n",
       "10       10      9   \n",
       "11       11      4   \n",
       "\n",
       "                                                                                              tags  \n",
       "0                                                                 culture reclama tech sport woman  \n",
       "1                                                                        politics realty economics  \n",
       "2          science culture social reclama auto realty tech sport incident politics woman economics  \n",
       "3   science culture social auto reclama realty tech sport incident health politics woman economics  \n",
       "4                                                                                        economics  \n",
       "5                                                                social auto sport woman economics  \n",
       "6                                                                                        economics  \n",
       "7                                                                                            sport  \n",
       "8                                                                                        economics  \n",
       "9          science culture social reclama auto realty tech sport incident politics woman economics  \n",
       "10                                                                                          realty  \n",
       "11                                                                                           sport  "
      ]
     },
     "execution_count": 30,
     "metadata": {},
     "output_type": "execute_result"
    }
   ],
   "source": [
    "# номер кластера, количество объектов, метки объектов\n",
    "# (cluster=-1 - некластеризованные DBSCAN объекты)\n",
    "cluster_descr = pd.concat([\n",
    "        data[['cluster','tag']].groupby(['cluster'])['tag'].count(),\n",
    "        data[['cluster','tag']].groupby(['cluster'])['tag'].apply(lambda s: set(s)).apply(' '.join)\n",
    "    ],axis=1).reset_index()\n",
    "\n",
    "cluster_descr.columns = ['cluster','count','tags']\n",
    "\n",
    "cluster_descr"
   ]
  },
  {
   "cell_type": "code",
   "execution_count": 34,
   "metadata": {},
   "outputs": [
    {
     "data": {
      "text/plain": [
       "<AxesSubplot:xlabel='cluster'>"
      ]
     },
     "execution_count": 34,
     "metadata": {},
     "output_type": "execute_result"
    },
    {
     "data": {
      "image/png": "[encoded data removed]",
      "text/plain": [
       "<Figure size 1152x360 with 1 Axes>"
      ]
     },
     "metadata": {
      "needs_background": "light"
     },
     "output_type": "display_data"
    }
   ],
   "source": [
    "# размеры кластеров\n",
    "cluster_descr[['cluster','count']]\\\n",
    "    .query('cluster>-1')\\\n",
    "    .set_index('cluster')\\\n",
    "    .plot.bar(grid=True,figsize=(16,5))"
   ]
  },
  {
   "cell_type": "code",
   "execution_count": 35,
   "metadata": {},
   "outputs": [],
   "source": [
    "def print_cluster_samples(n,ns=5,nt=300):\n",
    "    count,tags = cluster_descr.query(f'cluster=={n}')[['count','tags']].values[0]#.tolist\n",
    "    top = [ t[:nt].replace('\\n',' ') for t in data.query(f'cluster=={n}')['text'].sample(ns).values ]\n",
    "    print('[ КЛАСТЕР %i, элементов: %i, метки: \"%s\" ]'%(n,count,tags))\n",
    "    for s in top: print('\\n%s ...\\n'%(s) )"
   ]
  },
  {
   "cell_type": "code",
   "execution_count": 36,
   "metadata": {},
   "outputs": [
    {
     "name": "stdout",
     "output_type": "stream",
     "text": [
      "[ КЛАСТЕР 9, элементов: 88, метки: \"science culture social reclama auto realty tech sport incident politics woman economics\" ]\n",
      "\n",
      "\"Свое дело\". Владелец мобильного шиномонтажа: \"Половина моих клиентов — женщины\"  28 ноября 2016 в 9:46  Юлия Альгерчик / Фото: Дмитрий Брушко / AUTO.TUT.BY  «Кому нужны эти университеты, если с высшим образованием люди дворы подметают? Буду зарабатывать», — еще в школе решил минчанин Вадим и после  ...\n",
      "\n",
      "\n",
      "Кто круче: тестируем УАЗ Патриот и десятилетний Nissan Patrol  28 ноября 2016 в 10:00  Иван Петренко, фото Павла Мурашко, AUTO.TUT.BY  Вопрос ребром: новый, гарантийный, но российский или 13-летний и с почти полумиллионным пробегом, но японский? Что выберете вы: обновленный в очередной раз УАЗ Патри ...\n",
      "\n",
      "\n",
      "Архитектура Минска, современная физика и Гарри Поттер. В столице пройдут бесплатные лекции ученых  2 декабря 2016 в 16:05  AFISHA.TUT.BY  С 8 по 11 декабря в Минске пройдет вторая волна фестиваля премии «Просветитель». На четыре дня ученые вновь встретятся в рамках большого интеллектуального праздни ...\n",
      "\n",
      "\n",
      "Наконец-то вышла одна из главных ролевых игр современности: обзор Final Fantasy XV  5 декабря 2016 в 8:03  Александр Михно, 42.TUT.BY  Спустя десять лет разработки наконец-то вышла одна из главных японских ролевых игр современности. Получилась она не такой, какой задумывалась в далеком 2006 году, и, ...\n",
      "\n",
      "\n",
      "\"Если есть в кафе, зарплаты хватит на две недели\". Ищем обед в кулинариях с работником музея  30 ноября 2016 в 7:30  Любовь Касперович / Фото: Александр Каленик, AFISHA.TUT.BY  Многие заведения предлагают обеды, стоимость которых в теории должна устраивать каждого. Однако если отойти в сторону от пр ...\n",
      "\n",
      "\n",
      "= = = = = = = = = = = = = = = = = = = = = = = = = =\n",
      "\n",
      "[ КЛАСТЕР 1, элементов: 114, метки: \"politics realty economics\" ]\n",
      "\n",
      "Деловая газета Financial Times признала избранного президента США Дональда Трампа человеком года. Как отмечается в статье, опубликованной на сайте издания в понедельник, 12 декабря, республиканец переписал правила политики страны.  По информации газеты, многие хорошо информированные американцы — рес ...\n",
      "\n",
      "\n",
      "В администрации нового президента США Гэри Кон займёт должности помощника по экономике и главы Национального экономического совета.  Избранный президент США Дональд Трамп заявил, что назначит на должность главы Национального экономического совета президента Goldman Sachs Гэри Кона.  Национальный эко ...\n",
      "\n",
      "\n",
      "Фото: EPA  Американский предприниматель и избранный президент США Дональд Трамп заявил о намерении уйти из бизнеса до получения президентских полномочий. Об этом он сообщил через Twitter. Он намерен передать управление своими бизнес-активами детям и топ-менеджерам компаний.  «Хотя закон не обязывает ...\n",
      "\n",
      "\n",
      "Международная деловая газета Financial Times признала Дональда Трампа человеком года  13.12.2016 03:35    Международная деловая газета Financial Times назвала новоизбранного американского президента Дональда Трампа человеком года, передает «Газета.Ру» сообщение, опубликованное на сайте издания.  В м ...\n",
      "\n",
      "\n",
      "Издание Financial Times назвал избранного президента США Дональда Трампа \"человеком года\". Издание наградило республиканца, который сумел \"переписать правила политики США\".  Как сообщает ТАСС, издание напомнило о том, что немногие прогнозировали победу республиканца на выборах. Однако \"ночь триумфа\" ...\n",
      "\n",
      "\n",
      "= = = = = = = = = = = = = = = = = = = = = = = = = =\n",
      "\n",
      "[ КЛАСТЕР 2, элементов: 319, метки: \"science culture social reclama auto realty tech sport incident politics woman economics\" ]\n",
      "\n",
      "Беларусь прокатили с третьим траншем кредита ЕФСР: экономика или политика?  7 декабря 2016 в 17:18  Ольга Лойко / TUT.BY  Ни в ноябре, ни в декабре Беларусь не получила, как ожидала, 300 млн долларов третьего транша кредита Евразийского фонда стабилизации и развития. Декабрьский совет Фонда белорусс ...\n",
      "\n",
      "\n",
      "Президент гарантировал Внешэкономбанку поддержку и напомнил о судьбе \"непослушного\" Баумгертнера  8 декабря 2016 в 12:59  TUT.BY  Александр Лукашенко гарантирует поддержку работе Внешэкономбанка в Беларуси. Об этом глава государства заявил сегодня на встрече с председателем российской государственно ...\n",
      "\n",
      "\n",
      "Linkedin в течение ближайших месяцев примет решение, работать ли ей на российском рынке и переносить ли ради этого данные пользователей рунета на территорию страны, рассказали «Ведомостям» два человека, знакомые с менеджерами Linkedin. На прошлой неделе представители крупнейшей в мире социальной сет ...\n",
      "\n",
      "\n",
      "Китайцы стали крупнейшими после жителей СНГ покупателями жилья в Москве  2 декабря 2016 в 10:44  РБК  Фото Fotobank/Getty Images  Китайцы стали крупнейшими покупателями жилья на вторичном рынке Москвы среди жителей дальнего зарубежья: за последние два года доля сделок с их участием увеличилась в три ...\n",
      "\n",
      "\n",
      "\"Долго выбираю ракурс\". Как краевед создает знаменитые фотосравнения Витебска  4 декабря 2016 в 9:13  Витебский курьер  Работы Виктора Борисенкова в Витебске знают многие. Свои фотопроекции достопримечательностей города он называет архитектурными «фантомами». О том, как появилось это увлечение и нас ...\n",
      "\n",
      "\n",
      "= = = = = = = = = = = = = = = = = = = = = = = = = =\n",
      "\n"
     ]
    }
   ],
   "source": [
    "for n in rng.permutation(cluster_descr['cluster'].max())[:3] :\n",
    "    print_cluster_samples(n)\n",
    "    print('\\n= = = = = = = = = = = = = = = = = = = = = = = = = =\\n')"
   ]
  },
  {
   "cell_type": "code",
   "execution_count": null,
   "metadata": {},
   "outputs": [],
   "source": []
  }
 ],
 "metadata": {
  "kernelspec": {
   "display_name": "Python 3",
   "language": "python",
   "name": "python3"
  },
  "language_info": {
   "codemirror_mode": {
    "name": "ipython",
    "version": 3
   },
   "file_extension": ".py",
   "mimetype": "text/x-python",
   "name": "python",
   "nbconvert_exporter": "python",
   "pygments_lexer": "ipython3",
   "version": "3.9.0"
  },
  "toc": {
   "base_numbering": 1,
   "nav_menu": {},
   "number_sections": true,
   "sideBar": true,
   "skip_h1_title": false,
   "title_cell": "Table of Contents",
   "title_sidebar": "Contents",
   "toc_cell": false,
   "toc_position": {},
   "toc_section_display": true,
   "toc_window_display": false
  }
 },
 "nbformat": 4,
 "nbformat_minor": 2
}
