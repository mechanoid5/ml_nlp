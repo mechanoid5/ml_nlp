{
 "cells": [
  {
   "cell_type": "markdown",
   "metadata": {},
   "source": [
    "**извлечение признаков из текста на естественном языке**\n",
    "\n",
    "очистка текста и токенизация\n",
    "\n",
    "Евгений Борисов borisov.e@solarl.ru"
   ]
  },
  {
   "cell_type": "markdown",
   "metadata": {},
   "source": [
    "## библиотеки"
   ]
  },
  {
   "cell_type": "code",
   "execution_count": 1,
   "metadata": {},
   "outputs": [
    {
     "name": "stderr",
     "output_type": "stream",
     "text": [
      "/usr/lib/python3.8/site-packages/tqdm/std.py:703: FutureWarning: The Panel class is removed from pandas. Accessing it from the top-level namespace will also be removed in the next version\n",
      "  from pandas import Panel\n"
     ]
    }
   ],
   "source": [
    "import re\n",
    "# import numpy as np\n",
    "# import numpy.random as rng\n",
    "import pandas as pd\n",
    "from tqdm import tqdm\n",
    "\n",
    "# np.set_printoptions(precision=2) # вывод на печать чисел до 2 знака\n",
    "pd.options.display.max_colwidth = 200 \n",
    "\n",
    "tqdm.pandas()"
   ]
  },
  {
   "cell_type": "markdown",
   "metadata": {},
   "source": [
    "## тексты"
   ]
  },
  {
   "cell_type": "code",
   "execution_count": 2,
   "metadata": {},
   "outputs": [
    {
     "name": "stdout",
     "output_type": "stream",
     "text": [
      "записей: 3196\n"
     ]
    },
    {
     "data": {
      "text/html": [
       "<div>\n",
       "<style scoped>\n",
       "    .dataframe tbody tr th:only-of-type {\n",
       "        vertical-align: middle;\n",
       "    }\n",
       "\n",
       "    .dataframe tbody tr th {\n",
       "        vertical-align: top;\n",
       "    }\n",
       "\n",
       "    .dataframe thead th {\n",
       "        text-align: right;\n",
       "    }\n",
       "</style>\n",
       "<table border=\"1\" class=\"dataframe\">\n",
       "  <thead>\n",
       "    <tr style=\"text-align: right;\">\n",
       "      <th></th>\n",
       "      <th>text</th>\n",
       "      <th>tag</th>\n",
       "    </tr>\n",
       "  </thead>\n",
       "  <tbody>\n",
       "    <tr>\n",
       "      <th>3093</th>\n",
       "      <td>ИА Dv-News (dv-news.com) Тувинцы-тоджинцы собрались в общественную\\nорганизацию Управление министерства юстиции Республики Тува зарегистрировало\\nв качестве общественной организации ассоциацию кор...</td>\n",
       "      <td>politics</td>\n",
       "    </tr>\n",
       "    <tr>\n",
       "      <th>1207</th>\n",
       "      <td>\"Дорога на Драгобрат\": как мы два раза пытались сломать Hyundai Creta\\n\\n9 декабря 2016 в 7:53\\n\\nДмитрий Новицкий, AUTO.TUT.BY\\n\\nКак сломать «паркетник», небольшой кроссовер? Отправить его по ма...</td>\n",
       "      <td>auto</td>\n",
       "    </tr>\n",
       "    <tr>\n",
       "      <th>1556</th>\n",
       "      <td>11:01 сегодня 83 0\\n\\nФото: ura.ru\\n\\nПо словам главы ведомства Александра Бортникова, за указанный период были нейтрализованы 129 боевиков, в том числе 22 главаря бандподполья.\\n\\nЗадержаны 898 б...</td>\n",
       "      <td>politics</td>\n",
       "    </tr>\n",
       "    <tr>\n",
       "      <th>1732</th>\n",
       "      <td>В ходе торгов на Интерконтинентальной бирже стоимость февральских фьючерсов на североморскую нефтяную смесь марки Brent по состоянию на 7:14 по московскому времени поднялась на 2,477% — до $55,71 ...</td>\n",
       "      <td>economics</td>\n",
       "    </tr>\n",
       "    <tr>\n",
       "      <th>1311</th>\n",
       "      <td>Минчанина, тайно ночевавшего в батутной арене, уличили в обмане (обновлено)\\n\\n6 декабря 2016 в 12:12\\n\\n42.TUT.BY\\n\\nРолик, где два молодых парня ночуют в одном из батутных центров Минска, оказал...</td>\n",
       "      <td>tech</td>\n",
       "    </tr>\n",
       "  </tbody>\n",
       "</table>\n",
       "</div>"
      ],
      "text/plain": [
       "                                                                                                                                                                                                         text  \\\n",
       "3093  ИА Dv-News (dv-news.com) Тувинцы-тоджинцы собрались в общественную\\nорганизацию Управление министерства юстиции Республики Тува зарегистрировало\\nв качестве общественной организации ассоциацию кор...   \n",
       "1207  \"Дорога на Драгобрат\": как мы два раза пытались сломать Hyundai Creta\\n\\n9 декабря 2016 в 7:53\\n\\nДмитрий Новицкий, AUTO.TUT.BY\\n\\nКак сломать «паркетник», небольшой кроссовер? Отправить его по ма...   \n",
       "1556  11:01 сегодня 83 0\\n\\nФото: ura.ru\\n\\nПо словам главы ведомства Александра Бортникова, за указанный период были нейтрализованы 129 боевиков, в том числе 22 главаря бандподполья.\\n\\nЗадержаны 898 б...   \n",
       "1732  В ходе торгов на Интерконтинентальной бирже стоимость февральских фьючерсов на североморскую нефтяную смесь марки Brent по состоянию на 7:14 по московскому времени поднялась на 2,477% — до $55,71 ...   \n",
       "1311  Минчанина, тайно ночевавшего в батутной арене, уличили в обмане (обновлено)\\n\\n6 декабря 2016 в 12:12\\n\\n42.TUT.BY\\n\\nРолик, где два молодых парня ночуют в одном из батутных центров Минска, оказал...   \n",
       "\n",
       "            tag  \n",
       "3093   politics  \n",
       "1207       auto  \n",
       "1556   politics  \n",
       "1732  economics  \n",
       "1311       tech  "
      ]
     },
     "execution_count": 2,
     "metadata": {},
     "output_type": "execute_result"
    }
   ],
   "source": [
    "# загружаем тексты\n",
    "data = pd.read_pickle('../data/news.pkl.gz')\n",
    "print('записей:',len(data))\n",
    "data.sample(5)"
   ]
  },
  {
   "cell_type": "code",
   "execution_count": 3,
   "metadata": {},
   "outputs": [
    {
     "data": {
      "text/html": [
       "<div>\n",
       "<style scoped>\n",
       "    .dataframe tbody tr th:only-of-type {\n",
       "        vertical-align: middle;\n",
       "    }\n",
       "\n",
       "    .dataframe tbody tr th {\n",
       "        vertical-align: top;\n",
       "    }\n",
       "\n",
       "    .dataframe thead th {\n",
       "        text-align: right;\n",
       "    }\n",
       "</style>\n",
       "<table border=\"1\" class=\"dataframe\">\n",
       "  <thead>\n",
       "    <tr style=\"text-align: right;\">\n",
       "      <th></th>\n",
       "      <th>count</th>\n",
       "      <th>mean</th>\n",
       "      <th>std</th>\n",
       "      <th>min</th>\n",
       "      <th>10%</th>\n",
       "      <th>25%</th>\n",
       "      <th>50%</th>\n",
       "      <th>75%</th>\n",
       "      <th>95%</th>\n",
       "      <th>max</th>\n",
       "    </tr>\n",
       "  </thead>\n",
       "  <tbody>\n",
       "    <tr>\n",
       "      <th>text</th>\n",
       "      <td>3196</td>\n",
       "      <td>1720</td>\n",
       "      <td>2177</td>\n",
       "      <td>25</td>\n",
       "      <td>370</td>\n",
       "      <td>675</td>\n",
       "      <td>1070</td>\n",
       "      <td>1813</td>\n",
       "      <td>5761</td>\n",
       "      <td>30710</td>\n",
       "    </tr>\n",
       "  </tbody>\n",
       "</table>\n",
       "</div>"
      ],
      "text/plain": [
       "      count  mean   std  min  10%  25%   50%   75%   95%    max\n",
       "text   3196  1720  2177   25  370  675  1070  1813  5761  30710"
      ]
     },
     "execution_count": 3,
     "metadata": {},
     "output_type": "execute_result"
    }
   ],
   "source": [
    "# длина строк\n",
    "pd.DataFrame(data['text'].str.len()).describe([.1,.25,.5,.75,.95]).astype(int).T"
   ]
  },
  {
   "cell_type": "code",
   "execution_count": 4,
   "metadata": {},
   "outputs": [
    {
     "data": {
      "text/plain": [
       "13"
      ]
     },
     "execution_count": 4,
     "metadata": {},
     "output_type": "execute_result"
    }
   ],
   "source": [
    "# количество категорий\n",
    "data['tag'].drop_duplicates().count()"
   ]
  },
  {
   "cell_type": "code",
   "execution_count": 5,
   "metadata": {},
   "outputs": [],
   "source": [
    "# собираем словарь из текстов\n",
    "def get_vocabulary(ds):\n",
    "    vcb = [ set(s) for s in ds.tolist() ]\n",
    "    return sorted(set.union(*vcb))"
   ]
  },
  {
   "cell_type": "markdown",
   "metadata": {},
   "source": [
    "## очистка и токенизация "
   ]
  },
  {
   "cell_type": "code",
   "execution_count": 6,
   "metadata": {},
   "outputs": [],
   "source": [
    "# применяет список замен pat к строке s\n",
    "def replace_patterns(s,pat):\n",
    "    if len(pat)<1: return s\n",
    "    return  replace_patterns( re.sub(pat[0][0],pat[0][1],s), pat[1:] )\n",
    "\n",
    "# нормализация текста\n",
    "def string_normalizer(s):\n",
    "    pat = [\n",
    "       [r'ё','е'] # замена ё для унификации\n",
    "       ,[r'</?[a-z]+>',' '] # удаляем xml\n",
    "       ,[r'[^a-zа-я\\- ]+',' '] # оставляем только буквы, пробел и -\n",
    "       ,[r' -\\w+',' '] # удаляем '-й','-тый' и т.п.\n",
    "       ,[r'\\w+- ',' ']\n",
    "       ,[r' +',' '] # удаляем повторы пробелов\n",
    "    ]\n",
    "    return replace_patterns(s.lower(),pat).strip()\n",
    "\n",
    "# разрезаем стоки на слова\n",
    "def tokenize(s): \n",
    "    return [ w for w in s.split(' ') if (len(w)>1) ]"
   ]
  },
  {
   "cell_type": "code",
   "execution_count": 7,
   "metadata": {},
   "outputs": [
    {
     "name": "stderr",
     "output_type": "stream",
     "text": [
      "100%|██████████| 3196/3196 [00:00<00:00, 5435.36it/s]\n",
      "100%|██████████| 3196/3196 [00:00<00:00, 36052.96it/s]\n"
     ]
    }
   ],
   "source": [
    "data['ctext'] = data['text'].progress_apply(string_normalizer).progress_apply( tokenize )"
   ]
  },
  {
   "cell_type": "code",
   "execution_count": 8,
   "metadata": {},
   "outputs": [
    {
     "name": "stdout",
     "output_type": "stream",
     "text": [
      "словарь 83094 слов\n"
     ]
    }
   ],
   "source": [
    "vcb =  get_vocabulary( data['ctext'] )\n",
    "print('словарь %i слов'%(len(vcb)))\n",
    "# pd.DataFrame( vcb ).to_csv('voc0.txt',index=False,header=False)"
   ]
  },
  {
   "cell_type": "code",
   "execution_count": 9,
   "metadata": {},
   "outputs": [
    {
     "data": {
      "text/html": [
       "<div>\n",
       "<style scoped>\n",
       "    .dataframe tbody tr th:only-of-type {\n",
       "        vertical-align: middle;\n",
       "    }\n",
       "\n",
       "    .dataframe tbody tr th {\n",
       "        vertical-align: top;\n",
       "    }\n",
       "\n",
       "    .dataframe thead th {\n",
       "        text-align: right;\n",
       "    }\n",
       "</style>\n",
       "<table border=\"1\" class=\"dataframe\">\n",
       "  <thead>\n",
       "    <tr style=\"text-align: right;\">\n",
       "      <th></th>\n",
       "      <th>text</th>\n",
       "      <th>tag</th>\n",
       "      <th>ctext</th>\n",
       "    </tr>\n",
       "  </thead>\n",
       "  <tbody>\n",
       "    <tr>\n",
       "      <th>481</th>\n",
       "      <td>Исследование: США и Западная Европа продают четыре пятых всего оружия в мире\\n\\n5 декабря 2016 в 8:19\\n\\nDeutsche Welle\\n\\nОбъем продаж оружия и услуг сотни крупнейших военных концернов мира в 201...</td>\n",
       "      <td>politics</td>\n",
       "      <td>[исследование, сша, западная, европа, продают, четыре, пятых, всего, оружия, мире, декабря, deutsche, welle, объем, продаж, оружия, услуг, сотни, крупнейших, военных, концернов, мира, году, состав...</td>\n",
       "    </tr>\n",
       "    <tr>\n",
       "      <th>3024</th>\n",
       "      <td>140 млн. рублей направит &lt;object&gt;МРСК Сибири&lt;/object&gt; в 2010 году на приобретение костюмов, защищающих персонал от влияния электрической дуги.\\n\\nПроизводственной безопасности и охране труда в &lt;ob...</td>\n",
       "      <td>social</td>\n",
       "      <td>[млн, рублей, направит, мрск, сибири, году, на, приобретение, костюмов, защищающих, персонал, от, влияния, электрической, дуги, производственной, безопасности, охране, труда, мрск, сибири, уделяет...</td>\n",
       "    </tr>\n",
       "    <tr>\n",
       "      <th>2945</th>\n",
       "      <td>Так Audi Q3 нового поколения предстанет как с обычным бензиновым, либо дизельным мотором. А также для китайского рынка кроссовер выйдет с гибридным двигателем.Автокомпания Audi приняла решение вне...</td>\n",
       "      <td>auto</td>\n",
       "      <td>[так, audi, нового, поколения, предстанет, как, обычным, бензиновым, либо, дизельным, мотором, также, для, китайского, рынка, кроссовер, выйдет, гибридным, двигателем, автокомпания, audi, приняла,...</td>\n",
       "    </tr>\n",
       "  </tbody>\n",
       "</table>\n",
       "</div>"
      ],
      "text/plain": [
       "                                                                                                                                                                                                         text  \\\n",
       "481   Исследование: США и Западная Европа продают четыре пятых всего оружия в мире\\n\\n5 декабря 2016 в 8:19\\n\\nDeutsche Welle\\n\\nОбъем продаж оружия и услуг сотни крупнейших военных концернов мира в 201...   \n",
       "3024  140 млн. рублей направит <object>МРСК Сибири</object> в 2010 году на приобретение костюмов, защищающих персонал от влияния электрической дуги.\\n\\nПроизводственной безопасности и охране труда в <ob...   \n",
       "2945  Так Audi Q3 нового поколения предстанет как с обычным бензиновым, либо дизельным мотором. А также для китайского рынка кроссовер выйдет с гибридным двигателем.Автокомпания Audi приняла решение вне...   \n",
       "\n",
       "           tag  \\\n",
       "481   politics   \n",
       "3024    social   \n",
       "2945      auto   \n",
       "\n",
       "                                                                                                                                                                                                        ctext  \n",
       "481   [исследование, сша, западная, европа, продают, четыре, пятых, всего, оружия, мире, декабря, deutsche, welle, объем, продаж, оружия, услуг, сотни, крупнейших, военных, концернов, мира, году, состав...  \n",
       "3024  [млн, рублей, направит, мрск, сибири, году, на, приобретение, костюмов, защищающих, персонал, от, влияния, электрической, дуги, производственной, безопасности, охране, труда, мрск, сибири, уделяет...  \n",
       "2945  [так, audi, нового, поколения, предстанет, как, обычным, бензиновым, либо, дизельным, мотором, также, для, китайского, рынка, кроссовер, выйдет, гибридным, двигателем, автокомпания, audi, приняла,...  "
      ]
     },
     "execution_count": 9,
     "metadata": {},
     "output_type": "execute_result"
    }
   ],
   "source": [
    "data.sample(3)"
   ]
  },
  {
   "cell_type": "markdown",
   "metadata": {},
   "source": [
    "## стеминг"
   ]
  },
  {
   "cell_type": "code",
   "execution_count": 10,
   "metadata": {},
   "outputs": [],
   "source": [
    "from nltk.stem.snowball import SnowballStemmer\n",
    "from nltk.corpus import stopwords as nltk_stopwords\n",
    "# from nltk import download as nltk_download\n",
    "# nltk_download('stopwords')\n",
    "\n",
    "stopwords = set(nltk_stopwords.words('russian'))\n",
    "stemmer = SnowballStemmer('russian')\n",
    "\n",
    "# выкидываем stopwords, выполняем стеминг\n",
    "def stem(s): \n",
    "    return [ stemmer.stem(w) for w in s if w not in stopwords ]"
   ]
  },
  {
   "cell_type": "code",
   "execution_count": 11,
   "metadata": {},
   "outputs": [
    {
     "name": "stderr",
     "output_type": "stream",
     "text": [
      "100%|██████████| 3196/3196 [00:15<00:00, 208.14it/s]\n"
     ]
    }
   ],
   "source": [
    "data['ctext'] = data['ctext'].progress_apply( stem )"
   ]
  },
  {
   "cell_type": "code",
   "execution_count": 12,
   "metadata": {},
   "outputs": [
    {
     "name": "stdout",
     "output_type": "stream",
     "text": [
      "словарь 36381 слов\n"
     ]
    }
   ],
   "source": [
    "vcb =  get_vocabulary( data['ctext'] )\n",
    "print('словарь %i слов'%(len(vcb)))\n",
    "# pd.DataFrame( vcb ).to_csv('voc1.txt',index=False,header=False)"
   ]
  },
  {
   "cell_type": "code",
   "execution_count": 13,
   "metadata": {},
   "outputs": [
    {
     "data": {
      "text/html": [
       "<div>\n",
       "<style scoped>\n",
       "    .dataframe tbody tr th:only-of-type {\n",
       "        vertical-align: middle;\n",
       "    }\n",
       "\n",
       "    .dataframe tbody tr th {\n",
       "        vertical-align: top;\n",
       "    }\n",
       "\n",
       "    .dataframe thead th {\n",
       "        text-align: right;\n",
       "    }\n",
       "</style>\n",
       "<table border=\"1\" class=\"dataframe\">\n",
       "  <thead>\n",
       "    <tr style=\"text-align: right;\">\n",
       "      <th></th>\n",
       "      <th>text</th>\n",
       "      <th>tag</th>\n",
       "      <th>ctext</th>\n",
       "    </tr>\n",
       "  </thead>\n",
       "  <tbody>\n",
       "    <tr>\n",
       "      <th>94</th>\n",
       "      <td>Использование шифрованного Flash диска под LinuxВ статье \" Encrypt devices\\nusing dm-crypt and LUKS \" рассказывается о создании шифрованного раздела\\nна мобильном устройстве, например USB Flash.</td>\n",
       "      <td>tech</td>\n",
       "      <td>[использован, шифрова, flash, диск, линуxв, стат, encrypt, devices, using, dm-crypt, and, luks, рассказыва, создан, шифрова, раздел, мобильн, устройств, например, usb, flash]</td>\n",
       "    </tr>\n",
       "    <tr>\n",
       "      <th>417</th>\n",
       "      <td>Украина получила официальное уведомление о статусе Януковича в РФ\\n\\n9 декабря 2016 в 16:14\\n\\nРБК-Украина\\n\\nГенеральная прокуратура Украины получила официальное уведомление о статусе экс-президе...</td>\n",
       "      <td>politics</td>\n",
       "      <td>[украин, получ, официальн, уведомлен, статус, янукович, рф, декабр, рбк-украин, генеральн, прокуратур, украин, получ, официальн, уведомлен, статус, экс-президент, виктор, янукович, российск, федер...</td>\n",
       "    </tr>\n",
       "    <tr>\n",
       "      <th>1435</th>\n",
       "      <td>Бывший губернатор Сахалинской области Александр Хорошавин, его жена Ирина и сын Илья подали в Конституционный суд жалобу, оспаривающую конфискацию имущества до окончания расследования. По данным г...</td>\n",
       "      <td>politics</td>\n",
       "      <td>[бывш, губернатор, сахалинск, област, александр, хорошавин, жен, ирин, сын, ил, пода, конституцион, суд, жалоб, оспарива, конфискац, имуществ, окончан, расследован, дан, газет, коммерсант, жалоб, ...</td>\n",
       "    </tr>\n",
       "  </tbody>\n",
       "</table>\n",
       "</div>"
      ],
      "text/plain": [
       "                                                                                                                                                                                                         text  \\\n",
       "94         Использование шифрованного Flash диска под LinuxВ статье \" Encrypt devices\\nusing dm-crypt and LUKS \" рассказывается о создании шифрованного раздела\\nна мобильном устройстве, например USB Flash.   \n",
       "417   Украина получила официальное уведомление о статусе Януковича в РФ\\n\\n9 декабря 2016 в 16:14\\n\\nРБК-Украина\\n\\nГенеральная прокуратура Украины получила официальное уведомление о статусе экс-президе...   \n",
       "1435  Бывший губернатор Сахалинской области Александр Хорошавин, его жена Ирина и сын Илья подали в Конституционный суд жалобу, оспаривающую конфискацию имущества до окончания расследования. По данным г...   \n",
       "\n",
       "           tag  \\\n",
       "94        tech   \n",
       "417   politics   \n",
       "1435  politics   \n",
       "\n",
       "                                                                                                                                                                                                        ctext  \n",
       "94                             [использован, шифрова, flash, диск, линуxв, стат, encrypt, devices, using, dm-crypt, and, luks, рассказыва, создан, шифрова, раздел, мобильн, устройств, например, usb, flash]  \n",
       "417   [украин, получ, официальн, уведомлен, статус, янукович, рф, декабр, рбк-украин, генеральн, прокуратур, украин, получ, официальн, уведомлен, статус, экс-президент, виктор, янукович, российск, федер...  \n",
       "1435  [бывш, губернатор, сахалинск, област, александр, хорошавин, жен, ирин, сын, ил, пода, конституцион, суд, жалоб, оспарива, конфискац, имуществ, окончан, расследован, дан, газет, коммерсант, жалоб, ...  "
      ]
     },
     "execution_count": 13,
     "metadata": {},
     "output_type": "execute_result"
    }
   ],
   "source": [
    "data.sample(3)"
   ]
  },
  {
   "cell_type": "markdown",
   "metadata": {},
   "source": [
    "## лемматизация"
   ]
  },
  {
   "cell_type": "code",
   "execution_count": 14,
   "metadata": {},
   "outputs": [],
   "source": [
    "# лемматизация и очистка с помощью пакета морфологического анализа\n",
    "\n",
    "from pymorphy2 import MorphAnalyzer\n",
    "\n",
    "morph = MorphAnalyzer()\n",
    "\n",
    "# NOUN (существительное), VERB (глагол), ADJF (прилагательное)\n",
    "def word_normalizer(w, pos_types=('NOUN','VERB','ADJF')):\n",
    "    if not morph.word_is_known(w): return ''\n",
    "    p = morph.parse(w)[0] \n",
    "    return p.normal_form if (p.tag.POS in pos_types) else ''\n",
    "\n",
    "def text_normalizer_tokenize(s):\n",
    "    return [ word_normalizer(w) for w in s.split(' ') if len(w)>1 ]"
   ]
  },
  {
   "cell_type": "code",
   "execution_count": 16,
   "metadata": {},
   "outputs": [
    {
     "name": "stderr",
     "output_type": "stream",
     "text": [
      "100%|██████████| 3196/3196 [00:00<00:00, 5298.19it/s]\n",
      "100%|██████████| 3196/3196 [01:12<00:00, 43.88it/s]\n"
     ]
    }
   ],
   "source": [
    "data['ctext'] = data['text']\\\n",
    "                   .progress_apply(string_normalizer)\\\n",
    "                   .progress_apply( text_normalizer_tokenize )"
   ]
  },
  {
   "cell_type": "code",
   "execution_count": 17,
   "metadata": {},
   "outputs": [
    {
     "name": "stdout",
     "output_type": "stream",
     "text": [
      "словарь 22123 слов\n"
     ]
    }
   ],
   "source": [
    "vcb =  get_vocabulary( data['ctext'] )\n",
    "print('словарь %i слов'%(len(vcb)))\n",
    "# pd.DataFrame( vcb ).to_csv('voc2.txt',index=False,header=False)"
   ]
  },
  {
   "cell_type": "code",
   "execution_count": 18,
   "metadata": {},
   "outputs": [
    {
     "data": {
      "text/html": [
       "<div>\n",
       "<style scoped>\n",
       "    .dataframe tbody tr th:only-of-type {\n",
       "        vertical-align: middle;\n",
       "    }\n",
       "\n",
       "    .dataframe tbody tr th {\n",
       "        vertical-align: top;\n",
       "    }\n",
       "\n",
       "    .dataframe thead th {\n",
       "        text-align: right;\n",
       "    }\n",
       "</style>\n",
       "<table border=\"1\" class=\"dataframe\">\n",
       "  <thead>\n",
       "    <tr style=\"text-align: right;\">\n",
       "      <th></th>\n",
       "      <th>text</th>\n",
       "      <th>tag</th>\n",
       "      <th>ctext</th>\n",
       "    </tr>\n",
       "  </thead>\n",
       "  <tbody>\n",
       "    <tr>\n",
       "      <th>1857</th>\n",
       "      <td>Президент России Владимир Путин в интервью японскому телеканалу Nippon TV заявил, что РФ хочет полной нормализации отношений с Японией и считает отсутствие мирного договора между двумя странами ан...</td>\n",
       "      <td>politics</td>\n",
       "      <td>[президент, россия, владимир, путин, интервью, японский, телеканал, , , заявить, , рф, хотеть, полный, нормализация, отношение, япония, считать, отсутствие, мирный, договор, , , страна, анахронизм...</td>\n",
       "    </tr>\n",
       "    <tr>\n",
       "      <th>279</th>\n",
       "      <td>\"Уралсвязьинформ\" готов к переходу на новые коды... Министерства\\nинформационных технологий и связи РФ \"Об изменении закрепления кодов\\nгеографически определяемых зон нумерации и кодов географичес...</td>\n",
       "      <td>tech</td>\n",
       "      <td>[уралсвязьинформ, , переход, , новое, код, министерство, информационный, технология, связь, рф, , изменение, закрепление, код, , , зона, нумерация, код, , неопределяемый, зона, , междугородный, те...</td>\n",
       "    </tr>\n",
       "    <tr>\n",
       "      <th>703</th>\n",
       "      <td>Песни Мулявина, вышиванки и победитель из провинции. В Dozari прошел \"Студент года\" от БРСМ\\n\\n9 декабря 2016 в 12:52\\n\\nМайя Кохно / Фото: Евгений Ерчак / TUT.BY\\n\\nВ четверг, 8 декабря, в столич...</td>\n",
       "      <td>politics</td>\n",
       "      <td>[песнь, , , победитель, , провинция, , пройти, студент, год, , , декабрь, майя, , фото, евгений, , , , четверг, декабрь, столичный, клуб, , пройти, финал, конкурс, студент, год, , , звание, соревн...</td>\n",
       "    </tr>\n",
       "  </tbody>\n",
       "</table>\n",
       "</div>"
      ],
      "text/plain": [
       "                                                                                                                                                                                                         text  \\\n",
       "1857  Президент России Владимир Путин в интервью японскому телеканалу Nippon TV заявил, что РФ хочет полной нормализации отношений с Японией и считает отсутствие мирного договора между двумя странами ан...   \n",
       "279   \"Уралсвязьинформ\" готов к переходу на новые коды... Министерства\\nинформационных технологий и связи РФ \"Об изменении закрепления кодов\\nгеографически определяемых зон нумерации и кодов географичес...   \n",
       "703   Песни Мулявина, вышиванки и победитель из провинции. В Dozari прошел \"Студент года\" от БРСМ\\n\\n9 декабря 2016 в 12:52\\n\\nМайя Кохно / Фото: Евгений Ерчак / TUT.BY\\n\\nВ четверг, 8 декабря, в столич...   \n",
       "\n",
       "           tag  \\\n",
       "1857  politics   \n",
       "279       tech   \n",
       "703   politics   \n",
       "\n",
       "                                                                                                                                                                                                        ctext  \n",
       "1857  [президент, россия, владимир, путин, интервью, японский, телеканал, , , заявить, , рф, хотеть, полный, нормализация, отношение, япония, считать, отсутствие, мирный, договор, , , страна, анахронизм...  \n",
       "279   [уралсвязьинформ, , переход, , новое, код, министерство, информационный, технология, связь, рф, , изменение, закрепление, код, , , зона, нумерация, код, , неопределяемый, зона, , междугородный, те...  \n",
       "703   [песнь, , , победитель, , провинция, , пройти, студент, год, , , декабрь, майя, , фото, евгений, , , , четверг, декабрь, столичный, клуб, , пройти, финал, конкурс, студент, год, , , звание, соревн...  "
      ]
     },
     "execution_count": 18,
     "metadata": {},
     "output_type": "execute_result"
    }
   ],
   "source": [
    "data.sample(3)"
   ]
  },
  {
   "cell_type": "code",
   "execution_count": null,
   "metadata": {},
   "outputs": [],
   "source": []
  }
 ],
 "metadata": {
  "kernelspec": {
   "display_name": "Python 3",
   "language": "python",
   "name": "python3"
  },
  "language_info": {
   "codemirror_mode": {
    "name": "ipython",
    "version": 3
   },
   "file_extension": ".py",
   "mimetype": "text/x-python",
   "name": "python",
   "nbconvert_exporter": "python",
   "pygments_lexer": "ipython3",
   "version": "3.9.0"
  },
  "toc": {
   "base_numbering": 1,
   "nav_menu": {},
   "number_sections": true,
   "sideBar": true,
   "skip_h1_title": false,
   "title_cell": "Table of Contents",
   "title_sidebar": "Contents",
   "toc_cell": false,
   "toc_position": {},
   "toc_section_display": true,
   "toc_window_display": false
  }
 },
 "nbformat": 4,
 "nbformat_minor": 2
}
