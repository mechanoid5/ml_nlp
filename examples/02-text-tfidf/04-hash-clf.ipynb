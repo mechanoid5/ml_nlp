{
 "cells": [
  {
   "cell_type": "markdown",
   "metadata": {},
   "source": [
    "**извлечение признаков из текста на естественном языке**\n",
    "\n",
    "классификатор текстов HashingVectorizer\n",
    "\n",
    "Евгений Борисов borisov.e@solarl.ru"
   ]
  },
  {
   "cell_type": "markdown",
   "metadata": {},
   "source": [
    "## библиотеки"
   ]
  },
  {
   "cell_type": "code",
   "execution_count": 1,
   "metadata": {},
   "outputs": [
    {
     "name": "stderr",
     "output_type": "stream",
     "text": [
      "/usr/lib/python3.8/site-packages/tqdm/std.py:703: FutureWarning: The Panel class is removed from pandas. Accessing it from the top-level namespace will also be removed in the next version\n",
      "  from pandas import Panel\n"
     ]
    }
   ],
   "source": [
    "import re\n",
    "# import gzip\n",
    "import numpy as np\n",
    "import numpy.random as rng\n",
    "import pandas as pd\n",
    "from tqdm import tqdm\n",
    "\n",
    "np.set_printoptions(precision=2) # вывод на печать чисел до 2 знака\n",
    "pd.options.display.max_colwidth = 200 \n",
    "\n",
    "tqdm.pandas()"
   ]
  },
  {
   "cell_type": "code",
   "execution_count": 2,
   "metadata": {},
   "outputs": [],
   "source": [
    "# import numpy as np\n",
    "# import pandas as pd\n",
    "# import re"
   ]
  },
  {
   "cell_type": "code",
   "execution_count": 3,
   "metadata": {},
   "outputs": [
    {
     "data": {
      "text/plain": [
       "'0.23.2'"
      ]
     },
     "execution_count": 3,
     "metadata": {},
     "output_type": "execute_result"
    }
   ],
   "source": [
    "from sklearn import __version__ as SKLEARN_VERSION\n",
    "\n",
    "from sklearn.feature_extraction.text import HashingVectorizer\n",
    "\n",
    "from sklearn.model_selection import train_test_split\n",
    "from sklearn.metrics import confusion_matrix\n",
    "from sklearn.metrics import classification_report\n",
    "from sklearn.metrics import accuracy_score\n",
    "\n",
    "SKLEARN_VERSION"
   ]
  },
  {
   "cell_type": "markdown",
   "metadata": {},
   "source": [
    "## тексты"
   ]
  },
  {
   "cell_type": "code",
   "execution_count": 4,
   "metadata": {},
   "outputs": [
    {
     "name": "stdout",
     "output_type": "stream",
     "text": [
      "записей: 3196\n"
     ]
    },
    {
     "data": {
      "text/html": [
       "<div>\n",
       "<style scoped>\n",
       "    .dataframe tbody tr th:only-of-type {\n",
       "        vertical-align: middle;\n",
       "    }\n",
       "\n",
       "    .dataframe tbody tr th {\n",
       "        vertical-align: top;\n",
       "    }\n",
       "\n",
       "    .dataframe thead th {\n",
       "        text-align: right;\n",
       "    }\n",
       "</style>\n",
       "<table border=\"1\" class=\"dataframe\">\n",
       "  <thead>\n",
       "    <tr style=\"text-align: right;\">\n",
       "      <th></th>\n",
       "      <th>text</th>\n",
       "      <th>tag</th>\n",
       "    </tr>\n",
       "  </thead>\n",
       "  <tbody>\n",
       "    <tr>\n",
       "      <th>1334</th>\n",
       "      <td>Ноутбук из будущего: обзор нового MacBook Pro с сенсорной панелью и сканером отпечатков\\n\\n3 декабря 2016 в 9:12\\n\\nДмитрий Смирнов / Максим Пушкин / 42.TUT.BY / Фото: Дмитрий Брушко\\n\\nРелиз ново...</td>\n",
       "      <td>tech</td>\n",
       "    </tr>\n",
       "    <tr>\n",
       "      <th>250</th>\n",
       "      <td>Газета \"Книжное обозрение\" выбрала лучших профессионалов книжного рынка\\nи вручила им награду \"Человек книги\" за 2005 год.Имена лауреатов в шести\\nноминациях были оглашены на ярмарке интеллектуаль...</td>\n",
       "      <td>culture</td>\n",
       "    </tr>\n",
       "    <tr>\n",
       "      <th>490</th>\n",
       "      <td>Перестрелка по недоразумению между силовиками под Киевом: уже шесть погибших\\n\\nопубликовано: 4 декабря 2016 в 12:30\\n\\nобновлено: 4 декабря 2016 в 21:29\\n\\nУкраинская правда\\n\\nВ ночь на воскресе...</td>\n",
       "      <td>incident</td>\n",
       "    </tr>\n",
       "    <tr>\n",
       "      <th>2681</th>\n",
       "      <td>Ученые решили установить, почему в организме человека образовываются раковые клетки и как они себя ведут.\\n\\nБлагодаря очередному исследованию ученым удалось установить, как связан жир в организме...</td>\n",
       "      <td>science</td>\n",
       "    </tr>\n",
       "    <tr>\n",
       "      <th>3164</th>\n",
       "      <td>Двина Информ ?Оленеводы мира? приходят на помощь ненецким оленеводам На\\nтерритории Ненецкого автономного округа будет реализован проект Арктического\\nсовета EALAT, который включает в себя исследо...</td>\n",
       "      <td>politics</td>\n",
       "    </tr>\n",
       "  </tbody>\n",
       "</table>\n",
       "</div>"
      ],
      "text/plain": [
       "                                                                                                                                                                                                         text  \\\n",
       "1334  Ноутбук из будущего: обзор нового MacBook Pro с сенсорной панелью и сканером отпечатков\\n\\n3 декабря 2016 в 9:12\\n\\nДмитрий Смирнов / Максим Пушкин / 42.TUT.BY / Фото: Дмитрий Брушко\\n\\nРелиз ново...   \n",
       "250   Газета \"Книжное обозрение\" выбрала лучших профессионалов книжного рынка\\nи вручила им награду \"Человек книги\" за 2005 год.Имена лауреатов в шести\\nноминациях были оглашены на ярмарке интеллектуаль...   \n",
       "490   Перестрелка по недоразумению между силовиками под Киевом: уже шесть погибших\\n\\nопубликовано: 4 декабря 2016 в 12:30\\n\\nобновлено: 4 декабря 2016 в 21:29\\n\\nУкраинская правда\\n\\nВ ночь на воскресе...   \n",
       "2681  Ученые решили установить, почему в организме человека образовываются раковые клетки и как они себя ведут.\\n\\nБлагодаря очередному исследованию ученым удалось установить, как связан жир в организме...   \n",
       "3164  Двина Информ ?Оленеводы мира? приходят на помощь ненецким оленеводам На\\nтерритории Ненецкого автономного округа будет реализован проект Арктического\\nсовета EALAT, который включает в себя исследо...   \n",
       "\n",
       "           tag  \n",
       "1334      tech  \n",
       "250    culture  \n",
       "490   incident  \n",
       "2681   science  \n",
       "3164  politics  "
      ]
     },
     "execution_count": 4,
     "metadata": {},
     "output_type": "execute_result"
    }
   ],
   "source": [
    "# загружаем тексты\n",
    "data = pd.read_pickle('../data/news.pkl.gz')\n",
    "print('записей:',len(data))\n",
    "data.sample(5)"
   ]
  },
  {
   "cell_type": "markdown",
   "metadata": {},
   "source": [
    "## токенизация и очистка"
   ]
  },
  {
   "cell_type": "code",
   "execution_count": 5,
   "metadata": {},
   "outputs": [],
   "source": [
    "# собираем словарь из текстов\n",
    "def get_vocabulary(ds):\n",
    "    vcb = [ set(s) for s in ds.tolist() ]\n",
    "    return sorted(set.union(*vcb))"
   ]
  },
  {
   "cell_type": "code",
   "execution_count": 6,
   "metadata": {},
   "outputs": [],
   "source": [
    "# применяет список замен pat к строке s\n",
    "def replace_patterns(s,pat):\n",
    "    if len(pat)<1: return s\n",
    "    return  replace_patterns( re.sub(pat[0][0],pat[0][1],s), pat[1:] )\n",
    "\n",
    "# нормализация текста\n",
    "def string_normalizer(s):\n",
    "    pat = [\n",
    "       [r'ё','е'] # замена ё для унификации\n",
    "       ,[r'</?[a-z]+>',' '] # удаляем xml\n",
    "       ,[r'[^a-zа-я\\- ]+',' '] # оставляем только буквы, пробел и -\n",
    "       ,[r' -\\w+',' '] # удаляем '-й','-тый' и т.п.\n",
    "       ,[r'\\w+- ',' ']\n",
    "       ,[r' +',' '] # удаляем повторы пробелов\n",
    "    ]\n",
    "    return replace_patterns(s.lower(),pat).strip()\n",
    "\n",
    "# разрезаем стоки на слова\n",
    "def tokenize(s): return [ w for w in s.split(' ') if (len(w)>1) ]"
   ]
  },
  {
   "cell_type": "code",
   "execution_count": 7,
   "metadata": {},
   "outputs": [
    {
     "name": "stderr",
     "output_type": "stream",
     "text": [
      "100%|██████████| 3196/3196 [00:00<00:00, 5146.44it/s]\n"
     ]
    }
   ],
   "source": [
    "data['ctext'] = data['text'].progress_apply(string_normalizer)"
   ]
  },
  {
   "cell_type": "code",
   "execution_count": 8,
   "metadata": {},
   "outputs": [
    {
     "name": "stderr",
     "output_type": "stream",
     "text": [
      "100%|██████████| 3196/3196 [00:00<00:00, 32478.30it/s]\n"
     ]
    },
    {
     "name": "stdout",
     "output_type": "stream",
     "text": [
      "словарь 83094 слов\n"
     ]
    }
   ],
   "source": [
    "vcb =  get_vocabulary( data['ctext'].progress_apply( tokenize ) )\n",
    "print('словарь %i слов'%(len(vcb)))\n",
    "# pd.DataFrame( vcb ).to_csv('voc.txt',index=False,header=False)"
   ]
  },
  {
   "cell_type": "code",
   "execution_count": 9,
   "metadata": {},
   "outputs": [
    {
     "data": {
      "text/html": [
       "<div>\n",
       "<style scoped>\n",
       "    .dataframe tbody tr th:only-of-type {\n",
       "        vertical-align: middle;\n",
       "    }\n",
       "\n",
       "    .dataframe tbody tr th {\n",
       "        vertical-align: top;\n",
       "    }\n",
       "\n",
       "    .dataframe thead th {\n",
       "        text-align: right;\n",
       "    }\n",
       "</style>\n",
       "<table border=\"1\" class=\"dataframe\">\n",
       "  <thead>\n",
       "    <tr style=\"text-align: right;\">\n",
       "      <th></th>\n",
       "      <th>text</th>\n",
       "      <th>tag</th>\n",
       "      <th>ctext</th>\n",
       "    </tr>\n",
       "  </thead>\n",
       "  <tbody>\n",
       "    <tr>\n",
       "      <th>399</th>\n",
       "      <td>Ширак предложил продавать в школах презервативы Президент Франции Жак\\nШирак для борьбы со со СПИДом предложил министру здравоохранения Ксавье\\nБертрану установить во всех лицеях страны автоматы п...</td>\n",
       "      <td>health</td>\n",
       "      <td>ширак предложил продавать в школах презервативы президент франции жак ширак для борьбы со со спидом предложил министру здравоохранения ксавье бертрану установить во всех лицеях страны автоматы по ...</td>\n",
       "    </tr>\n",
       "    <tr>\n",
       "      <th>2227</th>\n",
       "      <td>Водитель автобуса почувствовал недомогание на Солидарности и попал в ДТП\\n\\nВ предприятии также заверили, что водитель автобуса проходил предрейсовый осмотр.\\n\\nНебольшая авария с участием рейсово...</td>\n",
       "      <td>incident</td>\n",
       "      <td>водитель автобуса почувствовал недомогание на солидарности и попал в дтп в предприятии также заверили что водитель автобуса проходил предрейсовый осмотр небольшая авария с участием рейсового автоб...</td>\n",
       "    </tr>\n",
       "    <tr>\n",
       "      <th>834</th>\n",
       "      <td>Киркоров прокомментировал конфликт с Маруани: \"Все сделали пранкеры\"\\n\\n30 ноября 2016 в 15:20\\n\\nLenta.ru\\n\\nПевец Филипп Киркоров считает обвинения лидера группы Space Дидье Маруани в плагиате а...</td>\n",
       "      <td>social</td>\n",
       "      <td>киркоров прокомментировал конфликт с маруани все сделали пранкеры ноября в lenta ru певец филипп киркоров считает обвинения лидера группы space дидье маруани в плагиате абсурдными об этом он сообщ...</td>\n",
       "    </tr>\n",
       "    <tr>\n",
       "      <th>561</th>\n",
       "      <td>В Кобринском районе 24-летний парень погиб в лобовом столкновении Ford и ГАЗ\\n\\n2 декабря 2016 в 20:59\\n\\nTUT.BY\\n\\nУтром 2 декабря в Кобринском районе Ford Mondeo врезался во встречный ГАЗ.\\n\\n20...</td>\n",
       "      <td>incident</td>\n",
       "      <td>в кобринском районе парень погиб в лобовом столкновении ford и газ декабря в tut by утром декабря в кобринском районе ford mondeo врезался во встречный газ водитель ford ехал по трассе р кобрин ст...</td>\n",
       "    </tr>\n",
       "    <tr>\n",
       "      <th>1060</th>\n",
       "      <td>От 5 до 50%. Где минчанам искать скидки в декабре\\n\\n29 ноября 2016 в 14:39\\n\\nFINANCE.TUT.BY\\n\\nСтоличные универмаги и торговые сети в декабре будут часто предоставлять скидки на товары. Об акция...</td>\n",
       "      <td>economics</td>\n",
       "      <td>от до где минчанам искать скидки в декабре ноября в finance tut by столичные универмаги и торговые сети в декабре будут часто предоставлять скидки на товары об акциях на непродовольственные товары...</td>\n",
       "    </tr>\n",
       "  </tbody>\n",
       "</table>\n",
       "</div>"
      ],
      "text/plain": [
       "                                                                                                                                                                                                         text  \\\n",
       "399   Ширак предложил продавать в школах презервативы Президент Франции Жак\\nШирак для борьбы со со СПИДом предложил министру здравоохранения Ксавье\\nБертрану установить во всех лицеях страны автоматы п...   \n",
       "2227  Водитель автобуса почувствовал недомогание на Солидарности и попал в ДТП\\n\\nВ предприятии также заверили, что водитель автобуса проходил предрейсовый осмотр.\\n\\nНебольшая авария с участием рейсово...   \n",
       "834   Киркоров прокомментировал конфликт с Маруани: \"Все сделали пранкеры\"\\n\\n30 ноября 2016 в 15:20\\n\\nLenta.ru\\n\\nПевец Филипп Киркоров считает обвинения лидера группы Space Дидье Маруани в плагиате а...   \n",
       "561   В Кобринском районе 24-летний парень погиб в лобовом столкновении Ford и ГАЗ\\n\\n2 декабря 2016 в 20:59\\n\\nTUT.BY\\n\\nУтром 2 декабря в Кобринском районе Ford Mondeo врезался во встречный ГАЗ.\\n\\n20...   \n",
       "1060  От 5 до 50%. Где минчанам искать скидки в декабре\\n\\n29 ноября 2016 в 14:39\\n\\nFINANCE.TUT.BY\\n\\nСтоличные универмаги и торговые сети в декабре будут часто предоставлять скидки на товары. Об акция...   \n",
       "\n",
       "            tag  \\\n",
       "399      health   \n",
       "2227   incident   \n",
       "834      social   \n",
       "561    incident   \n",
       "1060  economics   \n",
       "\n",
       "                                                                                                                                                                                                        ctext  \n",
       "399   ширак предложил продавать в школах презервативы президент франции жак ширак для борьбы со со спидом предложил министру здравоохранения ксавье бертрану установить во всех лицеях страны автоматы по ...  \n",
       "2227  водитель автобуса почувствовал недомогание на солидарности и попал в дтп в предприятии также заверили что водитель автобуса проходил предрейсовый осмотр небольшая авария с участием рейсового автоб...  \n",
       "834   киркоров прокомментировал конфликт с маруани все сделали пранкеры ноября в lenta ru певец филипп киркоров считает обвинения лидера группы space дидье маруани в плагиате абсурдными об этом он сообщ...  \n",
       "561   в кобринском районе парень погиб в лобовом столкновении ford и газ декабря в tut by утром декабря в кобринском районе ford mondeo врезался во встречный газ водитель ford ехал по трассе р кобрин ст...  \n",
       "1060  от до где минчанам искать скидки в декабре ноября в finance tut by столичные универмаги и торговые сети в декабре будут часто предоставлять скидки на товары об акциях на непродовольственные товары...  "
      ]
     },
     "execution_count": 9,
     "metadata": {},
     "output_type": "execute_result"
    }
   ],
   "source": [
    "data.sample(5)"
   ]
  },
  {
   "cell_type": "markdown",
   "metadata": {},
   "source": [
    "## Vectorizer"
   ]
  },
  {
   "cell_type": "code",
   "execution_count": 10,
   "metadata": {},
   "outputs": [],
   "source": [
    "def tokenizer(s): \n",
    "    for w in s.split(' '):\n",
    "        if (len(w)>1): \n",
    "            yield w\n",
    "\n",
    "tf = HashingVectorizer( n_features=4096, norm='l2', tokenizer=tokenizer,token_pattern=None).fit( data['ctext'] )"
   ]
  },
  {
   "cell_type": "markdown",
   "metadata": {},
   "source": [
    "## формируем датасеты"
   ]
  },
  {
   "cell_type": "code",
   "execution_count": 11,
   "metadata": {},
   "outputs": [
    {
     "data": {
      "text/plain": [
       "(3196, 4096)"
      ]
     },
     "execution_count": 11,
     "metadata": {},
     "output_type": "execute_result"
    }
   ],
   "source": [
    "X = tf.transform( data['ctext'] )\n",
    "X.shape"
   ]
  },
  {
   "cell_type": "code",
   "execution_count": 12,
   "metadata": {},
   "outputs": [
    {
     "data": {
      "text/plain": [
       "{'auto': 0,\n",
       " 'culture': 1,\n",
       " 'economics': 2,\n",
       " 'health': 3,\n",
       " 'incident': 4,\n",
       " 'politics': 5,\n",
       " 'realty': 6,\n",
       " 'reclama': 7,\n",
       " 'science': 8,\n",
       " 'social': 9,\n",
       " 'sport': 10,\n",
       " 'tech': 11,\n",
       " 'woman': 12}"
      ]
     },
     "execution_count": 12,
     "metadata": {},
     "output_type": "execute_result"
    }
   ],
   "source": [
    "labels = { t:i for i,t in enumerate(sorted(set(data['tag']))) }\n",
    "labels"
   ]
  },
  {
   "cell_type": "code",
   "execution_count": 13,
   "metadata": {},
   "outputs": [
    {
     "data": {
      "text/plain": [
       "array([5, 1, 1, ..., 8, 5, 9])"
      ]
     },
     "execution_count": 13,
     "metadata": {},
     "output_type": "execute_result"
    }
   ],
   "source": [
    "y = data['tag'].map(labels).values\n",
    "y"
   ]
  },
  {
   "cell_type": "code",
   "execution_count": 14,
   "metadata": {},
   "outputs": [
    {
     "data": {
      "text/plain": [
       "((2237, 4096), (2237,), (959, 4096), (959,))"
      ]
     },
     "execution_count": 14,
     "metadata": {},
     "output_type": "execute_result"
    }
   ],
   "source": [
    "X_train, X_test, y_train, y_test = train_test_split( X, y, test_size=0.3, random_state=326 )\n",
    "X_train.shape, y_train.shape, X_test.shape, y_test.shape"
   ]
  },
  {
   "cell_type": "markdown",
   "metadata": {},
   "source": [
    "## обучаем классификатор"
   ]
  },
  {
   "cell_type": "code",
   "execution_count": 15,
   "metadata": {},
   "outputs": [
    {
     "data": {
      "text/plain": [
       "SGDClassifier(tol=0.19)"
      ]
     },
     "execution_count": 15,
     "metadata": {},
     "output_type": "execute_result"
    }
   ],
   "source": [
    "from sklearn.linear_model import SGDClassifier\n",
    "\n",
    "clf = SGDClassifier(loss='hinge',max_iter=1000, tol=0.19)\n",
    "clf.fit(X_train,y_train)"
   ]
  },
  {
   "cell_type": "markdown",
   "metadata": {},
   "source": [
    "## тестируем"
   ]
  },
  {
   "cell_type": "code",
   "execution_count": 16,
   "metadata": {},
   "outputs": [
    {
     "data": {
      "text/plain": [
       "0.9991059454626732"
      ]
     },
     "execution_count": 16,
     "metadata": {},
     "output_type": "execute_result"
    }
   ],
   "source": [
    "o = clf.predict(X_train)\n",
    "accuracy_score(y_train,o)"
   ]
  },
  {
   "cell_type": "code",
   "execution_count": 17,
   "metadata": {},
   "outputs": [
    {
     "data": {
      "text/plain": [
       "0.8269030239833159"
      ]
     },
     "execution_count": 17,
     "metadata": {},
     "output_type": "execute_result"
    }
   ],
   "source": [
    "o = clf.predict(X_test)\n",
    "accuracy_score(y_test,o)"
   ]
  },
  {
   "cell_type": "code",
   "execution_count": 18,
   "metadata": {},
   "outputs": [
    {
     "name": "stdout",
     "output_type": "stream",
     "text": [
      "              precision    recall  f1-score   support\n",
      "\n",
      "           0       0.90      0.89      0.89        87\n",
      "           1       0.71      0.85      0.77       101\n",
      "           2       0.79      0.76      0.78        76\n",
      "           3       0.74      0.55      0.63        31\n",
      "           4       0.85      0.94      0.89       123\n",
      "           5       0.84      0.90      0.87       177\n",
      "           6       0.82      0.43      0.56        21\n",
      "           7       0.88      0.82      0.85        17\n",
      "           8       0.82      0.99      0.89        68\n",
      "           9       0.61      0.25      0.35        44\n",
      "          10       0.97      0.96      0.96       118\n",
      "          11       0.76      0.65      0.70        89\n",
      "          12       0.78      1.00      0.88         7\n",
      "\n",
      "    accuracy                           0.83       959\n",
      "   macro avg       0.80      0.77      0.77       959\n",
      "weighted avg       0.82      0.83      0.82       959\n",
      "\n"
     ]
    }
   ],
   "source": [
    "print( classification_report(y_test,o) )"
   ]
  },
  {
   "cell_type": "code",
   "execution_count": 19,
   "metadata": {},
   "outputs": [
    {
     "data": {
      "image/png": "[encoded data removed]",
      "text/plain": [
       "<Figure size 720x648 with 2 Axes>"
      ]
     },
     "metadata": {
      "needs_background": "light"
     },
     "output_type": "display_data"
    }
   ],
   "source": [
    "from matplotlib import pyplot as plt\n",
    "import itertools\n",
    "\n",
    "classes = sorted(labels.keys())\n",
    "cm = confusion_matrix(y_test,o)\n",
    "tick_marks = np.arange(len(classes))\n",
    "\n",
    "plt.figure(figsize=(10,9))\n",
    "\n",
    "plt.xticks(tick_marks, classes, rotation=45)\n",
    "plt.yticks(tick_marks, classes)\n",
    "\n",
    "thresh = cm.max() / 2.\n",
    "for i, j in itertools.product(range(cm.shape[0]), range(cm.shape[1])):\n",
    "    plt.text(j, i, format(cm[i, j], 'd'),\n",
    "             horizontalalignment=\"center\",\n",
    "             color=\"white\" if cm[i, j] > thresh else \"black\")\n",
    "\n",
    "plt.title('Confusion matrix')\n",
    "plt.tight_layout()\n",
    "plt.ylabel('True label')\n",
    "plt.xlabel('Predicted label')\n",
    "plt.imshow(cm, interpolation='nearest', cmap=plt.cm.Blues)\n",
    "plt.colorbar()\n",
    "\n",
    "plt.show()"
   ]
  },
  {
   "cell_type": "markdown",
   "metadata": {},
   "source": [
    "---"
   ]
  },
  {
   "cell_type": "code",
   "execution_count": 20,
   "metadata": {},
   "outputs": [
    {
     "name": "stdout",
     "output_type": "stream",
     "text": [
      "tag: science\n",
      "predict: science\n",
      "Недостаток сна вызывает хронические заболевания Владивосток, вторник, 13 декабря , РИА Vladnews. Финские ученые в ходе исследования выяснили, сколько человеку необходимо спать, чтобы хорошенько высп...\n",
      "- - - - - - - - - - - - - - - - - -\n",
      "tag: sport\n",
      "predict: sport\n",
      "Скардино во второй гонке Кубка мира подряд попала в топ-10 4 декабря 2016 в 14:01 SPORT.TUT.BY Белорусская биатлонистка Надежда Скардино подтвердила свою хорошую форму в гонке преследования на этап...\n",
      "- - - - - - - - - - - - - - - - - -\n",
      "tag: incident\n",
      "predict: incident\n",
      "На трассе М6 под Щучином Peugeot лоб в лоб столкнулся с МАЗом дорожников: один человек погиб 5 декабря 2016 в 10:30 AUTO.TUT.BY Смертельная авария произошла 3 декабря, в 16.30, на реконструируемом ...\n",
      "- - - - - - - - - - - - - - - - - -\n",
      "tag: tech\n",
      "predict: tech\n",
      "Российский флот получил первый боевой корабль из стеклопластика 9 декабря 2016 в 16:01 Денис Алдохин / 42.TUT.BY ВМФ России получил минный тральщик проекта 12 700, сообщает ТАСС. Первый корабль сер...\n",
      "- - - - - - - - - - - - - - - - - -\n",
      "tag: science\n",
      "predict: science\n",
      "Испанские ученые выяснили, что рак «питается» жировыми запасами человеческого организма. Об этом написали западные масс-медиа. Дарья Светозарова Эксперимент проводили на мелких грызунах. Исследовани...\n",
      "- - - - - - - - - - - - - - - - - -\n",
      "tag: social\n",
      "predict: social\n",
      "Какие проблемы с документами могут выявиться на границе и сделать невозможным ее пересечение 7 декабря 2016 в 10:05 Виталий Кукса, СБ Беларусь Сегодня Какие проблемы с документами могут выявиться н...\n",
      "- - - - - - - - - - - - - - - - - -\n",
      "tag: economics\n",
      "predict: economics\n",
      "С начала года инфляция перешагнула двузначную отметку 9 декабря 2016 в 16:12 FINANCE.TUT.BY Инфляция в ноябре в Беларуси составила 0,8%, сообщает Белстат. Больше всего в прошлом месяце выросли цены...\n",
      "- - - - - - - - - - - - - - - - - -\n",
      "tag: politics\n",
      "predict: politics\n",
      "Замглавы МИД Беларуси: сегодня СНГ критикуют жестче всего, и не всегда безосновательно 8 декабря 2016 в 13:31 TUT.BY Положение дел в СНГ сегодня — индикатор состояния всего постсоветского пространс...\n",
      "- - - - - - - - - - - - - - - - - -\n",
      "tag: sport\n",
      "predict: sport\n",
      "На Украине во время матча 18-го тура чемпионата страны по футболу между киевским «Динамо» и донецким «Шахтером» произошла массовая драка футболистов, передает телеканал ТСН. На 59-й минуте игры, когд...\n",
      "- - - - - - - - - - - - - - - - - -\n",
      "tag: science\n",
      "predict: science\n",
      "В последние годы в Германии наблюдается падение популярности вегетарианской диеты. Все большее количество людей не могут бороться с желанием употреблять в пищу мясо. Максимальное количество человек, к...\n",
      "- - - - - - - - - - - - - - - - - -\n"
     ]
    }
   ],
   "source": [
    "o = clf.predict(X)\n",
    "\n",
    "labels_inv = { labels[k]:k for k in labels }\n",
    "\n",
    "for n in range(10):\n",
    "    i = rng.randint(len(data))\n",
    "    print('tag:',data.iloc[i,1])\n",
    "    print('predict:',labels_inv[o[i]])\n",
    "    print(re.sub(r'\\n\\s*\\n',' ',data.iloc[i,0][:200])+'...')\n",
    "    print('- - - - - - - - - - - - - - - - - -')\n",
    "    "
   ]
  },
  {
   "cell_type": "code",
   "execution_count": null,
   "metadata": {},
   "outputs": [],
   "source": []
  }
 ],
 "metadata": {
  "kernelspec": {
   "display_name": "Python 3",
   "language": "python",
   "name": "python3"
  },
  "language_info": {
   "codemirror_mode": {
    "name": "ipython",
    "version": 3
   },
   "file_extension": ".py",
   "mimetype": "text/x-python",
   "name": "python",
   "nbconvert_exporter": "python",
   "pygments_lexer": "ipython3",
   "version": "3.8.6"
  },
  "toc": {
   "base_numbering": 1,
   "nav_menu": {},
   "number_sections": true,
   "sideBar": true,
   "skip_h1_title": false,
   "title_cell": "Table of Contents",
   "title_sidebar": "Contents",
   "toc_cell": false,
   "toc_position": {},
   "toc_section_display": true,
   "toc_window_display": true
  }
 },
 "nbformat": 4,
 "nbformat_minor": 2
}
