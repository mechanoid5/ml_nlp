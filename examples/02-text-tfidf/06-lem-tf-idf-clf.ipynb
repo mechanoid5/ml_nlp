{
 "cells": [
  {
   "cell_type": "markdown",
   "metadata": {},
   "source": [
    "**извлечение признаков из текста на естественном языке**\n",
    "\n",
    "классификатор текстов лемматизация+TfidfVectorizer\n",
    "\n",
    "Евгений Борисов borisov.e@solarl.ru"
   ]
  },
  {
   "cell_type": "markdown",
   "metadata": {},
   "source": [
    "## библиотеки"
   ]
  },
  {
   "cell_type": "code",
   "execution_count": 1,
   "metadata": {},
   "outputs": [
    {
     "name": "stderr",
     "output_type": "stream",
     "text": [
      "/usr/lib/python3.8/site-packages/tqdm/std.py:703: FutureWarning: The Panel class is removed from pandas. Accessing it from the top-level namespace will also be removed in the next version\n",
      "  from pandas import Panel\n"
     ]
    }
   ],
   "source": [
    "import re\n",
    "# import gzip\n",
    "import numpy as np\n",
    "import numpy.random as rng\n",
    "import pandas as pd\n",
    "from tqdm import tqdm\n",
    "\n",
    "np.set_printoptions(precision=2) # вывод на печать чисел до 2 знака\n",
    "pd.options.display.max_colwidth = 200 \n",
    "\n",
    "tqdm.pandas()"
   ]
  },
  {
   "cell_type": "code",
   "execution_count": 2,
   "metadata": {},
   "outputs": [],
   "source": [
    "# import numpy as np\n",
    "# import pandas as pd\n",
    "# import re"
   ]
  },
  {
   "cell_type": "code",
   "execution_count": 3,
   "metadata": {},
   "outputs": [
    {
     "data": {
      "text/plain": [
       "'0.23.2'"
      ]
     },
     "execution_count": 3,
     "metadata": {},
     "output_type": "execute_result"
    }
   ],
   "source": [
    "from sklearn import __version__ as SKLEARN_VERSION\n",
    "\n",
    "from sklearn.feature_extraction.text import TfidfVectorizer\n",
    "\n",
    "from sklearn.model_selection import train_test_split\n",
    "from sklearn.metrics import confusion_matrix\n",
    "from sklearn.metrics import classification_report\n",
    "from sklearn.metrics import accuracy_score\n",
    "\n",
    "SKLEARN_VERSION"
   ]
  },
  {
   "cell_type": "code",
   "execution_count": 4,
   "metadata": {},
   "outputs": [],
   "source": [
    "from pymorphy2 import MorphAnalyzer"
   ]
  },
  {
   "cell_type": "markdown",
   "metadata": {},
   "source": [
    "## тексты"
   ]
  },
  {
   "cell_type": "code",
   "execution_count": 5,
   "metadata": {},
   "outputs": [
    {
     "name": "stdout",
     "output_type": "stream",
     "text": [
      "записей: 3196\n"
     ]
    },
    {
     "data": {
      "text/html": [
       "<div>\n",
       "<style scoped>\n",
       "    .dataframe tbody tr th:only-of-type {\n",
       "        vertical-align: middle;\n",
       "    }\n",
       "\n",
       "    .dataframe tbody tr th {\n",
       "        vertical-align: top;\n",
       "    }\n",
       "\n",
       "    .dataframe thead th {\n",
       "        text-align: right;\n",
       "    }\n",
       "</style>\n",
       "<table border=\"1\" class=\"dataframe\">\n",
       "  <thead>\n",
       "    <tr style=\"text-align: right;\">\n",
       "      <th></th>\n",
       "      <th>text</th>\n",
       "      <th>tag</th>\n",
       "    </tr>\n",
       "  </thead>\n",
       "  <tbody>\n",
       "    <tr>\n",
       "      <th>112</th>\n",
       "      <td>Положение команд после пятого тура Лиги чемпионов В пятом туре группового\\nэтапа Лиги чемпионов \"Манчестер юнайтед\" не смог воспользоваться\\nпреимуществом своего поля, сыграв вничью 0:0 с испански...</td>\n",
       "      <td>sport</td>\n",
       "    </tr>\n",
       "    <tr>\n",
       "      <th>1928</th>\n",
       "      <td>Уходящий президент США Барак Обама арендовал офисное помещение в здании Всемирного фонда дикой природы (World Wildlife Fund, WWF), находящемся в центре Вашингтона, штат Колумбия. Об этом в понедел...</td>\n",
       "      <td>politics</td>\n",
       "    </tr>\n",
       "  </tbody>\n",
       "</table>\n",
       "</div>"
      ],
      "text/plain": [
       "                                                                                                                                                                                                         text  \\\n",
       "112   Положение команд после пятого тура Лиги чемпионов В пятом туре группового\\nэтапа Лиги чемпионов \"Манчестер юнайтед\" не смог воспользоваться\\nпреимуществом своего поля, сыграв вничью 0:0 с испански...   \n",
       "1928  Уходящий президент США Барак Обама арендовал офисное помещение в здании Всемирного фонда дикой природы (World Wildlife Fund, WWF), находящемся в центре Вашингтона, штат Колумбия. Об этом в понедел...   \n",
       "\n",
       "           tag  \n",
       "112      sport  \n",
       "1928  politics  "
      ]
     },
     "execution_count": 5,
     "metadata": {},
     "output_type": "execute_result"
    }
   ],
   "source": [
    "# загружаем тексты\n",
    "data = pd.read_pickle('../data/news.pkl.gz')\n",
    "print('записей:',len(data))\n",
    "data.sample(2)"
   ]
  },
  {
   "cell_type": "markdown",
   "metadata": {},
   "source": [
    "## токенизация и очистка"
   ]
  },
  {
   "cell_type": "code",
   "execution_count": 6,
   "metadata": {},
   "outputs": [],
   "source": [
    "# собираем словарь из текстов\n",
    "def get_vocabulary(ds):\n",
    "    vcb = [ set(s) for s in ds.tolist() ]\n",
    "    return sorted(set.union(*vcb))"
   ]
  },
  {
   "cell_type": "code",
   "execution_count": 7,
   "metadata": {},
   "outputs": [],
   "source": [
    "# лемматизация и очистка с помощью пакета морфологического анализа\n",
    "\n",
    "morph = MorphAnalyzer()\n",
    "\n",
    "\n",
    "# применяет список замен pat к строке s\n",
    "def replace_patterns(s,pat):\n",
    "    if len(pat)<1: return s\n",
    "    return  replace_patterns( re.sub(pat[0][0],pat[0][1],s), pat[1:] )\n",
    "\n",
    "# нормализация текста\n",
    "def string_normalizer(s):\n",
    "    pat = [\n",
    "       [r'ё','е'] # замена ё для унификации\n",
    "       ,[r'</?[a-z]+>',' '] # удаляем xml\n",
    "       ,[r'[^a-zа-я\\- ]+',' '] # оставляем только буквы, пробел и -\n",
    "       ,[r' -\\w+',' '] # удаляем '-й','-тый' и т.п.\n",
    "       ,[r'\\w+- ',' ']\n",
    "       ,[r' +',' '] # удаляем повторы пробелов\n",
    "    ]\n",
    "    return replace_patterns(s.lower(),pat).strip()\n",
    "\n",
    "# NOUN (существительное), VERB (глагол), ADJF (прилагательное)\n",
    "def word_normalizer(w, pos_types=('NOUN','VERB','ADJF')):\n",
    "    if not morph.word_is_known(w): return ''\n",
    "    p = morph.parse(w)[0] \n",
    "    return p.normal_form if (p.tag.POS in pos_types) else ''\n",
    "\n",
    "\n",
    "def tokenize_normalize(s):\n",
    "    return [ word_normalizer(w) for w in s.split(' ') if len(w)>1 ]"
   ]
  },
  {
   "cell_type": "code",
   "execution_count": 8,
   "metadata": {},
   "outputs": [
    {
     "name": "stderr",
     "output_type": "stream",
     "text": [
      "100%|██████████| 3196/3196 [00:00<00:00, 5108.50it/s]\n",
      "100%|██████████| 3196/3196 [01:11<00:00, 44.96it/s]\n"
     ]
    }
   ],
   "source": [
    "data['ctext'] = data['text'].progress_apply(string_normalizer).progress_apply( tokenize_normalize )"
   ]
  },
  {
   "cell_type": "code",
   "execution_count": 9,
   "metadata": {},
   "outputs": [
    {
     "name": "stdout",
     "output_type": "stream",
     "text": [
      "словарь 22123 слов\n"
     ]
    }
   ],
   "source": [
    "vcb0 =  get_vocabulary( data['ctext'] )\n",
    "print('словарь %i слов'%(len(vcb0)))\n",
    "# pd.DataFrame( vcb ).to_csv('voc0.txt',index=False,header=False)"
   ]
  },
  {
   "cell_type": "code",
   "execution_count": 10,
   "metadata": {},
   "outputs": [],
   "source": [
    "data['ctext'] = data['ctext'].apply( ' '.join  )"
   ]
  },
  {
   "cell_type": "code",
   "execution_count": 11,
   "metadata": {},
   "outputs": [
    {
     "data": {
      "text/html": [
       "<div>\n",
       "<style scoped>\n",
       "    .dataframe tbody tr th:only-of-type {\n",
       "        vertical-align: middle;\n",
       "    }\n",
       "\n",
       "    .dataframe tbody tr th {\n",
       "        vertical-align: top;\n",
       "    }\n",
       "\n",
       "    .dataframe thead th {\n",
       "        text-align: right;\n",
       "    }\n",
       "</style>\n",
       "<table border=\"1\" class=\"dataframe\">\n",
       "  <thead>\n",
       "    <tr style=\"text-align: right;\">\n",
       "      <th></th>\n",
       "      <th>text</th>\n",
       "      <th>tag</th>\n",
       "      <th>ctext</th>\n",
       "    </tr>\n",
       "  </thead>\n",
       "  <tbody>\n",
       "    <tr>\n",
       "      <th>2812</th>\n",
       "      <td>Монополии здесь не место: От мировых IT-гигантов требуют соблюдать правила\\n\\nНа российском рынке недопустима монополия мировых интернет-гигантов. Об этом говорят эксперты, которые комментируют ис...</td>\n",
       "      <td>tech</td>\n",
       "      <td>монополия   место  мировой  требовать  правило  российский рынок  монополия мировой     эксперт который комментировать иск лаборатория касперский американский компания  лаборатория касперский пояс...</td>\n",
       "    </tr>\n",
       "    <tr>\n",
       "      <th>2107</th>\n",
       "      <td>Мадрид, , 10:06 — REGNUM Мадридский «Атлетико» с крупным счетом уступил «Вильярреалу» в матче пятнадцатого тура чемпионата Испании по футболу. Встреча, прошедшая 12 декабря на стадионе «Эль-Мадриг...</td>\n",
       "      <td>sport</td>\n",
       "      <td>мадрид  мадридский  крупный счёт уступить  матч пятнадцать тур чемпионат испания  футбол встреча  декабрь  стадион   завершиться  счёт победа жёлтый субмарина принести точный удар   джонатан дос  ...</td>\n",
       "    </tr>\n",
       "    <tr>\n",
       "      <th>1895</th>\n",
       "      <td>Самолет немецкой авиационной компании Lufthansa был вынужден совершить посадку в аэропорту Нью-Йорка. Об этом сообщает телеканал АВС, давая ссылку на авиационные власти.\\n\\nLufthansaэкстренно сел ...</td>\n",
       "      <td>incident</td>\n",
       "      <td>самолёт немецкий авиационный компания  быть   посадка аэропорт нью-йорк   сообщать телеканал   ссылка  авиационный власть  сесть аэропорт нью-йорк сообщаться  вынужденный посадка прийтись  рейс ко...</td>\n",
       "    </tr>\n",
       "    <tr>\n",
       "      <th>196</th>\n",
       "      <td>Ющенко выступает за создание национальной базы данных о количестве\\nсирот Президент Украины Виктор Ющенко отмечает, что отсутствие национальной\\nбазы данных о количестве детей-сирот и детей, лишен...</td>\n",
       "      <td>politics</td>\n",
       "      <td>ющенко выступать  создание национальный база  количество сирота президент украина виктор ющенко отмечать  отсутствие национальный база  количество  ребёнок  родительский опека  осложнять формирова...</td>\n",
       "    </tr>\n",
       "    <tr>\n",
       "      <th>1449</th>\n",
       "      <td>Венесуэла на 72 часа закрыла границу с Колумбией\\n\\nМЕХИКО, 13 дек – РИА Новости. Президент Венесуэлы Николас Мадуро распорядился закрыть границу с Колумбией на 72 часа для борьбы с финансовой маф...</td>\n",
       "      <td>politics</td>\n",
       "      <td>венесуэла  час закрыть граница колумбия мехико дек риа новость президент венесуэла николас  распорядиться  граница колумбия  час  борьба финансовый мафия сообщение правительство венесуэла отмечать...</td>\n",
       "    </tr>\n",
       "    <tr>\n",
       "      <th>451</th>\n",
       "      <td>Обама признал роль ошибок США в зарождении ИГИЛ\\n\\n7 декабря 2016 в 6:48\\n\\nРБК\\n\\nПрезидент США Барак Обама в своей речи о проблемах безопасности признал, что зарождению и росту террористической ...</td>\n",
       "      <td>politics</td>\n",
       "      <td>обама признать роль ошибка сша зарождение  декабрь рбк президент сша барак обама свой речь проблема безопасность признать  зарождение рост террористический организация исламский государство способ...</td>\n",
       "    </tr>\n",
       "    <tr>\n",
       "      <th>95</th>\n",
       "      <td>Проект Enlightenment может остаться без домена enlightenment.org Сайт\\nоконного менеджера Enlightenment (enlightenment.org) уже более двух\\nнедель не функционирует. Ben Rockwood поведал в своем бл...</td>\n",
       "      <td>tech</td>\n",
       "      <td>проект  мочь   домен   сайт оконный менеджер       неделя  функционировать   поведать свой блог история инцидент</td>\n",
       "    </tr>\n",
       "    <tr>\n",
       "      <th>2014</th>\n",
       "      <td>(обновлено 10:04 13.12.2016 )\\n\\nМОСКВА, 13 дек - Р-Спорт. Южнокорейские скелетонисты намерены бойкотировать чемпионат мира-2017 по бобслею и скелетону в Сочи из-за допингового скандала, сообщает ...</td>\n",
       "      <td>sport</td>\n",
       "      <td>москва дек  южнокорейский    чемпионат  бобслей скелетон сочи  допинговый скандал сообщать агентство   ссылка  слово чиновник  корейский федерация бобслей скелетон  чемпионат мир  бобслей скелето...</td>\n",
       "    </tr>\n",
       "    <tr>\n",
       "      <th>2231</th>\n",
       "      <td>Трагедия произошла 5 ноября. Мальчику стало плохо после школьных соревнований.\\n\\nВ Красноярской школе на церемонии награждения победителей школьных соревнований по баскетболу 16-летнему мальчику ...</td>\n",
       "      <td>incident</td>\n",
       "      <td>трагедия произойти ноябрь мальчик стать   школьный соревнование красноярский школа  церемония награждение победитель школьный соревнование  баскетбол мальчик стать   больница  скончаться уголовный...</td>\n",
       "    </tr>\n",
       "    <tr>\n",
       "      <th>1332</th>\n",
       "      <td>iPhone 7 Plus против Huawei Mate 9: фотобитва флагманов с двойными камерами\\n\\n4 декабря 2016 в 9:11\\n\\nДмитрий Смирнов / Фото: Дмитрий Брушко\\n\\n2016 год стал годом возвращения двойных камер в см...</td>\n",
       "      <td>tech</td>\n",
       "      <td>флагман двойной камера декабрь дмитрий смирнов фото дмитрий  год стать год возвращение двойной камера смартфон  стать    флагманский гаджет            простой устройство следующий год   ожид...</td>\n",
       "    </tr>\n",
       "  </tbody>\n",
       "</table>\n",
       "</div>"
      ],
      "text/plain": [
       "                                                                                                                                                                                                         text  \\\n",
       "2812  Монополии здесь не место: От мировых IT-гигантов требуют соблюдать правила\\n\\nНа российском рынке недопустима монополия мировых интернет-гигантов. Об этом говорят эксперты, которые комментируют ис...   \n",
       "2107  Мадрид, , 10:06 — REGNUM Мадридский «Атлетико» с крупным счетом уступил «Вильярреалу» в матче пятнадцатого тура чемпионата Испании по футболу. Встреча, прошедшая 12 декабря на стадионе «Эль-Мадриг...   \n",
       "1895  Самолет немецкой авиационной компании Lufthansa был вынужден совершить посадку в аэропорту Нью-Йорка. Об этом сообщает телеканал АВС, давая ссылку на авиационные власти.\\n\\nLufthansaэкстренно сел ...   \n",
       "196   Ющенко выступает за создание национальной базы данных о количестве\\nсирот Президент Украины Виктор Ющенко отмечает, что отсутствие национальной\\nбазы данных о количестве детей-сирот и детей, лишен...   \n",
       "1449  Венесуэла на 72 часа закрыла границу с Колумбией\\n\\nМЕХИКО, 13 дек – РИА Новости. Президент Венесуэлы Николас Мадуро распорядился закрыть границу с Колумбией на 72 часа для борьбы с финансовой маф...   \n",
       "451   Обама признал роль ошибок США в зарождении ИГИЛ\\n\\n7 декабря 2016 в 6:48\\n\\nРБК\\n\\nПрезидент США Барак Обама в своей речи о проблемах безопасности признал, что зарождению и росту террористической ...   \n",
       "95    Проект Enlightenment может остаться без домена enlightenment.org Сайт\\nоконного менеджера Enlightenment (enlightenment.org) уже более двух\\nнедель не функционирует. Ben Rockwood поведал в своем бл...   \n",
       "2014  (обновлено 10:04 13.12.2016 )\\n\\nМОСКВА, 13 дек - Р-Спорт. Южнокорейские скелетонисты намерены бойкотировать чемпионат мира-2017 по бобслею и скелетону в Сочи из-за допингового скандала, сообщает ...   \n",
       "2231  Трагедия произошла 5 ноября. Мальчику стало плохо после школьных соревнований.\\n\\nВ Красноярской школе на церемонии награждения победителей школьных соревнований по баскетболу 16-летнему мальчику ...   \n",
       "1332  iPhone 7 Plus против Huawei Mate 9: фотобитва флагманов с двойными камерами\\n\\n4 декабря 2016 в 9:11\\n\\nДмитрий Смирнов / Фото: Дмитрий Брушко\\n\\n2016 год стал годом возвращения двойных камер в см...   \n",
       "\n",
       "           tag  \\\n",
       "2812      tech   \n",
       "2107     sport   \n",
       "1895  incident   \n",
       "196   politics   \n",
       "1449  politics   \n",
       "451   politics   \n",
       "95        tech   \n",
       "2014     sport   \n",
       "2231  incident   \n",
       "1332      tech   \n",
       "\n",
       "                                                                                                                                                                                                        ctext  \n",
       "2812  монополия   место  мировой  требовать  правило  российский рынок  монополия мировой     эксперт который комментировать иск лаборатория касперский американский компания  лаборатория касперский пояс...  \n",
       "2107  мадрид  мадридский  крупный счёт уступить  матч пятнадцать тур чемпионат испания  футбол встреча  декабрь  стадион   завершиться  счёт победа жёлтый субмарина принести точный удар   джонатан дос  ...  \n",
       "1895  самолёт немецкий авиационный компания  быть   посадка аэропорт нью-йорк   сообщать телеканал   ссылка  авиационный власть  сесть аэропорт нью-йорк сообщаться  вынужденный посадка прийтись  рейс ко...  \n",
       "196   ющенко выступать  создание национальный база  количество сирота президент украина виктор ющенко отмечать  отсутствие национальный база  количество  ребёнок  родительский опека  осложнять формирова...  \n",
       "1449  венесуэла  час закрыть граница колумбия мехико дек риа новость президент венесуэла николас  распорядиться  граница колумбия  час  борьба финансовый мафия сообщение правительство венесуэла отмечать...  \n",
       "451   обама признать роль ошибка сша зарождение  декабрь рбк президент сша барак обама свой речь проблема безопасность признать  зарождение рост террористический организация исламский государство способ...  \n",
       "95                                                                                           проект  мочь   домен   сайт оконный менеджер       неделя  функционировать   поведать свой блог история инцидент  \n",
       "2014   москва дек  южнокорейский    чемпионат  бобслей скелетон сочи  допинговый скандал сообщать агентство   ссылка  слово чиновник  корейский федерация бобслей скелетон  чемпионат мир  бобслей скелето...  \n",
       "2231  трагедия произойти ноябрь мальчик стать   школьный соревнование красноярский школа  церемония награждение победитель школьный соревнование  баскетбол мальчик стать   больница  скончаться уголовный...  \n",
       "1332        флагман двойной камера декабрь дмитрий смирнов фото дмитрий  год стать год возвращение двойной камера смартфон  стать    флагманский гаджет            простой устройство следующий год   ожид...  "
      ]
     },
     "execution_count": 11,
     "metadata": {},
     "output_type": "execute_result"
    }
   ],
   "source": [
    "data.sample(10)"
   ]
  },
  {
   "cell_type": "markdown",
   "metadata": {},
   "source": [
    "##  Vectorizer"
   ]
  },
  {
   "cell_type": "code",
   "execution_count": null,
   "metadata": {},
   "outputs": [],
   "source": [
    "def tokenizer(s): \n",
    "    for w in s.split(' '):\n",
    "        if (len(w)>1): \n",
    "            yield w\n",
    "            \n",
    "tf = TfidfVectorizer(use_idf=True, norm='l2', tokenizer=tokenizer, token_pattern=None).fit( data['ctext'] )\n",
    "vcb1 = sorted(tf.vocabulary_)\n",
    "print(len(vcb1))\n",
    "# pd.DataFrame( vcb1 ).to_csv('voc1.txt',index=False,header=False)"
   ]
  },
  {
   "cell_type": "code",
   "execution_count": null,
   "metadata": {},
   "outputs": [],
   "source": [
    "# разница между исходным словарём и словарём векторайзера\n",
    "set(vcb0)^set(vcb1)"
   ]
  },
  {
   "cell_type": "markdown",
   "metadata": {},
   "source": [
    "## формируем датасеты"
   ]
  },
  {
   "cell_type": "code",
   "execution_count": null,
   "metadata": {},
   "outputs": [],
   "source": [
    "X = tf.transform( data['ctext'] )\n",
    "X.shape"
   ]
  },
  {
   "cell_type": "code",
   "execution_count": null,
   "metadata": {},
   "outputs": [],
   "source": [
    "labels = { t:i for i,t in enumerate(sorted(set(data['tag']))) }\n",
    "labels"
   ]
  },
  {
   "cell_type": "code",
   "execution_count": null,
   "metadata": {},
   "outputs": [],
   "source": [
    "y = data['tag'].map(labels).values\n",
    "y"
   ]
  },
  {
   "cell_type": "code",
   "execution_count": null,
   "metadata": {},
   "outputs": [],
   "source": [
    "X_train, X_test, y_train, y_test = train_test_split( X, y, test_size=0.3, random_state=326 )\n",
    "X_train.shape, y_train.shape, X_test.shape, y_test.shape"
   ]
  },
  {
   "cell_type": "markdown",
   "metadata": {},
   "source": [
    "## обучаем классификатор"
   ]
  },
  {
   "cell_type": "code",
   "execution_count": null,
   "metadata": {},
   "outputs": [],
   "source": [
    "from sklearn.linear_model import SGDClassifier\n",
    "\n",
    "clf = SGDClassifier(loss='hinge',max_iter=1000, tol=0.19)\n",
    "clf.fit(X_train,y_train)"
   ]
  },
  {
   "cell_type": "markdown",
   "metadata": {},
   "source": [
    "## тестируем"
   ]
  },
  {
   "cell_type": "code",
   "execution_count": null,
   "metadata": {},
   "outputs": [],
   "source": [
    "# доля правильных ответов на учебном наборе\n",
    "o = clf.predict(X_train)\n",
    "accuracy_score(y_train,o)"
   ]
  },
  {
   "cell_type": "code",
   "execution_count": null,
   "metadata": {},
   "outputs": [],
   "source": [
    "# доля правильных ответов на тестовом наборе\n",
    "o = clf.predict(X_test)\n",
    "accuracy_score(y_test,o)"
   ]
  },
  {
   "cell_type": "code",
   "execution_count": null,
   "metadata": {},
   "outputs": [],
   "source": [
    "print( classification_report(y_test,o) )"
   ]
  },
  {
   "cell_type": "markdown",
   "metadata": {},
   "source": [
    "---"
   ]
  },
  {
   "cell_type": "code",
   "execution_count": null,
   "metadata": {},
   "outputs": [],
   "source": [
    "from matplotlib import pyplot as plt\n",
    "import itertools\n",
    "\n",
    "classes = sorted(labels.keys())\n",
    "cm = confusion_matrix(y_test,o)\n",
    "tick_marks = np.arange(len(classes))\n",
    "\n",
    "plt.figure(figsize=(10,9))\n",
    "\n",
    "plt.xticks(tick_marks, classes, rotation=45)\n",
    "plt.yticks(tick_marks, classes)\n",
    "\n",
    "thresh = cm.max() / 2.\n",
    "for i, j in itertools.product(range(cm.shape[0]), range(cm.shape[1])):\n",
    "    plt.text(j, i, format(cm[i, j], 'd'),\n",
    "             horizontalalignment=\"center\",\n",
    "             color=\"white\" if cm[i, j] > thresh else \"black\")\n",
    "\n",
    "plt.title('Confusion matrix')\n",
    "plt.tight_layout()\n",
    "plt.ylabel('True label')\n",
    "plt.xlabel('Predicted label')\n",
    "plt.imshow(cm, interpolation='nearest', cmap=plt.cm.Blues)\n",
    "plt.colorbar()\n",
    "\n",
    "plt.show()"
   ]
  },
  {
   "cell_type": "markdown",
   "metadata": {},
   "source": [
    "---"
   ]
  },
  {
   "cell_type": "code",
   "execution_count": null,
   "metadata": {},
   "outputs": [],
   "source": [
    "o = clf.predict(X)\n",
    "\n",
    "labels_inv = { labels[k]:k for k in labels }\n",
    "# labels_inv\n",
    "\n",
    "for n in range(10):\n",
    "    i = rng.randint(len(data))\n",
    "    print('tag:',data.iloc[i,1])\n",
    "    print('predict:',labels_inv[o[i]])\n",
    "    print(re.sub(r'\\n\\s*\\n',' ',data.iloc[i,0][:200])+'...')\n",
    "    print('- - - - - - - - - - - - - - - - - -')\n",
    "    "
   ]
  },
  {
   "cell_type": "code",
   "execution_count": null,
   "metadata": {},
   "outputs": [],
   "source": [
    "# https://habr.com/ru/post/205360/"
   ]
  }
 ],
 "metadata": {
  "kernelspec": {
   "display_name": "Python 3",
   "language": "python",
   "name": "python3"
  },
  "language_info": {
   "codemirror_mode": {
    "name": "ipython",
    "version": 3
   },
   "file_extension": ".py",
   "mimetype": "text/x-python",
   "name": "python",
   "nbconvert_exporter": "python",
   "pygments_lexer": "ipython3",
   "version": "3.9.1"
  },
  "toc": {
   "base_numbering": 1,
   "nav_menu": {},
   "number_sections": true,
   "sideBar": true,
   "skip_h1_title": false,
   "title_cell": "Table of Contents",
   "title_sidebar": "Contents",
   "toc_cell": false,
   "toc_position": {},
   "toc_section_display": true,
   "toc_window_display": true
  }
 },
 "nbformat": 4,
 "nbformat_minor": 2
}
