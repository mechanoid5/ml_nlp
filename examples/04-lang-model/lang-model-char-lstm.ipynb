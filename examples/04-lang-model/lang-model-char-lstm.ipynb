{
 "cells": [
  {
   "cell_type": "markdown",
   "metadata": {},
   "source": [
    "__языковая модель__\n",
    "\n",
    "char-LSTM\n",
    "\n",
    "генерирует следующий символ по предыдущим"
   ]
  },
  {
   "cell_type": "code",
   "execution_count": 1,
   "metadata": {},
   "outputs": [],
   "source": [
    "import gzip\n",
    "import re\n",
    "import numpy as np\n",
    "from numpy import random as rng\n",
    "import pandas as pd\n",
    "from tqdm import tqdm\n",
    "from os.path import join as pjoin"
   ]
  },
  {
   "cell_type": "code",
   "execution_count": 2,
   "metadata": {},
   "outputs": [],
   "source": [
    "# from utils.helpers import ppr\n",
    "# from utils.helpers import replace_patterns"
   ]
  },
  {
   "cell_type": "code",
   "execution_count": null,
   "metadata": {},
   "outputs": [],
   "source": [
    "def ppr(df): return print(len(df))\n",
    "\n",
    "def replace_patterns(s,pat):\n",
    "    if len(pat)<1: return s\n",
    "    return  replace_patterns( re.sub(pat[0][0],pat[0][1],s), pat[1:] )"
   ]
  },
  {
   "cell_type": "code",
   "execution_count": 3,
   "metadata": {},
   "outputs": [
    {
     "name": "stderr",
     "output_type": "stream",
     "text": [
      "/usr/lib/python3.9/site-packages/tqdm/std.py:699: FutureWarning: The Panel class is removed from pandas. Accessing it from the top-level namespace will also be removed in the next version\n",
      "  from pandas import Panel\n"
     ]
    }
   ],
   "source": [
    "np.set_printoptions(precision=2) # вывод на печать чисел до 2 знака\n",
    "pd.options.display.max_colwidth=200 \n",
    "\n",
    "tqdm.pandas()"
   ]
  },
  {
   "cell_type": "code",
   "execution_count": 4,
   "metadata": {},
   "outputs": [],
   "source": [
    "FOLDER_RESULT='result'"
   ]
  },
  {
   "cell_type": "code",
   "execution_count": null,
   "metadata": {},
   "outputs": [],
   "source": [
    "!mkdir result"
   ]
  },
  {
   "cell_type": "markdown",
   "metadata": {},
   "source": [
    "## загружаем данные"
   ]
  },
  {
   "cell_type": "code",
   "execution_count": null,
   "metadata": {},
   "outputs": [],
   "source": [
    "# FILE_DATA = '../data/dostoevsky-besy-p2.txt.gz'\n",
    "# with gzip.open(FILE_DATA,'rt',encoding='utf-8') as f: text = f.read()     \n",
    "# ppr(text)    "
   ]
  },
  {
   "cell_type": "code",
   "execution_count": 7,
   "metadata": {},
   "outputs": [
    {
     "name": "stdout",
     "output_type": "stream",
     "text": [
      "записей: 602 297\n"
     ]
    }
   ],
   "source": [
    "FILE_DATA = '../data/lobas-taxisty.txt.gz'\n",
    "with gzip.open(FILE_DATA,'rt',encoding='utf-8') as f: text = f.read()     \n",
    "ppr(text)    "
   ]
  },
  {
   "cell_type": "code",
   "execution_count": 8,
   "metadata": {},
   "outputs": [
    {
     "name": "stdout",
     "output_type": "stream",
     "text": [
      "Желтые короли. Записки нью-йоркского таксиста.\n",
      "\n",
      "В.Лобас\n",
      "\n",
      "\n",
      "\n",
      "Товарищам моим - белым и черным, американцам и эмигрантам из России и Израиля, из Греции и Кореи, арабам, китайцам, полякам и всем прочим так...\n"
     ]
    }
   ],
   "source": [
    "print(text[:200]+'...')"
   ]
  },
  {
   "cell_type": "code",
   "execution_count": 9,
   "metadata": {},
   "outputs": [
    {
     "data": {
      "text/html": [
       "<div>\n",
       "<style scoped>\n",
       "    .dataframe tbody tr th:only-of-type {\n",
       "        vertical-align: middle;\n",
       "    }\n",
       "\n",
       "    .dataframe tbody tr th {\n",
       "        vertical-align: top;\n",
       "    }\n",
       "\n",
       "    .dataframe thead th {\n",
       "        text-align: right;\n",
       "    }\n",
       "</style>\n",
       "<table border=\"1\" class=\"dataframe\">\n",
       "  <thead>\n",
       "    <tr style=\"text-align: right;\">\n",
       "      <th></th>\n",
       "      <th>line</th>\n",
       "    </tr>\n",
       "  </thead>\n",
       "  <tbody>\n",
       "    <tr>\n",
       "      <th>0</th>\n",
       "      <td>Желтые короли.</td>\n",
       "    </tr>\n",
       "    <tr>\n",
       "      <th>1</th>\n",
       "      <td>Записки нью-йоркского таксиста.</td>\n",
       "    </tr>\n",
       "    <tr>\n",
       "      <th>2</th>\n",
       "      <td>В.</td>\n",
       "    </tr>\n",
       "    <tr>\n",
       "      <th>3</th>\n",
       "      <td>Лобас</td>\n",
       "    </tr>\n",
       "    <tr>\n",
       "      <th>4</th>\n",
       "      <td>Товарищам моим - белым и черным, американцам и эмигрантам из России и Израиля, из Греции и Кореи, арабам, китайцам, полякам и всем прочим таксистам города Нью-Йорк в знак глубокого уважения к их н...</td>\n",
       "    </tr>\n",
       "    <tr>\n",
       "      <th>5</th>\n",
       "      <td>Водитель No 320718</td>\n",
       "    </tr>\n",
       "    <tr>\n",
       "      <th>6</th>\n",
       "      <td>\"Я никогда не знал бы многое из того что я знаю, и половины чего достаточно, чтобы отравить навсегда несколько человеческих жизней, если бы мне не пришлось сделаться шофером такси...</td>\n",
       "    </tr>\n",
       "    <tr>\n",
       "      <th>7</th>\n",
       "      <td>\" Из книги \"Ночная дорога\" Гайто Газданова, белогвардейского офицера, который в годы первой эмиграции стал таксистом в Париже</td>\n",
       "    </tr>\n",
       "    <tr>\n",
       "      <th>8</th>\n",
       "      <td>ПРОЛОГ</td>\n",
       "    </tr>\n",
       "    <tr>\n",
       "      <th>9</th>\n",
       "      <td>1.</td>\n",
       "    </tr>\n",
       "    <tr>\n",
       "      <th>10</th>\n",
       "      <td></td>\n",
       "    </tr>\n",
       "    <tr>\n",
       "      <th>11</th>\n",
       "      <td>Вы прилетели в Нью-Йорк и остановились в одном из отелей, глядящих окнами на Центральный парк.</td>\n",
       "    </tr>\n",
       "    <tr>\n",
       "      <th>12</th>\n",
       "      <td>Наутро по приезде вы вышли из отеля, вдохнули полной грудью очищенный зеленью парка воздух и, взглянув на часы, - пора было начинать хлопотливый день, - направились к первому из таксомоторов, выс...</td>\n",
       "    </tr>\n",
       "    <tr>\n",
       "      <th>13</th>\n",
       "      <td>Несколько странным вам показалось, что водители двух головных машин таксистской очереди находились не там, где им полагалось бы: за баранкой, а, подпирая спинами стену отеля, о чем-то болтали, на ...</td>\n",
       "    </tr>\n",
       "    <tr>\n",
       "      <th>14</th>\n",
       "      <td>Выждав минуту и поняв, что беседа таксистов может длиться бесконечно, вы решились, наконец, прервать этот милый tet-a-tet и спросили:</td>\n",
       "    </tr>\n",
       "    <tr>\n",
       "      <th>15</th>\n",
       "      <td>- Ну, ребята, кто из вас отвезет меня?</td>\n",
       "    </tr>\n",
       "    <tr>\n",
       "      <th>16</th>\n",
       "      <td>- Мой кэб занят, - чуть поморщившись, отвечал один из водителей.</td>\n",
       "    </tr>\n",
       "    <tr>\n",
       "      <th>17</th>\n",
       "      <td>- Разве вы не видите, что мы разговариваем?</td>\n",
       "    </tr>\n",
       "    <tr>\n",
       "      <th>18</th>\n",
       "      <td>- с режущим слух акцентом сказал второй и при этом покачал головой, сетуя на всеобщую невоспитанность.</td>\n",
       "    </tr>\n",
       "    <tr>\n",
       "      <th>19</th>\n",
       "      <td>Чтобы избежать препирательств, вы шагнули было к третьей машине, но водитель, находившийся именно там, где ему и положено, защелкнул автоматический замок...</td>\n",
       "    </tr>\n",
       "    <tr>\n",
       "      <th>20</th>\n",
       "      <td>Несуразный бойкот этот был тем более оскорбителен, что невозможно было понять, чем, собственно, он вызван...</td>\n",
       "    </tr>\n",
       "    <tr>\n",
       "      <th>21</th>\n",
       "      <td>Остановив пробегавшее мимо такси, вы постарались как можно скорее забыть о случившемся.</td>\n",
       "    </tr>\n",
       "    <tr>\n",
       "      <th>22</th>\n",
       "      <td>Но несколько часов спустя, перед вечером, когда переодевшись, об руку с благоухающей женой вы снова вышли из отеля, безобразная сцена повторилась.</td>\n",
       "    </tr>\n",
       "    <tr>\n",
       "      <th>23</th>\n",
       "      <td>Было время \"пик\", в потоке машин свободное такси все никак не попадалось, а у подъезда стоял лишь один-единственный желтый кэб.</td>\n",
       "    </tr>\n",
       "    <tr>\n",
       "      <th>24</th>\n",
       "      <td>Неопрятный субъект с помутневшим то ли от пива, то ли от безделья взглядом сидел на капоте и болтал ногами.</td>\n",
       "    </tr>\n",
       "    <tr>\n",
       "      <th>25</th>\n",
       "      <td>- Дружище, сделайте одолжение, - едва ли не заискивая, обратились вы к нему: - отвезите нас в ресторан.</td>\n",
       "    </tr>\n",
       "    <tr>\n",
       "      <th>26</th>\n",
       "      <td>Это совсем недалеко, а мы будем вам очень признательны.</td>\n",
       "    </tr>\n",
       "    <tr>\n",
       "      <th>27</th>\n",
       "      <td>Туповатый таксист, однако, не понял намека.</td>\n",
       "    </tr>\n",
       "    <tr>\n",
       "      <th>28</th>\n",
       "      <td>Он с натугой подавил зевок и, проморгавшись, сказал:</td>\n",
       "    </tr>\n",
       "    <tr>\n",
       "      <th>29</th>\n",
       "      <td>- Я никуда не поеду.</td>\n",
       "    </tr>\n",
       "  </tbody>\n",
       "</table>\n",
       "</div>"
      ],
      "text/plain": [
       "                                                                                                                                                                                                       line\n",
       "0                                                                                                                                                                                            Желтые короли.\n",
       "1                                                                                                                                                                           Записки нью-йоркского таксиста.\n",
       "2                                                                                                                                                                                                        В.\n",
       "3                                                                                                                                                                                                     Лобас\n",
       "4   Товарищам моим - белым и черным, американцам и эмигрантам из России и Израиля, из Греции и Кореи, арабам, китайцам, полякам и всем прочим таксистам города Нью-Йорк в знак глубокого уважения к их н...\n",
       "5                                                                                                                                                                                        Водитель No 320718\n",
       "6                    \"Я никогда не знал бы многое из того что я знаю, и половины чего достаточно, чтобы отравить навсегда несколько человеческих жизней, если бы мне не пришлось сделаться шофером такси...\n",
       "7                                                                             \" Из книги \"Ночная дорога\" Гайто Газданова, белогвардейского офицера, который в годы первой эмиграции стал таксистом в Париже\n",
       "8                                                                                                                                                                                                   ПРОЛОГ \n",
       "9                                                                                                                                                                                                        1.\n",
       "10                                                                                                                                                                                                         \n",
       "11                                                                                                           Вы прилетели в Нью-Йорк и остановились в одном из отелей, глядящих окнами на Центральный парк.\n",
       "12   Наутро по приезде вы вышли из отеля, вдохнули полной грудью очищенный зеленью парка воздух и, взглянув на часы, - пора было начинать хлопотливый день, - направились к первому из таксомоторов, выс...\n",
       "13  Несколько странным вам показалось, что водители двух головных машин таксистской очереди находились не там, где им полагалось бы: за баранкой, а, подпирая спинами стену отеля, о чем-то болтали, на ...\n",
       "14                                                                    Выждав минуту и поняв, что беседа таксистов может длиться бесконечно, вы решились, наконец, прервать этот милый tet-a-tet и спросили:\n",
       "15                                                                                                                                                                   - Ну, ребята, кто из вас отвезет меня?\n",
       "16                                                                                                                                         - Мой кэб занят, - чуть поморщившись, отвечал один из водителей.\n",
       "17                                                                                                                                                              - Разве вы не видите, что мы разговариваем?\n",
       "18                                                                                                   - с режущим слух акцентом сказал второй и при этом покачал головой, сетуя на всеобщую невоспитанность.\n",
       "19                                             Чтобы избежать препирательств, вы шагнули было к третьей машине, но водитель, находившийся именно там, где ему и положено, защелкнул автоматический замок...\n",
       "20                                                                                             Несуразный бойкот этот был тем более оскорбителен, что невозможно было понять, чем, собственно, он вызван...\n",
       "21                                                                                                                  Остановив пробегавшее мимо такси, вы постарались как можно скорее забыть о случившемся.\n",
       "22                                                       Но несколько часов спустя, перед вечером, когда переодевшись, об руку с благоухающей женой вы снова вышли из отеля, безобразная сцена повторилась.\n",
       "23                                                                          Было время \"пик\", в потоке машин свободное такси все никак не попадалось, а у подъезда стоял лишь один-единственный желтый кэб.\n",
       "24                                                                                              Неопрятный субъект с помутневшим то ли от пива, то ли от безделья взглядом сидел на капоте и болтал ногами.\n",
       "25                                                                                                  - Дружище, сделайте одолжение, - едва ли не заискивая, обратились вы к нему: - отвезите нас в ресторан.\n",
       "26                                                                                                                                                  Это совсем недалеко, а мы будем вам очень признательны.\n",
       "27                                                                                                                                                              Туповатый таксист, однако, не понял намека.\n",
       "28                                                                                                                                                     Он с натугой подавил зевок и, проморгавшись, сказал:\n",
       "29                                                                                                                                                                                     - Я никуда не поеду."
      ]
     },
     "execution_count": 9,
     "metadata": {},
     "output_type": "execute_result"
    }
   ],
   "source": [
    "pat = [\n",
    "    [r'([\\.!\\?;]+)',r'\\1\\n'],\n",
    "    ['\\n+','\\n'],\n",
    "]\n",
    "\n",
    "data = pd.DataFrame({'line':replace_patterns(text,pat).split('\\n')})\n",
    "data.head(30)"
   ]
  },
  {
   "cell_type": "code",
   "execution_count": 10,
   "metadata": {},
   "outputs": [],
   "source": [
    "data = data.iloc[6:]"
   ]
  },
  {
   "cell_type": "code",
   "execution_count": 11,
   "metadata": {},
   "outputs": [
    {
     "data": {
      "text/plain": [
       "count    9222\n",
       "mean       63\n",
       "std        60\n",
       "min         0\n",
       "25%        23\n",
       "50%        45\n",
       "75%        86\n",
       "max       574\n",
       "Name: line, dtype: int64"
      ]
     },
     "execution_count": 11,
     "metadata": {},
     "output_type": "execute_result"
    }
   ],
   "source": [
    "data['line'] = data['line'].str.strip()\n",
    "data['line'].str.len().describe().astype(int)"
   ]
  },
  {
   "cell_type": "code",
   "execution_count": 12,
   "metadata": {},
   "outputs": [
    {
     "name": "stdout",
     "output_type": "stream",
     "text": [
      "записей: 9 222\n",
      "записей: 9 219\n"
     ]
    }
   ],
   "source": [
    "ppr(data)\n",
    "data = data[ data['line'].str.len()>0 ] \n",
    "ppr(data)"
   ]
  },
  {
   "cell_type": "code",
   "execution_count": 13,
   "metadata": {},
   "outputs": [],
   "source": [
    "# data[data['line'].str.len()<1]"
   ]
  },
  {
   "cell_type": "markdown",
   "metadata": {},
   "source": [
    "## очистка данных"
   ]
  },
  {
   "cell_type": "code",
   "execution_count": 14,
   "metadata": {},
   "outputs": [],
   "source": [
    "# def tokenize(s): \n",
    "#     return [ w.strip() for w in re.split(r'\\b| ',s) if w.strip() ]"
   ]
  },
  {
   "cell_type": "code",
   "execution_count": 15,
   "metadata": {},
   "outputs": [
    {
     "name": "stderr",
     "output_type": "stream",
     "text": [
      "100%|██████████| 9219/9219 [00:00<00:00, 75266.26it/s]\n"
     ]
    }
   ],
   "source": [
    "pat = [\n",
    "    [r'\"|\\'',' '],\n",
    "    [r'\\(|\\)',','],\n",
    "    ['\\d+','D'],\n",
    "    ['[a-z•^]+',' '],\n",
    "    ['\\n',' '],\n",
    "    [',',' , '],\n",
    "    ['-',' - '],\n",
    "    [r' +',' ',],\n",
    "]\n",
    "\n",
    "data['line'] = data['line']\\\n",
    "    .progress_apply(lambda s: replace_patterns(s.lower(),pat).strip() )\n",
    "#     .progress_apply(tokenize) "
   ]
  },
  {
   "cell_type": "code",
   "execution_count": 16,
   "metadata": {},
   "outputs": [],
   "source": [
    "%xdel text"
   ]
  },
  {
   "cell_type": "code",
   "execution_count": 17,
   "metadata": {},
   "outputs": [
    {
     "name": "stdout",
     "output_type": "stream",
     "text": [
      "записей: 9 219\n"
     ]
    },
    {
     "data": {
      "text/html": [
       "<div>\n",
       "<style scoped>\n",
       "    .dataframe tbody tr th:only-of-type {\n",
       "        vertical-align: middle;\n",
       "    }\n",
       "\n",
       "    .dataframe tbody tr th {\n",
       "        vertical-align: top;\n",
       "    }\n",
       "\n",
       "    .dataframe thead th {\n",
       "        text-align: right;\n",
       "    }\n",
       "</style>\n",
       "<table border=\"1\" class=\"dataframe\">\n",
       "  <thead>\n",
       "    <tr style=\"text-align: right;\">\n",
       "      <th></th>\n",
       "      <th>line</th>\n",
       "    </tr>\n",
       "  </thead>\n",
       "  <tbody>\n",
       "    <tr>\n",
       "      <th>5870</th>\n",
       "      <td>казалось бы , что за беда?</td>\n",
       "    </tr>\n",
       "    <tr>\n",
       "      <th>9025</th>\n",
       "      <td>- тридцать шесть тысяч , - назвал я самую низкую цифру брокера из южного бронкса.</td>\n",
       "    </tr>\n",
       "    <tr>\n",
       "      <th>9095</th>\n",
       "      <td>маленькая улочка , где живут только очень богатие люди</td>\n",
       "    </tr>\n",
       "    <tr>\n",
       "      <th>6837</th>\n",
       "      <td>- сперва женись , а потом уж вступай во владение.</td>\n",
       "    </tr>\n",
       "  </tbody>\n",
       "</table>\n",
       "</div>"
      ],
      "text/plain": [
       "                                                                                   line\n",
       "5870                                                         казалось бы , что за беда?\n",
       "9025  - тридцать шесть тысяч , - назвал я самую низкую цифру брокера из южного бронкса.\n",
       "9095                             маленькая улочка , где живут только очень богатие люди\n",
       "6837                                  - сперва женись , а потом уж вступай во владение."
      ]
     },
     "execution_count": 17,
     "metadata": {},
     "output_type": "execute_result"
    }
   ],
   "source": [
    "ppr(data)\n",
    "data.sample(4)"
   ]
  },
  {
   "cell_type": "code",
   "execution_count": 18,
   "metadata": {},
   "outputs": [],
   "source": [
    "# ppr(data)\n",
    "# data = data[ data['line'].str.len()>0 ] \n",
    "# ppr(data)"
   ]
  },
  {
   "cell_type": "code",
   "execution_count": 19,
   "metadata": {},
   "outputs": [],
   "source": [
    "# data[data['line'].str.len()<1]"
   ]
  },
  {
   "cell_type": "markdown",
   "metadata": {},
   "source": [
    "## кодируем текст"
   ]
  },
  {
   "cell_type": "code",
   "execution_count": 21,
   "metadata": {},
   "outputs": [
    {
     "data": {
      "text/plain": [
       "44"
      ]
     },
     "execution_count": 21,
     "metadata": {},
     "output_type": "execute_result"
    }
   ],
   "source": [
    "# алфавит\n",
    "abc = set(' '.join( data['line'].values.tolist() ) )\n",
    "len(abc)"
   ]
  },
  {
   "cell_type": "code",
   "execution_count": 22,
   "metadata": {},
   "outputs": [
    {
     "name": "stdout",
     "output_type": "stream",
     "text": [
      "записей: 45\n"
     ]
    }
   ],
   "source": [
    "abc = { a:i+1 for i,a in enumerate(sorted(abc)) }\n",
    "zero_symbol = '\\t'\n",
    "abc[zero_symbol] = 0\n",
    "ppr(abc)\n",
    "# abc"
   ]
  },
  {
   "cell_type": "code",
   "execution_count": 23,
   "metadata": {},
   "outputs": [],
   "source": [
    "def encode_str(s): \n",
    "    return [ abc[c] for c in list(s)]"
   ]
  },
  {
   "cell_type": "code",
   "execution_count": 24,
   "metadata": {},
   "outputs": [
    {
     "name": "stderr",
     "output_type": "stream",
     "text": [
      "100%|██████████| 9219/9219 [00:00<00:00, 80904.57it/s]\n"
     ]
    }
   ],
   "source": [
    "data['code'] = data['line'].progress_apply(encode_str) \n",
    "# lambda s: [ abc[c] for c in list(s)] )"
   ]
  },
  {
   "cell_type": "markdown",
   "metadata": {},
   "source": [
    "## собираем датасет"
   ]
  },
  {
   "cell_type": "code",
   "execution_count": 26,
   "metadata": {},
   "outputs": [],
   "source": [
    "hist_deep = 15 # глубина истории контекста (символов)"
   ]
  },
  {
   "cell_type": "code",
   "execution_count": 27,
   "metadata": {},
   "outputs": [
    {
     "data": {
      "text/plain": [
       "count    9219\n",
       "mean       64\n",
       "std        62\n",
       "min         0\n",
       "10%        11\n",
       "25%        23\n",
       "50%        46\n",
       "75%        87\n",
       "90%       143\n",
       "95%       191\n",
       "99%       293\n",
       "max       587\n",
       "Name: code, dtype: int64"
      ]
     },
     "execution_count": 27,
     "metadata": {},
     "output_type": "execute_result"
    }
   ],
   "source": [
    "data['code'].str.len().describe([.1,.25,.5,.75,.9,.95,.99]).astype(int)"
   ]
  },
  {
   "cell_type": "code",
   "execution_count": 28,
   "metadata": {},
   "outputs": [
    {
     "name": "stdout",
     "output_type": "stream",
     "text": [
      "записей: 9 219\n",
      "записей: 7 474\n"
     ]
    }
   ],
   "source": [
    "ppr(data)\n",
    "data = data[ data['code'].str.len().between(hist_deep+1,data['code'].str.len().quantile(.95)) ] \n",
    "ppr(data)"
   ]
  },
  {
   "cell_type": "code",
   "execution_count": 29,
   "metadata": {},
   "outputs": [],
   "source": [
    "# [ контекст, символ ]\n",
    "def pack_history(s,hd=hist_deep):\n",
    "    return [ [ s[i-hd:i], s[i] ] for i in range(hd,len(s)) ] "
   ]
  },
  {
   "cell_type": "code",
   "execution_count": null,
   "metadata": {},
   "outputs": [],
   "source": [
    "d = data['code'].progress_apply(pack_history)"
   ]
  },
  {
   "cell_type": "code",
   "execution_count": null,
   "metadata": {},
   "outputs": [],
   "source": [
    "%%time \n",
    "\n",
    "x_context = [] \n",
    "x = []\n",
    "for s in tqdm(d.values.tolist()):\n",
    "    x_context.append(np.array([ c for c,_ in s ]))\n",
    "    x.append(np.array([ w for _,w in s ]))\n",
    "    \n",
    "x_context = np.vstack(x_context)  # контекст слова\n",
    "x = np.hstack(x) # номер слова\n",
    "\n",
    "x_context.shape, x.shape"
   ]
  },
  {
   "cell_type": "code",
   "execution_count": 32,
   "metadata": {},
   "outputs": [],
   "source": [
    "%xdel d"
   ]
  },
  {
   "cell_type": "markdown",
   "metadata": {},
   "source": [
    "## модель"
   ]
  },
  {
   "cell_type": "code",
   "execution_count": 33,
   "metadata": {},
   "outputs": [],
   "source": [
    "import tensorflow as tf\n",
    "from tensorflow.keras import Model\n",
    "from tensorflow.keras.layers import Input\n",
    "from tensorflow.keras.layers import Reshape\n",
    "from tensorflow.keras.layers import LSTM\n",
    "from tensorflow.keras.layers import Dense\n",
    "from tensorflow.keras.optimizers import Adam\n",
    "\n",
    "from tensorflow.keras.utils import plot_model"
   ]
  },
  {
   "cell_type": "code",
   "execution_count": 34,
   "metadata": {},
   "outputs": [
    {
     "data": {
      "text/html": [
       "<table>\n",
       "<tbody>\n",
       "<tr><td>tensorflow        </td><td>2.3.1               </td></tr>\n",
       "<tr><td>device            </td><td>0                   </td></tr>\n",
       "<tr><td>name              </td><td>GeForce GTX 1060 6GB</td></tr>\n",
       "<tr><td>pci bus id        </td><td>0000:01:00.0        </td></tr>\n",
       "<tr><td>compute capability</td><td>6.1                 </td></tr>\n",
       "</tbody>\n",
       "</table>"
      ],
      "text/plain": [
       "<IPython.core.display.HTML object>"
      ]
     },
     "metadata": {},
     "output_type": "display_data"
    }
   ],
   "source": [
    "# from utils.tf_helpers import tf_info\n",
    "# from IPython.display import display, HTML\n",
    "# display(HTML(tf_info()))"
   ]
  },
  {
   "cell_type": "markdown",
   "metadata": {},
   "source": [
    "---"
   ]
  },
  {
   "cell_type": "code",
   "execution_count": 35,
   "metadata": {},
   "outputs": [
    {
     "data": {
      "text/plain": [
       "(361014, 15)"
      ]
     },
     "execution_count": 35,
     "metadata": {},
     "output_type": "execute_result"
    }
   ],
   "source": [
    "x_context.shape"
   ]
  },
  {
   "cell_type": "code",
   "execution_count": 36,
   "metadata": {},
   "outputs": [
    {
     "data": {
      "text/plain": [
       "(15, 45, 1024)"
      ]
     },
     "execution_count": 36,
     "metadata": {},
     "output_type": "execute_result"
    }
   ],
   "source": [
    "abc_len = len(abc) # размер алфавита\n",
    "hist_deep = x_context.shape[1] # глубина контекста\n",
    "\n",
    "code_len = 1024 # размер внутреннего представления контекста\n",
    "\n",
    "hist_deep, abc_len, code_len, "
   ]
  },
  {
   "cell_type": "code",
   "execution_count": 37,
   "metadata": {},
   "outputs": [],
   "source": [
    "model_name='char-LSTM'\n",
    "\n",
    "i = Input(shape=(None, abc_len))\n",
    "o = LSTM(code_len)(i)\n",
    "o = Dense(abc_len, activation='softmax')(o)\n",
    "model = Model(i,o)"
   ]
  },
  {
   "cell_type": "code",
   "execution_count": 38,
   "metadata": {},
   "outputs": [
    {
     "data": {
      "image/png": "[encoded data removed]",
      "text/plain": [
       "<IPython.core.display.Image object>"
      ]
     },
     "execution_count": 38,
     "metadata": {},
     "output_type": "execute_result"
    }
   ],
   "source": [
    "plot_model(model,to_file=pjoin(FOLDER_RESULT,model_name+'.png'), \n",
    "                show_layer_names=True, show_shapes=True )"
   ]
  },
  {
   "cell_type": "code",
   "execution_count": 39,
   "metadata": {},
   "outputs": [],
   "source": [
    "with open( pjoin(FOLDER_RESULT,model_name+'.json'), 'wt') as f: f.write( model.to_json() )"
   ]
  },
  {
   "cell_type": "markdown",
   "metadata": {},
   "source": [
    "## обучаем модель"
   ]
  },
  {
   "cell_type": "code",
   "execution_count": 40,
   "metadata": {},
   "outputs": [],
   "source": [
    "learning_rate = 1e-3\n",
    "\n",
    "optimizer=Adam(lr=learning_rate)\n",
    "model.compile(optimizer=optimizer, loss='categorical_crossentropy',metrics=['accuracy'])"
   ]
  },
  {
   "cell_type": "code",
   "execution_count": 41,
   "metadata": {},
   "outputs": [],
   "source": [
    "# np.eye(abc_len,dtype=int)[x_context[:3]].shape\n",
    "# np.eye(abc_len,dtype=int)[x[:3]].shape"
   ]
  },
  {
   "cell_type": "code",
   "execution_count": 42,
   "metadata": {},
   "outputs": [],
   "source": [
    "def encode_bin(seq,al=len(abc)):\n",
    "    return np.eye(al,dtype=int)[seq]"
   ]
  },
  {
   "cell_type": "code",
   "execution_count": 43,
   "metadata": {},
   "outputs": [],
   "source": [
    "# преобразовать весь датасет в матрицы OHE займёт очень много памяти\n",
    "# будем делать это в процессе формирования batch\n",
    "# построим генератор батчей\n",
    "\n",
    "# x - номера слов, \n",
    "# xc- цепочки номеров слов контекста для x\n",
    "# batch_size - размер пакета данных\n",
    "def data_gen(x,xc,batch_size):\n",
    "    bc = np.ceil(x.shape[0]/batch_size).astype(int) # количество пакетов данных\n",
    "    while True:\n",
    "        # перемешиваем номера примеров\n",
    "        rand_idx = rng.permutation(range(x.shape[0]))\n",
    "        # делим список индексов на части\n",
    "        batches_idx = np.array_split(rand_idx,bc)\n",
    "        # последовательно формируем и выдаём пакеты данных\n",
    "        for ii in batches_idx:\n",
    "            yield encode_bin(xc[ii,:]), encode_bin(x[ii]) "
   ]
  },
  {
   "cell_type": "code",
   "execution_count": 44,
   "metadata": {},
   "outputs": [],
   "source": [
    "# dg = data_gen(x,x_context,batch_size=8)\n",
    "# wc,w = next(dg)\n",
    "# wc.shape,w.shape"
   ]
  },
  {
   "cell_type": "code",
   "execution_count": 45,
   "metadata": {},
   "outputs": [
    {
     "name": "stdout",
     "output_type": "stream",
     "text": [
      "Epoch 1/64\n",
      " 2/58 [>.............................] - ETA: 33s - loss: 3.7809 - accuracy: 0.0923WARNING:tensorflow:Callbacks method `on_train_batch_end` is slow compared to the batch time (batch time: 0.2600s vs `on_train_batch_end` time: 0.4845s). Check your callbacks.\n",
      "58/58 [==============================] - 43s 742ms/step - loss: 3.1715 - accuracy: 0.1583\n",
      "Epoch 2/64\n",
      "58/58 [==============================] - 43s 745ms/step - loss: 2.8010 - accuracy: 0.2289\n",
      "Epoch 3/64\n",
      "58/58 [==============================] - 43s 745ms/step - loss: 2.5279 - accuracy: 0.2768\n",
      "Epoch 4/64\n",
      "58/58 [==============================] - 43s 745ms/step - loss: 2.4099 - accuracy: 0.3003\n",
      "Epoch 5/64\n",
      "58/58 [==============================] - 43s 746ms/step - loss: 2.3370 - accuracy: 0.3194\n",
      "Epoch 6/64\n",
      "58/58 [==============================] - 43s 746ms/step - loss: 2.2660 - accuracy: 0.3393\n",
      "Epoch 7/64\n",
      "58/58 [==============================] - 43s 747ms/step - loss: 2.1941 - accuracy: 0.3592\n",
      "Epoch 8/64\n",
      "58/58 [==============================] - 43s 747ms/step - loss: 2.1220 - accuracy: 0.3816\n",
      "Epoch 9/64\n",
      "58/58 [==============================] - 43s 747ms/step - loss: 2.0499 - accuracy: 0.4012\n",
      "Epoch 10/64\n",
      "58/58 [==============================] - 43s 747ms/step - loss: 1.9809 - accuracy: 0.4210\n",
      "Epoch 11/64\n",
      "58/58 [==============================] - 43s 747ms/step - loss: 1.9142 - accuracy: 0.4407\n",
      "Epoch 12/64\n",
      "58/58 [==============================] - 43s 747ms/step - loss: 1.8461 - accuracy: 0.4588\n",
      "Epoch 13/64\n",
      "58/58 [==============================] - 43s 746ms/step - loss: 1.7818 - accuracy: 0.4769\n",
      "Epoch 14/64\n",
      "58/58 [==============================] - 43s 747ms/step - loss: 1.7152 - accuracy: 0.4958\n",
      "Epoch 15/64\n",
      "58/58 [==============================] - 43s 748ms/step - loss: 1.6448 - accuracy: 0.5162\n",
      "Epoch 16/64\n",
      "58/58 [==============================] - 43s 747ms/step - loss: 1.5766 - accuracy: 0.5349\n",
      "Epoch 17/64\n",
      "58/58 [==============================] - 43s 746ms/step - loss: 1.4970 - accuracy: 0.5573\n",
      "Epoch 18/64\n",
      "58/58 [==============================] - 43s 747ms/step - loss: 1.4145 - accuracy: 0.5814\n",
      "Epoch 19/64\n",
      "58/58 [==============================] - 43s 746ms/step - loss: 1.3205 - accuracy: 0.6096\n",
      "Epoch 20/64\n",
      "58/58 [==============================] - 43s 747ms/step - loss: 1.2262 - accuracy: 0.6376\n",
      "Epoch 21/64\n",
      "58/58 [==============================] - 43s 747ms/step - loss: 1.1116 - accuracy: 0.6720\n",
      "Epoch 22/64\n",
      "58/58 [==============================] - 43s 747ms/step - loss: 0.9957 - accuracy: 0.7090\n",
      "Epoch 23/64\n",
      "58/58 [==============================] - 43s 746ms/step - loss: 0.8704 - accuracy: 0.7500\n",
      "Epoch 24/64\n",
      "58/58 [==============================] - 43s 747ms/step - loss: 0.7470 - accuracy: 0.7882\n",
      "Epoch 25/64\n",
      "58/58 [==============================] - 43s 747ms/step - loss: 0.6243 - accuracy: 0.8300\n",
      "Epoch 26/64\n",
      "58/58 [==============================] - 43s 747ms/step - loss: 0.5082 - accuracy: 0.8677\n",
      "Epoch 27/64\n",
      "58/58 [==============================] - 43s 747ms/step - loss: 0.4057 - accuracy: 0.9028\n",
      "Epoch 28/64\n",
      "58/58 [==============================] - 43s 746ms/step - loss: 0.3129 - accuracy: 0.9322\n",
      "Epoch 29/64\n",
      "58/58 [==============================] - 43s 747ms/step - loss: 0.2404 - accuracy: 0.9546\n",
      "Epoch 30/64\n",
      "58/58 [==============================] - 43s 746ms/step - loss: 0.1855 - accuracy: 0.9696\n",
      "Epoch 31/64\n",
      "58/58 [==============================] - 43s 747ms/step - loss: 0.1486 - accuracy: 0.9779\n",
      "Epoch 32/64\n",
      "58/58 [==============================] - 43s 747ms/step - loss: 0.1218 - accuracy: 0.9829\n",
      "Epoch 33/64\n",
      "58/58 [==============================] - 43s 747ms/step - loss: 0.1051 - accuracy: 0.9848\n",
      "Epoch 34/64\n",
      "58/58 [==============================] - 43s 746ms/step - loss: 0.0960 - accuracy: 0.9856\n",
      "Epoch 35/64\n",
      "58/58 [==============================] - 43s 746ms/step - loss: 0.0877 - accuracy: 0.9862\n",
      "Epoch 36/64\n",
      "58/58 [==============================] - 43s 746ms/step - loss: 0.0817 - accuracy: 0.9867\n",
      "Epoch 37/64\n",
      "58/58 [==============================] - 43s 747ms/step - loss: 0.0776 - accuracy: 0.9867\n",
      "Epoch 38/64\n",
      "58/58 [==============================] - 43s 748ms/step - loss: 0.0730 - accuracy: 0.9873\n",
      "Epoch 39/64\n",
      "58/58 [==============================] - 43s 748ms/step - loss: 0.0710 - accuracy: 0.9872\n",
      "Epoch 40/64\n",
      "58/58 [==============================] - 43s 748ms/step - loss: 0.0677 - accuracy: 0.9874\n",
      "Epoch 41/64\n",
      "58/58 [==============================] - 43s 747ms/step - loss: 0.0646 - accuracy: 0.9876\n",
      "Epoch 42/64\n",
      "58/58 [==============================] - 43s 747ms/step - loss: 0.0634 - accuracy: 0.9877\n",
      "Epoch 43/64\n",
      "58/58 [==============================] - 43s 747ms/step - loss: 0.0618 - accuracy: 0.9878\n",
      "Epoch 44/64\n",
      "58/58 [==============================] - 43s 747ms/step - loss: 0.0603 - accuracy: 0.9878\n",
      "Epoch 45/64\n",
      "58/58 [==============================] - 43s 746ms/step - loss: 0.0595 - accuracy: 0.9878\n",
      "Epoch 46/64\n",
      "58/58 [==============================] - 43s 746ms/step - loss: 0.0579 - accuracy: 0.9878\n",
      "Epoch 47/64\n",
      "58/58 [==============================] - 43s 747ms/step - loss: 0.0561 - accuracy: 0.9882\n",
      "Epoch 48/64\n",
      "58/58 [==============================] - 43s 747ms/step - loss: 0.0549 - accuracy: 0.9882\n",
      "Epoch 49/64\n",
      "58/58 [==============================] - 43s 748ms/step - loss: 0.0538 - accuracy: 0.9883\n",
      "Epoch 50/64\n",
      "58/58 [==============================] - 43s 747ms/step - loss: 0.0527 - accuracy: 0.9884\n",
      "Epoch 51/64\n",
      "58/58 [==============================] - 43s 747ms/step - loss: 0.0521 - accuracy: 0.9884\n",
      "Epoch 52/64\n",
      "58/58 [==============================] - 43s 747ms/step - loss: 0.0512 - accuracy: 0.9884\n",
      "Epoch 53/64\n",
      "58/58 [==============================] - 43s 747ms/step - loss: 0.0503 - accuracy: 0.9886\n",
      "Epoch 54/64\n",
      "58/58 [==============================] - 43s 747ms/step - loss: 0.0496 - accuracy: 0.9885\n",
      "Epoch 55/64\n",
      "58/58 [==============================] - 43s 747ms/step - loss: 0.0489 - accuracy: 0.9887\n",
      "Epoch 56/64\n",
      "58/58 [==============================] - 43s 747ms/step - loss: 0.0489 - accuracy: 0.9886\n",
      "Epoch 57/64\n",
      "58/58 [==============================] - 43s 747ms/step - loss: 0.0477 - accuracy: 0.9888\n",
      "Epoch 58/64\n",
      "58/58 [==============================] - 43s 747ms/step - loss: 0.0476 - accuracy: 0.9889\n",
      "Epoch 59/64\n",
      "58/58 [==============================] - 43s 747ms/step - loss: 0.0469 - accuracy: 0.9888\n",
      "Epoch 60/64\n",
      "58/58 [==============================] - 43s 747ms/step - loss: 0.0462 - accuracy: 0.9889\n",
      "Epoch 61/64\n",
      "58/58 [==============================] - 43s 747ms/step - loss: 0.0464 - accuracy: 0.9887\n",
      "Epoch 62/64\n",
      "58/58 [==============================] - 43s 748ms/step - loss: 0.0461 - accuracy: 0.9887\n",
      "Epoch 63/64\n",
      "58/58 [==============================] - 43s 747ms/step - loss: 0.0448 - accuracy: 0.9891\n",
      "Epoch 64/64\n",
      "58/58 [==============================] - 43s 747ms/step - loss: 0.0453 - accuracy: 0.9889\n",
      "CPU times: user 32min 38s, sys: 7.75 s, total: 32min 46s\n",
      "Wall time: 46min 30s\n"
     ]
    }
   ],
   "source": [
    "%%time \n",
    "\n",
    "n_epochs = 64\n",
    "batch_size = 6144\n",
    "\n",
    "hist = model.fit(\n",
    "    data_gen(x,x_context,batch_size),\n",
    "    steps_per_epoch = x.shape[0]//batch_size,\n",
    "    epochs = n_epochs\n",
    ")"
   ]
  },
  {
   "cell_type": "code",
   "execution_count": 46,
   "metadata": {},
   "outputs": [],
   "source": [
    "model.save_weights( pjoin(FOLDER_RESULT,model_name+'-%02d.tf'%(n_epochs) ), save_format='tf') "
   ]
  },
  {
   "cell_type": "markdown",
   "metadata": {},
   "source": [
    "---"
   ]
  },
  {
   "cell_type": "code",
   "execution_count": 47,
   "metadata": {},
   "outputs": [
    {
     "data": {
      "image/png": "[encoded data removed]",
      "text/plain": [
       "<Figure size 864x288 with 2 Axes>"
      ]
     },
     "metadata": {
      "needs_background": "light"
     },
     "output_type": "display_data"
    }
   ],
   "source": [
    "from matplotlib import pyplot as plt\n",
    "\n",
    "k = hist.history.keys()\n",
    "\n",
    "w,h = 6,4\n",
    "\n",
    "fig,ax = plt.subplots(1,len(k),figsize=(w*len(k),h))\n",
    "for i,n in enumerate(k):\n",
    "    ax[i].plot(hist.history[n],label=n)\n",
    "    ax[i].grid(True)\n",
    "    ax[i].legend()\n",
    "    ax[i].set_ylim([-.1,1.1])"
   ]
  },
  {
   "cell_type": "markdown",
   "metadata": {},
   "source": [
    "## тестируем"
   ]
  },
  {
   "cell_type": "code",
   "execution_count": 48,
   "metadata": {},
   "outputs": [],
   "source": [
    "# !ls result"
   ]
  },
  {
   "cell_type": "code",
   "execution_count": 49,
   "metadata": {},
   "outputs": [],
   "source": [
    "# from tensorflow.keras.models import model_from_json\n",
    "# # from tensorflow.keras.models import load_model\n",
    "\n",
    "# fname='result/charCNN-BiLSTM.json'\n",
    "# with open( fname, 'rt') as f: model = model_from_json(f.read())\n",
    "# #model.compile(optimizer='Adam', loss='categorical_crossentropy',metrics=['accuracy'])\n",
    "\n",
    "# fname = 'result/charCNN-BiLSTM-64.tf'\n",
    "# model.load_weights( fname )     "
   ]
  },
  {
   "cell_type": "code",
   "execution_count": 50,
   "metadata": {},
   "outputs": [],
   "source": [
    "abc_inv = { abc[k]:k for k in abc } # декодер символов"
   ]
  },
  {
   "cell_type": "code",
   "execution_count": 99,
   "metadata": {},
   "outputs": [
    {
     "data": {
      "text/plain": [
       "'все чаще возник'"
      ]
     },
     "execution_count": 99,
     "metadata": {},
     "output_type": "execute_result"
    }
   ],
   "source": [
    "# начальный контекст\n",
    "s = data['line'].sample().values[0][:hist_deep]\n",
    "s"
   ]
  },
  {
   "cell_type": "code",
   "execution_count": 100,
   "metadata": {},
   "outputs": [
    {
     "data": {
      "text/plain": [
       "'все чаще возник | ает у меня гнетущее ощущение , что каким - то таинственным образом советские глушилки достают и сюда: в редакционные кабинеты , в студию записи.'"
      ]
     },
     "execution_count": 100,
     "metadata": {},
     "output_type": "execute_result"
    }
   ],
   "source": [
    "o = s + ' | ' # результат\n",
    "\n",
    "for i in range(400):\n",
    "    t = encode_bin(encode_str(s))[np.newaxis,:]\n",
    "    p = model.predict(t)\n",
    "    r = np.argmax(p)\n",
    "    c = abc_inv[r]\n",
    "    s = s[1:] + c\n",
    "    o += c\n",
    "    if c == '.': break\n",
    "\n",
    "o"
   ]
  },
  {
   "cell_type": "code",
   "execution_count": 101,
   "metadata": {},
   "outputs": [
    {
     "data": {
      "text/plain": [
       "' студию записи.'"
      ]
     },
     "execution_count": 101,
     "metadata": {},
     "output_type": "execute_result"
    }
   ],
   "source": [
    "s"
   ]
  },
  {
   "cell_type": "code",
   "execution_count": null,
   "metadata": {},
   "outputs": [],
   "source": []
  }
 ],
 "metadata": {
  "kernelspec": {
   "display_name": "Python 3",
   "language": "python",
   "name": "python3"
  },
  "language_info": {
   "codemirror_mode": {
    "name": "ipython",
    "version": 3
   },
   "file_extension": ".py",
   "mimetype": "text/x-python",
   "name": "python",
   "nbconvert_exporter": "python",
   "pygments_lexer": "ipython3",
   "version": "3.9.0"
  },
  "toc": {
   "base_numbering": 1,
   "nav_menu": {},
   "number_sections": true,
   "sideBar": true,
   "skip_h1_title": false,
   "title_cell": "Table of Contents",
   "title_sidebar": "Contents",
   "toc_cell": false,
   "toc_position": {
    "height": "calc(100% - 180px)",
    "left": "10px",
    "top": "150px",
    "width": "218.594px"
   },
   "toc_section_display": true,
   "toc_window_display": false
  }
 },
 "nbformat": 4,
 "nbformat_minor": 2
}
