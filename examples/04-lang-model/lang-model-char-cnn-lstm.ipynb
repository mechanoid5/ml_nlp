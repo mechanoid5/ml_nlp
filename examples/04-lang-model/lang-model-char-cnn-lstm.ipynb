{
 "cells": [
  {
   "cell_type": "markdown",
   "metadata": {},
   "source": [
    "__языковая модель__\n",
    "\n",
    "charCNN-LSTM\n",
    "\n",
    "генерирует следующий символ по предыдущим"
   ]
  },
  {
   "cell_type": "code",
   "execution_count": 1,
   "metadata": {},
   "outputs": [],
   "source": [
    "import gzip\n",
    "import re\n",
    "import numpy as np\n",
    "from numpy import random as rng\n",
    "import pandas as pd\n",
    "from tqdm import tqdm\n",
    "from os.path import join as pjoin"
   ]
  },
  {
   "cell_type": "code",
   "execution_count": 2,
   "metadata": {},
   "outputs": [],
   "source": [
    "# from utils.helpers import ppr\n",
    "# from utils.helpers import replace_patterns"
   ]
  },
  {
   "cell_type": "code",
   "execution_count": null,
   "metadata": {},
   "outputs": [],
   "source": [
    "def ppr(df): return print(len(df))\n",
    "\n",
    "def replace_patterns(s,pat):\n",
    "    if len(pat)<1: return s\n",
    "    return  replace_patterns( re.sub(pat[0][0],pat[0][1],s), pat[1:] )"
   ]
  },
  {
   "cell_type": "code",
   "execution_count": 3,
   "metadata": {},
   "outputs": [
    {
     "name": "stderr",
     "output_type": "stream",
     "text": [
      "/usr/lib/python3.9/site-packages/tqdm/std.py:699: FutureWarning: The Panel class is removed from pandas. Accessing it from the top-level namespace will also be removed in the next version\n",
      "  from pandas import Panel\n"
     ]
    }
   ],
   "source": [
    "np.set_printoptions(precision=2) # вывод на печать чисел до 2 знака\n",
    "pd.options.display.max_colwidth=200 \n",
    "\n",
    "tqdm.pandas()"
   ]
  },
  {
   "cell_type": "code",
   "execution_count": 4,
   "metadata": {},
   "outputs": [],
   "source": [
    "FOLDER_RESULT='result'"
   ]
  },
  {
   "cell_type": "code",
   "execution_count": null,
   "metadata": {},
   "outputs": [],
   "source": [
    "!mkdir result"
   ]
  },
  {
   "cell_type": "markdown",
   "metadata": {},
   "source": [
    "## загружаем данные"
   ]
  },
  {
   "cell_type": "code",
   "execution_count": 7,
   "metadata": {},
   "outputs": [
    {
     "name": "stdout",
     "output_type": "stream",
     "text": [
      "записей: 465 595\n"
     ]
    }
   ],
   "source": [
    "FILE_DATA = '../data/dostoevsky-besy-p3.txt.gz'\n",
    "with gzip.open(FILE_DATA,'rt',encoding='utf-8') as f: text = f.read()     \n",
    "ppr(text)    "
   ]
  },
  {
   "cell_type": "code",
   "execution_count": 8,
   "metadata": {},
   "outputs": [
    {
     "name": "stdout",
     "output_type": "stream",
     "text": [
      "БЕСЫ\n",
      "\n",
      "Федор Михайлович Достоевский\n",
      "\n",
      "\n",
      "\n",
      "\n",
      "\n",
      "ЧАСТЬ ВТОРАЯ\n",
      "\n",
      "\n",
      "\n",
      "ГЛАВА ПЕРВАЯ\n",
      "\n",
      "\n",
      "\n",
      "Ночь\n",
      "\n",
      "\n",
      "\n",
      "I\n",
      "\n",
      "\n",
      "\n",
      "Прошло восемь дней. Теперь, когда уже все прошло, и я пишу хронику, мы уже знаем в чем дело; но тогда мы еще ничего...\n"
     ]
    }
   ],
   "source": [
    "print(text[:200]+'...')"
   ]
  },
  {
   "cell_type": "code",
   "execution_count": 9,
   "metadata": {},
   "outputs": [
    {
     "data": {
      "text/html": [
       "<div>\n",
       "<style scoped>\n",
       "    .dataframe tbody tr th:only-of-type {\n",
       "        vertical-align: middle;\n",
       "    }\n",
       "\n",
       "    .dataframe tbody tr th {\n",
       "        vertical-align: top;\n",
       "    }\n",
       "\n",
       "    .dataframe thead th {\n",
       "        text-align: right;\n",
       "    }\n",
       "</style>\n",
       "<table border=\"1\" class=\"dataframe\">\n",
       "  <thead>\n",
       "    <tr style=\"text-align: right;\">\n",
       "      <th></th>\n",
       "      <th>line</th>\n",
       "    </tr>\n",
       "  </thead>\n",
       "  <tbody>\n",
       "    <tr>\n",
       "      <th>0</th>\n",
       "      <td>БЕСЫ</td>\n",
       "    </tr>\n",
       "    <tr>\n",
       "      <th>1</th>\n",
       "      <td>Федор Михайлович Достоевский</td>\n",
       "    </tr>\n",
       "    <tr>\n",
       "      <th>2</th>\n",
       "      <td>ЧАСТЬ ВТОРАЯ</td>\n",
       "    </tr>\n",
       "    <tr>\n",
       "      <th>3</th>\n",
       "      <td>ГЛАВА ПЕРВАЯ</td>\n",
       "    </tr>\n",
       "    <tr>\n",
       "      <th>4</th>\n",
       "      <td>Ночь</td>\n",
       "    </tr>\n",
       "    <tr>\n",
       "      <th>5</th>\n",
       "      <td>I</td>\n",
       "    </tr>\n",
       "    <tr>\n",
       "      <th>6</th>\n",
       "      <td>Прошло восемь дней.</td>\n",
       "    </tr>\n",
       "    <tr>\n",
       "      <th>7</th>\n",
       "      <td>Теперь, когда уже все прошло, и я пишу хронику, мы уже знаем в чем дело;</td>\n",
       "    </tr>\n",
       "    <tr>\n",
       "      <th>8</th>\n",
       "      <td>но тогда мы еще ничего не знали, и естественно, что нам представлялись странными разные вещи.</td>\n",
       "    </tr>\n",
       "    <tr>\n",
       "      <th>9</th>\n",
       "      <td>По крайней мере мы со Степаном Трофимовичем в первое время заперлись и с испугом наблюдали издали.</td>\n",
       "    </tr>\n",
       "    <tr>\n",
       "      <th>10</th>\n",
       "      <td>Я-то кой-куда еще выходил и по-прежнему приносил ему разные вести, без чего он и пробыть не мог.</td>\n",
       "    </tr>\n",
       "    <tr>\n",
       "      <th>11</th>\n",
       "      <td>Нечего и говорить, что по городу пошли самые разнообразные слухи, то-есть насчет пощечины, обморока Лизаветы Николаевны и прочего случившегося в то воскресенье.</td>\n",
       "    </tr>\n",
       "    <tr>\n",
       "      <th>12</th>\n",
       "      <td>Но удивительно нам было то: через кого это все могло так скоро и точно выйти наружу?</td>\n",
       "    </tr>\n",
       "    <tr>\n",
       "      <th>13</th>\n",
       "      <td>Ни одно из присутствовавших тогда лиц не имело бы, кажется, ни нужды, ни выгоды нарушить секрет происшедшего.</td>\n",
       "    </tr>\n",
       "    <tr>\n",
       "      <th>14</th>\n",
       "      <td>Прислуги тогда не было;</td>\n",
       "    </tr>\n",
       "    <tr>\n",
       "      <th>15</th>\n",
       "      <td>один Лебядкин мог бы что-нибудь разболтать, не столько по злобе, потому что вышел тогда в крайнем испуге (а страх к врагу уничтожает и злобу к нему), а единственно по невоздержности.</td>\n",
       "    </tr>\n",
       "    <tr>\n",
       "      <th>16</th>\n",
       "      <td>Но Лебядкин, вместе с сестрицей, на другой же день пропал без вести;</td>\n",
       "    </tr>\n",
       "    <tr>\n",
       "      <th>17</th>\n",
       "      <td>в доме Филиппова его не оказалось, он переехал неизвестно куда и точно сгинул.</td>\n",
       "    </tr>\n",
       "    <tr>\n",
       "      <th>18</th>\n",
       "      <td>Шатов, у которого я хотел было справиться о Марье Тимофеевне, заперся и, кажется, все эти восемь дней просидел у себя на квартире, даже прервав свои занятия в городе.</td>\n",
       "    </tr>\n",
       "    <tr>\n",
       "      <th>19</th>\n",
       "      <td>Меня он не принял.</td>\n",
       "    </tr>\n",
       "    <tr>\n",
       "      <th>20</th>\n",
       "      <td>Я было зашел к нему во вторник и стукнул в дверь.</td>\n",
       "    </tr>\n",
       "    <tr>\n",
       "      <th>21</th>\n",
       "      <td>Ответа не получил, но уверенный, по несомненным данным, что он дома, постучался в другой раз.</td>\n",
       "    </tr>\n",
       "    <tr>\n",
       "      <th>22</th>\n",
       "      <td>Тогда он, соскочив по-видимому с постели, подошел крупными шагами к дверям и крикнул мне во весь голос: \"Шатова дома нет\".</td>\n",
       "    </tr>\n",
       "    <tr>\n",
       "      <th>23</th>\n",
       "      <td>Я с тем и ушел.</td>\n",
       "    </tr>\n",
       "    <tr>\n",
       "      <th>24</th>\n",
       "      <td>Мы со Степаном Трофимовичем, не без страха за смелость предположения, но обоюдно ободряя друг друга, остановились наконец на одной мысли: мы решили, что виновником разошедшихся слухов мог быть оди...</td>\n",
       "    </tr>\n",
       "    <tr>\n",
       "      <th>25</th>\n",
       "      <td>Вот что еще замечательно: на второй же день, в понедельник ввечеру, я встретил Липутина, и он уже знал все до последнего слова, стало быть, несомненно узнал из первых.</td>\n",
       "    </tr>\n",
       "    <tr>\n",
       "      <th>26</th>\n",
       "      <td>Многие из дам (и из самых светских) любопытствовали и о \"загадочной хромоножке\", так называли Марью Тимофеевну.</td>\n",
       "    </tr>\n",
       "    <tr>\n",
       "      <th>27</th>\n",
       "      <td>Нашлись даже пожелавшие непременно увидать ее лично и познакомиться, так что господа, поспешившие припрятать Лебядкиных, очевидно поступили и кстати.</td>\n",
       "    </tr>\n",
       "    <tr>\n",
       "      <th>28</th>\n",
       "      <td>Но на первом плане все-таки стоял обморок Лизаветы Николаевны, и этим интересовался \"весь свет\", уже по тому одному, что дело прямо касалось Юлии Михайловны как родственницы Лизаветы Николаевны и...</td>\n",
       "    </tr>\n",
       "    <tr>\n",
       "      <th>29</th>\n",
       "      <td>И чего-чего ни болтали!</td>\n",
       "    </tr>\n",
       "  </tbody>\n",
       "</table>\n",
       "</div>"
      ],
      "text/plain": [
       "                                                                                                                                                                                                       line\n",
       "0                                                                                                                                                                                                      БЕСЫ\n",
       "1                                                                                                                                                                              Федор Михайлович Достоевский\n",
       "2                                                                                                                                                                                              ЧАСТЬ ВТОРАЯ\n",
       "3                                                                                                                                                                                              ГЛАВА ПЕРВАЯ\n",
       "4                                                                                                                                                                                                      Ночь\n",
       "5                                                                                                                                                                                                         I\n",
       "6                                                                                                                                                                                       Прошло восемь дней.\n",
       "7                                                                                                                                  Теперь, когда уже все прошло, и я пишу хронику, мы уже знаем в чем дело;\n",
       "8                                                                                                             но тогда мы еще ничего не знали, и естественно, что нам представлялись странными разные вещи.\n",
       "9                                                                                                        По крайней мере мы со Степаном Трофимовичем в первое время заперлись и с испугом наблюдали издали.\n",
       "10                                                                                                         Я-то кой-куда еще выходил и по-прежнему приносил ему разные вести, без чего он и пробыть не мог.\n",
       "11                                         Нечего и говорить, что по городу пошли самые разнообразные слухи, то-есть насчет пощечины, обморока Лизаветы Николаевны и прочего случившегося в то воскресенье.\n",
       "12                                                                                                                     Но удивительно нам было то: через кого это все могло так скоро и точно выйти наружу?\n",
       "13                                                                                            Ни одно из присутствовавших тогда лиц не имело бы, кажется, ни нужды, ни выгоды нарушить секрет происшедшего.\n",
       "14                                                                                                                                                                                  Прислуги тогда не было;\n",
       "15                   один Лебядкин мог бы что-нибудь разболтать, не столько по злобе, потому что вышел тогда в крайнем испуге (а страх к врагу уничтожает и злобу к нему), а единственно по невоздержности.\n",
       "16                                                                                                                                     Но Лебядкин, вместе с сестрицей, на другой же день пропал без вести;\n",
       "17                                                                                                                           в доме Филиппова его не оказалось, он переехал неизвестно куда и точно сгинул.\n",
       "18                                   Шатов, у которого я хотел было справиться о Марье Тимофеевне, заперся и, кажется, все эти восемь дней просидел у себя на квартире, даже прервав свои занятия в городе.\n",
       "19                                                                                                                                                                                       Меня он не принял.\n",
       "20                                                                                                                                                        Я было зашел к нему во вторник и стукнул в дверь.\n",
       "21                                                                                                            Ответа не получил, но уверенный, по несомненным данным, что он дома, постучался в другой раз.\n",
       "22                                                                               Тогда он, соскочив по-видимому с постели, подошел крупными шагами к дверям и крикнул мне во весь голос: \"Шатова дома нет\".\n",
       "23                                                                                                                                                                                          Я с тем и ушел.\n",
       "24  Мы со Степаном Трофимовичем, не без страха за смелость предположения, но обоюдно ободряя друг друга, остановились наконец на одной мысли: мы решили, что виновником разошедшихся слухов мог быть оди...\n",
       "25                                  Вот что еще замечательно: на второй же день, в понедельник ввечеру, я встретил Липутина, и он уже знал все до последнего слова, стало быть, несомненно узнал из первых.\n",
       "26                                                                                          Многие из дам (и из самых светских) любопытствовали и о \"загадочной хромоножке\", так называли Марью Тимофеевну.\n",
       "27                                                    Нашлись даже пожелавшие непременно увидать ее лично и познакомиться, так что господа, поспешившие припрятать Лебядкиных, очевидно поступили и кстати.\n",
       "28   Но на первом плане все-таки стоял обморок Лизаветы Николаевны, и этим интересовался \"весь свет\", уже по тому одному, что дело прямо касалось Юлии Михайловны как родственницы Лизаветы Николаевны и...\n",
       "29                                                                                                                                                                                  И чего-чего ни болтали!"
      ]
     },
     "execution_count": 9,
     "metadata": {},
     "output_type": "execute_result"
    }
   ],
   "source": [
    "pat = [\n",
    "    [r'([\\.!\\?;]+)',r'\\1\\n'],\n",
    "    ['\\n+','\\n'],\n",
    "]\n",
    "\n",
    "data = pd.DataFrame({'line':replace_patterns(text,pat).split('\\n')})\n",
    "data.head(30)"
   ]
  },
  {
   "cell_type": "code",
   "execution_count": 10,
   "metadata": {},
   "outputs": [],
   "source": [
    "data = data.iloc[6:]"
   ]
  },
  {
   "cell_type": "code",
   "execution_count": 11,
   "metadata": {},
   "outputs": [
    {
     "data": {
      "text/plain": [
       "count    6828\n",
       "mean       66\n",
       "std        59\n",
       "min         0\n",
       "25%        26\n",
       "50%        49\n",
       "75%        89\n",
       "max       584\n",
       "Name: line, dtype: int64"
      ]
     },
     "execution_count": 11,
     "metadata": {},
     "output_type": "execute_result"
    }
   ],
   "source": [
    "data['line'] = data['line'].str.strip()\n",
    "data['line'].str.len().describe().astype(int)"
   ]
  },
  {
   "cell_type": "code",
   "execution_count": 12,
   "metadata": {},
   "outputs": [
    {
     "name": "stdout",
     "output_type": "stream",
     "text": [
      "записей: 6 828\n",
      "записей: 6 827\n"
     ]
    }
   ],
   "source": [
    "ppr(data)\n",
    "data = data[ data['line'].str.len()>0 ] \n",
    "ppr(data)"
   ]
  },
  {
   "cell_type": "code",
   "execution_count": 13,
   "metadata": {},
   "outputs": [],
   "source": [
    "# data[data['line'].str.len()<1]"
   ]
  },
  {
   "cell_type": "markdown",
   "metadata": {},
   "source": [
    "## очистка данных"
   ]
  },
  {
   "cell_type": "code",
   "execution_count": 14,
   "metadata": {},
   "outputs": [],
   "source": [
    "def tokenize(s): \n",
    "    return [ w.strip() for w in re.split(r'\\b| ',s) if w.strip() ]"
   ]
  },
  {
   "cell_type": "code",
   "execution_count": 15,
   "metadata": {},
   "outputs": [
    {
     "name": "stderr",
     "output_type": "stream",
     "text": [
      "100%|██████████| 6827/6827 [00:00<00:00, 52097.33it/s]\n",
      "100%|██████████| 6827/6827 [00:00<00:00, 102599.94it/s]\n"
     ]
    }
   ],
   "source": [
    "pat = [\n",
    "    [r'\"|\\'',' '],\n",
    "    [r'\\(|\\)',','],\n",
    "    ['\\d+','D'],\n",
    "    ['[a-z•^]+',' '],\n",
    "    ['\\n',' '],\n",
    "    [',',' , '],\n",
    "    ['-',' - '],\n",
    "    [r' +',' ',],\n",
    "]\n",
    "\n",
    "data['line'] = data['line']\\\n",
    "    .progress_apply(lambda s: replace_patterns(s.lower(),pat).strip() )\\\n",
    "    .progress_apply(tokenize) "
   ]
  },
  {
   "cell_type": "code",
   "execution_count": 16,
   "metadata": {},
   "outputs": [],
   "source": [
    "%xdel text"
   ]
  },
  {
   "cell_type": "code",
   "execution_count": 17,
   "metadata": {},
   "outputs": [
    {
     "name": "stdout",
     "output_type": "stream",
     "text": [
      "записей: 6 827\n"
     ]
    },
    {
     "data": {
      "text/html": [
       "<div>\n",
       "<style scoped>\n",
       "    .dataframe tbody tr th:only-of-type {\n",
       "        vertical-align: middle;\n",
       "    }\n",
       "\n",
       "    .dataframe tbody tr th {\n",
       "        vertical-align: top;\n",
       "    }\n",
       "\n",
       "    .dataframe thead th {\n",
       "        text-align: right;\n",
       "    }\n",
       "</style>\n",
       "<table border=\"1\" class=\"dataframe\">\n",
       "  <thead>\n",
       "    <tr style=\"text-align: right;\">\n",
       "      <th></th>\n",
       "      <th>line</th>\n",
       "    </tr>\n",
       "  </thead>\n",
       "  <tbody>\n",
       "    <tr>\n",
       "      <th>3776</th>\n",
       "      <td>[мало, ли, мы, их, видали, .]</td>\n",
       "    </tr>\n",
       "    <tr>\n",
       "      <th>4375</th>\n",
       "      <td>[-, да, ,, но, у, вас, моя, рукопись, .]</td>\n",
       "    </tr>\n",
       "    <tr>\n",
       "      <th>5775</th>\n",
       "      <td>[высокий, уровень, наук, и, талантов, доступен, только, высшим, способностям, ,, не, надо, высших, способностей, !]</td>\n",
       "    </tr>\n",
       "    <tr>\n",
       "      <th>4932</th>\n",
       "      <td>[все, это, материал, ,, который, надо, организовать, да, и, убираться, .]</td>\n",
       "    </tr>\n",
       "  </tbody>\n",
       "</table>\n",
       "</div>"
      ],
      "text/plain": [
       "                                                                                                                     line\n",
       "3776                                                                                        [мало, ли, мы, их, видали, .]\n",
       "4375                                                                             [-, да, ,, но, у, вас, моя, рукопись, .]\n",
       "5775  [высокий, уровень, наук, и, талантов, доступен, только, высшим, способностям, ,, не, надо, высших, способностей, !]\n",
       "4932                                            [все, это, материал, ,, который, надо, организовать, да, и, убираться, .]"
      ]
     },
     "execution_count": 17,
     "metadata": {},
     "output_type": "execute_result"
    }
   ],
   "source": [
    "ppr(data)\n",
    "data.sample(4)"
   ]
  },
  {
   "cell_type": "code",
   "execution_count": 18,
   "metadata": {},
   "outputs": [
    {
     "name": "stdout",
     "output_type": "stream",
     "text": [
      "записей: 6 827\n",
      "записей: 6 791\n"
     ]
    }
   ],
   "source": [
    "ppr(data)\n",
    "data = data[ data['line'].str.len()>0 ] \n",
    "ppr(data)"
   ]
  },
  {
   "cell_type": "code",
   "execution_count": 19,
   "metadata": {},
   "outputs": [],
   "source": [
    "# data[data['line'].str.len()<1]"
   ]
  },
  {
   "cell_type": "markdown",
   "metadata": {},
   "source": [
    "## формируем словари"
   ]
  },
  {
   "cell_type": "code",
   "execution_count": 20,
   "metadata": {},
   "outputs": [
    {
     "name": "stdout",
     "output_type": "stream",
     "text": [
      "записей: 15 171\n"
     ]
    }
   ],
   "source": [
    "words = sorted(set(sum(data['line'].values.tolist(),[]) )) # список слов\n",
    "ppr(words)\n",
    "# words"
   ]
  },
  {
   "cell_type": "code",
   "execution_count": 21,
   "metadata": {},
   "outputs": [
    {
     "name": "stdout",
     "output_type": "stream",
     "text": [
      "записей: 15 172\n"
     ]
    }
   ],
   "source": [
    "vocabulary = { a:i+1 for i,a in enumerate(words) } # словарь\n",
    "vocabulary['PAD']=0\n",
    "ppr(vocabulary)\n",
    "# vocabulary"
   ]
  },
  {
   "cell_type": "code",
   "execution_count": 22,
   "metadata": {},
   "outputs": [],
   "source": [
    "# ord?\n",
    "\n",
    "# [ chr(i) for i in range(0,100) ] \n",
    "# [ [i,chr(i)] for i in range(100,200) ] \n",
    "# [ [i,chr(i)] for i in range(200,300) ] \n",
    "# [ [i,chr(i)] for i in range(300,400) ] \n",
    "# [ [i,chr(i)] for i in range(500,600) ] \n",
    "# [ [i,chr(i)] for i in range(600,700) ] \n",
    "# [ [i,chr(i)] for i in range(700,800) ] "
   ]
  },
  {
   "cell_type": "code",
   "execution_count": 23,
   "metadata": {},
   "outputs": [
    {
     "name": "stdout",
     "output_type": "stream",
     "text": [
      "записей: 42\n"
     ]
    }
   ],
   "source": [
    "abc = set(' '.join(words) ) # алфавит\n",
    "abc = { a:i+1 for i,a in enumerate(sorted(abc)) }\n",
    "zero_symbol = '\\t'\n",
    "abc[zero_symbol] = 0\n",
    "ppr(abc)\n",
    "# abc"
   ]
  },
  {
   "cell_type": "code",
   "execution_count": 24,
   "metadata": {},
   "outputs": [],
   "source": [
    "# %xdel words"
   ]
  },
  {
   "cell_type": "code",
   "execution_count": 25,
   "metadata": {},
   "outputs": [],
   "source": [
    "# voc_len = len(vocabulary)\n",
    "# abc_len = len(abc)\n",
    "# voc_len, len(words), abc_len, max(vocabulary.values()), max(abc.values())"
   ]
  },
  {
   "cell_type": "markdown",
   "metadata": {},
   "source": [
    "----"
   ]
  },
  {
   "cell_type": "code",
   "execution_count": 26,
   "metadata": {},
   "outputs": [
    {
     "name": "stdout",
     "output_type": "stream",
     "text": [
      "записей: 15 171\n"
     ]
    },
    {
     "data": {
      "text/plain": [
       "19"
      ]
     },
     "execution_count": 26,
     "metadata": {},
     "output_type": "execute_result"
    }
   ],
   "source": [
    "words = pd.DataFrame({'word':words}) # список слов\n",
    "max_word_len = words['word'].str.len().max() # максимальная длина слова\n",
    "ppr(words)\n",
    "# words.sample(3)\n",
    "max_word_len"
   ]
  },
  {
   "cell_type": "code",
   "execution_count": 27,
   "metadata": {},
   "outputs": [],
   "source": [
    "# дополняем слово до максимальной длины\n",
    "def pad_word(w,max_word_len=max_word_len,zero_symbol=zero_symbol):\n",
    "    return w+zero_symbol*(max_word_len-len(w))\n",
    "\n",
    "# заменяем символы слова на последовательность номеров символов в алфавите \n",
    "def encode_abc(w,abc=abc ): \n",
    "    return list(map(abc.get,w))\n",
    "\n",
    "# выполняем OHE номеров символов \n",
    "def encode_abc_bin(codes,abc_len=len(abc)):\n",
    "    return np.array([ np.eye(abc_len,dtype=int)[c] for c in codes ], dtype=int)[np.newaxis,:]\n"
   ]
  },
  {
   "cell_type": "code",
   "execution_count": 28,
   "metadata": {},
   "outputs": [],
   "source": [
    "# w = 'символы'\n",
    "# encode_abc_bin(encode_abc( pad_word(w) )).shape\n",
    "# w+zero_symbol*(max_word_len-len(w))"
   ]
  },
  {
   "cell_type": "code",
   "execution_count": 29,
   "metadata": {},
   "outputs": [
    {
     "name": "stderr",
     "output_type": "stream",
     "text": [
      "100%|██████████| 15171/15171 [00:00<00:00, 294807.25it/s]\n",
      "100%|██████████| 15171/15171 [00:00<00:00, 304427.72it/s]\n",
      "100%|██████████| 15171/15171 [00:00<00:00, 19961.42it/s]\n"
     ]
    }
   ],
   "source": [
    "words['code_char_bin_pad'] = words['word']\\\n",
    "                 .progress_apply(pad_word)\\\n",
    "                 .progress_apply(encode_abc)\\\n",
    "                 .progress_apply(encode_abc_bin)"
   ]
  },
  {
   "cell_type": "code",
   "execution_count": 30,
   "metadata": {},
   "outputs": [
    {
     "data": {
      "text/plain": [
       "(15171, 19, 42)"
      ]
     },
     "execution_count": 30,
     "metadata": {},
     "output_type": "execute_result"
    }
   ],
   "source": [
    "np.vstack(words['code_char_bin_pad']).shape"
   ]
  },
  {
   "cell_type": "code",
   "execution_count": 31,
   "metadata": {},
   "outputs": [
    {
     "name": "stdout",
     "output_type": "stream",
     "text": [
      "записей: 42\n"
     ]
    }
   ],
   "source": [
    "# алфавит\n",
    "ppr(abc)\n",
    "# abc"
   ]
  },
  {
   "cell_type": "code",
   "execution_count": 32,
   "metadata": {},
   "outputs": [
    {
     "name": "stdout",
     "output_type": "stream",
     "text": [
      "записей: 15 172\n"
     ]
    }
   ],
   "source": [
    "# словарь\n",
    "ppr(vocabulary)\n",
    "# abc"
   ]
  },
  {
   "cell_type": "code",
   "execution_count": 33,
   "metadata": {},
   "outputs": [
    {
     "name": "stdout",
     "output_type": "stream",
     "text": [
      "записей: 15 171\n"
     ]
    },
    {
     "data": {
      "text/html": [
       "<div>\n",
       "<style scoped>\n",
       "    .dataframe tbody tr th:only-of-type {\n",
       "        vertical-align: middle;\n",
       "    }\n",
       "\n",
       "    .dataframe tbody tr th {\n",
       "        vertical-align: top;\n",
       "    }\n",
       "\n",
       "    .dataframe thead th {\n",
       "        text-align: right;\n",
       "    }\n",
       "</style>\n",
       "<table border=\"1\" class=\"dataframe\">\n",
       "  <thead>\n",
       "    <tr style=\"text-align: right;\">\n",
       "      <th></th>\n",
       "      <th>word</th>\n",
       "      <th>code_char_bin_pad</th>\n",
       "    </tr>\n",
       "  </thead>\n",
       "  <tbody>\n",
       "    <tr>\n",
       "      <th>10343</th>\n",
       "      <td>промокло</td>\n",
       "      <td>[[[0, 0, 0, 0, 0, 0, 0, 0, 0, 0, 0, 0, 0, 0, 0, 0, 0, 0, 0, 0, 0, 0, 0, 0, 0, 1, 0, 0, 0, 0, 0, 0, 0, 0, 0, 0, 0, 0, 0, 0, 0, 0], [0, 0, 0, 0, 0, 0, 0, 0, 0, 0, 0, 0, 0, 0, 0, 0, 0, 0, 0, 0, 0, 0,...</td>\n",
       "    </tr>\n",
       "    <tr>\n",
       "      <th>2644</th>\n",
       "      <td>дикое</td>\n",
       "      <td>[[[0, 0, 0, 0, 0, 0, 0, 0, 0, 0, 0, 0, 0, 0, 1, 0, 0, 0, 0, 0, 0, 0, 0, 0, 0, 0, 0, 0, 0, 0, 0, 0, 0, 0, 0, 0, 0, 0, 0, 0, 0, 0], [0, 0, 0, 0, 0, 0, 0, 0, 0, 0, 0, 0, 0, 0, 0, 0, 0, 0, 1, 0, 0, 0,...</td>\n",
       "    </tr>\n",
       "    <tr>\n",
       "      <th>4590</th>\n",
       "      <td>клянусь</td>\n",
       "      <td>[[[0, 0, 0, 0, 0, 0, 0, 0, 0, 0, 0, 0, 0, 0, 0, 0, 0, 0, 0, 0, 1, 0, 0, 0, 0, 0, 0, 0, 0, 0, 0, 0, 0, 0, 0, 0, 0, 0, 0, 0, 0, 0], [0, 0, 0, 0, 0, 0, 0, 0, 0, 0, 0, 0, 0, 0, 0, 0, 0, 0, 0, 0, 0, 1,...</td>\n",
       "    </tr>\n",
       "  </tbody>\n",
       "</table>\n",
       "</div>"
      ],
      "text/plain": [
       "           word  \\\n",
       "10343  промокло   \n",
       "2644      дикое   \n",
       "4590    клянусь   \n",
       "\n",
       "                                                                                                                                                                                             code_char_bin_pad  \n",
       "10343  [[[0, 0, 0, 0, 0, 0, 0, 0, 0, 0, 0, 0, 0, 0, 0, 0, 0, 0, 0, 0, 0, 0, 0, 0, 0, 1, 0, 0, 0, 0, 0, 0, 0, 0, 0, 0, 0, 0, 0, 0, 0, 0], [0, 0, 0, 0, 0, 0, 0, 0, 0, 0, 0, 0, 0, 0, 0, 0, 0, 0, 0, 0, 0, 0,...  \n",
       "2644   [[[0, 0, 0, 0, 0, 0, 0, 0, 0, 0, 0, 0, 0, 0, 1, 0, 0, 0, 0, 0, 0, 0, 0, 0, 0, 0, 0, 0, 0, 0, 0, 0, 0, 0, 0, 0, 0, 0, 0, 0, 0, 0], [0, 0, 0, 0, 0, 0, 0, 0, 0, 0, 0, 0, 0, 0, 0, 0, 0, 0, 1, 0, 0, 0,...  \n",
       "4590   [[[0, 0, 0, 0, 0, 0, 0, 0, 0, 0, 0, 0, 0, 0, 0, 0, 0, 0, 0, 0, 1, 0, 0, 0, 0, 0, 0, 0, 0, 0, 0, 0, 0, 0, 0, 0, 0, 0, 0, 0, 0, 0], [0, 0, 0, 0, 0, 0, 0, 0, 0, 0, 0, 0, 0, 0, 0, 0, 0, 0, 0, 0, 0, 1,...  "
      ]
     },
     "execution_count": 33,
     "metadata": {},
     "output_type": "execute_result"
    }
   ],
   "source": [
    "# таблица кодов слов\n",
    "ppr(words)\n",
    "words.sample(3)"
   ]
  },
  {
   "cell_type": "markdown",
   "metadata": {},
   "source": [
    "## кодируем текст"
   ]
  },
  {
   "cell_type": "code",
   "execution_count": 34,
   "metadata": {},
   "outputs": [
    {
     "name": "stderr",
     "output_type": "stream",
     "text": [
      "100%|██████████| 6791/6791 [00:00<00:00, 478787.02it/s]\n"
     ]
    }
   ],
   "source": [
    "# заменяем слова на последовательность номеров слов в словаре \n",
    "data['seq_code_word'] = data['line'].progress_apply(lambda s: [ vocabulary[w] for w in s ])"
   ]
  },
  {
   "cell_type": "code",
   "execution_count": 35,
   "metadata": {},
   "outputs": [
    {
     "data": {
      "text/plain": [
       "count    6791\n",
       "mean       13\n",
       "std        11\n",
       "min         1\n",
       "10%         4\n",
       "25%         6\n",
       "50%        10\n",
       "75%        18\n",
       "90%        28\n",
       "95%        35\n",
       "99%        54\n",
       "max       111\n",
       "Name: seq_code_word, dtype: int64"
      ]
     },
     "execution_count": 35,
     "metadata": {},
     "output_type": "execute_result"
    }
   ],
   "source": [
    "# data['seq_code_word'].str.len().plot.hist()\n",
    "data['seq_code_word'].str.len().describe([.1,.25,.5,.75,.9,.95,.99]).astype(int)"
   ]
  },
  {
   "cell_type": "code",
   "execution_count": 36,
   "metadata": {},
   "outputs": [
    {
     "name": "stdout",
     "output_type": "stream",
     "text": [
      "записей: 6 791\n"
     ]
    },
    {
     "data": {
      "text/html": [
       "<div>\n",
       "<style scoped>\n",
       "    .dataframe tbody tr th:only-of-type {\n",
       "        vertical-align: middle;\n",
       "    }\n",
       "\n",
       "    .dataframe tbody tr th {\n",
       "        vertical-align: top;\n",
       "    }\n",
       "\n",
       "    .dataframe thead th {\n",
       "        text-align: right;\n",
       "    }\n",
       "</style>\n",
       "<table border=\"1\" class=\"dataframe\">\n",
       "  <thead>\n",
       "    <tr style=\"text-align: right;\">\n",
       "      <th></th>\n",
       "      <th>line</th>\n",
       "      <th>seq_code_word</th>\n",
       "    </tr>\n",
       "  </thead>\n",
       "  <tbody>\n",
       "    <tr>\n",
       "      <th>2122</th>\n",
       "      <td>[он, положил, про, себя, ,, что, тот, бесстыдный, трус, ;]</td>\n",
       "      <td>[7327, 8923, 10176, 11639, 6, 14808, 13431, 359, 13541, 12]</td>\n",
       "    </tr>\n",
       "    <tr>\n",
       "      <th>6152</th>\n",
       "      <td>[и, вот, ,, к, удивлению, моему, ,, он, и, тут, был, не, уверен, :, участвует, он, или, нет, в, каком, -, нибудь, тайном, обществе, .]</td>\n",
       "      <td>[3985, 1445, 6, 4375, 13765, 5618, 6, 7327, 3985, 13565, 743, 6266, 13642, 11, 14232, 7327, 4156, 6626, 766, 4438, 7, 6683, 13153, 7085, 8]</td>\n",
       "    </tr>\n",
       "    <tr>\n",
       "      <th>6559</th>\n",
       "      <td>[мы, просидели, так, минут, десять, .]</td>\n",
       "      <td>[5764, 10390, 13162, 5540, 2618, 8]</td>\n",
       "    </tr>\n",
       "  </tbody>\n",
       "</table>\n",
       "</div>"
      ],
      "text/plain": [
       "                                                                                                                                        line  \\\n",
       "2122                                                                              [он, положил, про, себя, ,, что, тот, бесстыдный, трус, ;]   \n",
       "6152  [и, вот, ,, к, удивлению, моему, ,, он, и, тут, был, не, уверен, :, участвует, он, или, нет, в, каком, -, нибудь, тайном, обществе, .]   \n",
       "6559                                                                                                  [мы, просидели, так, минут, десять, .]   \n",
       "\n",
       "                                                                                                                                    seq_code_word  \n",
       "2122                                                                                  [7327, 8923, 10176, 11639, 6, 14808, 13431, 359, 13541, 12]  \n",
       "6152  [3985, 1445, 6, 4375, 13765, 5618, 6, 7327, 3985, 13565, 743, 6266, 13642, 11, 14232, 7327, 4156, 6626, 766, 4438, 7, 6683, 13153, 7085, 8]  \n",
       "6559                                                                                                          [5764, 10390, 13162, 5540, 2618, 8]  "
      ]
     },
     "execution_count": 36,
     "metadata": {},
     "output_type": "execute_result"
    }
   ],
   "source": [
    "# последовательность слов (основной текст)\n",
    "ppr(data)\n",
    "data.sample(3)"
   ]
  },
  {
   "cell_type": "markdown",
   "metadata": {},
   "source": [
    "## собираем датасет"
   ]
  },
  {
   "cell_type": "code",
   "execution_count": 37,
   "metadata": {},
   "outputs": [],
   "source": [
    "hist_deep = 5 # глубина истории контекста"
   ]
  },
  {
   "cell_type": "code",
   "execution_count": 38,
   "metadata": {},
   "outputs": [
    {
     "data": {
      "text/plain": [
       "count    6791\n",
       "mean       13\n",
       "std        11\n",
       "min         1\n",
       "10%         4\n",
       "25%         6\n",
       "50%        10\n",
       "75%        18\n",
       "90%        28\n",
       "95%        35\n",
       "99%        54\n",
       "max       111\n",
       "Name: seq_code_word, dtype: int64"
      ]
     },
     "execution_count": 38,
     "metadata": {},
     "output_type": "execute_result"
    }
   ],
   "source": [
    "data['seq_code_word'].str.len().describe([.1,.25,.5,.75,.9,.95,.99]).astype(int)"
   ]
  },
  {
   "cell_type": "code",
   "execution_count": 39,
   "metadata": {},
   "outputs": [
    {
     "name": "stdout",
     "output_type": "stream",
     "text": [
      "записей: 6 791\n",
      "записей: 5 308\n"
     ]
    }
   ],
   "source": [
    "ppr(data)\n",
    "# data = data[ data['seq_code_word'].str.len()>hist_deep ] \n",
    "data = data[ data['seq_code_word'].str.len().between(hist_deep+1,data['seq_code_word'].str.len().quantile(.95)) ] \n",
    "ppr(data)"
   ]
  },
  {
   "cell_type": "code",
   "execution_count": 40,
   "metadata": {},
   "outputs": [],
   "source": [
    "# s = data.sample()['seq_code_word'].values[0]\n",
    "# len(s)\n",
    "# hist_deep"
   ]
  },
  {
   "cell_type": "code",
   "execution_count": 41,
   "metadata": {},
   "outputs": [],
   "source": [
    "# [ контекст, слово ]\n",
    "def pack_history(s,hd=hist_deep):\n",
    "    return [ [ s[i-hd:i], s[i] ] for i in range(hd,len(s)) ] \n",
    "\n",
    "# pack_history(s)"
   ]
  },
  {
   "cell_type": "code",
   "execution_count": 42,
   "metadata": {},
   "outputs": [
    {
     "name": "stderr",
     "output_type": "stream",
     "text": [
      "100%|██████████| 5308/5308 [00:00<00:00, 61592.38it/s]\n"
     ]
    },
    {
     "name": "stdout",
     "output_type": "stream",
     "text": [
      "записей: 60 804\n"
     ]
    },
    {
     "data": {
      "text/html": [
       "<div>\n",
       "<style scoped>\n",
       "    .dataframe tbody tr th:only-of-type {\n",
       "        vertical-align: middle;\n",
       "    }\n",
       "\n",
       "    .dataframe tbody tr th {\n",
       "        vertical-align: top;\n",
       "    }\n",
       "\n",
       "    .dataframe thead th {\n",
       "        text-align: right;\n",
       "    }\n",
       "</style>\n",
       "<table border=\"1\" class=\"dataframe\">\n",
       "  <thead>\n",
       "    <tr style=\"text-align: right;\">\n",
       "      <th></th>\n",
       "      <th>x_context</th>\n",
       "      <th>x</th>\n",
       "    </tr>\n",
       "  </thead>\n",
       "  <tbody>\n",
       "    <tr>\n",
       "      <th>42751</th>\n",
       "      <td>[15118, 3957, 6, 14808, 5764]</td>\n",
       "      <td>5789</td>\n",
       "    </tr>\n",
       "    <tr>\n",
       "      <th>10091</th>\n",
       "      <td>[4028, 2027, 7477, 11343, 3012]</td>\n",
       "      <td>6</td>\n",
       "    </tr>\n",
       "    <tr>\n",
       "      <th>1149</th>\n",
       "      <td>[13334, 9986, 8806, 3985, 8965]</td>\n",
       "      <td>7800</td>\n",
       "    </tr>\n",
       "  </tbody>\n",
       "</table>\n",
       "</div>"
      ],
      "text/plain": [
       "                             x_context     x\n",
       "42751    [15118, 3957, 6, 14808, 5764]  5789\n",
       "10091  [4028, 2027, 7477, 11343, 3012]     6\n",
       "1149   [13334, 9986, 8806, 3985, 8965]  7800"
      ]
     },
     "execution_count": 42,
     "metadata": {},
     "output_type": "execute_result"
    }
   ],
   "source": [
    "d = data['seq_code_word'].progress_apply(pack_history)\n",
    "d = pd.DataFrame( sum(d.values.tolist(),[]), columns=['x_context','x'] )\n",
    "ppr(d)\n",
    "d.sample(3)"
   ]
  },
  {
   "cell_type": "code",
   "execution_count": 43,
   "metadata": {},
   "outputs": [
    {
     "data": {
      "text/plain": [
       "((60804,), (60804, 5))"
      ]
     },
     "execution_count": 43,
     "metadata": {},
     "output_type": "execute_result"
    }
   ],
   "source": [
    "x = d['x'].values # номер слова\n",
    "x_context = np.vstack(d['x_context'].values) # контекст слова\n",
    "x.shape, x_context.shape"
   ]
  },
  {
   "cell_type": "code",
   "execution_count": 44,
   "metadata": {},
   "outputs": [],
   "source": [
    "%xdel d"
   ]
  },
  {
   "cell_type": "markdown",
   "metadata": {},
   "source": [
    "## модель"
   ]
  },
  {
   "cell_type": "code",
   "execution_count": 45,
   "metadata": {},
   "outputs": [],
   "source": [
    "# import tensorflow as tf\n",
    "from tensorflow.keras import Model\n",
    "from tensorflow.keras.layers import Input\n",
    "from tensorflow.keras.layers import Conv2D\n",
    "from tensorflow.keras.layers import MaxPooling2D\n",
    "from tensorflow.keras.layers import Reshape\n",
    "from tensorflow.keras.layers import LSTM\n",
    "from tensorflow.keras.layers import Bidirectional\n",
    "from tensorflow.keras.layers import Dense\n",
    "from tensorflow.keras.optimizers import Adam\n",
    "\n",
    "from tensorflow.keras.utils import plot_model"
   ]
  },
  {
   "cell_type": "code",
   "execution_count": 46,
   "metadata": {},
   "outputs": [
    {
     "data": {
      "text/html": [
       "<table>\n",
       "<tbody>\n",
       "<tr><td>tensorflow        </td><td>2.3.1               </td></tr>\n",
       "<tr><td>device            </td><td>0                   </td></tr>\n",
       "<tr><td>name              </td><td>GeForce GTX 1060 6GB</td></tr>\n",
       "<tr><td>pci bus id        </td><td>0000:01:00.0        </td></tr>\n",
       "<tr><td>compute capability</td><td>6.1                 </td></tr>\n",
       "</tbody>\n",
       "</table>"
      ],
      "text/plain": [
       "<IPython.core.display.HTML object>"
      ]
     },
     "metadata": {},
     "output_type": "display_data"
    }
   ],
   "source": [
    "# from utils.tf_helpers import tf_info\n",
    "# from IPython.display import display, HTML\n",
    "# display(HTML(tf_info()))"
   ]
  },
  {
   "cell_type": "markdown",
   "metadata": {},
   "source": [
    "---"
   ]
  },
  {
   "cell_type": "code",
   "execution_count": 47,
   "metadata": {},
   "outputs": [
    {
     "data": {
      "text/plain": [
       "(60804, 5)"
      ]
     },
     "execution_count": 47,
     "metadata": {},
     "output_type": "execute_result"
    }
   ],
   "source": [
    "x_context.shape"
   ]
  },
  {
   "cell_type": "code",
   "execution_count": 48,
   "metadata": {},
   "outputs": [
    {
     "data": {
      "text/plain": [
       "(15171, 19, 42)"
      ]
     },
     "execution_count": 48,
     "metadata": {},
     "output_type": "execute_result"
    }
   ],
   "source": [
    "# бинарные коды слов\n",
    "# [ номер слова в словаре, номер символа в слове, номер символа в алфавите ]\n",
    "words_char_code_bin_pad = np.vstack(words['code_char_bin_pad'].values.tolist() )\n",
    "words_char_code_bin_pad.shape"
   ]
  },
  {
   "cell_type": "code",
   "execution_count": 49,
   "metadata": {},
   "outputs": [
    {
     "data": {
      "text/plain": [
       "(15172, 19, 42)"
      ]
     },
     "execution_count": 49,
     "metadata": {},
     "output_type": "execute_result"
    }
   ],
   "source": [
    "# добавляем код \"нулевого\" слова (PAD)\n",
    "_,j,k = words_char_code_bin_pad.shape\n",
    "words_char_code_bin_pad = np.vstack([\n",
    "   np.zeros([1,j,k]),\n",
    "   words_char_code_bin_pad\n",
    "])\n",
    "\n",
    "words_char_code_bin_pad.shape"
   ]
  },
  {
   "cell_type": "code",
   "execution_count": 50,
   "metadata": {},
   "outputs": [
    {
     "data": {
      "text/plain": [
       "(5, 19, 15172, 42, 1024)"
      ]
     },
     "execution_count": 50,
     "metadata": {},
     "output_type": "execute_result"
    }
   ],
   "source": [
    "voc_len = len(vocabulary) # размер словаря\n",
    "abc_len = len(abc) # размер алфавита\n",
    "hist_deep = x_context.shape[1] # глубина контекста\n",
    "word_len = words_char_code_bin_pad.shape[1] # максимальная длина слова \n",
    "\n",
    "code_len = 1024 # размер внутреннего представления контекста\n",
    "\n",
    "hist_deep, word_len, voc_len, abc_len, code_len, "
   ]
  },
  {
   "cell_type": "code",
   "execution_count": 51,
   "metadata": {},
   "outputs": [],
   "source": [
    "model_name='charCNN2-BiLSTM'\n",
    "\n",
    "i = Input(shape=(None, word_len, abc_len))\n",
    "o = Conv2D(filters=code_len,kernel_size=5,strides=(1,1),padding='same', activation='relu')(i)\n",
    "o = MaxPooling2D(pool_size=(word_len,1), data_format='channels_first')(o)\n",
    "o = Reshape(target_shape=(hist_deep,code_len))(o)\n",
    "o = Bidirectional(LSTM(code_len))(o)\n",
    "o = Dense(voc_len, activation='softmax')(o)\n",
    "model = Model(i,o)"
   ]
  },
  {
   "cell_type": "code",
   "execution_count": 52,
   "metadata": {},
   "outputs": [
    {
     "data": {
      "image/png": "[encoded data removed]",
      "text/plain": [
       "<IPython.core.display.Image object>"
      ]
     },
     "execution_count": 52,
     "metadata": {},
     "output_type": "execute_result"
    }
   ],
   "source": [
    "plot_model(model,to_file=pjoin(FOLDER_RESULT,model_name+'.png'), \n",
    "                show_layer_names=True, show_shapes=True )"
   ]
  },
  {
   "cell_type": "code",
   "execution_count": 53,
   "metadata": {},
   "outputs": [],
   "source": [
    "with open( pjoin(FOLDER_RESULT,model_name+'.json'), 'wt') as f: f.write( model.to_json() )"
   ]
  },
  {
   "cell_type": "markdown",
   "metadata": {},
   "source": [
    "## обучаем модель"
   ]
  },
  {
   "cell_type": "code",
   "execution_count": 54,
   "metadata": {},
   "outputs": [],
   "source": [
    "learning_rate = 1e-3\n",
    "\n",
    "optimizer=Adam(lr=learning_rate)\n",
    "model.compile(optimizer=optimizer, loss='categorical_crossentropy',metrics=['accuracy'])"
   ]
  },
  {
   "cell_type": "code",
   "execution_count": 55,
   "metadata": {},
   "outputs": [],
   "source": [
    "# преобразовать весь датасет в матрицы OHE займёт очень много памяти\n",
    "# будем делать это в процессе формирования batch\n",
    "# построим генератор батчей\n",
    "\n",
    "# x - номера слов, \n",
    "# xc- цепочки номеров слов контекста для x\n",
    "# batch_size - размер пакета данных\n",
    "# ccb - матрицы кодов слов (OHE символов в словах, дополненные нулями до единого размера)\n",
    "# voc_len - количество слов в словаре\n",
    "def data_gen(x,xc,batch_size,ccb=words_char_code_bin_pad,voc_len=voc_len):\n",
    "    bc = np.ceil(x.shape[0]/batch_size).astype(int) # количество пакетов данных\n",
    "    while True:\n",
    "        # перемешиваем номера примеров\n",
    "        rand_idx = rng.permutation(range(x.shape[0]))\n",
    "        # делим список индексов на части\n",
    "        batches_idx = np.array_split(rand_idx,bc)\n",
    "        # последовательно формируем и выдаём пакеты данных\n",
    "        for ii in batches_idx:\n",
    "            yield  ccb[xc[ii,:]], np.eye(voc_len,dtype=int)[x[ii]]"
   ]
  },
  {
   "cell_type": "code",
   "execution_count": 56,
   "metadata": {},
   "outputs": [
    {
     "name": "stdout",
     "output_type": "stream",
     "text": [
      "Epoch 1/64\n",
      "29/29 [==============================] - 27s 941ms/step - loss: 7.5993 - accuracy: 0.0630\n",
      "Epoch 2/64\n",
      "29/29 [==============================] - 27s 923ms/step - loss: 6.8694 - accuracy: 0.1028\n",
      "Epoch 3/64\n",
      "29/29 [==============================] - 27s 920ms/step - loss: 6.7328 - accuracy: 0.1117\n",
      "Epoch 4/64\n",
      "29/29 [==============================] - 27s 921ms/step - loss: 6.6295 - accuracy: 0.1124\n",
      "Epoch 5/64\n",
      "29/29 [==============================] - 27s 921ms/step - loss: 6.5030 - accuracy: 0.1212\n",
      "Epoch 6/64\n",
      "29/29 [==============================] - 27s 918ms/step - loss: 6.2862 - accuracy: 0.1286\n",
      "Epoch 7/64\n",
      "29/29 [==============================] - 27s 917ms/step - loss: 6.1176 - accuracy: 0.1330\n",
      "Epoch 8/64\n",
      "29/29 [==============================] - 27s 917ms/step - loss: 5.9890 - accuracy: 0.1366\n",
      "Epoch 9/64\n",
      "29/29 [==============================] - 27s 919ms/step - loss: 5.7865 - accuracy: 0.1412\n",
      "Epoch 10/64\n",
      "29/29 [==============================] - 27s 919ms/step - loss: 5.6340 - accuracy: 0.1496\n",
      "Epoch 11/64\n",
      "29/29 [==============================] - 27s 918ms/step - loss: 5.4214 - accuracy: 0.1594\n",
      "Epoch 12/64\n",
      "29/29 [==============================] - 27s 919ms/step - loss: 5.2305 - accuracy: 0.1692\n",
      "Epoch 13/64\n",
      "29/29 [==============================] - 27s 916ms/step - loss: 5.0214 - accuracy: 0.1853\n",
      "Epoch 14/64\n",
      "29/29 [==============================] - 27s 918ms/step - loss: 4.9324 - accuracy: 0.1960\n",
      "Epoch 15/64\n",
      "29/29 [==============================] - 27s 918ms/step - loss: 4.6250 - accuracy: 0.2157\n",
      "Epoch 16/64\n",
      "29/29 [==============================] - 27s 918ms/step - loss: 4.3980 - accuracy: 0.2385\n",
      "Epoch 17/64\n",
      "29/29 [==============================] - 27s 917ms/step - loss: 4.1305 - accuracy: 0.2648\n",
      "Epoch 18/64\n",
      "29/29 [==============================] - 27s 916ms/step - loss: 3.9486 - accuracy: 0.2823\n",
      "Epoch 19/64\n",
      "29/29 [==============================] - 27s 918ms/step - loss: 3.6106 - accuracy: 0.3144\n",
      "Epoch 20/64\n",
      "29/29 [==============================] - 27s 918ms/step - loss: 3.4589 - accuracy: 0.3276\n",
      "Epoch 21/64\n",
      "29/29 [==============================] - 27s 919ms/step - loss: 3.1468 - accuracy: 0.3635\n",
      "Epoch 22/64\n",
      "29/29 [==============================] - 27s 917ms/step - loss: 2.8321 - accuracy: 0.4054\n",
      "Epoch 23/64\n",
      "29/29 [==============================] - 27s 919ms/step - loss: 2.7294 - accuracy: 0.4180\n",
      "Epoch 24/64\n",
      "29/29 [==============================] - 27s 917ms/step - loss: 2.3354 - accuracy: 0.4799\n",
      "Epoch 25/64\n",
      "29/29 [==============================] - 27s 918ms/step - loss: 2.5843 - accuracy: 0.4304\n",
      "Epoch 26/64\n",
      "29/29 [==============================] - 27s 918ms/step - loss: 2.0133 - accuracy: 0.5298\n",
      "Epoch 27/64\n",
      "29/29 [==============================] - 27s 919ms/step - loss: 1.5372 - accuracy: 0.6351\n",
      "Epoch 28/64\n",
      "29/29 [==============================] - 27s 918ms/step - loss: 1.6547 - accuracy: 0.6125\n",
      "Epoch 29/64\n",
      "29/29 [==============================] - 27s 919ms/step - loss: 1.8415 - accuracy: 0.5485\n",
      "Epoch 30/64\n",
      "29/29 [==============================] - 27s 918ms/step - loss: 1.2495 - accuracy: 0.6960\n",
      "Epoch 31/64\n",
      "29/29 [==============================] - 27s 919ms/step - loss: 0.8273 - accuracy: 0.8103\n",
      "Epoch 32/64\n",
      "29/29 [==============================] - 27s 920ms/step - loss: 0.6552 - accuracy: 0.8542\n",
      "Epoch 33/64\n",
      "29/29 [==============================] - 27s 922ms/step - loss: 0.5469 - accuracy: 0.8806\n",
      "Epoch 34/64\n",
      "29/29 [==============================] - 27s 922ms/step - loss: 0.5067 - accuracy: 0.8883\n",
      "Epoch 35/64\n",
      "29/29 [==============================] - 27s 920ms/step - loss: 0.4693 - accuracy: 0.8962\n",
      "Epoch 36/64\n",
      "29/29 [==============================] - 27s 921ms/step - loss: 0.4236 - accuracy: 0.9071\n",
      "Epoch 37/64\n",
      "29/29 [==============================] - 27s 918ms/step - loss: 0.3865 - accuracy: 0.9159\n",
      "Epoch 38/64\n",
      "29/29 [==============================] - 27s 920ms/step - loss: 0.3513 - accuracy: 0.9230\n",
      "Epoch 39/64\n",
      "29/29 [==============================] - 27s 917ms/step - loss: 0.3288 - accuracy: 0.9287\n",
      "Epoch 40/64\n",
      "29/29 [==============================] - 27s 917ms/step - loss: 0.3048 - accuracy: 0.9346\n",
      "Epoch 41/64\n",
      "29/29 [==============================] - 27s 915ms/step - loss: 0.2622 - accuracy: 0.9449\n",
      "Epoch 42/64\n",
      "29/29 [==============================] - 27s 918ms/step - loss: 0.2465 - accuracy: 0.9479\n",
      "Epoch 43/64\n",
      "29/29 [==============================] - 27s 918ms/step - loss: 0.2159 - accuracy: 0.9551\n",
      "Epoch 44/64\n",
      "29/29 [==============================] - 27s 917ms/step - loss: 0.1897 - accuracy: 0.9611\n",
      "Epoch 45/64\n",
      "29/29 [==============================] - 27s 917ms/step - loss: 0.1676 - accuracy: 0.9668\n",
      "Epoch 46/64\n",
      "29/29 [==============================] - 27s 918ms/step - loss: 0.1448 - accuracy: 0.9718\n",
      "Epoch 47/64\n",
      "29/29 [==============================] - 27s 917ms/step - loss: 0.1310 - accuracy: 0.9740\n",
      "Epoch 48/64\n",
      "29/29 [==============================] - 27s 918ms/step - loss: 0.1098 - accuracy: 0.9792\n",
      "Epoch 49/64\n",
      "29/29 [==============================] - 27s 919ms/step - loss: 0.0954 - accuracy: 0.9821\n",
      "Epoch 50/64\n",
      "29/29 [==============================] - 27s 917ms/step - loss: 0.0831 - accuracy: 0.9837\n",
      "Epoch 51/64\n",
      "29/29 [==============================] - 27s 918ms/step - loss: 0.0726 - accuracy: 0.9866\n",
      "Epoch 52/64\n",
      "29/29 [==============================] - 27s 916ms/step - loss: 0.0633 - accuracy: 0.9880\n",
      "Epoch 53/64\n",
      "29/29 [==============================] - 27s 917ms/step - loss: 0.0605 - accuracy: 0.9880\n",
      "Epoch 54/64\n",
      "29/29 [==============================] - 27s 918ms/step - loss: 0.0515 - accuracy: 0.9894\n",
      "Epoch 55/64\n",
      "29/29 [==============================] - 27s 918ms/step - loss: 0.0484 - accuracy: 0.9897\n",
      "Epoch 56/64\n",
      "29/29 [==============================] - 27s 919ms/step - loss: 0.0436 - accuracy: 0.9904\n",
      "Epoch 57/64\n",
      "29/29 [==============================] - 27s 916ms/step - loss: 0.0428 - accuracy: 0.9906\n",
      "Epoch 58/64\n",
      "29/29 [==============================] - 27s 918ms/step - loss: 0.0412 - accuracy: 0.9904\n",
      "Epoch 59/64\n",
      "29/29 [==============================] - 27s 918ms/step - loss: 0.0401 - accuracy: 0.9909\n",
      "Epoch 60/64\n",
      "29/29 [==============================] - 27s 919ms/step - loss: 0.0375 - accuracy: 0.9912\n",
      "Epoch 61/64\n",
      "29/29 [==============================] - 27s 921ms/step - loss: 0.0344 - accuracy: 0.9916\n",
      "Epoch 62/64\n",
      "29/29 [==============================] - 27s 921ms/step - loss: 0.0343 - accuracy: 0.9913\n",
      "Epoch 63/64\n",
      "29/29 [==============================] - 27s 920ms/step - loss: 0.0327 - accuracy: 0.9912\n",
      "Epoch 64/64\n",
      "29/29 [==============================] - 27s 920ms/step - loss: 0.0330 - accuracy: 0.9916\n",
      "CPU times: user 20min 48s, sys: 1min 55s, total: 22min 43s\n",
      "Wall time: 28min 54s\n"
     ]
    }
   ],
   "source": [
    "%%time \n",
    "\n",
    "n_epochs = 64\n",
    "batch_size = 2048\n",
    "\n",
    "hist = model.fit(\n",
    "    data_gen(x,x_context,batch_size),\n",
    "    steps_per_epoch = x.shape[0]//batch_size,\n",
    "    epochs = n_epochs\n",
    ")"
   ]
  },
  {
   "cell_type": "code",
   "execution_count": 57,
   "metadata": {},
   "outputs": [],
   "source": [
    "model.save_weights( pjoin(FOLDER_RESULT,model_name+'-%02d.tf'%(n_epochs) ), save_format='tf') "
   ]
  },
  {
   "cell_type": "markdown",
   "metadata": {},
   "source": [
    "---"
   ]
  },
  {
   "cell_type": "code",
   "execution_count": 58,
   "metadata": {},
   "outputs": [
    {
     "data": {
      "image/png": "[encoded data removed]",
      "text/plain": [
       "<Figure size 864x288 with 2 Axes>"
      ]
     },
     "metadata": {
      "needs_background": "light"
     },
     "output_type": "display_data"
    }
   ],
   "source": [
    "from matplotlib import pyplot as plt\n",
    "\n",
    "k = hist.history.keys()\n",
    "\n",
    "w,h = 6,4\n",
    "\n",
    "fig,ax = plt.subplots(1,len(k),figsize=(w*len(k),h))\n",
    "for i,n in enumerate(k):\n",
    "    ax[i].plot(hist.history[n],label=n)\n",
    "    ax[i].grid(True)\n",
    "    ax[i].legend()\n",
    "    ax[i].set_ylim([-.1,1.1])"
   ]
  },
  {
   "cell_type": "markdown",
   "metadata": {},
   "source": [
    "## тестируем"
   ]
  },
  {
   "cell_type": "code",
   "execution_count": 59,
   "metadata": {},
   "outputs": [],
   "source": [
    "# !ls result"
   ]
  },
  {
   "cell_type": "code",
   "execution_count": 60,
   "metadata": {},
   "outputs": [],
   "source": [
    "# from tensorflow.keras.models import model_from_json\n",
    "# # from tensorflow.keras.models import load_model\n",
    "\n",
    "# fname='result/charCNN-BiLSTM.json'\n",
    "# with open( fname, 'rt') as f: model = model_from_json(f.read())\n",
    "# #model.compile(optimizer='Adam', loss='categorical_crossentropy',metrics=['accuracy'])\n",
    "\n",
    "# fname = 'result/charCNN-BiLSTM-64.tf'\n",
    "# model.load_weights( fname )     "
   ]
  },
  {
   "cell_type": "code",
   "execution_count": 61,
   "metadata": {},
   "outputs": [],
   "source": [
    "def encode_str(s): \n",
    "    return np.vstack([\n",
    "        encode_abc_bin(encode_abc(pad_word(w)))\n",
    "        for w in tokenize(s) \n",
    "    ])[np.newaxis,:]"
   ]
  },
  {
   "cell_type": "code",
   "execution_count": 62,
   "metadata": {},
   "outputs": [],
   "source": [
    "vocabulary_inv = { vocabulary[k]:k for k in vocabulary } # декодер слов"
   ]
  },
  {
   "cell_type": "code",
   "execution_count": 66,
   "metadata": {},
   "outputs": [
    {
     "data": {
      "text/plain": [
       "', но тотчас же преобидно'"
      ]
     },
     "execution_count": 66,
     "metadata": {},
     "output_type": "execute_result"
    }
   ],
   "source": [
    "# начальный контекст\n",
    "s = data['line'].apply(' '.join).sample().values[0]\n",
    "s = ' '.join(tokenize(s)[:hist_deep])\n",
    "s"
   ]
  },
  {
   "cell_type": "code",
   "execution_count": 67,
   "metadata": {},
   "outputs": [
    {
     "data": {
      "text/plain": [
       "', но тотчас же преобидно |  перескочит в гаденький вальс . такого в которую вечером на бывал , а уже перестает над стол . таких совершенно гостя , но когда она тотчас ; казалось , вы'"
      ]
     },
     "execution_count": 67,
     "metadata": {},
     "output_type": "execute_result"
    }
   ],
   "source": [
    "o = s + ' | ' # результат\n",
    "\n",
    "for i in range(30):\n",
    "    t = encode_str(s)\n",
    "    p = model.predict(t)\n",
    "    r = np.argmax(p)\n",
    "    w = vocabulary_inv[r]\n",
    "    s = ' '.join(tokenize(s)[1:] + [ w ])\n",
    "    o += ' '+w\n",
    "\n",
    "o"
   ]
  },
  {
   "cell_type": "code",
   "execution_count": 68,
   "metadata": {},
   "outputs": [
    {
     "data": {
      "text/plain": [
       "'тотчас ; казалось , вы'"
      ]
     },
     "execution_count": 68,
     "metadata": {},
     "output_type": "execute_result"
    }
   ],
   "source": [
    "s"
   ]
  },
  {
   "cell_type": "code",
   "execution_count": null,
   "metadata": {},
   "outputs": [],
   "source": []
  }
 ],
 "metadata": {
  "kernelspec": {
   "display_name": "Python 3",
   "language": "python",
   "name": "python3"
  },
  "language_info": {
   "codemirror_mode": {
    "name": "ipython",
    "version": 3
   },
   "file_extension": ".py",
   "mimetype": "text/x-python",
   "name": "python",
   "nbconvert_exporter": "python",
   "pygments_lexer": "ipython3",
   "version": "3.9.0"
  },
  "toc": {
   "base_numbering": 1,
   "nav_menu": {},
   "number_sections": true,
   "sideBar": true,
   "skip_h1_title": false,
   "title_cell": "Table of Contents",
   "title_sidebar": "Contents",
   "toc_cell": false,
   "toc_position": {
    "height": "calc(100% - 180px)",
    "left": "10px",
    "top": "150px",
    "width": "218.594px"
   },
   "toc_section_display": true,
   "toc_window_display": false
  }
 },
 "nbformat": 4,
 "nbformat_minor": 2
}
