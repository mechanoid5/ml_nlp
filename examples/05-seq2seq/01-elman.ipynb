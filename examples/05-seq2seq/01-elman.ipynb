{
 "cells": [
  {
   "cell_type": "markdown",
   "metadata": {},
   "source": [
    "**рекуррентная нейронная сеть Элмана**\n",
    "\n",
    "Евгений Борисов borisov.e@solarl.ru"
   ]
  },
  {
   "cell_type": "markdown",
   "metadata": {},
   "source": [
    "---"
   ]
  },
  {
   "cell_type": "code",
   "execution_count": 1,
   "metadata": {},
   "outputs": [],
   "source": [
    "import numpy as np\n",
    "import matplotlib.pyplot as plt\n",
    "from sklearn.preprocessing import OneHotEncoder"
   ]
  },
  {
   "cell_type": "code",
   "execution_count": 2,
   "metadata": {},
   "outputs": [],
   "source": [
    "ex_count = 30 #  количество примеров\n",
    "seq_len = 8  #  длинна последовательности\n",
    "input_size = 11 # размер одного элемента последовательности\n",
    "class_count = 2 #  количество классов\n",
    "hl_size = 7 # размер скрытого слоя"
   ]
  },
  {
   "cell_type": "code",
   "execution_count": 3,
   "metadata": {},
   "outputs": [],
   "source": [
    "X = np.random.rand(ex_count,input_size,seq_len) # последовательности\n",
    "y = np.random.randint(0,class_count,ex_count) # номера классов"
   ]
  },
  {
   "cell_type": "code",
   "execution_count": 22,
   "metadata": {},
   "outputs": [],
   "source": [
    "# X"
   ]
  },
  {
   "cell_type": "code",
   "execution_count": 5,
   "metadata": {},
   "outputs": [],
   "source": [
    "y = OneHotEncoder(sparse=False,categories='auto').fit_transform(y.reshape(-1, 1))"
   ]
  },
  {
   "cell_type": "code",
   "execution_count": 6,
   "metadata": {},
   "outputs": [
    {
     "data": {
      "text/plain": [
       "((30, 11, 8), (30, 2))"
      ]
     },
     "execution_count": 6,
     "metadata": {},
     "output_type": "execute_result"
    }
   ],
   "source": [
    "X.shape, y.shape"
   ]
  },
  {
   "cell_type": "code",
   "execution_count": 7,
   "metadata": {},
   "outputs": [
    {
     "data": {
      "text/plain": [
       "[11, 7, 2]"
      ]
     },
     "execution_count": 7,
     "metadata": {},
     "output_type": "execute_result"
    }
   ],
   "source": [
    "net_size = [ input_size, hl_size, class_count ] # размеры слоёв сети\n",
    "net_size"
   ]
  },
  {
   "cell_type": "code",
   "execution_count": 8,
   "metadata": {},
   "outputs": [
    {
     "data": {
      "text/plain": [
       "((11, 7), (7, 7), (7,), (7, 2), (2,))"
      ]
     },
     "execution_count": 8,
     "metadata": {},
     "output_type": "execute_result"
    }
   ],
   "source": [
    "# инициализация весов\n",
    "\n",
    "# матрица весов первого (скрытого) слоя \n",
    "W1  = np.random.normal(loc=0.0, scale=.1, size=(input_size,hl_size))\n",
    "# матрица весов обратных связей скрытого слоя\n",
    "W1r = np.random.normal(loc=0.0, scale=.1, size=(hl_size,hl_size))\n",
    "# вектор сдвигов скрытого слоя\n",
    "S1  = np.zeros(hl_size)\n",
    "\n",
    "# матрица весов выходного слоя \n",
    "W2  = np.random.normal(loc=0.0, scale=.1, size=(hl_size,class_count))\n",
    "# вектор сдвигов выходного слоя\n",
    "S2  = np.zeros(class_count)\n",
    "\n",
    "( \n",
    "W1.shape, \n",
    "W1r.shape, \n",
    "S1.shape,\n",
    "W2.shape, \n",
    "S2.shape \n",
    ")\n"
   ]
  },
  {
   "cell_type": "markdown",
   "metadata": {},
   "source": [
    "---"
   ]
  },
  {
   "cell_type": "code",
   "execution_count": 9,
   "metadata": {},
   "outputs": [],
   "source": [
    "# активация скрытого слоя\n",
    "def act1(x): return np.tanh(x)\n",
    "def act1_drv(x):return 1.0/(np.cosh(x)**2)"
   ]
  },
  {
   "cell_type": "code",
   "execution_count": 10,
   "metadata": {},
   "outputs": [
    {
     "data": {
      "image/png": "[encoded data removed]",
      "text/plain": [
       "<Figure size 432x288 with 1 Axes>"
      ]
     },
     "metadata": {
      "needs_background": "light"
     },
     "output_type": "display_data"
    }
   ],
   "source": [
    "jj = np.linspace(-1.0,1.0,100)\n",
    "plt.plot( jj, act1(jj) )\n",
    "plt.grid()\n",
    "plt.show()"
   ]
  },
  {
   "cell_type": "markdown",
   "metadata": {},
   "source": [
    "---"
   ]
  },
  {
   "cell_type": "code",
   "execution_count": 11,
   "metadata": {},
   "outputs": [],
   "source": [
    "# активация выходного слоя\n",
    "def act2(x): \n",
    "    xe = np.exp(x)\n",
    "    return xe/xe.sum(axis=1).reshape(-1,1)\n",
    "\n",
    "def act2_drv(x): return 1.0 "
   ]
  },
  {
   "cell_type": "markdown",
   "metadata": {},
   "source": [
    "---"
   ]
  },
  {
   "cell_type": "code",
   "execution_count": 12,
   "metadata": {},
   "outputs": [],
   "source": [
    "# функция потери - средняя кросс-энтропия\n",
    "def loss(o,y):\n",
    "    o_restr = np.minimum(0.99999,np.maximum(1e-9,o))\n",
    "    return -( y*np.log(o_restr) + (1-y)*np.log(1.0-o_restr) ).sum() / y.shape[0]    "
   ]
  },
  {
   "cell_type": "code",
   "execution_count": 13,
   "metadata": {},
   "outputs": [],
   "source": [
    "def run(x,w1,w1r,s1,w2,s2):\n",
    "    # начальное состояние скрытого слоя\n",
    "    o = np.zeros( [ex_count, hl_size] )\n",
    "    seq_len = x.shape[2] # длинна последовательностей\n",
    "    for i in range(seq_len): o = act1( x[:,:,i].dot(w1) + o.dot(w1r) + s1 )\n",
    "    return act2( o.dot(w2) + s2 )"
   ]
  },
  {
   "cell_type": "code",
   "execution_count": 14,
   "metadata": {},
   "outputs": [],
   "source": [
    "def rnn_bptt_forward(x,w1,w1r,s1,w2,s2):\n",
    "    seq_len = x.shape[2] # длинна последовательностей\n",
    "    \n",
    "    hs = [] # история состояний скрытого слоя\n",
    "    ho = [] # история выходов скрытого слоя\n",
    "    h = np.zeros( [ex_count, hl_size] ) # начальное состояние выхода скрытого слоя\n",
    "    \n",
    "    for i in range(seq_len): \n",
    "        h = x[:,:,i].dot(w1) + h.dot(w1r) + s1 \n",
    "        hs.append(h)\n",
    "        h = act1(h)\n",
    "        ho.append(h)\n",
    "\n",
    "    o = act2( h.dot(w2) + s2 )\n",
    "    \n",
    "    return hs,ho,o"
   ]
  },
  {
   "cell_type": "code",
   "execution_count": 15,
   "metadata": {},
   "outputs": [],
   "source": [
    "def rnn_bptt_backward(w1r,w2,y,o,hs):\n",
    "    seq_len = len(hs) # длинна последовательностей\n",
    "    e2 = o - y # ошибка выходного слоя\n",
    "    # ошибка скрытого слоя на последнем элементе входной последовательности\n",
    "    e1 = [ e2.dot(w2.T) * act1_drv( hs[-1] ) ]\n",
    "    # ошибка скрытого слоя на элементе входной последовательности номер t\n",
    "    for t in range(seq_len-2,-1,-1): \n",
    "        e1.append( e1[-1].dot(w1r.T) * act1_drv( hs[t] ) )\n",
    "     \n",
    "    e1 = list(reversed( e1)) \n",
    "    \n",
    "    return e2,e1"
   ]
  },
  {
   "cell_type": "code",
   "execution_count": 16,
   "metadata": {},
   "outputs": [],
   "source": [
    "def rnn_bptt_gradient(x,w1,w1r,s1,w2,s2,e1,e2,ho):\n",
    "    seq_len = len(hs) # длинна последовательностей\n",
    "\n",
    "    dw2 = hs[-1].T.dot(e2)\n",
    "    ds2 = e2.sum(axis=0)\n",
    "\n",
    "    t=0\n",
    "    xt = x[:,:,t]\n",
    "    dw1 = xt.T.dot( e1[t] )\n",
    "    dw1r = 0.0\n",
    "    ds1 = e1[t].sum(axis=0)\n",
    "\n",
    "    for t in range(1,seq_len):\n",
    "        xt = X[:,:,t]\n",
    "        dw1 += xt.T.dot( e1[t] )\n",
    "        ds1 += e1[t].sum(axis=0)\n",
    "        dw1r += ho[t].T.dot( e1[t] )\n",
    "\n",
    "    return dw1,dw1r,ds1,dw2,ds2    \n"
   ]
  },
  {
   "cell_type": "code",
   "execution_count": 17,
   "metadata": {},
   "outputs": [],
   "source": [
    "def weigth_norm(w1,w1r,s1,w2,s2):\n",
    "    nn = np.linalg.norm(np.hstack([w1.flatten(),w1r.flatten(),s1,w2.flatten(),s2]))\n",
    "    nn = nn if (nn!=0.0) else 1.0\n",
    "    return (w1/nn,w1r/nn,s1/nn,w2/nn,s2/nn)\n",
    "\n",
    "    #nn = np.abs( np.hstack([ v.flatten(), w.flatten() ]) ).max()\n"
   ]
  },
  {
   "cell_type": "code",
   "execution_count": 18,
   "metadata": {},
   "outputs": [],
   "source": [
    "a=0.05\n",
    "e_bound=1e-2\n",
    "\n",
    "loss_hist=[]\n",
    "\n",
    "for i in range(1000):\n",
    "    o = run(X,W1,W1r,S1,W2,S2)\n",
    "    loss_hist.append( loss(o,y) )\n",
    "    if loss_hist[-1]<e_bound: break\n",
    "\n",
    "    hs,ho,o = rnn_bptt_forward(X,W1,W1r,S1,W2,S2)\n",
    "    e2,e1 = rnn_bptt_backward(W1r,W2,y,o,hs)\n",
    "    dW1,dW1r,dS1,dW2,dS2 = rnn_bptt_gradient(X,W1,W1r,S1,W2,S2,e1,e2,ho)\n",
    "    dW1,dW1r,dS1,dW2,dS2 = weigth_norm(dW1,dW1r,dS1,dW2,dS2 ) \n",
    "\n",
    "    W1,W1r,S1,W2,S2 = W1-a*dW1, W1r-a*dW1r, S1-a*dS1, W2-a*dW2, S2-a*dS2"
   ]
  },
  {
   "cell_type": "code",
   "execution_count": 19,
   "metadata": {},
   "outputs": [
    {
     "data": {
      "text/plain": [
       "(353, 0.009591900438609361)"
      ]
     },
     "execution_count": 19,
     "metadata": {},
     "output_type": "execute_result"
    }
   ],
   "source": [
    "i,loss_hist[-1]"
   ]
  },
  {
   "cell_type": "code",
   "execution_count": 20,
   "metadata": {},
   "outputs": [
    {
     "data": {
      "image/png": "[encoded data removed]",
      "text/plain": [
       "<Figure size 432x288 with 1 Axes>"
      ]
     },
     "metadata": {
      "needs_background": "light"
     },
     "output_type": "display_data"
    }
   ],
   "source": [
    "plt.plot( loss_hist )\n",
    "plt.grid()\n",
    "plt.show()"
   ]
  },
  {
   "cell_type": "code",
   "execution_count": null,
   "metadata": {},
   "outputs": [],
   "source": []
  }
 ],
 "metadata": {
  "kernelspec": {
   "display_name": "Python 3",
   "language": "python",
   "name": "python3"
  },
  "language_info": {
   "codemirror_mode": {
    "name": "ipython",
    "version": 3
   },
   "file_extension": ".py",
   "mimetype": "text/x-python",
   "name": "python",
   "nbconvert_exporter": "python",
   "pygments_lexer": "ipython3",
   "version": "3.9.0"
  },
  "toc": {
   "base_numbering": 1,
   "nav_menu": {},
   "number_sections": true,
   "sideBar": true,
   "skip_h1_title": false,
   "title_cell": "Table of Contents",
   "title_sidebar": "Contents",
   "toc_cell": false,
   "toc_position": {},
   "toc_section_display": true,
   "toc_window_display": false
  }
 },
 "nbformat": 4,
 "nbformat_minor": 4
}
