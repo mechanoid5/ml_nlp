{
 "cells": [
  {
   "cell_type": "markdown",
   "metadata": {},
   "source": [
    "**классификатор текстов LSTM + W2V**\n",
    "\n",
    "Евгений Борисов <borisov.e@solarl.ru>"
   ]
  },
  {
   "cell_type": "markdown",
   "metadata": {},
   "source": [
    "https://ruscorpora.ru/new/\n",
    "\n",
    "https://nlpub.ru/Russian_Distributional_Thesaurus    "
   ]
  },
  {
   "cell_type": "markdown",
   "metadata": {},
   "source": [
    "## Библиотеки"
   ]
  },
  {
   "cell_type": "code",
   "execution_count": 1,
   "metadata": {},
   "outputs": [],
   "source": [
    "import numpy as np\n",
    "import pandas as pd\n",
    "pd.options.display.max_colwidth = 200  \n",
    "import re\n",
    "import gc\n",
    "# import gzip\n",
    "from tqdm import tqdm"
   ]
  },
  {
   "cell_type": "code",
   "execution_count": 2,
   "metadata": {},
   "outputs": [
    {
     "name": "stderr",
     "output_type": "stream",
     "text": [
      "/usr/lib/python3.9/site-packages/tqdm/std.py:699: FutureWarning: The Panel class is removed from pandas. Accessing it from the top-level namespace will also be removed in the next version\n",
      "  from pandas import Panel\n"
     ]
    }
   ],
   "source": [
    "tqdm.pandas()"
   ]
  },
  {
   "cell_type": "code",
   "execution_count": 3,
   "metadata": {},
   "outputs": [],
   "source": [
    "def pp(d): return \"{:,.0f}\".format(d).replace(\",\", \" \")\n",
    "def ppr(d): print('записей:', pp(len(d)) )  "
   ]
  },
  {
   "cell_type": "markdown",
   "metadata": {},
   "source": [
    "## Данные"
   ]
  },
  {
   "cell_type": "raw",
   "metadata": {},
   "source": [
    "Ю. В. Рубцова. Построение корпуса текстов для настройки тонового классификатора // Программные продукты и системы, 2015, №1(109), –С.72-78\n",
    "\n",
    "http://study.mokoron.com\n",
    "\n",
    "– id: уникальный номер сообщения в системе twitter;\n",
    "– tdate: дата публикации сообщения (твита);\n",
    "– tmane: имя пользователя, опубликовавшего сообщение;\n",
    "– ttext:  текст сообщения (твита);\n",
    "– ttype: поле в котором в дальнейшем будет указано к кому классу относится твит (положительный, отрицательный, нейтральный);\n",
    "– trep: количество реплаев к данному сообщению. В настоящий момент API твиттера не отдает эту информацию;\n",
    "– tfav: число сколько раз данное сообщение было добавлено в избранное другими пользователями;\n",
    "– tstcount: число всех сообщений пользователя в сети twitter;\n",
    "– tfol: количество фоловеров пользователя (тех людей, которые читают пользователя);\n",
    "– tfrien: количество друзей пользователя (те люди, которых читает пользователь);\n",
    "– listcount: количество листов-подписок в которые добавлен твиттер-пользователь."
   ]
  },
  {
   "cell_type": "code",
   "execution_count": 4,
   "metadata": {},
   "outputs": [],
   "source": [
    "ff = ['id', 'tdate', 'tmane', 'ttext', 'ttype', 'trep', 'tfav', 'tstcount', 'tfol', 'tfrien', 'listcount','unk']"
   ]
  },
  {
   "cell_type": "code",
   "execution_count": 5,
   "metadata": {},
   "outputs": [
    {
     "name": "stdout",
     "output_type": "stream",
     "text": [
      "записей: 111 923\n"
     ]
    }
   ],
   "source": [
    "neg = pd.read_csv('../data/twit/negative.csv.gz',sep=';',header=None)\n",
    "ppr(neg)\n",
    "neg.columns = ff"
   ]
  },
  {
   "cell_type": "code",
   "execution_count": 6,
   "metadata": {},
   "outputs": [
    {
     "name": "stdout",
     "output_type": "stream",
     "text": [
      "записей: 114 910\n"
     ]
    }
   ],
   "source": [
    "pos = pd.read_csv('../data/twit/positive.csv.gz',sep=';')\n",
    "ppr(pos)\n",
    "pos.columns = ff"
   ]
  },
  {
   "cell_type": "code",
   "execution_count": 7,
   "metadata": {},
   "outputs": [
    {
     "name": "stdout",
     "output_type": "stream",
     "text": [
      "записей: 226 833\n"
     ]
    }
   ],
   "source": [
    "data = pd.concat([pos,neg],sort=False)[['id','ttext', 'ttype']]\n",
    "ppr(data)"
   ]
  },
  {
   "cell_type": "code",
   "execution_count": 8,
   "metadata": {},
   "outputs": [
    {
     "data": {
      "text/html": [
       "<div>\n",
       "<style scoped>\n",
       "    .dataframe tbody tr th:only-of-type {\n",
       "        vertical-align: middle;\n",
       "    }\n",
       "\n",
       "    .dataframe tbody tr th {\n",
       "        vertical-align: top;\n",
       "    }\n",
       "\n",
       "    .dataframe thead th {\n",
       "        text-align: right;\n",
       "    }\n",
       "</style>\n",
       "<table border=\"1\" class=\"dataframe\">\n",
       "  <thead>\n",
       "    <tr style=\"text-align: right;\">\n",
       "      <th></th>\n",
       "      <th>id</th>\n",
       "      <th>ttext</th>\n",
       "      <th>ttype</th>\n",
       "    </tr>\n",
       "  </thead>\n",
       "  <tbody>\n",
       "    <tr>\n",
       "      <th>18266</th>\n",
       "      <td>411432618790772736</td>\n",
       "      <td>Сегодня еще на Волчанку звали. Сходочка любимая(( не пойду. Надо учить и готовиться морально к анальному выебу &amp;gt;.&amp;lt;</td>\n",
       "      <td>-1</td>\n",
       "    </tr>\n",
       "    <tr>\n",
       "      <th>16933</th>\n",
       "      <td>411192984076824576</td>\n",
       "      <td>RT @mrzv_v: Алексей, не ругайте Тимошу :( http://t.co/7rWBL3oGrV</td>\n",
       "      <td>-1</td>\n",
       "    </tr>\n",
       "    <tr>\n",
       "      <th>57045</th>\n",
       "      <td>410120366238216192</td>\n",
       "      <td>:33333 и СССС: - это так же приторно, как и :))))) или :*****, только модно\\nфу</td>\n",
       "      <td>1</td>\n",
       "    </tr>\n",
       "    <tr>\n",
       "      <th>90967</th>\n",
       "      <td>410849745561600000</td>\n",
       "      <td>@yackushina миилая, а ну прекращай нюни разводить :**</td>\n",
       "      <td>1</td>\n",
       "    </tr>\n",
       "    <tr>\n",
       "      <th>106923</th>\n",
       "      <td>424211442754396161</td>\n",
       "      <td>Географический кретинизм( http://t.co/HMWjCKkZWf</td>\n",
       "      <td>-1</td>\n",
       "    </tr>\n",
       "    <tr>\n",
       "      <th>83148</th>\n",
       "      <td>410772736986730496</td>\n",
       "      <td>@nastenysh_skv @JanesRinglets  Ночи тебе) Фапальных снов с:</td>\n",
       "      <td>1</td>\n",
       "    </tr>\n",
       "    <tr>\n",
       "      <th>63121</th>\n",
       "      <td>416883544959377408</td>\n",
       "      <td>@kennensk я не в состоянии двигаться сегодня :(</td>\n",
       "      <td>-1</td>\n",
       "    </tr>\n",
       "    <tr>\n",
       "      <th>97677</th>\n",
       "      <td>422814119306473472</td>\n",
       "      <td>@NovaPauline они не увидят, и их от силы 5 :(</td>\n",
       "      <td>-1</td>\n",
       "    </tr>\n",
       "    <tr>\n",
       "      <th>35808</th>\n",
       "      <td>413634697487732736</td>\n",
       "      <td>RT @cafyribex: Скажите пожалуйста, как у человека может быть 1000 одноклассников? O_o http://t.co/Y936J6xZsE</td>\n",
       "      <td>-1</td>\n",
       "    </tr>\n",
       "    <tr>\n",
       "      <th>98997</th>\n",
       "      <td>411060181297278976</td>\n",
       "      <td>Сегодня ахуенный день для @eagle_ig, т.к. у него Др) ведерко с носочками оставайся таким же ведерком и не не будь ведром)</td>\n",
       "      <td>1</td>\n",
       "    </tr>\n",
       "  </tbody>\n",
       "</table>\n",
       "</div>"
      ],
      "text/plain": [
       "                        id  \\\n",
       "18266   411432618790772736   \n",
       "16933   411192984076824576   \n",
       "57045   410120366238216192   \n",
       "90967   410849745561600000   \n",
       "106923  424211442754396161   \n",
       "83148   410772736986730496   \n",
       "63121   416883544959377408   \n",
       "97677   422814119306473472   \n",
       "35808   413634697487732736   \n",
       "98997   411060181297278976   \n",
       "\n",
       "                                                                                                                            ttext  \\\n",
       "18266    Сегодня еще на Волчанку звали. Сходочка любимая(( не пойду. Надо учить и готовиться морально к анальному выебу &gt;.&lt;   \n",
       "16933                                                            RT @mrzv_v: Алексей, не ругайте Тимошу :( http://t.co/7rWBL3oGrV   \n",
       "57045                                             :33333 и СССС: - это так же приторно, как и :))))) или :*****, только модно\\nфу   \n",
       "90967                                                                       @yackushina миилая, а ну прекращай нюни разводить :**   \n",
       "106923                                                                           Географический кретинизм( http://t.co/HMWjCKkZWf   \n",
       "83148                                                                 @nastenysh_skv @JanesRinglets  Ночи тебе) Фапальных снов с:   \n",
       "63121                                                                             @kennensk я не в состоянии двигаться сегодня :(   \n",
       "97677                                                                               @NovaPauline они не увидят, и их от силы 5 :(   \n",
       "35808                RT @cafyribex: Скажите пожалуйста, как у человека может быть 1000 одноклассников? O_o http://t.co/Y936J6xZsE   \n",
       "98997   Сегодня ахуенный день для @eagle_ig, т.к. у него Др) ведерко с носочками оставайся таким же ведерком и не не будь ведром)   \n",
       "\n",
       "        ttype  \n",
       "18266      -1  \n",
       "16933      -1  \n",
       "57045       1  \n",
       "90967       1  \n",
       "106923     -1  \n",
       "83148       1  \n",
       "63121      -1  \n",
       "97677      -1  \n",
       "35808      -1  \n",
       "98997       1  "
      ]
     },
     "execution_count": 8,
     "metadata": {},
     "output_type": "execute_result"
    }
   ],
   "source": [
    "data.sample(10)"
   ]
  },
  {
   "cell_type": "markdown",
   "metadata": {},
   "source": [
    "## очистка данных"
   ]
  },
  {
   "cell_type": "code",
   "execution_count": 9,
   "metadata": {},
   "outputs": [
    {
     "name": "stderr",
     "output_type": "stream",
     "text": [
      "100%|██████████| 226833/226833 [00:00<00:00, 272037.74it/s]\n",
      "100%|██████████| 226833/226833 [00:02<00:00, 110453.69it/s]\n",
      "100%|██████████| 226833/226833 [00:02<00:00, 103848.49it/s]\n",
      "100%|██████████| 226833/226833 [00:02<00:00, 111601.35it/s]\n",
      "100%|██████████| 226833/226833 [00:01<00:00, 118440.72it/s]\n",
      "100%|██████████| 226833/226833 [00:02<00:00, 112704.62it/s]\n",
      "100%|██████████| 226833/226833 [00:01<00:00, 116369.66it/s]\n",
      "100%|██████████| 226833/226833 [00:02<00:00, 113398.83it/s]\n"
     ]
    }
   ],
   "source": [
    "data['ttext_clean'] = data['ttext']\\\n",
    "    .progress_apply(lambda t:[ w.strip() for w in t.split() if w.strip() ] )\\\n",
    "    .progress_apply(lambda t:[ re.sub(r'^http.*',' url ', w.strip() ) for w in t ] )\\\n",
    "    .progress_apply(lambda t:[ re.sub(r'^@.*',' twit ', w.strip() ) for w in t ] )\\\n",
    "    .progress_apply(lambda t:[ re.sub(r'[:;]-*[)D]',' happysmile ', w.strip() )for w in t ])\\\n",
    "    .progress_apply(lambda t:[ re.sub(r'\\)\\)\\)*',' happysmile ', w.strip() ) for w in t ])\\\n",
    "    .progress_apply(lambda t:[ re.sub(r'[:;]\\*',' kisssmile ', w.strip() ) for w in t ])\\\n",
    "    .progress_apply(lambda t:[ re.sub(r':\\(',' sadsmile ', w.strip() ) for w in t ])\\\n",
    "    .progress_apply(lambda t:[ re.sub(r'\\(\\(\\(*',' sadsmile ', w.strip() ) for w in t ])"
   ]
  },
  {
   "cell_type": "code",
   "execution_count": 10,
   "metadata": {},
   "outputs": [],
   "source": [
    "data['ttext_clean'] = [ ' '.join(s) for s in data['ttext_clean'] ]"
   ]
  },
  {
   "cell_type": "code",
   "execution_count": 11,
   "metadata": {},
   "outputs": [
    {
     "name": "stderr",
     "output_type": "stream",
     "text": [
      "100%|██████████| 226833/226833 [00:01<00:00, 206703.22it/s]\n",
      "100%|██████████| 226833/226833 [00:00<00:00, 850974.54it/s]\n",
      "100%|██████████| 226833/226833 [00:00<00:00, 346304.77it/s]\n",
      "100%|██████████| 226833/226833 [00:00<00:00, 304709.96it/s]\n",
      "100%|██████████| 226833/226833 [00:02<00:00, 101730.55it/s]\n"
     ]
    }
   ],
   "source": [
    "data['ttext_clean'] = data['ttext_clean'].str.lower()\\\n",
    "    .progress_apply(lambda s: re.sub( r'\\W', ' ', s))\\\n",
    "    .progress_apply(lambda s: re.sub( r'_', ' ', s))\\\n",
    "    .progress_apply(lambda s: re.sub( r'\\b\\d+\\b', ' digit ', s))\\\n",
    "    .progress_apply(lambda t:[ w.strip() for w in t.split() if w.strip() ] )\\\n",
    "    .progress_apply(lambda t: [w for w in t if not re.match( r'\\b.*\\d+.*\\b', w) ])"
   ]
  },
  {
   "cell_type": "code",
   "execution_count": 12,
   "metadata": {},
   "outputs": [
    {
     "data": {
      "text/html": [
       "<div>\n",
       "<style scoped>\n",
       "    .dataframe tbody tr th:only-of-type {\n",
       "        vertical-align: middle;\n",
       "    }\n",
       "\n",
       "    .dataframe tbody tr th {\n",
       "        vertical-align: top;\n",
       "    }\n",
       "\n",
       "    .dataframe thead th {\n",
       "        text-align: right;\n",
       "    }\n",
       "</style>\n",
       "<table border=\"1\" class=\"dataframe\">\n",
       "  <thead>\n",
       "    <tr style=\"text-align: right;\">\n",
       "      <th></th>\n",
       "      <th>id</th>\n",
       "      <th>ttext</th>\n",
       "      <th>ttype</th>\n",
       "      <th>ttext_clean</th>\n",
       "    </tr>\n",
       "  </thead>\n",
       "  <tbody>\n",
       "    <tr>\n",
       "      <th>6353</th>\n",
       "      <td>409084853007556608</td>\n",
       "      <td>Sony Liverpool, которых не так давно закрыли Sony по непонятным причинам, открыли новую студию Firesprite и сделали для Sony Playroom. Мило)</td>\n",
       "      <td>1</td>\n",
       "      <td>[sony, liverpool, которых, не, так, давно, закрыли, sony, по, непонятным, причинам, открыли, новую, студию, firesprite, и, сделали, для, sony, playroom, мило]</td>\n",
       "    </tr>\n",
       "    <tr>\n",
       "      <th>83764</th>\n",
       "      <td>420072353901858816</td>\n",
       "      <td>@sexmakay отлично, даже не очень холодно, но из-за полярной ночи темно, солнца нет. А завтра уже уезжаем :( как твои каникулы?</td>\n",
       "      <td>-1</td>\n",
       "      <td>[twit, отлично, даже, не, очень, холодно, но, из, за, полярной, ночи, темно, солнца, нет, а, завтра, уже, уезжаем, sadsmile, как, твои, каникулы]</td>\n",
       "    </tr>\n",
       "    <tr>\n",
       "      <th>36083</th>\n",
       "      <td>409781115801444352</td>\n",
       "      <td>ахаха Витя придумал пароль) 1488) главное не забыть)</td>\n",
       "      <td>1</td>\n",
       "      <td>[ахаха, витя, придумал, пароль, digit, главное, не, забыть]</td>\n",
       "    </tr>\n",
       "  </tbody>\n",
       "</table>\n",
       "</div>"
      ],
      "text/plain": [
       "                       id  \\\n",
       "6353   409084853007556608   \n",
       "83764  420072353901858816   \n",
       "36083  409781115801444352   \n",
       "\n",
       "                                                                                                                                              ttext  \\\n",
       "6353   Sony Liverpool, которых не так давно закрыли Sony по непонятным причинам, открыли новую студию Firesprite и сделали для Sony Playroom. Мило)   \n",
       "83764                @sexmakay отлично, даже не очень холодно, но из-за полярной ночи темно, солнца нет. А завтра уже уезжаем :( как твои каникулы?   \n",
       "36083                                                                                          ахаха Витя придумал пароль) 1488) главное не забыть)   \n",
       "\n",
       "       ttype  \\\n",
       "6353       1   \n",
       "83764     -1   \n",
       "36083      1   \n",
       "\n",
       "                                                                                                                                                          ttext_clean  \n",
       "6353   [sony, liverpool, которых, не, так, давно, закрыли, sony, по, непонятным, причинам, открыли, новую, студию, firesprite, и, сделали, для, sony, playroom, мило]  \n",
       "83764               [twit, отлично, даже, не, очень, холодно, но, из, за, полярной, ночи, темно, солнца, нет, а, завтра, уже, уезжаем, sadsmile, как, твои, каникулы]  \n",
       "36083                                                                                                     [ахаха, витя, придумал, пароль, digit, главное, не, забыть]  "
      ]
     },
     "execution_count": 12,
     "metadata": {},
     "output_type": "execute_result"
    }
   ],
   "source": [
    "data.sample(3)"
   ]
  },
  {
   "cell_type": "code",
   "execution_count": 13,
   "metadata": {},
   "outputs": [
    {
     "name": "stderr",
     "output_type": "stream",
     "text": [
      "100%|██████████| 226833/226833 [00:00<00:00, 344335.75it/s]\n"
     ]
    }
   ],
   "source": [
    "# удаление коротких слов\n",
    "data['ttext_clean'] = data['ttext_clean'].progress_apply(lambda t:[w for w in t if len(w)>2])"
   ]
  },
  {
   "cell_type": "code",
   "execution_count": 14,
   "metadata": {},
   "outputs": [
    {
     "name": "stdout",
     "output_type": "stream",
     "text": [
      "записей: 226 833\n",
      "записей: 226 831\n"
     ]
    }
   ],
   "source": [
    "ppr(data)\n",
    "data = data[ data['ttext_clean'].str.len()>0 ].reset_index(drop=True) \n",
    "ppr(data)"
   ]
  },
  {
   "cell_type": "code",
   "execution_count": 15,
   "metadata": {},
   "outputs": [
    {
     "data": {
      "text/html": [
       "<div>\n",
       "<style scoped>\n",
       "    .dataframe tbody tr th:only-of-type {\n",
       "        vertical-align: middle;\n",
       "    }\n",
       "\n",
       "    .dataframe tbody tr th {\n",
       "        vertical-align: top;\n",
       "    }\n",
       "\n",
       "    .dataframe thead th {\n",
       "        text-align: right;\n",
       "    }\n",
       "</style>\n",
       "<table border=\"1\" class=\"dataframe\">\n",
       "  <thead>\n",
       "    <tr style=\"text-align: right;\">\n",
       "      <th></th>\n",
       "      <th>id</th>\n",
       "      <th>ttext</th>\n",
       "      <th>ttype</th>\n",
       "      <th>ttext_clean</th>\n",
       "    </tr>\n",
       "  </thead>\n",
       "  <tbody>\n",
       "    <tr>\n",
       "      <th>152940</th>\n",
       "      <td>413755075874402304</td>\n",
       "      <td>я хочу планшет,но что-то меня останавливает(</td>\n",
       "      <td>-1</td>\n",
       "      <td>[хочу, планшет, что, меня, останавливает]</td>\n",
       "    </tr>\n",
       "    <tr>\n",
       "      <th>168789</th>\n",
       "      <td>415566870402838528</td>\n",
       "      <td>@Veronika_Gera мне нет!ото плакать хочется:(</td>\n",
       "      <td>-1</td>\n",
       "      <td>[twit, мне, нет, ото, плакать, хочется, sadsmile]</td>\n",
       "    </tr>\n",
       "    <tr>\n",
       "      <th>43228</th>\n",
       "      <td>409949940308525056</td>\n",
       "      <td>@Andrey_Simon @SokolovaKatya12 @_metamfetamir @OhZenit какая? У меня вот очень прям история интересная)))</td>\n",
       "      <td>1</td>\n",
       "      <td>[twit, twit, twit, twit, какая, меня, вот, очень, прям, история, интересная, happysmile]</td>\n",
       "    </tr>\n",
       "  </tbody>\n",
       "</table>\n",
       "</div>"
      ],
      "text/plain": [
       "                        id  \\\n",
       "152940  413755075874402304   \n",
       "168789  415566870402838528   \n",
       "43228   409949940308525056   \n",
       "\n",
       "                                                                                                            ttext  \\\n",
       "152940                                                               я хочу планшет,но что-то меня останавливает(   \n",
       "168789                                                               @Veronika_Gera мне нет!ото плакать хочется:(   \n",
       "43228   @Andrey_Simon @SokolovaKatya12 @_metamfetamir @OhZenit какая? У меня вот очень прям история интересная)))   \n",
       "\n",
       "        ttype  \\\n",
       "152940     -1   \n",
       "168789     -1   \n",
       "43228       1   \n",
       "\n",
       "                                                                                     ttext_clean  \n",
       "152940                                                 [хочу, планшет, что, меня, останавливает]  \n",
       "168789                                         [twit, мне, нет, ото, плакать, хочется, sadsmile]  \n",
       "43228   [twit, twit, twit, twit, какая, меня, вот, очень, прям, история, интересная, happysmile]  "
      ]
     },
     "execution_count": 15,
     "metadata": {},
     "output_type": "execute_result"
    }
   ],
   "source": [
    "data.sample(3)"
   ]
  },
  {
   "cell_type": "code",
   "execution_count": 16,
   "metadata": {},
   "outputs": [],
   "source": [
    "# voc = sorted(set.union(*[ set(s) for s in data['ttext_clean'].values.tolist() ]))\n",
    "# voc = { w:i+1 for i,w in enumerate(voc) }\n",
    "# voc['<pad>']= 0\n",
    "# ppr(voc)"
   ]
  },
  {
   "cell_type": "markdown",
   "metadata": {},
   "source": [
    "## строим датасет"
   ]
  },
  {
   "cell_type": "markdown",
   "metadata": {},
   "source": [
    "### кодируем word2vec"
   ]
  },
  {
   "cell_type": "code",
   "execution_count": 17,
   "metadata": {},
   "outputs": [],
   "source": [
    "# %%time\n",
    "\n",
    "\n",
    "# https://nlpub.ru/Russian_Distributional_Thesaurus\n",
    "    \n",
    "# from gensim.models import KeyedVectors \n",
    "# w2v_file = 'tenth.norm-sz500-w7-cb0-it5-min5.w2v'\n",
    "# w2v = KeyedVectors.load_word2vec_format(w2v_file, binary=True, unicode_errors='ignore')\n",
    "# w2v.init_sims(replace=True)"
   ]
  },
  {
   "cell_type": "code",
   "execution_count": 18,
   "metadata": {},
   "outputs": [
    {
     "name": "stdout",
     "output_type": "stream",
     "text": [
      "CPU times: user 57.6 s, sys: 243 ms, total: 57.9 s\n",
      "Wall time: 33.1 s\n"
     ]
    }
   ],
   "source": [
    "%%time\n",
    "\n",
    "from gensim.models.word2vec import Word2Vec\n",
    "\n",
    "w2v_size = 128\n",
    "\n",
    "w2v = Word2Vec( data['ttext_clean'].values, min_count=1, size=w2v_size, window=4, workers=4)\n",
    "\n",
    "# with open('result/Word2Vec.pkl', 'wb') as f: pickle.dump(w2v, f)"
   ]
  },
  {
   "cell_type": "code",
   "execution_count": 19,
   "metadata": {},
   "outputs": [
    {
     "name": "stdout",
     "output_type": "stream",
     "text": [
      "записей: 181 101\n"
     ]
    }
   ],
   "source": [
    "w2v_vocab = sorted([w for w in w2v.wv.vocab])\n",
    "ppr(w2v_vocab)"
   ]
  },
  {
   "cell_type": "code",
   "execution_count": 20,
   "metadata": {},
   "outputs": [
    {
     "name": "stdout",
     "output_type": "stream",
     "text": [
      "шаолин : ['виндзорский', 'цистит', 'битвухоров', 'остр', 'документальный']\n",
      "бляяя : ['аааа', 'нуу', 'бляя', 'учебе', 'блииин']\n",
      "самосовершенствоваться : ['флейк', 'дипрессия', 'протирает', 'тюн', 'разбилась']\n",
      "пойдет : ['скажет', 'пойдёт', 'нами', 'думаете', 'учится']\n"
     ]
    },
    {
     "name": "stderr",
     "output_type": "stream",
     "text": [
      "<ipython-input-20-51489ecf273e>:4: DeprecationWarning: Call to deprecated `most_similar` (Method will be removed in 4.0.0, use self.wv.most_similar() instead).\n",
      "  ww = [ v[0] for v in w2v.most_similar(w, topn=5) ]\n"
     ]
    },
    {
     "name": "stdout",
     "output_type": "stream",
     "text": [
      "расчленил : ['симпатичненько', 'kazaky', 'фалаут', 'разсткатаем', 'погорел']\n",
      "закончен : ['столовке', 'халява', 'музыкалка', 'прорвало', 'гречка']\n",
      "кассирши : ['форсаже', 'меньшовой', 'забылось', 'подробностях', 'гаумно']\n",
      "тараса : ['чим', 'попкорном', 'результате', 'красноглазики', 'мумий']\n",
      "адаптировать : ['самое', 'нелюбимое', 'долгое', 'настало', 'сложное']\n",
      "поддайся : ['искушению', 'завтрашнего', 'рабочего', 'течение', 'сегодняшнего']\n",
      "объясняет : ['норма', 'перезагрузи', 'трудов', 'срам', 'очевидно']\n",
      "pshennaya : ['бросались', 'подрабатывали', 'мусорами', 'побисились', 'шикааааарная']\n",
      "престижного : ['мартчихаж', 'яахудэ', 'набитом', 'эргүү', 'хяамарр']\n",
      "стойстойстой : ['мифическая', 'пресвятому', 'силбный', 'докапались', 'романова']\n",
      "рубцовск : ['делатьнечеговообще', 'нескем', 'вопросиков', 'trofolastin', 'несвободненько']\n",
      "ёёёёёёёёёёёёёёёёёёёёёлки : ['хочупровестиновогоднююночьвместес', 'бармалей', 'удачиии', 'выздоравливайте', 'отдадим']\n",
      "мамки : ['сойдет', 'холма', 'тайловый', 'дим', 'эмм']\n",
      "kimwobin : ['осылай', 'слезами', 'жуйко', 'тожe', 'болиллоо']\n",
      "павлаприлучного : ['разлуки', 'неугомонно', 'отсчитывая', 'джабберовский', 'сроку']\n",
      "уильямс : ['конфеенции', 'болсын', 'бірі', 'мен', 'одооноос']\n",
      "леп : ['отлеплять', 'гуляти', 'анархии', 'обдумали', 'great']\n",
      "совершенству : ['сфотаться', 'лузерчестер', 'наи', 'интернетов', 'нормальных']\n",
      "излечить : ['получаешься', 'защимила', 'проколю', 'гинеколога', 'утрамбованному']\n",
      "абстракций : ['корсеты', 'задыхалась', 'yunus', 'мутные', 'джэй']\n",
      "ромэо : ['тепленькой', 'неверотным', 'доброжелательным', 'форсмажеры', 'извиняемся']\n",
      "очешуенные : ['понимают', 'шутки', 'парни', 'смешные', 'смотрят']\n",
      "нииииит : ['выводи', 'вал', 'задовбався', 'канищево', 'килев']\n",
      "ностольжи : ['пугачева', 'колбасило', 'хартстоун', 'успокаивает', 'менялись']\n",
      "кривоногие : ['улыбчивые', 'пиздабола', 'заговорили', 'казавшиеся', 'душещипательные']\n",
      "королевская : ['специалистом', 'новая', 'поездка', 'репетиция', 'веселая']\n"
     ]
    }
   ],
   "source": [
    "ii = np.random.permutation(len(w2v_vocab))[:30]\n",
    "for i in ii:\n",
    "    w = w2v_vocab[i]\n",
    "    ww = [ v[0] for v in w2v.most_similar(w, topn=5) ]\n",
    "    print( w,':',ww )"
   ]
  },
  {
   "cell_type": "code",
   "execution_count": 21,
   "metadata": {},
   "outputs": [
    {
     "name": "stderr",
     "output_type": "stream",
     "text": [
      "100%|██████████| 226831/226831 [00:02<00:00, 94097.23it/s] \n"
     ]
    }
   ],
   "source": [
    "data['code'] = data['ttext_clean'].progress_apply(lambda t: [ w2v.wv.get_vector(w) for w in t ] )"
   ]
  },
  {
   "cell_type": "code",
   "execution_count": 22,
   "metadata": {},
   "outputs": [],
   "source": [
    "%xdel w2v\n",
    "%xdel w2v_vocab"
   ]
  },
  {
   "cell_type": "code",
   "execution_count": 23,
   "metadata": {},
   "outputs": [
    {
     "data": {
      "text/plain": [
       "32"
      ]
     },
     "execution_count": 23,
     "metadata": {},
     "output_type": "execute_result"
    }
   ],
   "source": [
    "code_max_len = data['code'].str.len().max()\n",
    "code_max_len"
   ]
  },
  {
   "cell_type": "code",
   "execution_count": 24,
   "metadata": {},
   "outputs": [
    {
     "data": {
      "text/plain": [
       "count    226831\n",
       "mean         10\n",
       "std           3\n",
       "min           1\n",
       "25%           7\n",
       "50%           9\n",
       "75%          13\n",
       "max          32\n",
       "Name: code, dtype: int64"
      ]
     },
     "execution_count": 24,
     "metadata": {},
     "output_type": "execute_result"
    }
   ],
   "source": [
    "data['code'].str.len().describe().astype(int)"
   ]
  },
  {
   "cell_type": "code",
   "execution_count": 25,
   "metadata": {},
   "outputs": [
    {
     "name": "stderr",
     "output_type": "stream",
     "text": [
      "100%|██████████| 226831/226831 [00:00<00:00, 449129.48it/s]\n"
     ]
    }
   ],
   "source": [
    "z = [[0.]*w2v_size]*code_max_len\n",
    "data['code'] = data['code'].progress_apply(lambda c: c+z[:(code_max_len-len(c))]  )"
   ]
  },
  {
   "cell_type": "code",
   "execution_count": 26,
   "metadata": {},
   "outputs": [
    {
     "data": {
      "text/plain": [
       "count    226831\n",
       "mean         32\n",
       "std           0\n",
       "min          32\n",
       "25%          32\n",
       "50%          32\n",
       "75%          32\n",
       "max          32\n",
       "Name: code, dtype: int64"
      ]
     },
     "execution_count": 26,
     "metadata": {},
     "output_type": "execute_result"
    }
   ],
   "source": [
    "data['code'].str.len().describe().astype(int)"
   ]
  },
  {
   "cell_type": "code",
   "execution_count": 27,
   "metadata": {},
   "outputs": [
    {
     "name": "stderr",
     "output_type": "stream",
     "text": [
      "100%|██████████| 226831/226831 [00:19<00:00, 11875.48it/s]\n"
     ]
    }
   ],
   "source": [
    "data['code'] = data['code'].progress_apply(np.array)"
   ]
  },
  {
   "cell_type": "code",
   "execution_count": 28,
   "metadata": {},
   "outputs": [
    {
     "data": {
      "text/plain": [
       "(226831, 32, 128)"
      ]
     },
     "execution_count": 28,
     "metadata": {},
     "output_type": "execute_result"
    }
   ],
   "source": [
    "x = np.stack( data['code'].values )\n",
    "x.shape"
   ]
  },
  {
   "cell_type": "code",
   "execution_count": 29,
   "metadata": {},
   "outputs": [],
   "source": [
    "x = np.flip(x,axis=1)"
   ]
  },
  {
   "cell_type": "code",
   "execution_count": 30,
   "metadata": {},
   "outputs": [
    {
     "data": {
      "text/plain": [
       "(226831, 2)"
      ]
     },
     "execution_count": 30,
     "metadata": {},
     "output_type": "execute_result"
    }
   ],
   "source": [
    "n_classes=2\n",
    "target = data['ttype'].values\n",
    "target = (target+1)//2\n",
    "y = np.eye(n_classes)[target]\n",
    "\n",
    "y.shape"
   ]
  },
  {
   "cell_type": "code",
   "execution_count": 31,
   "metadata": {},
   "outputs": [],
   "source": [
    "%xdel data"
   ]
  },
  {
   "cell_type": "code",
   "execution_count": 32,
   "metadata": {},
   "outputs": [
    {
     "data": {
      "text/plain": [
       "176"
      ]
     },
     "execution_count": 32,
     "metadata": {},
     "output_type": "execute_result"
    }
   ],
   "source": [
    "gc.collect()"
   ]
  },
  {
   "cell_type": "code",
   "execution_count": 33,
   "metadata": {},
   "outputs": [
    {
     "data": {
      "text/plain": [
       "((136098, 32, 128), (136098, 2), (90733, 32, 128), (90733, 2))"
      ]
     },
     "execution_count": 33,
     "metadata": {},
     "output_type": "execute_result"
    }
   ],
   "source": [
    "from sklearn.model_selection import train_test_split\n",
    "\n",
    "x_train, x_test, y_train, y_test = train_test_split( x, y, test_size=.4 )\n",
    "x_train.shape, y_train.shape, x_test.shape, y_test.shape"
   ]
  },
  {
   "cell_type": "code",
   "execution_count": 34,
   "metadata": {},
   "outputs": [
    {
     "data": {
      "text/plain": [
       "(array([67311., 68787.]), array([44611., 46122.]))"
      ]
     },
     "execution_count": 34,
     "metadata": {},
     "output_type": "execute_result"
    }
   ],
   "source": [
    "y_train.sum(axis=0),y_test.sum(axis=0),"
   ]
  },
  {
   "cell_type": "code",
   "execution_count": 35,
   "metadata": {},
   "outputs": [],
   "source": [
    "%xdel x\n",
    "%xdel y"
   ]
  },
  {
   "cell_type": "code",
   "execution_count": 36,
   "metadata": {},
   "outputs": [
    {
     "data": {
      "text/plain": [
       "45"
      ]
     },
     "execution_count": 36,
     "metadata": {},
     "output_type": "execute_result"
    }
   ],
   "source": [
    "gc.collect()"
   ]
  },
  {
   "cell_type": "markdown",
   "metadata": {},
   "source": [
    "## строим нейросеть "
   ]
  },
  {
   "cell_type": "code",
   "execution_count": 37,
   "metadata": {},
   "outputs": [
    {
     "data": {
      "text/plain": [
       "((136098, 32, 128), (136098, 2), 32, 128)"
      ]
     },
     "execution_count": 37,
     "metadata": {},
     "output_type": "execute_result"
    }
   ],
   "source": [
    "seq_len = x_train.shape[1]\n",
    "x_train.shape , y_train.shape, seq_len, w2v_size"
   ]
  },
  {
   "cell_type": "code",
   "execution_count": 38,
   "metadata": {},
   "outputs": [],
   "source": [
    "from tensorflow.keras.models import Sequential\n",
    "from tensorflow.keras.layers import LSTM\n",
    "from tensorflow.keras.layers import Dense"
   ]
  },
  {
   "cell_type": "code",
   "execution_count": 39,
   "metadata": {},
   "outputs": [],
   "source": [
    "model = Sequential()\n",
    "model.add(LSTM(64, input_shape=(seq_len, w2v_size)))  \n",
    "model.add(Dense(n_classes, activation='softmax'))"
   ]
  },
  {
   "cell_type": "code",
   "execution_count": 40,
   "metadata": {},
   "outputs": [],
   "source": [
    "model.compile(loss='categorical_crossentropy',\n",
    "              optimizer='adam',\n",
    "              metrics=['accuracy'])"
   ]
  },
  {
   "cell_type": "code",
   "execution_count": 41,
   "metadata": {},
   "outputs": [
    {
     "data": {
      "image/png": "[encoded data removed]",
      "text/plain": [
       "<IPython.core.display.Image object>"
      ]
     },
     "execution_count": 41,
     "metadata": {},
     "output_type": "execute_result"
    }
   ],
   "source": [
    "from tensorflow.keras.utils import plot_model\n",
    "plot_model(model, show_layer_names=True, show_shapes=True )"
   ]
  },
  {
   "cell_type": "code",
   "execution_count": 42,
   "metadata": {},
   "outputs": [
    {
     "name": "stdout",
     "output_type": "stream",
     "text": [
      "Epoch 1/15\n",
      "94/94 [==============================] - 2s 20ms/step - loss: 0.3913 - accuracy: 0.7960 - val_loss: 0.2601 - val_accuracy: 0.8599\n",
      "Epoch 2/15\n",
      "94/94 [==============================] - 1s 15ms/step - loss: 0.2468 - accuracy: 0.8663 - val_loss: 0.2706 - val_accuracy: 0.8474\n",
      "Epoch 3/15\n",
      "94/94 [==============================] - 1s 14ms/step - loss: 0.2360 - accuracy: 0.8708 - val_loss: 0.2319 - val_accuracy: 0.8719\n",
      "Epoch 4/15\n",
      "94/94 [==============================] - 1s 14ms/step - loss: 0.2270 - accuracy: 0.8762 - val_loss: 0.2623 - val_accuracy: 0.8525\n",
      "Epoch 5/15\n",
      "94/94 [==============================] - 1s 14ms/step - loss: 0.2278 - accuracy: 0.8750 - val_loss: 0.2323 - val_accuracy: 0.8681\n",
      "Epoch 6/15\n",
      "94/94 [==============================] - 1s 15ms/step - loss: 0.2212 - accuracy: 0.8777 - val_loss: 0.2334 - val_accuracy: 0.8713\n",
      "Epoch 7/15\n",
      "94/94 [==============================] - 1s 14ms/step - loss: 0.2187 - accuracy: 0.8816 - val_loss: 0.2552 - val_accuracy: 0.8553\n",
      "Epoch 8/15\n",
      "94/94 [==============================] - 1s 14ms/step - loss: 0.2193 - accuracy: 0.8805 - val_loss: 0.2270 - val_accuracy: 0.8742\n",
      "Epoch 9/15\n",
      "94/94 [==============================] - 1s 14ms/step - loss: 0.2158 - accuracy: 0.8830 - val_loss: 0.2360 - val_accuracy: 0.8687\n",
      "Epoch 10/15\n",
      "94/94 [==============================] - 1s 14ms/step - loss: 0.2147 - accuracy: 0.8845 - val_loss: 0.2212 - val_accuracy: 0.8800\n",
      "Epoch 11/15\n",
      "94/94 [==============================] - 1s 15ms/step - loss: 0.2129 - accuracy: 0.8843 - val_loss: 0.2214 - val_accuracy: 0.8788\n",
      "Epoch 12/15\n",
      "94/94 [==============================] - 1s 14ms/step - loss: 0.2104 - accuracy: 0.8874 - val_loss: 0.2220 - val_accuracy: 0.8773\n",
      "Epoch 13/15\n",
      "94/94 [==============================] - 1s 15ms/step - loss: 0.2105 - accuracy: 0.8875 - val_loss: 0.2217 - val_accuracy: 0.8792\n",
      "Epoch 14/15\n",
      "94/94 [==============================] - 1s 14ms/step - loss: 0.2074 - accuracy: 0.8889 - val_loss: 0.2207 - val_accuracy: 0.8789\n",
      "Epoch 15/15\n",
      "94/94 [==============================] - 1s 14ms/step - loss: 0.2057 - accuracy: 0.8917 - val_loss: 0.2278 - val_accuracy: 0.8780\n",
      "CPU times: user 27.3 s, sys: 1.43 s, total: 28.7 s\n",
      "Wall time: 23.5 s\n"
     ]
    }
   ],
   "source": [
    "%%time\n",
    "\n",
    "hist = model.fit(x_train,y_train, batch_size=1024, epochs=15, validation_split=.3)"
   ]
  },
  {
   "cell_type": "code",
   "execution_count": 43,
   "metadata": {},
   "outputs": [
    {
     "name": "stdout",
     "output_type": "stream",
     "text": [
      "2836/2836 [==============================] - 4s 1ms/step - loss: 0.2269 - accuracy: 0.8775\n"
     ]
    },
    {
     "data": {
      "text/plain": [
       "[0.22686128318309784, 0.8774867057800293]"
      ]
     },
     "execution_count": 43,
     "metadata": {},
     "output_type": "execute_result"
    }
   ],
   "source": [
    "model.evaluate(x_test ,y_test )"
   ]
  },
  {
   "cell_type": "code",
   "execution_count": 44,
   "metadata": {},
   "outputs": [
    {
     "data": {
      "image/png": "[encoded data removed]",
      "text/plain": [
       "<Figure size 1728x288 with 4 Axes>"
      ]
     },
     "metadata": {
      "needs_background": "light"
     },
     "output_type": "display_data"
    }
   ],
   "source": [
    "from matplotlib import pyplot as plt\n",
    "\n",
    "k = hist.history.keys()\n",
    "\n",
    "w,h = 6,4\n",
    "\n",
    "fig,ax = plt.subplots(1,len(k),figsize=(w*len(k),h))\n",
    "for i,n in enumerate(k):\n",
    "    ax[i].plot(hist.history[n],label=n)\n",
    "    ax[i].grid(True)\n",
    "    ax[i].legend()\n",
    "    ax[i].set_ylim([-.1,1.1])"
   ]
  },
  {
   "cell_type": "code",
   "execution_count": null,
   "metadata": {},
   "outputs": [],
   "source": []
  }
 ],
 "metadata": {
  "kernelspec": {
   "display_name": "Python 3",
   "language": "python",
   "name": "python3"
  },
  "language_info": {
   "codemirror_mode": {
    "name": "ipython",
    "version": 3
   },
   "file_extension": ".py",
   "mimetype": "text/x-python",
   "name": "python",
   "nbconvert_exporter": "python",
   "pygments_lexer": "ipython3",
   "version": "3.9.0"
  },
  "toc": {
   "base_numbering": 1,
   "nav_menu": {},
   "number_sections": true,
   "sideBar": true,
   "skip_h1_title": false,
   "title_cell": "Table of Contents",
   "title_sidebar": "Contents",
   "toc_cell": false,
   "toc_position": {},
   "toc_section_display": "block",
   "toc_window_display": false
  }
 },
 "nbformat": 4,
 "nbformat_minor": 4
}
