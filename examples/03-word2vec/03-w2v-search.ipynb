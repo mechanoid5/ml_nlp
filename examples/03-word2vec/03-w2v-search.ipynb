{
 "cells": [
  {
   "cell_type": "markdown",
   "metadata": {},
   "source": [
    "**поиск в масиве текста с помощью W2V**\n",
    "\n",
    "Евгений Борисов <esborisov@sevsu.ru>"
   ]
  },
  {
   "cell_type": "markdown",
   "metadata": {},
   "source": [
    "---"
   ]
  },
  {
   "cell_type": "markdown",
   "metadata": {},
   "source": [
    "https://www.youtube.com/watch?v=XlEHTf93Y8w\n",
    "\n",
    "https://www.youtube.com/watch?v=aZ5se_SW81c\n",
    "\n",
    "https://github.com/girafe-ai/ml-mipt/blob/master/week1_01_word_embeddings/week01_fun_with_embeddings.ipynb"
   ]
  },
  {
   "cell_type": "markdown",
   "metadata": {},
   "source": [
    "---"
   ]
  },
  {
   "cell_type": "code",
   "execution_count": 6,
   "metadata": {},
   "outputs": [],
   "source": [
    "# !wget -c https://www.dropbox.com/s/obaitrix9jyu84r/quora.txt?dl=1 -O ./quora.txt\n",
    "# # alternative download link: https://yadi.sk/i/BPQrUu1NaTduEw"
   ]
  },
  {
   "cell_type": "code",
   "execution_count": null,
   "metadata": {},
   "outputs": [],
   "source": [
    "import numpy as np"
   ]
  },
  {
   "cell_type": "code",
   "execution_count": 10,
   "metadata": {},
   "outputs": [
    {
     "data": {
      "text/plain": [
       "['Do you think the AAP will fulfill the promises they mentioned in their manifesto? Why and how?',\n",
       " 'What are all the pros and cons of having dual citizenship?',\n",
       " 'Can someone translate this one from Italian or Latin?']"
      ]
     },
     "execution_count": 10,
     "metadata": {},
     "output_type": "execute_result"
    }
   ],
   "source": [
    "# список вопросов\n",
    "\n",
    "with open('./quora.txt', encoding='utf-8',mode='rt') as f: \n",
    "    data = f.read().split('\\n')\n",
    "\n",
    "data[54:57]"
   ]
  },
  {
   "cell_type": "markdown",
   "metadata": {},
   "source": [
    "---"
   ]
  },
  {
   "cell_type": "markdown",
   "metadata": {},
   "source": [
    "\n",
    "__задача:__ реализовать поиск строк по запросам"
   ]
  },
  {
   "cell_type": "markdown",
   "metadata": {},
   "source": [
    "__решение:__\n",
    "- кодируем слова w2v (Gensim)\n",
    "- для каждой строки агрегируем список кодов (считаем устреднённый вектор w2v)\n",
    "- кодируем слова запроса и агрегируем список кодов\n",
    "- ищем ближайшие векторы вопросов к вектору запроса (косинусная мера близости)"
   ]
  },
  {
   "cell_type": "markdown",
   "metadata": {},
   "source": [
    "---"
   ]
  },
  {
   "cell_type": "code",
   "execution_count": null,
   "metadata": {},
   "outputs": [],
   "source": []
  }
 ],
 "metadata": {
  "kernelspec": {
   "display_name": "Python 3",
   "language": "python",
   "name": "python3"
  },
  "language_info": {
   "codemirror_mode": {
    "name": "ipython",
    "version": 3
   },
   "file_extension": ".py",
   "mimetype": "text/x-python",
   "name": "python",
   "nbconvert_exporter": "python",
   "pygments_lexer": "ipython3",
   "version": "3.9.0"
  },
  "toc": {
   "base_numbering": 1,
   "nav_menu": {},
   "number_sections": true,
   "sideBar": true,
   "skip_h1_title": false,
   "title_cell": "Table of Contents",
   "title_sidebar": "Contents",
   "toc_cell": false,
   "toc_position": {},
   "toc_section_display": "block",
   "toc_window_display": false
  }
 },
 "nbformat": 4,
 "nbformat_minor": 4
}
